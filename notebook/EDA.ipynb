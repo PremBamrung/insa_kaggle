{
 "cells": [
  {
   "cell_type": "markdown",
   "metadata": {
    "toc": true
   },
   "source": [
    "<h1>Table of Contents<span class=\"tocSkip\"></span></h1>\n",
    "<div class=\"toc\"><ul class=\"toc-item\"><li><span><a href=\"#Import-librairies\" data-toc-modified-id=\"Import-librairies-1\"><span class=\"toc-item-num\">1&nbsp;&nbsp;</span>Import librairies</a></span></li><li><span><a href=\"#Text-statistics\" data-toc-modified-id=\"Text-statistics-2\"><span class=\"toc-item-num\">2&nbsp;&nbsp;</span>Text statistics</a></span></li><li><span><a href=\"#Ngram\" data-toc-modified-id=\"Ngram-3\"><span class=\"toc-item-num\">3&nbsp;&nbsp;</span>Ngram</a></span></li><li><span><a href=\"#Topic-Modeling\" data-toc-modified-id=\"Topic-Modeling-4\"><span class=\"toc-item-num\">4&nbsp;&nbsp;</span>Topic Modeling</a></span></li><li><span><a href=\"#Cleanning\" data-toc-modified-id=\"Cleanning-5\"><span class=\"toc-item-num\">5&nbsp;&nbsp;</span>Cleanning</a></span><ul class=\"toc-item\"><li><span><a href=\"#Benchmark\" data-toc-modified-id=\"Benchmark-5.1\"><span class=\"toc-item-num\">5.1&nbsp;&nbsp;</span>Benchmark</a></span></li></ul></li><li><span><a href=\"#Language\" data-toc-modified-id=\"Language-6\"><span class=\"toc-item-num\">6&nbsp;&nbsp;</span>Language</a></span></li><li><span><a href=\"#Levenshtein-distance\" data-toc-modified-id=\"Levenshtein-distance-7\"><span class=\"toc-item-num\">7&nbsp;&nbsp;</span>Levenshtein distance</a></span></li><li><span><a href=\"#Text-complexity\" data-toc-modified-id=\"Text-complexity-8\"><span class=\"toc-item-num\">8&nbsp;&nbsp;</span>Text complexity</a></span></li><li><span><a href=\"#First-N-Phrases\" data-toc-modified-id=\"First-N-Phrases-9\"><span class=\"toc-item-num\">9&nbsp;&nbsp;</span>First N Phrases</a></span></li><li><span><a href=\"#Named-Entity-Recognition\" data-toc-modified-id=\"Named-Entity-Recognition-10\"><span class=\"toc-item-num\">10&nbsp;&nbsp;</span>Named Entity Recognition</a></span></li><li><span><a href=\"#RAndom-Forest\" data-toc-modified-id=\"RAndom-Forest-11\"><span class=\"toc-item-num\">11&nbsp;&nbsp;</span>RAndom Forest</a></span></li><li><span><a href=\"#Ensemble\" data-toc-modified-id=\"Ensemble-12\"><span class=\"toc-item-num\">12&nbsp;&nbsp;</span>Ensemble</a></span><ul class=\"toc-item\"><li><span><a href=\"#Voting\" data-toc-modified-id=\"Voting-12.1\"><span class=\"toc-item-num\">12.1&nbsp;&nbsp;</span>Voting</a></span></li><li><span><a href=\"#Ensemble-+-model\" data-toc-modified-id=\"Ensemble-+-model-12.2\"><span class=\"toc-item-num\">12.2&nbsp;&nbsp;</span>Ensemble + model</a></span></li></ul></li><li><span><a href=\"#Export-Data\" data-toc-modified-id=\"Export-Data-13\"><span class=\"toc-item-num\">13&nbsp;&nbsp;</span>Export Data</a></span><ul class=\"toc-item\"><li><span><a href=\"#CSV\" data-toc-modified-id=\"CSV-13.1\"><span class=\"toc-item-num\">13.1&nbsp;&nbsp;</span>CSV</a></span></li><li><span><a href=\"#Pickle\" data-toc-modified-id=\"Pickle-13.2\"><span class=\"toc-item-num\">13.2&nbsp;&nbsp;</span>Pickle</a></span></li></ul></li></ul></div>"
   ]
  },
  {
   "cell_type": "markdown",
   "metadata": {},
   "source": [
    "# Import librairies"
   ]
  },
  {
   "cell_type": "code",
   "execution_count": 1,
   "metadata": {
    "ExecuteTime": {
     "end_time": "2021-01-11T22:03:58.374452Z",
     "start_time": "2021-01-11T22:03:56.777588Z"
    }
   },
   "outputs": [],
   "source": [
    "import pandas as pd \n",
    "import seaborn as sns \n",
    "from matplotlib import pyplot as plt \n",
    "from glob import glob \n",
    "import zipfile\n",
    "import os \n",
    "import numpy as np\n",
    "\n",
    "from tqdm import tqdm                                                                                                   \n",
    "import concurrent.futures\n",
    "import multiprocessing\n",
    "\n",
    "num_processes=multiprocessing.cpu_count()\n",
    "import utils as ut \n",
    "plt.rcParams['figure.figsize'] = [17, 10]\n",
    "\n",
    "\n",
    "\n",
    "import re\n",
    "import nltk\n",
    "# import spacy\n",
    "import string"
   ]
  },
  {
   "cell_type": "code",
   "execution_count": 4,
   "metadata": {
    "ExecuteTime": {
     "end_time": "2021-01-10T14:56:52.753887Z",
     "start_time": "2021-01-10T14:56:39.584377Z"
    }
   },
   "outputs": [
    {
     "name": "stderr",
     "output_type": "stream",
     "text": [
      "100%|██████████| 217197/217197 [00:11<00:00, 19603.07it/s]\n"
     ]
    },
    {
     "data": {
      "text/html": [
       "<div>\n",
       "<style scoped>\n",
       "    .dataframe tbody tr th:only-of-type {\n",
       "        vertical-align: middle;\n",
       "    }\n",
       "\n",
       "    .dataframe tbody tr th {\n",
       "        vertical-align: top;\n",
       "    }\n",
       "\n",
       "    .dataframe thead th {\n",
       "        text-align: right;\n",
       "    }\n",
       "</style>\n",
       "<table border=\"1\" class=\"dataframe\">\n",
       "  <thead>\n",
       "    <tr style=\"text-align: right;\">\n",
       "      <th></th>\n",
       "      <th>description</th>\n",
       "      <th>gender</th>\n",
       "      <th>category</th>\n",
       "      <th>job</th>\n",
       "    </tr>\n",
       "    <tr>\n",
       "      <th>Id</th>\n",
       "      <th></th>\n",
       "      <th></th>\n",
       "      <th></th>\n",
       "      <th></th>\n",
       "    </tr>\n",
       "  </thead>\n",
       "  <tbody>\n",
       "    <tr>\n",
       "      <th>0</th>\n",
       "      <td>She is also a Ronald D. Asmus Policy Entrepre...</td>\n",
       "      <td>F</td>\n",
       "      <td>19</td>\n",
       "      <td>professor</td>\n",
       "    </tr>\n",
       "    <tr>\n",
       "      <th>1</th>\n",
       "      <td>He is a member of the AICPA and WICPA. Brent ...</td>\n",
       "      <td>M</td>\n",
       "      <td>9</td>\n",
       "      <td>accountant</td>\n",
       "    </tr>\n",
       "    <tr>\n",
       "      <th>2</th>\n",
       "      <td>Dr. Aster has held teaching and research posi...</td>\n",
       "      <td>M</td>\n",
       "      <td>19</td>\n",
       "      <td>professor</td>\n",
       "    </tr>\n",
       "    <tr>\n",
       "      <th>3</th>\n",
       "      <td>He runs a boutique design studio attending cl...</td>\n",
       "      <td>M</td>\n",
       "      <td>24</td>\n",
       "      <td>architect</td>\n",
       "    </tr>\n",
       "    <tr>\n",
       "      <th>4</th>\n",
       "      <td>He focuses on cloud security, identity and ac...</td>\n",
       "      <td>M</td>\n",
       "      <td>24</td>\n",
       "      <td>architect</td>\n",
       "    </tr>\n",
       "    <tr>\n",
       "      <th>...</th>\n",
       "      <td>...</td>\n",
       "      <td>...</td>\n",
       "      <td>...</td>\n",
       "      <td>...</td>\n",
       "    </tr>\n",
       "    <tr>\n",
       "      <th>217192</th>\n",
       "      <td>A member of the UWA Cultural Collections Boar...</td>\n",
       "      <td>M</td>\n",
       "      <td>19</td>\n",
       "      <td>professor</td>\n",
       "    </tr>\n",
       "    <tr>\n",
       "      <th>217193</th>\n",
       "      <td>Kelly has worked globally leading teams of co...</td>\n",
       "      <td>F</td>\n",
       "      <td>22</td>\n",
       "      <td>psychologist</td>\n",
       "    </tr>\n",
       "    <tr>\n",
       "      <th>217194</th>\n",
       "      <td>He's the lead author of a recent study that f...</td>\n",
       "      <td>M</td>\n",
       "      <td>19</td>\n",
       "      <td>professor</td>\n",
       "    </tr>\n",
       "    <tr>\n",
       "      <th>217195</th>\n",
       "      <td>She specializes in the theoretical and pedago...</td>\n",
       "      <td>F</td>\n",
       "      <td>19</td>\n",
       "      <td>professor</td>\n",
       "    </tr>\n",
       "    <tr>\n",
       "      <th>217196</th>\n",
       "      <td>Since she was 10 years old she has become a m...</td>\n",
       "      <td>F</td>\n",
       "      <td>1</td>\n",
       "      <td>model</td>\n",
       "    </tr>\n",
       "  </tbody>\n",
       "</table>\n",
       "<p>217197 rows × 4 columns</p>\n",
       "</div>"
      ],
      "text/plain": [
       "                                              description gender  category  \\\n",
       "Id                                                                           \n",
       "0        She is also a Ronald D. Asmus Policy Entrepre...      F        19   \n",
       "1        He is a member of the AICPA and WICPA. Brent ...      M         9   \n",
       "2        Dr. Aster has held teaching and research posi...      M        19   \n",
       "3        He runs a boutique design studio attending cl...      M        24   \n",
       "4        He focuses on cloud security, identity and ac...      M        24   \n",
       "...                                                   ...    ...       ...   \n",
       "217192   A member of the UWA Cultural Collections Boar...      M        19   \n",
       "217193   Kelly has worked globally leading teams of co...      F        22   \n",
       "217194   He's the lead author of a recent study that f...      M        19   \n",
       "217195   She specializes in the theoretical and pedago...      F        19   \n",
       "217196   Since she was 10 years old she has become a m...      F         1   \n",
       "\n",
       "                 job  \n",
       "Id                    \n",
       "0          professor  \n",
       "1         accountant  \n",
       "2          professor  \n",
       "3          architect  \n",
       "4          architect  \n",
       "...              ...  \n",
       "217192     professor  \n",
       "217193  psychologist  \n",
       "217194     professor  \n",
       "217195     professor  \n",
       "217196         model  \n",
       "\n",
       "[217197 rows x 4 columns]"
      ]
     },
     "execution_count": 4,
     "metadata": {},
     "output_type": "execute_result"
    }
   ],
   "source": [
    "train=pd.read_json('train.json').set_index('Id')\n",
    "test=pd.read_json('test.json').set_index('Id')\n",
    "label=pd.read_csv(\"train_label.csv\")\n",
    "categories=pd.read_csv(\"categories_string.csv\")\n",
    "train[\"category\"]=label.Category\n",
    "\n",
    "\n",
    "\n",
    "def map_label(x):\n",
    "  label=np.array(categories['0'][categories[\"1\"]==x])[0]\n",
    "  return label\n",
    "\n",
    "with concurrent.futures.ProcessPoolExecutor(num_processes) as pool:\n",
    "    train['job'] = list(tqdm(pool.map(map_label, train.category, chunksize=num_processes*2), total=train.shape[0]))\n",
    "train"
   ]
  },
  {
   "cell_type": "code",
   "execution_count": 76,
   "metadata": {
    "ExecuteTime": {
     "end_time": "2021-01-11T16:08:13.528300Z",
     "start_time": "2021-01-11T16:08:13.095549Z"
    }
   },
   "outputs": [
    {
     "data": {
      "image/png": "[encoded data removed]",
      "text/plain": [
       "<Figure size 1080x720 with 1 Axes>"
      ]
     },
     "metadata": {
      "needs_background": "light"
     },
     "output_type": "display_data"
    }
   ],
   "source": [
    "ut.show_value(train.category)"
   ]
  },
  {
   "cell_type": "markdown",
   "metadata": {
    "ExecuteTime": {
     "end_time": "2021-01-03T18:08:57.184962Z",
     "start_time": "2021-01-03T18:08:56.907182Z"
    }
   },
   "source": [
    "# Text statistics"
   ]
  },
  {
   "cell_type": "code",
   "execution_count": 22,
   "metadata": {
    "ExecuteTime": {
     "end_time": "2021-01-03T18:11:47.979216Z",
     "start_time": "2021-01-03T18:11:47.701644Z"
    }
   },
   "outputs": [
    {
     "data": {
      "text/plain": [
       "<AxesSubplot:>"
      ]
     },
     "execution_count": 22,
     "metadata": {},
     "output_type": "execute_result"
    },
    {
     "data": {
      "image/png": "[encoded data removed]",
      "text/plain": [
       "<Figure size 1224x720 with 1 Axes>"
      ]
     },
     "metadata": {
      "needs_background": "light"
     },
     "output_type": "display_data"
    }
   ],
   "source": [
    "#  number of characters present in each sentence\n",
    "train.description.str.len().hist()"
   ]
  },
  {
   "cell_type": "code",
   "execution_count": 23,
   "metadata": {
    "ExecuteTime": {
     "end_time": "2021-01-03T18:12:07.757483Z",
     "start_time": "2021-01-03T18:12:05.795954Z"
    }
   },
   "outputs": [
    {
     "data": {
      "text/plain": [
       "<AxesSubplot:>"
      ]
     },
     "execution_count": 23,
     "metadata": {},
     "output_type": "execute_result"
    },
    {
     "data": {
      "image/png": "[encoded data removed]",
      "text/plain": [
       "<Figure size 1224x720 with 1 Axes>"
      ]
     },
     "metadata": {
      "needs_background": "light"
     },
     "output_type": "display_data"
    }
   ],
   "source": [
    "# number of words appearing in each newdescriptions\n",
    "train.description.str.split().\\\n",
    "    map(lambda x: len(x)).\\\n",
    "    hist()"
   ]
  },
  {
   "cell_type": "code",
   "execution_count": 24,
   "metadata": {
    "ExecuteTime": {
     "end_time": "2021-01-03T18:12:31.907349Z",
     "start_time": "2021-01-03T18:12:26.030765Z"
    }
   },
   "outputs": [
    {
     "data": {
      "text/plain": [
       "<AxesSubplot:>"
      ]
     },
     "execution_count": 24,
     "metadata": {},
     "output_type": "execute_result"
    },
    {
     "data": {
      "image/png": "[encoded data removed]",
      "text/plain": [
       "<Figure size 1224x720 with 1 Axes>"
      ]
     },
     "metadata": {
      "needs_background": "light"
     },
     "output_type": "display_data"
    }
   ],
   "source": [
    "# average word length in each sentence\n",
    "train.description.str.split().\\\n",
    "   apply(lambda x : [len(i) for i in x]). \\\n",
    "   map(lambda x: np.mean(x)).hist()"
   ]
  },
  {
   "cell_type": "code",
   "execution_count": 27,
   "metadata": {
    "ExecuteTime": {
     "end_time": "2021-01-03T19:48:07.702134Z",
     "start_time": "2021-01-03T19:48:07.697752Z"
    }
   },
   "outputs": [
    {
     "name": "stderr",
     "output_type": "stream",
     "text": [
      "[nltk_data] Downloading package stopwords to\n",
      "[nltk_data]     /home/prembamrung/nltk_data...\n",
      "[nltk_data]   Package stopwords is already up-to-date!\n"
     ]
    }
   ],
   "source": [
    "import nltk\n",
    "from nltk.corpus import stopwords\n",
    "nltk.download('stopwords')\n",
    "stop=set(stopwords.words('english'))"
   ]
  },
  {
   "cell_type": "code",
   "execution_count": 35,
   "metadata": {
    "ExecuteTime": {
     "end_time": "2021-01-03T19:51:56.574867Z",
     "start_time": "2021-01-03T19:51:52.241787Z"
    }
   },
   "outputs": [
    {
     "data": {
      "text/plain": [
       "<AxesSubplot:>"
      ]
     },
     "execution_count": 35,
     "metadata": {},
     "output_type": "execute_result"
    },
    {
     "data": {
      "image/png": "[encoded data removed]",
      "text/plain": [
       "<Figure size 1224x720 with 1 Axes>"
      ]
     },
     "metadata": {
      "needs_background": "light"
     },
     "output_type": "display_data"
    }
   ],
   "source": [
    "# top 10 stop words\n",
    "from collections import defaultdict\n",
    "\n",
    "new= train.description.str.split()\n",
    "new=new.values.tolist()\n",
    "corpus=[word for i in new for word in i]\n",
    "\n",
    "dic=defaultdict(int)\n",
    "for word in corpus:\n",
    "    if word in stop:\n",
    "        dic[word]+=1\n",
    "        \n",
    "top=sorted(dic.items(), key=lambda x:x[1],reverse=True)[:10] \n",
    "x,y=zip(*top)\n",
    "#plt.bar(x,y)\n",
    "sns.barplot(x=np.asarray(y),y=np.asarray(x))"
   ]
  },
  {
   "cell_type": "code",
   "execution_count": 45,
   "metadata": {
    "ExecuteTime": {
     "end_time": "2021-01-03T21:23:04.661144Z",
     "start_time": "2021-01-03T21:23:02.657434Z"
    }
   },
   "outputs": [
    {
     "data": {
      "text/plain": [
       "<AxesSubplot:>"
      ]
     },
     "execution_count": 45,
     "metadata": {},
     "output_type": "execute_result"
    },
    {
     "data": {
      "image/png": "[encoded data removed]",
      "text/plain": [
       "<Figure size 1224x720 with 1 Axes>"
      ]
     },
     "metadata": {
      "needs_background": "light"
     },
     "output_type": "display_data"
    }
   ],
   "source": [
    "# top 10 non stop word\n",
    "from collections import  Counter\n",
    "\n",
    "counter=Counter(corpus)\n",
    "most=counter.most_common()\n",
    "x, y=[], []\n",
    "for word,count in most[:40]:\n",
    "    if (word not in stop):\n",
    "        x.append(word)\n",
    "        y.append(count)\n",
    "        \n",
    "sns.barplot(x=y,y=x)\n",
    "#plt.bar(x,y)"
   ]
  },
  {
   "cell_type": "markdown",
   "metadata": {
    "ExecuteTime": {
     "end_time": "2021-01-03T21:23:32.011190Z",
     "start_time": "2021-01-03T21:23:32.009040Z"
    }
   },
   "source": [
    "# Ngram"
   ]
  },
  {
   "cell_type": "code",
   "execution_count": 49,
   "metadata": {
    "ExecuteTime": {
     "end_time": "2021-01-03T21:25:25.632238Z",
     "start_time": "2021-01-03T21:25:25.623151Z"
    }
   },
   "outputs": [],
   "source": [
    "from nltk.util import ngrams\n",
    "from sklearn.feature_extraction.text import CountVectorizer\n",
    "\n",
    "def plot_top_ngrams_barchart(corpus, n=2):\n",
    "    def _get_top_ngram(corpus, n=None):\n",
    "        vec = CountVectorizer(ngram_range=(n, n)).fit(corpus)\n",
    "        bag_of_words = vec.transform(corpus)\n",
    "        sum_words = bag_of_words.sum(axis=0) \n",
    "        words_freq = [(word, sum_words[0, idx]) for word, idx in vec.vocabulary_.items()]\n",
    "        words_freq =sorted(words_freq, key = lambda x: x[1], reverse=True)\n",
    "        return words_freq[:10]\n",
    "\n",
    "    top_n_bigrams=_get_top_ngram(corpus,n)[:10]\n",
    "    x,y=map(list,zip(*top_n_bigrams))\n",
    "    sns.barplot(x=y,y=x)"
   ]
  },
  {
   "cell_type": "code",
   "execution_count": 53,
   "metadata": {
    "ExecuteTime": {
     "end_time": "2021-01-03T21:29:50.719377Z",
     "start_time": "2021-01-03T21:28:46.143955Z"
    }
   },
   "outputs": [
    {
     "data": {
      "image/png": "[encoded data removed]",
      "text/plain": [
       "<Figure size 1224x720 with 1 Axes>"
      ]
     },
     "metadata": {
      "needs_background": "light"
     },
     "output_type": "display_data"
    }
   ],
   "source": [
    "plot_top_ngrams_barchart(corpus,2)"
   ]
  },
  {
   "cell_type": "code",
   "execution_count": 55,
   "metadata": {
    "ExecuteTime": {
     "end_time": "2021-01-03T21:33:05.450426Z",
     "start_time": "2021-01-03T21:32:01.267061Z"
    }
   },
   "outputs": [
    {
     "data": {
      "image/png": "[encoded data removed]",
      "text/plain": [
       "<Figure size 1224x720 with 1 Axes>"
      ]
     },
     "metadata": {
      "needs_background": "light"
     },
     "output_type": "display_data"
    }
   ],
   "source": [
    "plot_top_ngrams_barchart(corpus,3)"
   ]
  },
  {
   "cell_type": "code",
   "execution_count": 56,
   "metadata": {
    "ExecuteTime": {
     "end_time": "2021-01-03T21:34:16.632530Z",
     "start_time": "2021-01-03T21:33:12.553912Z"
    }
   },
   "outputs": [
    {
     "data": {
      "image/png": "[encoded data removed]",
      "text/plain": [
       "<Figure size 1224x720 with 1 Axes>"
      ]
     },
     "metadata": {
      "needs_background": "light"
     },
     "output_type": "display_data"
    }
   ],
   "source": [
    "plot_top_ngrams_barchart(corpus,4)"
   ]
  },
  {
   "cell_type": "markdown",
   "metadata": {},
   "source": [
    "# Topic Modeling"
   ]
  },
  {
   "cell_type": "code",
   "execution_count": 52,
   "metadata": {
    "ExecuteTime": {
     "end_time": "2021-01-03T21:28:36.293549Z",
     "start_time": "2021-01-03T21:28:35.656225Z"
    }
   },
   "outputs": [],
   "source": [
    "corpus_no_stop=[i for i in corpus  if i not in stop]"
   ]
  },
  {
   "cell_type": "code",
   "execution_count": 5,
   "metadata": {
    "ExecuteTime": {
     "end_time": "2021-01-07T16:23:28.236129Z",
     "start_time": "2021-01-07T16:23:27.934848Z"
    }
   },
   "outputs": [
    {
     "data": {
      "text/html": [
       "<div>\n",
       "<style scoped>\n",
       "    .dataframe tbody tr th:only-of-type {\n",
       "        vertical-align: middle;\n",
       "    }\n",
       "\n",
       "    .dataframe tbody tr th {\n",
       "        vertical-align: top;\n",
       "    }\n",
       "\n",
       "    .dataframe thead th {\n",
       "        text-align: right;\n",
       "    }\n",
       "</style>\n",
       "<table border=\"1\" class=\"dataframe\">\n",
       "  <thead>\n",
       "    <tr style=\"text-align: right;\">\n",
       "      <th></th>\n",
       "      <th>description</th>\n",
       "      <th>gender</th>\n",
       "      <th>category</th>\n",
       "      <th>job</th>\n",
       "    </tr>\n",
       "    <tr>\n",
       "      <th>Id</th>\n",
       "      <th></th>\n",
       "      <th></th>\n",
       "      <th></th>\n",
       "      <th></th>\n",
       "    </tr>\n",
       "  </thead>\n",
       "  <tbody>\n",
       "    <tr>\n",
       "      <th>5</th>\n",
       "      <td>He is author of several books, including the ...</td>\n",
       "      <td>M</td>\n",
       "      <td>22</td>\n",
       "      <td>psychologist</td>\n",
       "    </tr>\n",
       "    <tr>\n",
       "      <th>7</th>\n",
       "      <td>He holds a Journalism Master’s degree from Ro...</td>\n",
       "      <td>M</td>\n",
       "      <td>6</td>\n",
       "      <td>journalist</td>\n",
       "    </tr>\n",
       "    <tr>\n",
       "      <th>9</th>\n",
       "      <td>For more quips and tips, refer to her blog, “...</td>\n",
       "      <td>F</td>\n",
       "      <td>14</td>\n",
       "      <td>nurse</td>\n",
       "    </tr>\n",
       "    <tr>\n",
       "      <th>19</th>\n",
       "      <td>He is the host of The Skeptics’ Guide to the ...</td>\n",
       "      <td>M</td>\n",
       "      <td>19</td>\n",
       "      <td>professor</td>\n",
       "    </tr>\n",
       "    <tr>\n",
       "      <th>29</th>\n",
       "      <td>He is a correspondent for All Sports magazine...</td>\n",
       "      <td>M</td>\n",
       "      <td>6</td>\n",
       "      <td>journalist</td>\n",
       "    </tr>\n",
       "    <tr>\n",
       "      <th>...</th>\n",
       "      <td>...</td>\n",
       "      <td>...</td>\n",
       "      <td>...</td>\n",
       "      <td>...</td>\n",
       "    </tr>\n",
       "    <tr>\n",
       "      <th>216992</th>\n",
       "      <td>Her Ph.D. focused on empowering Deaf and hard...</td>\n",
       "      <td>F</td>\n",
       "      <td>13</td>\n",
       "      <td>software_engineer</td>\n",
       "    </tr>\n",
       "    <tr>\n",
       "      <th>217020</th>\n",
       "      <td>He is currently practising at Dr. Umesh Sanch...</td>\n",
       "      <td>M</td>\n",
       "      <td>16</td>\n",
       "      <td>dentist</td>\n",
       "    </tr>\n",
       "    <tr>\n",
       "      <th>217113</th>\n",
       "      <td>She has held staff positions at Good Housekee...</td>\n",
       "      <td>F</td>\n",
       "      <td>6</td>\n",
       "      <td>journalist</td>\n",
       "    </tr>\n",
       "    <tr>\n",
       "      <th>217115</th>\n",
       "      <td>He is also a high school wrestling coach. Cli...</td>\n",
       "      <td>M</td>\n",
       "      <td>17</td>\n",
       "      <td>chiropractor</td>\n",
       "    </tr>\n",
       "    <tr>\n",
       "      <th>217159</th>\n",
       "      <td>He writes for several newspapers about differ...</td>\n",
       "      <td>M</td>\n",
       "      <td>6</td>\n",
       "      <td>journalist</td>\n",
       "    </tr>\n",
       "  </tbody>\n",
       "</table>\n",
       "<p>8916 rows × 4 columns</p>\n",
       "</div>"
      ],
      "text/plain": [
       "                                              description gender  category  \\\n",
       "Id                                                                           \n",
       "5        He is author of several books, including the ...      M        22   \n",
       "7        He holds a Journalism Master’s degree from Ro...      M         6   \n",
       "9        For more quips and tips, refer to her blog, “...      F        14   \n",
       "19       He is the host of The Skeptics’ Guide to the ...      M        19   \n",
       "29       He is a correspondent for All Sports magazine...      M         6   \n",
       "...                                                   ...    ...       ...   \n",
       "216992   Her Ph.D. focused on empowering Deaf and hard...      F        13   \n",
       "217020   He is currently practising at Dr. Umesh Sanch...      M        16   \n",
       "217113   She has held staff positions at Good Housekee...      F         6   \n",
       "217115   He is also a high school wrestling coach. Cli...      M        17   \n",
       "217159   He writes for several newspapers about differ...      M         6   \n",
       "\n",
       "                      job  \n",
       "Id                         \n",
       "5            psychologist  \n",
       "7              journalist  \n",
       "9                   nurse  \n",
       "19              professor  \n",
       "29             journalist  \n",
       "...                   ...  \n",
       "216992  software_engineer  \n",
       "217020            dentist  \n",
       "217113         journalist  \n",
       "217115       chiropractor  \n",
       "217159         journalist  \n",
       "\n",
       "[8916 rows x 4 columns]"
      ]
     },
     "execution_count": 5,
     "metadata": {},
     "output_type": "execute_result"
    }
   ],
   "source": [
    "ut.df_find(train,\".com\")"
   ]
  },
  {
   "cell_type": "code",
   "execution_count": 64,
   "metadata": {
    "ExecuteTime": {
     "end_time": "2021-01-03T21:41:12.229746Z",
     "start_time": "2021-01-03T21:41:12.226665Z"
    }
   },
   "outputs": [
    {
     "data": {
      "text/plain": [
       "' He is author of several books, including the bestselling Anxiety & Phobia Workbook, that have reached hundreds of thousands of people throughout the world. He welcomes comments and feedback, which can be sent to edbourne@globalshiftnow.com. See less'"
      ]
     },
     "execution_count": 64,
     "metadata": {},
     "output_type": "execute_result"
    }
   ],
   "source": [
    "train.description[5]"
   ]
  },
  {
   "cell_type": "markdown",
   "metadata": {},
   "source": [
    "# Cleanning"
   ]
  },
  {
   "cell_type": "code",
   "execution_count": 5,
   "metadata": {
    "ExecuteTime": {
     "end_time": "2021-01-10T14:57:36.889369Z",
     "start_time": "2021-01-10T14:57:27.258621Z"
    }
   },
   "outputs": [
    {
     "name": "stderr",
     "output_type": "stream",
     "text": [
      "100%|██████████| 217197/217197 [00:08<00:00, 24215.51it/s]\n"
     ]
    },
    {
     "data": {
      "text/html": [
       "<div>\n",
       "<style scoped>\n",
       "    .dataframe tbody tr th:only-of-type {\n",
       "        vertical-align: middle;\n",
       "    }\n",
       "\n",
       "    .dataframe tbody tr th {\n",
       "        vertical-align: top;\n",
       "    }\n",
       "\n",
       "    .dataframe thead th {\n",
       "        text-align: right;\n",
       "    }\n",
       "</style>\n",
       "<table border=\"1\" class=\"dataframe\">\n",
       "  <thead>\n",
       "    <tr style=\"text-align: right;\">\n",
       "      <th></th>\n",
       "      <th>description</th>\n",
       "      <th>gender</th>\n",
       "      <th>category</th>\n",
       "      <th>job</th>\n",
       "      <th>cleaned</th>\n",
       "    </tr>\n",
       "    <tr>\n",
       "      <th>Id</th>\n",
       "      <th></th>\n",
       "      <th></th>\n",
       "      <th></th>\n",
       "      <th></th>\n",
       "      <th></th>\n",
       "    </tr>\n",
       "  </thead>\n",
       "  <tbody>\n",
       "    <tr>\n",
       "      <th>0</th>\n",
       "      <td>She is also a Ronald D. Asmus Policy Entrepre...</td>\n",
       "      <td>F</td>\n",
       "      <td>19</td>\n",
       "      <td>professor</td>\n",
       "      <td>She is also a Ronald D. Asmus Policy Entrepren...</td>\n",
       "    </tr>\n",
       "    <tr>\n",
       "      <th>1</th>\n",
       "      <td>He is a member of the AICPA and WICPA. Brent ...</td>\n",
       "      <td>M</td>\n",
       "      <td>9</td>\n",
       "      <td>accountant</td>\n",
       "      <td>He is a member of the AICPA and WICPA. Brent g...</td>\n",
       "    </tr>\n",
       "    <tr>\n",
       "      <th>2</th>\n",
       "      <td>Dr. Aster has held teaching and research posi...</td>\n",
       "      <td>M</td>\n",
       "      <td>19</td>\n",
       "      <td>professor</td>\n",
       "      <td>Dr. Aster has held teaching and research posit...</td>\n",
       "    </tr>\n",
       "    <tr>\n",
       "      <th>3</th>\n",
       "      <td>He runs a boutique design studio attending cl...</td>\n",
       "      <td>M</td>\n",
       "      <td>24</td>\n",
       "      <td>architect</td>\n",
       "      <td>He runs a boutique design studio attending cli...</td>\n",
       "    </tr>\n",
       "    <tr>\n",
       "      <th>4</th>\n",
       "      <td>He focuses on cloud security, identity and ac...</td>\n",
       "      <td>M</td>\n",
       "      <td>24</td>\n",
       "      <td>architect</td>\n",
       "      <td>He focuses on cloud security, identity and acc...</td>\n",
       "    </tr>\n",
       "    <tr>\n",
       "      <th>...</th>\n",
       "      <td>...</td>\n",
       "      <td>...</td>\n",
       "      <td>...</td>\n",
       "      <td>...</td>\n",
       "      <td>...</td>\n",
       "    </tr>\n",
       "    <tr>\n",
       "      <th>217192</th>\n",
       "      <td>A member of the UWA Cultural Collections Boar...</td>\n",
       "      <td>M</td>\n",
       "      <td>19</td>\n",
       "      <td>professor</td>\n",
       "      <td>A member of the UWA Cultural Collections Board...</td>\n",
       "    </tr>\n",
       "    <tr>\n",
       "      <th>217193</th>\n",
       "      <td>Kelly has worked globally leading teams of co...</td>\n",
       "      <td>F</td>\n",
       "      <td>22</td>\n",
       "      <td>psychologist</td>\n",
       "      <td>Kelly has worked globally leading teams of con...</td>\n",
       "    </tr>\n",
       "    <tr>\n",
       "      <th>217194</th>\n",
       "      <td>He's the lead author of a recent study that f...</td>\n",
       "      <td>M</td>\n",
       "      <td>19</td>\n",
       "      <td>professor</td>\n",
       "      <td>He's the lead author of a recent study that fo...</td>\n",
       "    </tr>\n",
       "    <tr>\n",
       "      <th>217195</th>\n",
       "      <td>She specializes in the theoretical and pedago...</td>\n",
       "      <td>F</td>\n",
       "      <td>19</td>\n",
       "      <td>professor</td>\n",
       "      <td>She specializes in the theoretical and pedagog...</td>\n",
       "    </tr>\n",
       "    <tr>\n",
       "      <th>217196</th>\n",
       "      <td>Since she was 10 years old she has become a m...</td>\n",
       "      <td>F</td>\n",
       "      <td>1</td>\n",
       "      <td>model</td>\n",
       "      <td>Since she was years old she has become a model...</td>\n",
       "    </tr>\n",
       "  </tbody>\n",
       "</table>\n",
       "<p>217197 rows × 5 columns</p>\n",
       "</div>"
      ],
      "text/plain": [
       "                                              description gender  category  \\\n",
       "Id                                                                           \n",
       "0        She is also a Ronald D. Asmus Policy Entrepre...      F        19   \n",
       "1        He is a member of the AICPA and WICPA. Brent ...      M         9   \n",
       "2        Dr. Aster has held teaching and research posi...      M        19   \n",
       "3        He runs a boutique design studio attending cl...      M        24   \n",
       "4        He focuses on cloud security, identity and ac...      M        24   \n",
       "...                                                   ...    ...       ...   \n",
       "217192   A member of the UWA Cultural Collections Boar...      M        19   \n",
       "217193   Kelly has worked globally leading teams of co...      F        22   \n",
       "217194   He's the lead author of a recent study that f...      M        19   \n",
       "217195   She specializes in the theoretical and pedago...      F        19   \n",
       "217196   Since she was 10 years old she has become a m...      F         1   \n",
       "\n",
       "                 job                                            cleaned  \n",
       "Id                                                                       \n",
       "0          professor  She is also a Ronald D. Asmus Policy Entrepren...  \n",
       "1         accountant  He is a member of the AICPA and WICPA. Brent g...  \n",
       "2          professor  Dr. Aster has held teaching and research posit...  \n",
       "3          architect  He runs a boutique design studio attending cli...  \n",
       "4          architect  He focuses on cloud security, identity and acc...  \n",
       "...              ...                                                ...  \n",
       "217192     professor  A member of the UWA Cultural Collections Board...  \n",
       "217193  psychologist  Kelly has worked globally leading teams of con...  \n",
       "217194     professor  He's the lead author of a recent study that fo...  \n",
       "217195     professor  She specializes in the theoretical and pedagog...  \n",
       "217196         model  Since she was years old she has become a model...  \n",
       "\n",
       "[217197 rows x 5 columns]"
      ]
     },
     "execution_count": 5,
     "metadata": {},
     "output_type": "execute_result"
    }
   ],
   "source": [
    "from cleaning import clean\n",
    "with concurrent.futures.ProcessPoolExecutor(num_processes) as pool:\n",
    "    train['cleaned'] = list(tqdm(pool.map(clean, train.description, chunksize=num_processes*2), total=train.shape[0]))\n",
    "train"
   ]
  },
  {
   "cell_type": "code",
   "execution_count": 6,
   "metadata": {
    "ExecuteTime": {
     "end_time": "2021-01-10T14:57:39.905487Z",
     "start_time": "2021-01-10T14:57:36.918588Z"
    }
   },
   "outputs": [
    {
     "name": "stderr",
     "output_type": "stream",
     "text": [
      "100%|██████████| 54300/54300 [00:02<00:00, 20387.65it/s]\n"
     ]
    },
    {
     "data": {
      "text/html": [
       "<div>\n",
       "<style scoped>\n",
       "    .dataframe tbody tr th:only-of-type {\n",
       "        vertical-align: middle;\n",
       "    }\n",
       "\n",
       "    .dataframe tbody tr th {\n",
       "        vertical-align: top;\n",
       "    }\n",
       "\n",
       "    .dataframe thead th {\n",
       "        text-align: right;\n",
       "    }\n",
       "</style>\n",
       "<table border=\"1\" class=\"dataframe\">\n",
       "  <thead>\n",
       "    <tr style=\"text-align: right;\">\n",
       "      <th></th>\n",
       "      <th>description</th>\n",
       "      <th>gender</th>\n",
       "      <th>cleaned</th>\n",
       "    </tr>\n",
       "    <tr>\n",
       "      <th>Id</th>\n",
       "      <th></th>\n",
       "      <th></th>\n",
       "      <th></th>\n",
       "    </tr>\n",
       "  </thead>\n",
       "  <tbody>\n",
       "    <tr>\n",
       "      <th>0</th>\n",
       "      <td>She currently works on CNN’s newest primetime...</td>\n",
       "      <td>F</td>\n",
       "      <td>She currently works on CNN’s newest primetime ...</td>\n",
       "    </tr>\n",
       "    <tr>\n",
       "      <th>1</th>\n",
       "      <td>Lavalette’s photographs have been shown widel...</td>\n",
       "      <td>M</td>\n",
       "      <td>Lavalette’s photographs have been shown widely...</td>\n",
       "    </tr>\n",
       "    <tr>\n",
       "      <th>2</th>\n",
       "      <td>Along with his academic and professional deve...</td>\n",
       "      <td>M</td>\n",
       "      <td>Along with his academic and professional devel...</td>\n",
       "    </tr>\n",
       "    <tr>\n",
       "      <th>3</th>\n",
       "      <td>She obtained her Ph.D. in Islamic Studies at ...</td>\n",
       "      <td>F</td>\n",
       "      <td>She obtained her Ph.D. in Islamic Studies at D...</td>\n",
       "    </tr>\n",
       "    <tr>\n",
       "      <th>4</th>\n",
       "      <td>She studies issues of women and Islam and has...</td>\n",
       "      <td>F</td>\n",
       "      <td>She studies issues of women and Islam and has ...</td>\n",
       "    </tr>\n",
       "    <tr>\n",
       "      <th>...</th>\n",
       "      <td>...</td>\n",
       "      <td>...</td>\n",
       "      <td>...</td>\n",
       "    </tr>\n",
       "    <tr>\n",
       "      <th>54295</th>\n",
       "      <td>Prior to that, she worked as a Research Staff...</td>\n",
       "      <td>F</td>\n",
       "      <td>Prior to that, she worked as a Research Staff ...</td>\n",
       "    </tr>\n",
       "    <tr>\n",
       "      <th>54296</th>\n",
       "      <td>The group’s antics began when they switched t...</td>\n",
       "      <td>M</td>\n",
       "      <td>The group’s antics began when they switched th...</td>\n",
       "    </tr>\n",
       "    <tr>\n",
       "      <th>54297</th>\n",
       "      <td>Formerly, she was the Coordinator for Music E...</td>\n",
       "      <td>F</td>\n",
       "      <td>Formerly, she was the Coordinator for Music Ed...</td>\n",
       "    </tr>\n",
       "    <tr>\n",
       "      <th>54298</th>\n",
       "      <td>She started her law practice at Morris Mannin...</td>\n",
       "      <td>F</td>\n",
       "      <td>She started her law practice at Morris Manning...</td>\n",
       "    </tr>\n",
       "    <tr>\n",
       "      <th>54299</th>\n",
       "      <td>Since 1995, he works as a programme maker and...</td>\n",
       "      <td>M</td>\n",
       "      <td>Since he works as a programme maker and artist...</td>\n",
       "    </tr>\n",
       "  </tbody>\n",
       "</table>\n",
       "<p>54300 rows × 3 columns</p>\n",
       "</div>"
      ],
      "text/plain": [
       "                                             description gender  \\\n",
       "Id                                                                \n",
       "0       She currently works on CNN’s newest primetime...      F   \n",
       "1       Lavalette’s photographs have been shown widel...      M   \n",
       "2       Along with his academic and professional deve...      M   \n",
       "3       She obtained her Ph.D. in Islamic Studies at ...      F   \n",
       "4       She studies issues of women and Islam and has...      F   \n",
       "...                                                  ...    ...   \n",
       "54295   Prior to that, she worked as a Research Staff...      F   \n",
       "54296   The group’s antics began when they switched t...      M   \n",
       "54297   Formerly, she was the Coordinator for Music E...      F   \n",
       "54298   She started her law practice at Morris Mannin...      F   \n",
       "54299   Since 1995, he works as a programme maker and...      M   \n",
       "\n",
       "                                                 cleaned  \n",
       "Id                                                        \n",
       "0      She currently works on CNN’s newest primetime ...  \n",
       "1      Lavalette’s photographs have been shown widely...  \n",
       "2      Along with his academic and professional devel...  \n",
       "3      She obtained her Ph.D. in Islamic Studies at D...  \n",
       "4      She studies issues of women and Islam and has ...  \n",
       "...                                                  ...  \n",
       "54295  Prior to that, she worked as a Research Staff ...  \n",
       "54296  The group’s antics began when they switched th...  \n",
       "54297  Formerly, she was the Coordinator for Music Ed...  \n",
       "54298  She started her law practice at Morris Manning...  \n",
       "54299  Since he works as a programme maker and artist...  \n",
       "\n",
       "[54300 rows x 3 columns]"
      ]
     },
     "execution_count": 6,
     "metadata": {},
     "output_type": "execute_result"
    }
   ],
   "source": [
    "with concurrent.futures.ProcessPoolExecutor(num_processes) as pool:\n",
    "    test['cleaned'] = list(tqdm(pool.map(clean, test.description, chunksize=num_processes*2), total=test.shape[0]))\n",
    "test"
   ]
  },
  {
   "cell_type": "code",
   "execution_count": 7,
   "metadata": {
    "ExecuteTime": {
     "end_time": "2021-01-10T14:57:49.613781Z",
     "start_time": "2021-01-10T14:57:49.596790Z"
    }
   },
   "outputs": [
    {
     "name": "stdout",
     "output_type": "stream",
     "text": [
      "86359\n",
      "Raw\n",
      " He serves as the firm’s lead attorney for research and writing, including dispositive motions and pretrial motions with an emphasis on appellate briefs for all of the firm’s attorneys. He works with domestic and international companies, providing them with in-depth analysis of often very convoluted issues arising under Tennessee law and surrounding jurisdictions.\n",
      "\n",
      "Cleaned\n",
      "He serves as the firm’s lead attorney for research and writing, including dispositive motions and pretrial motions with an emphasis on appellate briefs for all of the firm’s attorneys. He works with domestic and international companies, providing them with indepth analysis of often very convoluted issues arising under Tennessee law and surrounding jurisdictions.\n",
      "\n",
      "43285\n",
      "Raw\n",
      " He has extensive experience creating mobile solutions for Fortune 500 companies including AT&T, IHG, Coke, HomeDepot. A thought leader and Subject Matter Expert on all things mobile, Shawn has been teaching mobile development for the last 4 years; His IOS and Android classes and workshops have been attended by hundreds of students. He is a well-regarded participant in the Atlanta tech scene, winning multiple hackathons around the country as well as speaking at local conferences, and meetup sessions. Shawn has a passion for teaching and loves introducing others to new technology. He spends his free time mentoring both adults and children. Outside of his work and mentoring, Shawn has a passion for cooking. Calling his kitchen his “Happy Place”, he has been known to show up to work and events with his cupcake creations in tow, along with his laptop. Shawn lives in Atlanta with his two daughters.\n",
      "\n",
      "Cleaned\n",
      "He has extensive experience creating mobile solutions for Fortune companies including AT&T, IHG, Coke, HomeDepot. A thought leader and Subject Matter Expert on all things mobile, Shawn has been teaching mobile development for the last years; His IOS and Android classes and workshops have been attended by hundreds of students. He is a wellregarded participant in the Atlanta tech scene, winning multiple hackathons around the country as well as speaking at local conferences, and meetup sessions. Shawn has a passion for teaching and loves introducing others to new technology. He spends his free time mentoring both adults and children. Outside of his work and mentoring, Shawn has a passion for cooking. Calling his kitchen his “Happy Place”, he has been known to show up to work and events with his cupcake creations in tow, along with his laptop. Shawn lives in Atlanta with his two daughters.\n",
      "\n",
      "170434\n",
      "Raw\n",
      " He is an internationally recognized expert on health literacy, plain language, and informed consent. He has spoken for the FDA, the CDC, and many health systems. He specializes in developing clear, health-literate communication that both engages patients and complies with healthcare regulations.\n",
      "\n",
      "Cleaned\n",
      "He is an internationally recognized expert on health literacy, plain language, and informed consent. He has spoken for the FDA, the CDC, and many health systems. He specializes in developing clear, healthliterate communication that both engages patients and complies with healthcare regulations.\n",
      "\n",
      "180645\n",
      "Raw\n",
      " He holds a MSc in Advanced Architectural Design and a PhD in History and Theory of Architecture from Columbia University. He specializes in modern and contemporary architecture and urbanism, with a particular focus on architectural pedagogy and relationships between architecture and political ideologies.\n",
      "\n",
      "Cleaned\n",
      "He holds a MSc in Advanced Architectural Design and a PhD in History and Theory of Architecture from Columbia University. He specializes in modern and contemporary architecture and urbanism, with a particular focus on architectural pedagogy and relationships between architecture and political ideologies.\n",
      "\n",
      "140396\n",
      "Raw\n",
      " He is a co-founder of LuNaMoPoLiS, a publishing space that looks at poetry as correspondence and he is editor of “The Lune,” a monthly journal of poetry, distributed unbound in an envelope.\n",
      "\n",
      "Cleaned\n",
      "He is a cofounder of LuNaMoPoLiS, a publishing space that looks at poetry as correspondence and he is editor of “The Lune,” a monthly journal of poetry, distributed unbound in an envelope.\n",
      "\n"
     ]
    }
   ],
   "source": [
    "for i in range(5):\n",
    "    random=np.random.randint(0,len(train))\n",
    "    print(random)\n",
    "    print(\"Raw\")\n",
    "    print(train.description[random])\n",
    "    print('')\n",
    "    print(\"Cleaned\")\n",
    "    print(train.cleaned[random])\n",
    "    print(\"\")\n",
    "    "
   ]
  },
  {
   "cell_type": "code",
   "execution_count": 14,
   "metadata": {
    "ExecuteTime": {
     "end_time": "2021-01-07T18:00:01.799989Z",
     "start_time": "2021-01-07T18:00:01.796249Z"
    }
   },
   "outputs": [
    {
     "data": {
      "text/plain": [
       "\" She recorded their dying epiphanies in a blog called Inspiration and Chai', blogTag:'', blogUrl:'blog/static/114251216201581311258950', isPublished:1, istop:false, type:0, modifyTime:1442128346608, publishTime:1442113378950, permalink:'blog/static/114251216201581311258950', commentCount:0, mainCommentCount:0, recommendCount:0, bsrk:-100, publisherId:0, recomBlogHome:false, currentRecomBlog:false, attachmentsFileIds:[], vote:{}, groupInfo:{}, friendstatus:'none', followstatus:'unFollow', pubSucc:'', visitorProvince:'', visitorCity:'', visitorNewUser:false, postAddInfo:{}, mset:'000', mcon:'', srk:-100, remindgoodnightblog:false, isBlackVisitor:false, isShowYodaoAd:false, hostIntro:'自覺動了腦筋,終於解決得一道非常困\\\\r\\\\n\\\\r\\\\n難的數學題,那份成功感跟喜悅真的很大\\\\r\\\\n', hmcon:'1', selfRecomBlogCount:'0', lofter_single:' ' }\""
      ]
     },
     "execution_count": 14,
     "metadata": {},
     "output_type": "execute_result"
    }
   ],
   "source": [
    "train.description[514]"
   ]
  },
  {
   "cell_type": "code",
   "execution_count": 217,
   "metadata": {
    "ExecuteTime": {
     "end_time": "2021-01-09T21:55:07.498790Z",
     "start_time": "2021-01-09T21:55:02.801933Z"
    }
   },
   "outputs": [
    {
     "data": {
      "text/html": [
       "<div>\n",
       "<style scoped>\n",
       "    .dataframe tbody tr th:only-of-type {\n",
       "        vertical-align: middle;\n",
       "    }\n",
       "\n",
       "    .dataframe tbody tr th {\n",
       "        vertical-align: top;\n",
       "    }\n",
       "\n",
       "    .dataframe thead th {\n",
       "        text-align: right;\n",
       "    }\n",
       "</style>\n",
       "<table border=\"1\" class=\"dataframe\">\n",
       "  <thead>\n",
       "    <tr style=\"text-align: right;\">\n",
       "      <th></th>\n",
       "      <th>description</th>\n",
       "      <th>gender</th>\n",
       "      <th>category</th>\n",
       "      <th>job</th>\n",
       "      <th>cleaned</th>\n",
       "      <th>distance</th>\n",
       "      <th>complexity</th>\n",
       "    </tr>\n",
       "  </thead>\n",
       "  <tbody>\n",
       "    <tr>\n",
       "      <th>0</th>\n",
       "      <td>She is also a Ronald D. Asmus Policy Entrepre...</td>\n",
       "      <td>F</td>\n",
       "      <td>19.0</td>\n",
       "      <td>professor</td>\n",
       "      <td>She is also a Ronald D. Asmus Policy Entrepren...</td>\n",
       "      <td>7.0</td>\n",
       "      <td>38.32</td>\n",
       "    </tr>\n",
       "    <tr>\n",
       "      <th>1</th>\n",
       "      <td>He is a member of the AICPA and WICPA. Brent ...</td>\n",
       "      <td>M</td>\n",
       "      <td>9.0</td>\n",
       "      <td>accountant</td>\n",
       "      <td>He is a member of the AICPA and WICPA. Brent g...</td>\n",
       "      <td>1.0</td>\n",
       "      <td>65.42</td>\n",
       "    </tr>\n",
       "    <tr>\n",
       "      <th>2</th>\n",
       "      <td>Dr. Aster has held teaching and research posi...</td>\n",
       "      <td>M</td>\n",
       "      <td>19.0</td>\n",
       "      <td>professor</td>\n",
       "      <td>Dr. Aster has held teaching and research posit...</td>\n",
       "      <td>1.0</td>\n",
       "      <td>34.76</td>\n",
       "    </tr>\n",
       "    <tr>\n",
       "      <th>3</th>\n",
       "      <td>He runs a boutique design studio attending cl...</td>\n",
       "      <td>M</td>\n",
       "      <td>24.0</td>\n",
       "      <td>architect</td>\n",
       "      <td>He runs a boutique design studio attending cli...</td>\n",
       "      <td>3.0</td>\n",
       "      <td>33.44</td>\n",
       "    </tr>\n",
       "    <tr>\n",
       "      <th>4</th>\n",
       "      <td>He focuses on cloud security, identity and ac...</td>\n",
       "      <td>M</td>\n",
       "      <td>24.0</td>\n",
       "      <td>architect</td>\n",
       "      <td>He focuses on cloud security, identity and acc...</td>\n",
       "      <td>1.0</td>\n",
       "      <td>17.50</td>\n",
       "    </tr>\n",
       "    <tr>\n",
       "      <th>...</th>\n",
       "      <td>...</td>\n",
       "      <td>...</td>\n",
       "      <td>...</td>\n",
       "      <td>...</td>\n",
       "      <td>...</td>\n",
       "      <td>...</td>\n",
       "      <td>...</td>\n",
       "    </tr>\n",
       "    <tr>\n",
       "      <th>217196</th>\n",
       "      <td>A member of the UWA Cultural Collections Boar...</td>\n",
       "      <td>M</td>\n",
       "      <td>19.0</td>\n",
       "      <td>professor</td>\n",
       "      <td>A member of the UWA Cultural Collections Board...</td>\n",
       "      <td>3.0</td>\n",
       "      <td>46.10</td>\n",
       "    </tr>\n",
       "    <tr>\n",
       "      <th>217197</th>\n",
       "      <td>Kelly has worked globally leading teams of co...</td>\n",
       "      <td>F</td>\n",
       "      <td>22.0</td>\n",
       "      <td>psychologist</td>\n",
       "      <td>Kelly has worked globally leading teams of con...</td>\n",
       "      <td>4.0</td>\n",
       "      <td>38.32</td>\n",
       "    </tr>\n",
       "    <tr>\n",
       "      <th>217198</th>\n",
       "      <td>He's the lead author of a recent study that f...</td>\n",
       "      <td>M</td>\n",
       "      <td>19.0</td>\n",
       "      <td>professor</td>\n",
       "      <td>He's the lead author of a recent study that fo...</td>\n",
       "      <td>1.0</td>\n",
       "      <td>54.56</td>\n",
       "    </tr>\n",
       "    <tr>\n",
       "      <th>217199</th>\n",
       "      <td>She specializes in the theoretical and pedago...</td>\n",
       "      <td>F</td>\n",
       "      <td>19.0</td>\n",
       "      <td>professor</td>\n",
       "      <td>She specializes in the theoretical and pedagog...</td>\n",
       "      <td>2.0</td>\n",
       "      <td>18.39</td>\n",
       "    </tr>\n",
       "    <tr>\n",
       "      <th>217200</th>\n",
       "      <td>Since she was 10 years old she has become a m...</td>\n",
       "      <td>F</td>\n",
       "      <td>1.0</td>\n",
       "      <td>model</td>\n",
       "      <td>Since she was years old she has become a model...</td>\n",
       "      <td>17.0</td>\n",
       "      <td>73.68</td>\n",
       "    </tr>\n",
       "  </tbody>\n",
       "</table>\n",
       "<p>217201 rows × 7 columns</p>\n",
       "</div>"
      ],
      "text/plain": [
       "                                              description gender  category  \\\n",
       "0        She is also a Ronald D. Asmus Policy Entrepre...      F      19.0   \n",
       "1        He is a member of the AICPA and WICPA. Brent ...      M       9.0   \n",
       "2        Dr. Aster has held teaching and research posi...      M      19.0   \n",
       "3        He runs a boutique design studio attending cl...      M      24.0   \n",
       "4        He focuses on cloud security, identity and ac...      M      24.0   \n",
       "...                                                   ...    ...       ...   \n",
       "217196   A member of the UWA Cultural Collections Boar...      M      19.0   \n",
       "217197   Kelly has worked globally leading teams of co...      F      22.0   \n",
       "217198   He's the lead author of a recent study that f...      M      19.0   \n",
       "217199   She specializes in the theoretical and pedago...      F      19.0   \n",
       "217200   Since she was 10 years old she has become a m...      F       1.0   \n",
       "\n",
       "                 job                                            cleaned  \\\n",
       "0          professor  She is also a Ronald D. Asmus Policy Entrepren...   \n",
       "1         accountant  He is a member of the AICPA and WICPA. Brent g...   \n",
       "2          professor  Dr. Aster has held teaching and research posit...   \n",
       "3          architect  He runs a boutique design studio attending cli...   \n",
       "4          architect  He focuses on cloud security, identity and acc...   \n",
       "...              ...                                                ...   \n",
       "217196     professor  A member of the UWA Cultural Collections Board...   \n",
       "217197  psychologist  Kelly has worked globally leading teams of con...   \n",
       "217198     professor  He's the lead author of a recent study that fo...   \n",
       "217199     professor  She specializes in the theoretical and pedagog...   \n",
       "217200         model  Since she was years old she has become a model...   \n",
       "\n",
       "        distance  complexity  \n",
       "0            7.0       38.32  \n",
       "1            1.0       65.42  \n",
       "2            1.0       34.76  \n",
       "3            3.0       33.44  \n",
       "4            1.0       17.50  \n",
       "...          ...         ...  \n",
       "217196       3.0       46.10  \n",
       "217197       4.0       38.32  \n",
       "217198       1.0       54.56  \n",
       "217199       2.0       18.39  \n",
       "217200      17.0       73.68  \n",
       "\n",
       "[217201 rows x 7 columns]"
      ]
     },
     "execution_count": 217,
     "metadata": {},
     "output_type": "execute_result"
    }
   ],
   "source": [
    "train.to_csv(\"train.csv\",index=False)\n",
    "pd.read_csv(\"train.csv\")"
   ]
  },
  {
   "cell_type": "code",
   "execution_count": 218,
   "metadata": {
    "ExecuteTime": {
     "end_time": "2021-01-09T21:55:25.022406Z",
     "start_time": "2021-01-09T21:55:23.868600Z"
    }
   },
   "outputs": [
    {
     "data": {
      "text/html": [
       "<div>\n",
       "<style scoped>\n",
       "    .dataframe tbody tr th:only-of-type {\n",
       "        vertical-align: middle;\n",
       "    }\n",
       "\n",
       "    .dataframe tbody tr th {\n",
       "        vertical-align: top;\n",
       "    }\n",
       "\n",
       "    .dataframe thead th {\n",
       "        text-align: right;\n",
       "    }\n",
       "</style>\n",
       "<table border=\"1\" class=\"dataframe\">\n",
       "  <thead>\n",
       "    <tr style=\"text-align: right;\">\n",
       "      <th></th>\n",
       "      <th>description</th>\n",
       "      <th>gender</th>\n",
       "      <th>cleaned</th>\n",
       "      <th>distance</th>\n",
       "      <th>complexity</th>\n",
       "    </tr>\n",
       "  </thead>\n",
       "  <tbody>\n",
       "    <tr>\n",
       "      <th>0</th>\n",
       "      <td>She currently works on CNN’s newest primetime...</td>\n",
       "      <td>F</td>\n",
       "      <td>She currently works on CNN’s newest primetime ...</td>\n",
       "      <td>3.0</td>\n",
       "      <td>43.43</td>\n",
       "    </tr>\n",
       "    <tr>\n",
       "      <th>1</th>\n",
       "      <td>Lavalette’s photographs have been shown widel...</td>\n",
       "      <td>M</td>\n",
       "      <td>Lavalette’s photographs have been shown widely...</td>\n",
       "      <td>1.0</td>\n",
       "      <td>45.09</td>\n",
       "    </tr>\n",
       "    <tr>\n",
       "      <th>2</th>\n",
       "      <td>Along with his academic and professional deve...</td>\n",
       "      <td>M</td>\n",
       "      <td>Along with his academic and professional devel...</td>\n",
       "      <td>1.0</td>\n",
       "      <td>49.15</td>\n",
       "    </tr>\n",
       "    <tr>\n",
       "      <th>3</th>\n",
       "      <td>She obtained her Ph.D. in Islamic Studies at ...</td>\n",
       "      <td>F</td>\n",
       "      <td>She obtained her Ph.D. in Islamic Studies at D...</td>\n",
       "      <td>3.0</td>\n",
       "      <td>39.37</td>\n",
       "    </tr>\n",
       "    <tr>\n",
       "      <th>4</th>\n",
       "      <td>She studies issues of women and Islam and has...</td>\n",
       "      <td>F</td>\n",
       "      <td>She studies issues of women and Islam and has ...</td>\n",
       "      <td>32.0</td>\n",
       "      <td>32.57</td>\n",
       "    </tr>\n",
       "    <tr>\n",
       "      <th>...</th>\n",
       "      <td>...</td>\n",
       "      <td>...</td>\n",
       "      <td>...</td>\n",
       "      <td>...</td>\n",
       "      <td>...</td>\n",
       "    </tr>\n",
       "    <tr>\n",
       "      <th>54296</th>\n",
       "      <td>Prior to that, she worked as a Research Staff...</td>\n",
       "      <td>F</td>\n",
       "      <td>Prior to that, she worked as a Research Staff ...</td>\n",
       "      <td>45.0</td>\n",
       "      <td>52.90</td>\n",
       "    </tr>\n",
       "    <tr>\n",
       "      <th>54297</th>\n",
       "      <td>The group’s antics began when they switched t...</td>\n",
       "      <td>M</td>\n",
       "      <td>The group’s antics began when they switched th...</td>\n",
       "      <td>208.0</td>\n",
       "      <td>45.09</td>\n",
       "    </tr>\n",
       "    <tr>\n",
       "      <th>54298</th>\n",
       "      <td>Formerly, she was the Coordinator for Music E...</td>\n",
       "      <td>F</td>\n",
       "      <td>Formerly, she was the Coordinator for Music Ed...</td>\n",
       "      <td>2.0</td>\n",
       "      <td>21.02</td>\n",
       "    </tr>\n",
       "    <tr>\n",
       "      <th>54299</th>\n",
       "      <td>She started her law practice at Morris Mannin...</td>\n",
       "      <td>F</td>\n",
       "      <td>She started her law practice at Morris Manning...</td>\n",
       "      <td>7.0</td>\n",
       "      <td>62.68</td>\n",
       "    </tr>\n",
       "    <tr>\n",
       "      <th>54300</th>\n",
       "      <td>Since 1995, he works as a programme maker and...</td>\n",
       "      <td>M</td>\n",
       "      <td>Since he works as a programme maker and artist...</td>\n",
       "      <td>13.0</td>\n",
       "      <td>51.48</td>\n",
       "    </tr>\n",
       "  </tbody>\n",
       "</table>\n",
       "<p>54301 rows × 5 columns</p>\n",
       "</div>"
      ],
      "text/plain": [
       "                                             description gender  \\\n",
       "0       She currently works on CNN’s newest primetime...      F   \n",
       "1       Lavalette’s photographs have been shown widel...      M   \n",
       "2       Along with his academic and professional deve...      M   \n",
       "3       She obtained her Ph.D. in Islamic Studies at ...      F   \n",
       "4       She studies issues of women and Islam and has...      F   \n",
       "...                                                  ...    ...   \n",
       "54296   Prior to that, she worked as a Research Staff...      F   \n",
       "54297   The group’s antics began when they switched t...      M   \n",
       "54298   Formerly, she was the Coordinator for Music E...      F   \n",
       "54299   She started her law practice at Morris Mannin...      F   \n",
       "54300   Since 1995, he works as a programme maker and...      M   \n",
       "\n",
       "                                                 cleaned  distance  complexity  \n",
       "0      She currently works on CNN’s newest primetime ...       3.0       43.43  \n",
       "1      Lavalette’s photographs have been shown widely...       1.0       45.09  \n",
       "2      Along with his academic and professional devel...       1.0       49.15  \n",
       "3      She obtained her Ph.D. in Islamic Studies at D...       3.0       39.37  \n",
       "4      She studies issues of women and Islam and has ...      32.0       32.57  \n",
       "...                                                  ...       ...         ...  \n",
       "54296  Prior to that, she worked as a Research Staff ...      45.0       52.90  \n",
       "54297  The group’s antics began when they switched th...     208.0       45.09  \n",
       "54298  Formerly, she was the Coordinator for Music Ed...       2.0       21.02  \n",
       "54299  She started her law practice at Morris Manning...       7.0       62.68  \n",
       "54300  Since he works as a programme maker and artist...      13.0       51.48  \n",
       "\n",
       "[54301 rows x 5 columns]"
      ]
     },
     "execution_count": 218,
     "metadata": {},
     "output_type": "execute_result"
    }
   ],
   "source": [
    "test.to_csv(\"test.csv\",index=False)\n",
    "pd.read_csv(\"test.csv\")"
   ]
  },
  {
   "cell_type": "code",
   "execution_count": 8,
   "metadata": {
    "ExecuteTime": {
     "end_time": "2021-01-10T14:59:19.326796Z",
     "start_time": "2021-01-10T14:59:19.201912Z"
    }
   },
   "outputs": [
    {
     "data": {
      "text/plain": [
       "description    0\n",
       "gender         0\n",
       "category       0\n",
       "job            0\n",
       "cleaned        0\n",
       "dtype: int64"
      ]
     },
     "execution_count": 8,
     "metadata": {},
     "output_type": "execute_result"
    }
   ],
   "source": [
    "train.isnull().sum()"
   ]
  },
  {
   "cell_type": "code",
   "execution_count": 9,
   "metadata": {
    "ExecuteTime": {
     "end_time": "2021-01-10T14:59:30.256945Z",
     "start_time": "2021-01-10T14:59:30.226737Z"
    }
   },
   "outputs": [
    {
     "data": {
      "text/plain": [
       "description    0\n",
       "gender         0\n",
       "cleaned        0\n",
       "dtype: int64"
      ]
     },
     "execution_count": 9,
     "metadata": {},
     "output_type": "execute_result"
    }
   ],
   "source": [
    "test.isnull().sum()"
   ]
  },
  {
   "cell_type": "markdown",
   "metadata": {
    "heading_collapsed": true
   },
   "source": [
    "## Benchmark"
   ]
  },
  {
   "cell_type": "code",
   "execution_count": 115,
   "metadata": {
    "ExecuteTime": {
     "end_time": "2021-01-09T20:08:20.777749Z",
     "start_time": "2021-01-09T20:08:20.775056Z"
    },
    "hidden": true
   },
   "outputs": [],
   "source": [
    "import time\n",
    "\n",
    "\n",
    "def run(processes,chunk):\n",
    "    start = time.time()\n",
    "    with concurrent.futures.ProcessPoolExecutor(processes) as pool:\n",
    "        toto = list((pool.map(clean, train.description, chunksize=chunk), ))\n",
    "    runtime = time.time() - start\n",
    "    return runtime\n",
    "\n"
   ]
  },
  {
   "cell_type": "code",
   "execution_count": 120,
   "metadata": {
    "ExecuteTime": {
     "end_time": "2021-01-09T20:43:17.875885Z",
     "start_time": "2021-01-09T20:13:59.327050Z"
    },
    "hidden": true
   },
   "outputs": [
    {
     "name": "stderr",
     "output_type": "stream",
     "text": [
      "  0%|          | 0/8 [00:00<?, ?it/s]\n",
      "  0%|          | 0/16 [00:00<?, ?it/s]\u001b[A\n",
      "  6%|▋         | 1/16 [00:31<07:56, 31.79s/it]\u001b[A\n",
      " 12%|█▎        | 2/16 [01:02<07:17, 31.27s/it]\u001b[A\n",
      " 19%|█▉        | 3/16 [01:34<06:47, 31.37s/it]\u001b[A\n",
      " 25%|██▌       | 4/16 [02:05<06:16, 31.34s/it]\u001b[A\n",
      " 31%|███▏      | 5/16 [02:37<05:45, 31.44s/it]\u001b[A\n",
      " 38%|███▊      | 6/16 [03:08<05:13, 31.38s/it]\u001b[A\n",
      " 44%|████▍     | 7/16 [03:39<04:41, 31.28s/it]\u001b[A\n",
      " 50%|█████     | 8/16 [04:10<04:10, 31.34s/it]\u001b[A\n",
      " 56%|█████▋    | 9/16 [04:42<03:39, 31.41s/it]\u001b[A\n",
      " 62%|██████▎   | 10/16 [05:13<03:07, 31.30s/it]\u001b[A\n",
      " 69%|██████▉   | 11/16 [05:45<02:36, 31.36s/it]\u001b[A\n",
      " 75%|███████▌  | 12/16 [06:16<02:05, 31.40s/it]\u001b[A\n",
      " 81%|████████▏ | 13/16 [06:48<01:34, 31.57s/it]\u001b[A\n",
      " 88%|████████▊ | 14/16 [07:20<01:03, 31.66s/it]\u001b[A\n",
      " 94%|█████████▍| 15/16 [07:52<00:31, 31.69s/it]\u001b[A\n",
      "100%|██████████| 16/16 [08:23<00:00, 31.48s/it]\u001b[A\n",
      " 12%|█▎        | 1/8 [08:23<58:45, 503.63s/it]\n",
      "  0%|          | 0/16 [00:00<?, ?it/s]\u001b[A\n",
      "  6%|▋         | 1/16 [00:16<04:10, 16.69s/it]\u001b[A\n",
      " 12%|█▎        | 2/16 [00:33<03:53, 16.66s/it]\u001b[A\n",
      " 19%|█▉        | 3/16 [00:50<03:36, 16.69s/it]\u001b[A\n",
      " 25%|██▌       | 4/16 [01:06<03:19, 16.59s/it]\u001b[A\n",
      " 31%|███▏      | 5/16 [01:23<03:03, 16.68s/it]\u001b[A\n",
      " 38%|███▊      | 6/16 [01:40<02:46, 16.69s/it]\u001b[A\n",
      " 44%|████▍     | 7/16 [01:56<02:30, 16.69s/it]\u001b[A\n",
      " 50%|█████     | 8/16 [02:13<02:13, 16.72s/it]\u001b[A\n",
      " 56%|█████▋    | 9/16 [02:30<01:57, 16.79s/it]\u001b[A\n",
      " 62%|██████▎   | 10/16 [02:46<01:40, 16.71s/it]\u001b[A\n",
      " 69%|██████▉   | 11/16 [03:03<01:23, 16.74s/it]\u001b[A\n",
      " 75%|███████▌  | 12/16 [03:20<01:07, 16.77s/it]\u001b[A\n",
      " 81%|████████▏ | 13/16 [03:37<00:50, 16.71s/it]\u001b[A\n",
      " 88%|████████▊ | 14/16 [03:54<00:33, 16.75s/it]\u001b[A\n",
      " 94%|█████████▍| 15/16 [04:10<00:16, 16.77s/it]\u001b[A\n",
      "100%|██████████| 16/16 [04:27<00:00, 16.73s/it]\u001b[A\n",
      " 25%|██▌       | 2/8 [12:51<36:28, 364.83s/it]\n",
      "  0%|          | 0/16 [00:00<?, ?it/s]\u001b[A\n",
      "  6%|▋         | 1/16 [00:11<02:57, 11.84s/it]\u001b[A\n",
      " 12%|█▎        | 2/16 [00:23<02:47, 11.94s/it]\u001b[A\n",
      " 19%|█▉        | 3/16 [00:35<02:35, 11.97s/it]\u001b[A\n",
      " 25%|██▌       | 4/16 [00:47<02:24, 12.04s/it]\u001b[A\n",
      " 31%|███▏      | 5/16 [01:00<02:12, 12.05s/it]\u001b[A\n",
      " 38%|███▊      | 6/16 [01:12<02:00, 12.06s/it]\u001b[A\n",
      " 44%|████▍     | 7/16 [01:24<01:48, 12.05s/it]\u001b[A\n",
      " 50%|█████     | 8/16 [01:36<01:36, 12.06s/it]\u001b[A\n",
      " 56%|█████▋    | 9/16 [01:48<01:24, 12.07s/it]\u001b[A\n",
      " 62%|██████▎   | 10/16 [02:00<01:11, 11.97s/it]\u001b[A\n",
      " 69%|██████▉   | 11/16 [02:12<01:00, 12.00s/it]\u001b[A\n",
      " 75%|███████▌  | 12/16 [02:24<00:48, 12.03s/it]\u001b[A\n",
      " 81%|████████▏ | 13/16 [02:36<00:36, 12.05s/it]\u001b[A\n",
      " 88%|████████▊ | 14/16 [02:50<00:25, 12.59s/it]\u001b[A\n",
      " 94%|█████████▍| 15/16 [03:03<00:12, 12.71s/it]\u001b[A\n",
      "100%|██████████| 16/16 [03:15<00:00, 12.22s/it]\u001b[A\n",
      " 38%|███▊      | 3/8 [16:06<23:57, 287.52s/it]\n",
      "  0%|          | 0/16 [00:00<?, ?it/s]\u001b[A\n",
      "  6%|▋         | 1/16 [00:11<02:45, 11.05s/it]\u001b[A\n",
      " 12%|█▎        | 2/16 [00:21<02:31, 10.84s/it]\u001b[A\n",
      " 19%|█▉        | 3/16 [00:31<02:14, 10.31s/it]\u001b[A\n",
      " 25%|██▌       | 4/16 [00:41<02:01, 10.14s/it]\u001b[A\n",
      " 31%|███▏      | 5/16 [00:51<01:51, 10.14s/it]\u001b[A\n",
      " 38%|███▊      | 6/16 [01:01<01:40, 10.01s/it]\u001b[A\n",
      " 44%|████▍     | 7/16 [01:11<01:29,  9.94s/it]\u001b[A\n",
      " 50%|█████     | 8/16 [01:20<01:19,  9.93s/it]\u001b[A\n",
      " 56%|█████▋    | 9/16 [01:30<01:09,  9.89s/it]\u001b[A\n",
      " 62%|██████▎   | 10/16 [01:40<00:59,  9.90s/it]\u001b[A\n",
      " 69%|██████▉   | 11/16 [01:50<00:49,  9.90s/it]\u001b[A\n",
      " 75%|███████▌  | 12/16 [02:01<00:40, 10.11s/it]\u001b[A\n",
      " 81%|████████▏ | 13/16 [02:10<00:30, 10.03s/it]\u001b[A\n",
      " 88%|████████▊ | 14/16 [02:20<00:19,  9.98s/it]\u001b[A\n",
      " 94%|█████████▍| 15/16 [02:30<00:09,  9.98s/it]\u001b[A\n",
      "100%|██████████| 16/16 [02:40<00:00, 10.04s/it]\u001b[A\n",
      " 50%|█████     | 4/8 [18:47<15:49, 237.45s/it]\n",
      "  0%|          | 0/16 [00:00<?, ?it/s]\u001b[A\n",
      "  6%|▋         | 1/16 [00:09<02:29,  9.95s/it]\u001b[A\n",
      " 12%|█▎        | 2/16 [00:20<02:21, 10.07s/it]\u001b[A\n",
      " 19%|█▉        | 3/16 [00:30<02:09,  9.99s/it]\u001b[A\n",
      " 25%|██▌       | 4/16 [00:39<01:58,  9.88s/it]\u001b[A\n",
      " 31%|███▏      | 5/16 [00:49<01:48,  9.89s/it]\u001b[A\n",
      " 38%|███▊      | 6/16 [00:59<01:39,  9.90s/it]\u001b[A\n",
      " 44%|████▍     | 7/16 [01:09<01:28,  9.87s/it]\u001b[A\n",
      " 50%|█████     | 8/16 [01:19<01:20, 10.03s/it]\u001b[A\n",
      " 56%|█████▋    | 9/16 [01:29<01:10, 10.01s/it]\u001b[A\n",
      " 62%|██████▎   | 10/16 [01:39<00:59,  9.97s/it]\u001b[A\n",
      " 69%|██████▉   | 11/16 [01:49<00:49,  9.96s/it]\u001b[A\n",
      " 75%|███████▌  | 12/16 [01:59<00:39,  9.94s/it]\u001b[A\n",
      " 81%|████████▏ | 13/16 [02:09<00:29,  9.86s/it]\u001b[A\n",
      " 88%|████████▊ | 14/16 [02:19<00:19,  9.93s/it]\u001b[A\n",
      " 94%|█████████▍| 15/16 [02:29<00:09,  9.92s/it]\u001b[A\n",
      "100%|██████████| 16/16 [02:38<00:00,  9.93s/it]\u001b[A\n",
      " 62%|██████▎   | 5/8 [21:26<10:27, 209.13s/it]\n",
      "  0%|          | 0/16 [00:00<?, ?it/s]\u001b[A\n",
      "  6%|▋         | 1/16 [00:09<02:27,  9.81s/it]\u001b[A\n",
      " 12%|█▎        | 2/16 [00:19<02:16,  9.77s/it]\u001b[A\n",
      " 19%|█▉        | 3/16 [00:29<02:07,  9.77s/it]\u001b[A\n",
      " 25%|██▌       | 4/16 [00:39<01:57,  9.82s/it]\u001b[A\n",
      " 31%|███▏      | 5/16 [00:49<01:49,  9.96s/it]\u001b[A\n",
      " 38%|███▊      | 6/16 [00:59<01:38,  9.86s/it]\u001b[A\n",
      " 44%|████▍     | 7/16 [01:08<01:28,  9.82s/it]\u001b[A\n",
      " 50%|█████     | 8/16 [01:18<01:18,  9.79s/it]\u001b[A\n",
      " 56%|█████▋    | 9/16 [01:28<01:08,  9.75s/it]\u001b[A\n",
      " 62%|██████▎   | 10/16 [01:38<00:58,  9.80s/it]\u001b[A\n",
      " 69%|██████▉   | 11/16 [01:48<00:49,  9.89s/it]\u001b[A\n",
      " 75%|███████▌  | 12/16 [01:58<00:39,  9.87s/it]\u001b[A\n",
      " 81%|████████▏ | 13/16 [02:07<00:29,  9.87s/it]\u001b[A\n",
      " 88%|████████▊ | 14/16 [02:17<00:19,  9.85s/it]\u001b[A\n",
      " 94%|█████████▍| 15/16 [02:27<00:09,  9.87s/it]\u001b[A\n",
      "100%|██████████| 16/16 [02:37<00:00,  9.86s/it]\u001b[A\n",
      " 75%|███████▌  | 6/8 [24:04<06:23, 191.65s/it]\n",
      "  0%|          | 0/16 [00:00<?, ?it/s]\u001b[A\n",
      "  6%|▋         | 1/16 [00:10<02:30, 10.04s/it]\u001b[A\n",
      " 12%|█▎        | 2/16 [00:19<02:16,  9.78s/it]\u001b[A\n",
      " 19%|█▉        | 3/16 [00:29<02:06,  9.69s/it]\u001b[A\n",
      " 25%|██▌       | 4/16 [00:38<01:56,  9.68s/it]\u001b[A\n",
      " 31%|███▏      | 5/16 [00:48<01:45,  9.59s/it]\u001b[A\n",
      " 38%|███▊      | 6/16 [00:58<01:36,  9.63s/it]\u001b[A\n",
      " 44%|████▍     | 7/16 [01:07<01:26,  9.64s/it]\u001b[A\n",
      " 50%|█████     | 8/16 [01:17<01:17,  9.67s/it]\u001b[A\n",
      " 56%|█████▋    | 9/16 [01:27<01:07,  9.66s/it]\u001b[A\n",
      " 62%|██████▎   | 10/16 [01:36<00:57,  9.63s/it]\u001b[A\n",
      " 69%|██████▉   | 11/16 [01:46<00:48,  9.62s/it]\u001b[A\n",
      " 75%|███████▌  | 12/16 [01:55<00:38,  9.65s/it]\u001b[A\n",
      " 81%|████████▏ | 13/16 [02:06<00:29,  9.92s/it]\u001b[A\n",
      " 88%|████████▊ | 14/16 [02:16<00:19,  9.91s/it]\u001b[A\n",
      " 94%|█████████▍| 15/16 [02:26<00:09,  9.85s/it]\u001b[A\n",
      "100%|██████████| 16/16 [02:36<00:00,  9.77s/it]\u001b[A\n",
      " 88%|████████▊ | 7/8 [26:40<03:00, 180.09s/it]\n",
      "  0%|          | 0/16 [00:00<?, ?it/s]\u001b[A\n",
      "  6%|▋         | 1/16 [00:10<02:33, 10.25s/it]\u001b[A\n",
      " 12%|█▎        | 2/16 [00:20<02:20, 10.02s/it]\u001b[A\n",
      " 19%|█▉        | 3/16 [00:29<02:09,  9.93s/it]\u001b[A\n",
      " 25%|██▌       | 4/16 [00:40<02:00, 10.01s/it]\u001b[A\n",
      " 31%|███▏      | 5/16 [00:49<01:49,  9.94s/it]\u001b[A\n",
      " 38%|███▊      | 6/16 [00:59<01:38,  9.88s/it]\u001b[A\n",
      " 44%|████▍     | 7/16 [01:09<01:28,  9.88s/it]\u001b[A\n",
      " 50%|█████     | 8/16 [01:19<01:18,  9.87s/it]\u001b[A\n",
      " 56%|█████▋    | 9/16 [01:29<01:09,  9.93s/it]\u001b[A\n",
      " 62%|██████▎   | 10/16 [01:39<00:59,  9.89s/it]\u001b[A\n",
      " 69%|██████▉   | 11/16 [01:49<00:49,  9.90s/it]\u001b[A\n",
      " 75%|███████▌  | 12/16 [01:58<00:39,  9.88s/it]\u001b[A\n",
      " 81%|████████▏ | 13/16 [02:08<00:29,  9.81s/it]\u001b[A\n",
      " 88%|████████▊ | 14/16 [02:18<00:19,  9.81s/it]\u001b[A\n",
      " 94%|█████████▍| 15/16 [02:28<00:09,  9.82s/it]\u001b[A\n",
      "100%|██████████| 16/16 [02:38<00:00,  9.88s/it]\u001b[A\n",
      "100%|██████████| 8/8 [29:18<00:00, 219.82s/it]\n"
     ]
    }
   ],
   "source": [
    "process=[1,2,3,4,5,6,7,8]\n",
    "chunk=[1,2,3,4,5,6,7,8,9,10,15,20,25,30,40,50]\n",
    "bench={\"process\":[],\"time\":[],\"chunk\":[]}\n",
    "for p in tqdm(process):\n",
    "    for c in tqdm(chunk):\n",
    "        bench['time'].append(run(p,10))\n",
    "        bench['chunk'].append(c)\n",
    "        bench['process'].append(p)\n"
   ]
  },
  {
   "cell_type": "code",
   "execution_count": 121,
   "metadata": {
    "ExecuteTime": {
     "end_time": "2021-01-09T20:43:36.444123Z",
     "start_time": "2021-01-09T20:43:36.434200Z"
    },
    "hidden": true
   },
   "outputs": [
    {
     "data": {
      "text/html": [
       "<div>\n",
       "<style scoped>\n",
       "    .dataframe tbody tr th:only-of-type {\n",
       "        vertical-align: middle;\n",
       "    }\n",
       "\n",
       "    .dataframe tbody tr th {\n",
       "        vertical-align: top;\n",
       "    }\n",
       "\n",
       "    .dataframe thead th {\n",
       "        text-align: right;\n",
       "    }\n",
       "</style>\n",
       "<table border=\"1\" class=\"dataframe\">\n",
       "  <thead>\n",
       "    <tr style=\"text-align: right;\">\n",
       "      <th></th>\n",
       "      <th>process</th>\n",
       "      <th>time</th>\n",
       "      <th>chunk</th>\n",
       "    </tr>\n",
       "  </thead>\n",
       "  <tbody>\n",
       "    <tr>\n",
       "      <th>0</th>\n",
       "      <td>1</td>\n",
       "      <td>31.751602</td>\n",
       "      <td>1</td>\n",
       "    </tr>\n",
       "    <tr>\n",
       "      <th>1</th>\n",
       "      <td>1</td>\n",
       "      <td>30.877679</td>\n",
       "      <td>2</td>\n",
       "    </tr>\n",
       "    <tr>\n",
       "      <th>2</th>\n",
       "      <td>1</td>\n",
       "      <td>31.441329</td>\n",
       "      <td>3</td>\n",
       "    </tr>\n",
       "    <tr>\n",
       "      <th>3</th>\n",
       "      <td>1</td>\n",
       "      <td>31.275091</td>\n",
       "      <td>4</td>\n",
       "    </tr>\n",
       "    <tr>\n",
       "      <th>4</th>\n",
       "      <td>1</td>\n",
       "      <td>31.566275</td>\n",
       "      <td>5</td>\n",
       "    </tr>\n",
       "    <tr>\n",
       "      <th>...</th>\n",
       "      <td>...</td>\n",
       "      <td>...</td>\n",
       "      <td>...</td>\n",
       "    </tr>\n",
       "    <tr>\n",
       "      <th>123</th>\n",
       "      <td>8</td>\n",
       "      <td>9.815095</td>\n",
       "      <td>20</td>\n",
       "    </tr>\n",
       "    <tr>\n",
       "      <th>124</th>\n",
       "      <td>8</td>\n",
       "      <td>9.609577</td>\n",
       "      <td>25</td>\n",
       "    </tr>\n",
       "    <tr>\n",
       "      <th>125</th>\n",
       "      <td>8</td>\n",
       "      <td>9.777012</td>\n",
       "      <td>30</td>\n",
       "    </tr>\n",
       "    <tr>\n",
       "      <th>126</th>\n",
       "      <td>8</td>\n",
       "      <td>9.788765</td>\n",
       "      <td>40</td>\n",
       "    </tr>\n",
       "    <tr>\n",
       "      <th>127</th>\n",
       "      <td>8</td>\n",
       "      <td>9.767220</td>\n",
       "      <td>50</td>\n",
       "    </tr>\n",
       "  </tbody>\n",
       "</table>\n",
       "<p>128 rows × 3 columns</p>\n",
       "</div>"
      ],
      "text/plain": [
       "     process       time  chunk\n",
       "0          1  31.751602      1\n",
       "1          1  30.877679      2\n",
       "2          1  31.441329      3\n",
       "3          1  31.275091      4\n",
       "4          1  31.566275      5\n",
       "..       ...        ...    ...\n",
       "123        8   9.815095     20\n",
       "124        8   9.609577     25\n",
       "125        8   9.777012     30\n",
       "126        8   9.788765     40\n",
       "127        8   9.767220     50\n",
       "\n",
       "[128 rows x 3 columns]"
      ]
     },
     "execution_count": 121,
     "metadata": {},
     "output_type": "execute_result"
    }
   ],
   "source": [
    "toto=pd.DataFrame(bench)\n",
    "toto"
   ]
  },
  {
   "cell_type": "code",
   "execution_count": 122,
   "metadata": {
    "ExecuteTime": {
     "end_time": "2021-01-09T20:44:25.595274Z",
     "start_time": "2021-01-09T20:44:25.584135Z"
    },
    "hidden": true
   },
   "outputs": [
    {
     "data": {
      "text/html": [
       "<div>\n",
       "<style scoped>\n",
       "    .dataframe tbody tr th:only-of-type {\n",
       "        vertical-align: middle;\n",
       "    }\n",
       "\n",
       "    .dataframe tbody tr th {\n",
       "        vertical-align: top;\n",
       "    }\n",
       "\n",
       "    .dataframe thead th {\n",
       "        text-align: right;\n",
       "    }\n",
       "</style>\n",
       "<table border=\"1\" class=\"dataframe\">\n",
       "  <thead>\n",
       "    <tr style=\"text-align: right;\">\n",
       "      <th></th>\n",
       "      <th>process</th>\n",
       "      <th>time</th>\n",
       "      <th>chunk</th>\n",
       "      <th>ratio</th>\n",
       "    </tr>\n",
       "  </thead>\n",
       "  <tbody>\n",
       "    <tr>\n",
       "      <th>0</th>\n",
       "      <td>1</td>\n",
       "      <td>31.751602</td>\n",
       "      <td>1</td>\n",
       "      <td>1.000</td>\n",
       "    </tr>\n",
       "    <tr>\n",
       "      <th>1</th>\n",
       "      <td>1</td>\n",
       "      <td>30.877679</td>\n",
       "      <td>2</td>\n",
       "      <td>2.000</td>\n",
       "    </tr>\n",
       "    <tr>\n",
       "      <th>2</th>\n",
       "      <td>1</td>\n",
       "      <td>31.441329</td>\n",
       "      <td>3</td>\n",
       "      <td>3.000</td>\n",
       "    </tr>\n",
       "    <tr>\n",
       "      <th>3</th>\n",
       "      <td>1</td>\n",
       "      <td>31.275091</td>\n",
       "      <td>4</td>\n",
       "      <td>4.000</td>\n",
       "    </tr>\n",
       "    <tr>\n",
       "      <th>4</th>\n",
       "      <td>1</td>\n",
       "      <td>31.566275</td>\n",
       "      <td>5</td>\n",
       "      <td>5.000</td>\n",
       "    </tr>\n",
       "    <tr>\n",
       "      <th>...</th>\n",
       "      <td>...</td>\n",
       "      <td>...</td>\n",
       "      <td>...</td>\n",
       "      <td>...</td>\n",
       "    </tr>\n",
       "    <tr>\n",
       "      <th>123</th>\n",
       "      <td>8</td>\n",
       "      <td>9.815095</td>\n",
       "      <td>20</td>\n",
       "      <td>2.500</td>\n",
       "    </tr>\n",
       "    <tr>\n",
       "      <th>124</th>\n",
       "      <td>8</td>\n",
       "      <td>9.609577</td>\n",
       "      <td>25</td>\n",
       "      <td>3.125</td>\n",
       "    </tr>\n",
       "    <tr>\n",
       "      <th>125</th>\n",
       "      <td>8</td>\n",
       "      <td>9.777012</td>\n",
       "      <td>30</td>\n",
       "      <td>3.750</td>\n",
       "    </tr>\n",
       "    <tr>\n",
       "      <th>126</th>\n",
       "      <td>8</td>\n",
       "      <td>9.788765</td>\n",
       "      <td>40</td>\n",
       "      <td>5.000</td>\n",
       "    </tr>\n",
       "    <tr>\n",
       "      <th>127</th>\n",
       "      <td>8</td>\n",
       "      <td>9.767220</td>\n",
       "      <td>50</td>\n",
       "      <td>6.250</td>\n",
       "    </tr>\n",
       "  </tbody>\n",
       "</table>\n",
       "<p>128 rows × 4 columns</p>\n",
       "</div>"
      ],
      "text/plain": [
       "     process       time  chunk  ratio\n",
       "0          1  31.751602      1  1.000\n",
       "1          1  30.877679      2  2.000\n",
       "2          1  31.441329      3  3.000\n",
       "3          1  31.275091      4  4.000\n",
       "4          1  31.566275      5  5.000\n",
       "..       ...        ...    ...    ...\n",
       "123        8   9.815095     20  2.500\n",
       "124        8   9.609577     25  3.125\n",
       "125        8   9.777012     30  3.750\n",
       "126        8   9.788765     40  5.000\n",
       "127        8   9.767220     50  6.250\n",
       "\n",
       "[128 rows x 4 columns]"
      ]
     },
     "execution_count": 122,
     "metadata": {},
     "output_type": "execute_result"
    }
   ],
   "source": [
    "toto['ratio']=toto.chunk /toto.process\n",
    "toto"
   ]
  },
  {
   "cell_type": "code",
   "execution_count": 174,
   "metadata": {
    "ExecuteTime": {
     "end_time": "2021-01-09T21:12:05.087095Z",
     "start_time": "2021-01-09T21:12:04.839201Z"
    },
    "hidden": true
   },
   "outputs": [
    {
     "name": "stderr",
     "output_type": "stream",
     "text": [
      "/home/prembamrung/anaconda3/envs/defi_ia/lib/python3.7/site-packages/seaborn/_decorators.py:43: FutureWarning: Pass the following variables as keyword args: x, y. From version 0.12, the only valid positional argument will be `data`, and passing other arguments without an explicit keyword will result in an error or misinterpretation.\n",
      "  FutureWarning\n"
     ]
    },
    {
     "data": {
      "image/png": "[encoded data removed]",
      "text/plain": [
       "<Figure size 1224x720 with 1 Axes>"
      ]
     },
     "metadata": {
      "needs_background": "light"
     },
     "output_type": "display_data"
    }
   ],
   "source": [
    "PROCESS=1\n",
    "carotte=toto[toto[\"process\"]==PROCESS]\n",
    "sns.lineplot(carotte.ratio,carotte.time)\n",
    "plt.title(f\"Runtime over ratio chunck/process for {PROCESS} process\")\n",
    "plt.show()"
   ]
  },
  {
   "cell_type": "code",
   "execution_count": 169,
   "metadata": {
    "ExecuteTime": {
     "end_time": "2021-01-09T21:09:47.745752Z",
     "start_time": "2021-01-09T21:09:47.595139Z"
    },
    "hidden": true
   },
   "outputs": [
    {
     "name": "stderr",
     "output_type": "stream",
     "text": [
      "/home/prembamrung/anaconda3/envs/defi_ia/lib/python3.7/site-packages/seaborn/_decorators.py:43: FutureWarning: Pass the following variables as keyword args: x, y. From version 0.12, the only valid positional argument will be `data`, and passing other arguments without an explicit keyword will result in an error or misinterpretation.\n",
      "  FutureWarning\n"
     ]
    },
    {
     "data": {
      "text/plain": [
       "Text(0.5, 1.0, 'Runtime over # process for a chunk/process CHUNK of 4')"
      ]
     },
     "execution_count": 169,
     "metadata": {},
     "output_type": "execute_result"
    },
    {
     "data": {
      "image/png": "[encoded data removed]",
      "text/plain": [
       "<Figure size 1224x720 with 1 Axes>"
      ]
     },
     "metadata": {
      "needs_background": "light"
     },
     "output_type": "display_data"
    }
   ],
   "source": [
    "CHUNK=4\n",
    "carotte=toto[toto[\"chunk\"]==CHUNK]\n",
    "sns.lineplot(carotte.process,carotte.time)\n",
    "plt.title(f\"Runtime over # process for a chunk/process CHUNK of {CHUNK}\")"
   ]
  },
  {
   "cell_type": "code",
   "execution_count": 171,
   "metadata": {
    "ExecuteTime": {
     "end_time": "2021-01-09T21:11:07.978061Z",
     "start_time": "2021-01-09T21:11:07.748182Z"
    },
    "hidden": true
   },
   "outputs": [
    {
     "name": "stderr",
     "output_type": "stream",
     "text": [
      "/home/prembamrung/anaconda3/envs/defi_ia/lib/python3.7/site-packages/seaborn/_decorators.py:43: FutureWarning: Pass the following variables as keyword args: x, y. From version 0.12, the only valid positional argument will be `data`, and passing other arguments without an explicit keyword will result in an error or misinterpretation.\n",
      "  FutureWarning\n"
     ]
    },
    {
     "data": {
      "text/plain": [
       "<AxesSubplot:xlabel='process', ylabel='time'>"
      ]
     },
     "execution_count": 171,
     "metadata": {},
     "output_type": "execute_result"
    },
    {
     "data": {
      "image/png": "[encoded data removed]",
      "text/plain": [
       "<Figure size 1224x720 with 1 Axes>"
      ]
     },
     "metadata": {
      "needs_background": "light"
     },
     "output_type": "display_data"
    }
   ],
   "source": [
    "sns.scatterplot(toto.process,toto.time,hue=toto.ratio)"
   ]
  },
  {
   "cell_type": "code",
   "execution_count": 182,
   "metadata": {
    "ExecuteTime": {
     "end_time": "2021-01-09T21:21:26.510650Z",
     "start_time": "2021-01-09T21:21:26.498894Z"
    },
    "hidden": true
   },
   "outputs": [
    {
     "data": {
      "text/html": [
       "<div>\n",
       "<style scoped>\n",
       "    .dataframe tbody tr th:only-of-type {\n",
       "        vertical-align: middle;\n",
       "    }\n",
       "\n",
       "    .dataframe tbody tr th {\n",
       "        vertical-align: top;\n",
       "    }\n",
       "\n",
       "    .dataframe thead th {\n",
       "        text-align: right;\n",
       "    }\n",
       "</style>\n",
       "<table border=\"1\" class=\"dataframe\">\n",
       "  <thead>\n",
       "    <tr style=\"text-align: right;\">\n",
       "      <th></th>\n",
       "      <th>process</th>\n",
       "      <th>time</th>\n",
       "      <th>chunk</th>\n",
       "      <th>ratio</th>\n",
       "    </tr>\n",
       "  </thead>\n",
       "  <tbody>\n",
       "    <tr>\n",
       "      <th>0</th>\n",
       "      <td>1</td>\n",
       "      <td>31.751602</td>\n",
       "      <td>1</td>\n",
       "      <td>1.0</td>\n",
       "    </tr>\n",
       "    <tr>\n",
       "      <th>1</th>\n",
       "      <td>1</td>\n",
       "      <td>30.877679</td>\n",
       "      <td>2</td>\n",
       "      <td>2.0</td>\n",
       "    </tr>\n",
       "    <tr>\n",
       "      <th>2</th>\n",
       "      <td>1</td>\n",
       "      <td>31.441329</td>\n",
       "      <td>3</td>\n",
       "      <td>3.0</td>\n",
       "    </tr>\n",
       "    <tr>\n",
       "      <th>3</th>\n",
       "      <td>1</td>\n",
       "      <td>31.275091</td>\n",
       "      <td>4</td>\n",
       "      <td>4.0</td>\n",
       "    </tr>\n",
       "    <tr>\n",
       "      <th>4</th>\n",
       "      <td>1</td>\n",
       "      <td>31.566275</td>\n",
       "      <td>5</td>\n",
       "      <td>5.0</td>\n",
       "    </tr>\n",
       "    <tr>\n",
       "      <th>5</th>\n",
       "      <td>1</td>\n",
       "      <td>31.226629</td>\n",
       "      <td>6</td>\n",
       "      <td>6.0</td>\n",
       "    </tr>\n",
       "    <tr>\n",
       "      <th>6</th>\n",
       "      <td>1</td>\n",
       "      <td>31.044598</td>\n",
       "      <td>7</td>\n",
       "      <td>7.0</td>\n",
       "    </tr>\n",
       "    <tr>\n",
       "      <th>7</th>\n",
       "      <td>1</td>\n",
       "      <td>31.431085</td>\n",
       "      <td>8</td>\n",
       "      <td>8.0</td>\n",
       "    </tr>\n",
       "    <tr>\n",
       "      <th>8</th>\n",
       "      <td>1</td>\n",
       "      <td>31.523079</td>\n",
       "      <td>9</td>\n",
       "      <td>9.0</td>\n",
       "    </tr>\n",
       "    <tr>\n",
       "      <th>9</th>\n",
       "      <td>1</td>\n",
       "      <td>31.003305</td>\n",
       "      <td>10</td>\n",
       "      <td>10.0</td>\n",
       "    </tr>\n",
       "    <tr>\n",
       "      <th>10</th>\n",
       "      <td>1</td>\n",
       "      <td>31.474457</td>\n",
       "      <td>15</td>\n",
       "      <td>15.0</td>\n",
       "    </tr>\n",
       "    <tr>\n",
       "      <th>11</th>\n",
       "      <td>1</td>\n",
       "      <td>31.451029</td>\n",
       "      <td>20</td>\n",
       "      <td>20.0</td>\n",
       "    </tr>\n",
       "    <tr>\n",
       "      <th>12</th>\n",
       "      <td>1</td>\n",
       "      <td>31.911502</td>\n",
       "      <td>25</td>\n",
       "      <td>25.0</td>\n",
       "    </tr>\n",
       "    <tr>\n",
       "      <th>13</th>\n",
       "      <td>1</td>\n",
       "      <td>31.831136</td>\n",
       "      <td>30</td>\n",
       "      <td>30.0</td>\n",
       "    </tr>\n",
       "    <tr>\n",
       "      <th>14</th>\n",
       "      <td>1</td>\n",
       "      <td>31.722436</td>\n",
       "      <td>40</td>\n",
       "      <td>40.0</td>\n",
       "    </tr>\n",
       "    <tr>\n",
       "      <th>15</th>\n",
       "      <td>1</td>\n",
       "      <td>31.516245</td>\n",
       "      <td>50</td>\n",
       "      <td>50.0</td>\n",
       "    </tr>\n",
       "  </tbody>\n",
       "</table>\n",
       "</div>"
      ],
      "text/plain": [
       "    process       time  chunk  ratio\n",
       "0         1  31.751602      1    1.0\n",
       "1         1  30.877679      2    2.0\n",
       "2         1  31.441329      3    3.0\n",
       "3         1  31.275091      4    4.0\n",
       "4         1  31.566275      5    5.0\n",
       "5         1  31.226629      6    6.0\n",
       "6         1  31.044598      7    7.0\n",
       "7         1  31.431085      8    8.0\n",
       "8         1  31.523079      9    9.0\n",
       "9         1  31.003305     10   10.0\n",
       "10        1  31.474457     15   15.0\n",
       "11        1  31.451029     20   20.0\n",
       "12        1  31.911502     25   25.0\n",
       "13        1  31.831136     30   30.0\n",
       "14        1  31.722436     40   40.0\n",
       "15        1  31.516245     50   50.0"
      ]
     },
     "execution_count": 182,
     "metadata": {},
     "output_type": "execute_result"
    }
   ],
   "source": [
    "toto[toto.process==1]"
   ]
  },
  {
   "cell_type": "code",
   "execution_count": 193,
   "metadata": {
    "ExecuteTime": {
     "end_time": "2021-01-09T21:25:54.027538Z",
     "start_time": "2021-01-09T21:25:54.006428Z"
    },
    "hidden": true
   },
   "outputs": [
    {
     "name": "stdout",
     "output_type": "stream",
     "text": [
      "1 Process best time at 30.878 for [2] chunk and [2.] ratio\n",
      "2 Process best time at 16.398 for [4] chunk and [2.] ratio\n",
      "3 Process best time at 11.714 for [10] chunk and [3.33333333] ratio\n",
      "4 Process best time at 9.638 for [3] chunk and [0.75] ratio\n",
      "5 Process best time at 9.625 for [25] chunk and [5.] ratio\n",
      "6 Process best time at 9.637 for [9] chunk and [1.5] ratio\n",
      "7 Process best time at 9.379 for [5] chunk and [0.71428571] ratio\n",
      "8 Process best time at 9.61 for [25] chunk and [3.125] ratio\n"
     ]
    }
   ],
   "source": [
    "for p in toto.process.unique():\n",
    "    kiwi=toto[toto.process==p]\n",
    "    t=kiwi.time.min()\n",
    "    chunk=kiwi[\"chunk\"][kiwi.time==t]\n",
    "    print(f\"{p} Process best time at {round(t,3)} for {kiwi['chunk'][kiwi.time==t].values} chunk and {kiwi['ratio'][kiwi.time==t].values} ratio\")"
   ]
  },
  {
   "cell_type": "code",
   "execution_count": 189,
   "metadata": {
    "ExecuteTime": {
     "end_time": "2021-01-09T21:23:48.386998Z",
     "start_time": "2021-01-09T21:23:48.383095Z"
    },
    "hidden": true
   },
   "outputs": [
    {
     "data": {
      "text/plain": [
       "124    25\n",
       "Name: chunk, dtype: int64"
      ]
     },
     "execution_count": 189,
     "metadata": {},
     "output_type": "execute_result"
    }
   ],
   "source": [
    "kiwi['chunk'][kiwi.time==t]"
   ]
  },
  {
   "cell_type": "code",
   "execution_count": 175,
   "metadata": {
    "ExecuteTime": {
     "end_time": "2021-01-09T21:13:28.598449Z",
     "start_time": "2021-01-09T21:13:28.584211Z"
    },
    "hidden": true
   },
   "outputs": [
    {
     "data": {
      "text/html": [
       "<div>\n",
       "<style scoped>\n",
       "    .dataframe tbody tr th:only-of-type {\n",
       "        vertical-align: middle;\n",
       "    }\n",
       "\n",
       "    .dataframe tbody tr th {\n",
       "        vertical-align: top;\n",
       "    }\n",
       "\n",
       "    .dataframe thead th {\n",
       "        text-align: right;\n",
       "    }\n",
       "</style>\n",
       "<table border=\"1\" class=\"dataframe\">\n",
       "  <thead>\n",
       "    <tr style=\"text-align: right;\">\n",
       "      <th></th>\n",
       "      <th>process</th>\n",
       "      <th>time</th>\n",
       "      <th>chunk</th>\n",
       "      <th>ratio</th>\n",
       "    </tr>\n",
       "  </thead>\n",
       "  <tbody>\n",
       "    <tr>\n",
       "      <th>0</th>\n",
       "      <td>1</td>\n",
       "      <td>31.751602</td>\n",
       "      <td>1</td>\n",
       "      <td>1.000</td>\n",
       "    </tr>\n",
       "    <tr>\n",
       "      <th>1</th>\n",
       "      <td>1</td>\n",
       "      <td>30.877679</td>\n",
       "      <td>2</td>\n",
       "      <td>2.000</td>\n",
       "    </tr>\n",
       "    <tr>\n",
       "      <th>2</th>\n",
       "      <td>1</td>\n",
       "      <td>31.441329</td>\n",
       "      <td>3</td>\n",
       "      <td>3.000</td>\n",
       "    </tr>\n",
       "    <tr>\n",
       "      <th>3</th>\n",
       "      <td>1</td>\n",
       "      <td>31.275091</td>\n",
       "      <td>4</td>\n",
       "      <td>4.000</td>\n",
       "    </tr>\n",
       "    <tr>\n",
       "      <th>4</th>\n",
       "      <td>1</td>\n",
       "      <td>31.566275</td>\n",
       "      <td>5</td>\n",
       "      <td>5.000</td>\n",
       "    </tr>\n",
       "    <tr>\n",
       "      <th>...</th>\n",
       "      <td>...</td>\n",
       "      <td>...</td>\n",
       "      <td>...</td>\n",
       "      <td>...</td>\n",
       "    </tr>\n",
       "    <tr>\n",
       "      <th>123</th>\n",
       "      <td>8</td>\n",
       "      <td>9.815095</td>\n",
       "      <td>20</td>\n",
       "      <td>2.500</td>\n",
       "    </tr>\n",
       "    <tr>\n",
       "      <th>124</th>\n",
       "      <td>8</td>\n",
       "      <td>9.609577</td>\n",
       "      <td>25</td>\n",
       "      <td>3.125</td>\n",
       "    </tr>\n",
       "    <tr>\n",
       "      <th>125</th>\n",
       "      <td>8</td>\n",
       "      <td>9.777012</td>\n",
       "      <td>30</td>\n",
       "      <td>3.750</td>\n",
       "    </tr>\n",
       "    <tr>\n",
       "      <th>126</th>\n",
       "      <td>8</td>\n",
       "      <td>9.788765</td>\n",
       "      <td>40</td>\n",
       "      <td>5.000</td>\n",
       "    </tr>\n",
       "    <tr>\n",
       "      <th>127</th>\n",
       "      <td>8</td>\n",
       "      <td>9.767220</td>\n",
       "      <td>50</td>\n",
       "      <td>6.250</td>\n",
       "    </tr>\n",
       "  </tbody>\n",
       "</table>\n",
       "<p>128 rows × 4 columns</p>\n",
       "</div>"
      ],
      "text/plain": [
       "     process       time  chunk  ratio\n",
       "0          1  31.751602      1  1.000\n",
       "1          1  30.877679      2  2.000\n",
       "2          1  31.441329      3  3.000\n",
       "3          1  31.275091      4  4.000\n",
       "4          1  31.566275      5  5.000\n",
       "..       ...        ...    ...    ...\n",
       "123        8   9.815095     20  2.500\n",
       "124        8   9.609577     25  3.125\n",
       "125        8   9.777012     30  3.750\n",
       "126        8   9.788765     40  5.000\n",
       "127        8   9.767220     50  6.250\n",
       "\n",
       "[128 rows x 4 columns]"
      ]
     },
     "execution_count": 175,
     "metadata": {},
     "output_type": "execute_result"
    }
   ],
   "source": [
    "toto.to_csv(\"bench.csv\",index=False)\n",
    "pd.read_csv(\"bench.csv\")"
   ]
  },
  {
   "cell_type": "markdown",
   "metadata": {},
   "source": [
    "# Language"
   ]
  },
  {
   "cell_type": "code",
   "execution_count": 10,
   "metadata": {
    "ExecuteTime": {
     "end_time": "2021-01-10T15:01:38.902248Z",
     "start_time": "2021-01-10T15:01:38.566984Z"
    }
   },
   "outputs": [
    {
     "data": {
      "text/plain": [
       "'en'"
      ]
     },
     "execution_count": 10,
     "metadata": {},
     "output_type": "execute_result"
    }
   ],
   "source": [
    "from textblob import TextBlob\n",
    "from langdetect import detect \n",
    "\n",
    "def detect_lang(text):\n",
    "#     lang=TextBlob(text)\n",
    "#     lang=lang.detect_language()\n",
    "    lang=detect(text)\n",
    "    return lang \n",
    "\n",
    "detect_lang(\"Hello there\")"
   ]
  },
  {
   "cell_type": "code",
   "execution_count": 11,
   "metadata": {
    "ExecuteTime": {
     "end_time": "2021-01-10T15:05:17.430953Z",
     "start_time": "2021-01-10T15:01:41.898556Z"
    }
   },
   "outputs": [
    {
     "name": "stderr",
     "output_type": "stream",
     "text": [
      "100%|██████████| 217197/217197 [03:34<00:00, 1011.87it/s]\n"
     ]
    },
    {
     "data": {
      "text/html": [
       "<div>\n",
       "<style scoped>\n",
       "    .dataframe tbody tr th:only-of-type {\n",
       "        vertical-align: middle;\n",
       "    }\n",
       "\n",
       "    .dataframe tbody tr th {\n",
       "        vertical-align: top;\n",
       "    }\n",
       "\n",
       "    .dataframe thead th {\n",
       "        text-align: right;\n",
       "    }\n",
       "</style>\n",
       "<table border=\"1\" class=\"dataframe\">\n",
       "  <thead>\n",
       "    <tr style=\"text-align: right;\">\n",
       "      <th></th>\n",
       "      <th>description</th>\n",
       "      <th>gender</th>\n",
       "      <th>category</th>\n",
       "      <th>job</th>\n",
       "      <th>cleaned</th>\n",
       "      <th>lang</th>\n",
       "    </tr>\n",
       "    <tr>\n",
       "      <th>Id</th>\n",
       "      <th></th>\n",
       "      <th></th>\n",
       "      <th></th>\n",
       "      <th></th>\n",
       "      <th></th>\n",
       "      <th></th>\n",
       "    </tr>\n",
       "  </thead>\n",
       "  <tbody>\n",
       "    <tr>\n",
       "      <th>0</th>\n",
       "      <td>She is also a Ronald D. Asmus Policy Entrepre...</td>\n",
       "      <td>F</td>\n",
       "      <td>19</td>\n",
       "      <td>professor</td>\n",
       "      <td>She is also a Ronald D. Asmus Policy Entrepren...</td>\n",
       "      <td>en</td>\n",
       "    </tr>\n",
       "    <tr>\n",
       "      <th>1</th>\n",
       "      <td>He is a member of the AICPA and WICPA. Brent ...</td>\n",
       "      <td>M</td>\n",
       "      <td>9</td>\n",
       "      <td>accountant</td>\n",
       "      <td>He is a member of the AICPA and WICPA. Brent g...</td>\n",
       "      <td>en</td>\n",
       "    </tr>\n",
       "    <tr>\n",
       "      <th>2</th>\n",
       "      <td>Dr. Aster has held teaching and research posi...</td>\n",
       "      <td>M</td>\n",
       "      <td>19</td>\n",
       "      <td>professor</td>\n",
       "      <td>Dr. Aster has held teaching and research posit...</td>\n",
       "      <td>en</td>\n",
       "    </tr>\n",
       "    <tr>\n",
       "      <th>3</th>\n",
       "      <td>He runs a boutique design studio attending cl...</td>\n",
       "      <td>M</td>\n",
       "      <td>24</td>\n",
       "      <td>architect</td>\n",
       "      <td>He runs a boutique design studio attending cli...</td>\n",
       "      <td>en</td>\n",
       "    </tr>\n",
       "    <tr>\n",
       "      <th>4</th>\n",
       "      <td>He focuses on cloud security, identity and ac...</td>\n",
       "      <td>M</td>\n",
       "      <td>24</td>\n",
       "      <td>architect</td>\n",
       "      <td>He focuses on cloud security, identity and acc...</td>\n",
       "      <td>en</td>\n",
       "    </tr>\n",
       "    <tr>\n",
       "      <th>...</th>\n",
       "      <td>...</td>\n",
       "      <td>...</td>\n",
       "      <td>...</td>\n",
       "      <td>...</td>\n",
       "      <td>...</td>\n",
       "      <td>...</td>\n",
       "    </tr>\n",
       "    <tr>\n",
       "      <th>217192</th>\n",
       "      <td>A member of the UWA Cultural Collections Boar...</td>\n",
       "      <td>M</td>\n",
       "      <td>19</td>\n",
       "      <td>professor</td>\n",
       "      <td>A member of the UWA Cultural Collections Board...</td>\n",
       "      <td>en</td>\n",
       "    </tr>\n",
       "    <tr>\n",
       "      <th>217193</th>\n",
       "      <td>Kelly has worked globally leading teams of co...</td>\n",
       "      <td>F</td>\n",
       "      <td>22</td>\n",
       "      <td>psychologist</td>\n",
       "      <td>Kelly has worked globally leading teams of con...</td>\n",
       "      <td>en</td>\n",
       "    </tr>\n",
       "    <tr>\n",
       "      <th>217194</th>\n",
       "      <td>He's the lead author of a recent study that f...</td>\n",
       "      <td>M</td>\n",
       "      <td>19</td>\n",
       "      <td>professor</td>\n",
       "      <td>He's the lead author of a recent study that fo...</td>\n",
       "      <td>en</td>\n",
       "    </tr>\n",
       "    <tr>\n",
       "      <th>217195</th>\n",
       "      <td>She specializes in the theoretical and pedago...</td>\n",
       "      <td>F</td>\n",
       "      <td>19</td>\n",
       "      <td>professor</td>\n",
       "      <td>She specializes in the theoretical and pedagog...</td>\n",
       "      <td>en</td>\n",
       "    </tr>\n",
       "    <tr>\n",
       "      <th>217196</th>\n",
       "      <td>Since she was 10 years old she has become a m...</td>\n",
       "      <td>F</td>\n",
       "      <td>1</td>\n",
       "      <td>model</td>\n",
       "      <td>Since she was years old she has become a model...</td>\n",
       "      <td>en</td>\n",
       "    </tr>\n",
       "  </tbody>\n",
       "</table>\n",
       "<p>217197 rows × 6 columns</p>\n",
       "</div>"
      ],
      "text/plain": [
       "                                              description gender  category  \\\n",
       "Id                                                                           \n",
       "0        She is also a Ronald D. Asmus Policy Entrepre...      F        19   \n",
       "1        He is a member of the AICPA and WICPA. Brent ...      M         9   \n",
       "2        Dr. Aster has held teaching and research posi...      M        19   \n",
       "3        He runs a boutique design studio attending cl...      M        24   \n",
       "4        He focuses on cloud security, identity and ac...      M        24   \n",
       "...                                                   ...    ...       ...   \n",
       "217192   A member of the UWA Cultural Collections Boar...      M        19   \n",
       "217193   Kelly has worked globally leading teams of co...      F        22   \n",
       "217194   He's the lead author of a recent study that f...      M        19   \n",
       "217195   She specializes in the theoretical and pedago...      F        19   \n",
       "217196   Since she was 10 years old she has become a m...      F         1   \n",
       "\n",
       "                 job                                            cleaned lang  \n",
       "Id                                                                            \n",
       "0          professor  She is also a Ronald D. Asmus Policy Entrepren...   en  \n",
       "1         accountant  He is a member of the AICPA and WICPA. Brent g...   en  \n",
       "2          professor  Dr. Aster has held teaching and research posit...   en  \n",
       "3          architect  He runs a boutique design studio attending cli...   en  \n",
       "4          architect  He focuses on cloud security, identity and acc...   en  \n",
       "...              ...                                                ...  ...  \n",
       "217192     professor  A member of the UWA Cultural Collections Board...   en  \n",
       "217193  psychologist  Kelly has worked globally leading teams of con...   en  \n",
       "217194     professor  He's the lead author of a recent study that fo...   en  \n",
       "217195     professor  She specializes in the theoretical and pedagog...   en  \n",
       "217196         model  Since she was years old she has become a model...   en  \n",
       "\n",
       "[217197 rows x 6 columns]"
      ]
     },
     "execution_count": 11,
     "metadata": {},
     "output_type": "execute_result"
    }
   ],
   "source": [
    "with concurrent.futures.ProcessPoolExecutor(num_processes) as pool:\n",
    "    train['lang'] = list(tqdm(pool.map(detect_lang, train.cleaned, chunksize=num_processes*2), total=train.shape[0]))\n",
    "train"
   ]
  },
  {
   "cell_type": "code",
   "execution_count": 26,
   "metadata": {
    "ExecuteTime": {
     "end_time": "2021-01-07T18:09:59.155309Z",
     "start_time": "2021-01-07T18:09:59.134909Z"
    }
   },
   "outputs": [
    {
     "data": {
      "text/plain": [
       "Id\n",
       "105       He aspires to be a musician who cares to be un...\n",
       "146       He covers Asian politics, defence and security...\n",
       "267       He informs martial arts to his two children. H...\n",
       "709       Before writing this novel, she was on a kayak ...\n",
       "1552      She has worked as a script supervisor in many ...\n",
       "                                ...                        \n",
       "204456    He holds a PhD from University of Pittsburgh. ...\n",
       "212346    After having been editorinchief of the journal...\n",
       "214892    He is a member of Institut de Recherche en dro...\n",
       "214897    He has published El discurso de la calle: Los ...\n",
       "216282    He currently works as a physician at the Insti...\n",
       "Name: cleaned, Length: 95, dtype: object"
      ]
     },
     "execution_count": 26,
     "metadata": {},
     "output_type": "execute_result"
    }
   ],
   "source": [
    "train.cleaned[train.lang!=\"en\"]"
   ]
  },
  {
   "cell_type": "code",
   "execution_count": 28,
   "metadata": {
    "ExecuteTime": {
     "end_time": "2021-01-07T18:10:43.355008Z",
     "start_time": "2021-01-07T18:10:43.351924Z"
    }
   },
   "outputs": [
    {
     "data": {
      "text/plain": [
       "'He covers Asian politics, defence and security, and was AsiaPacific Editor at Jane’s Defence Weekly until He can be followed on Twitter email Trefor Moss là một nhà báo độc lập, làm việc tại Hồng Kông. Ông viết về các đề tài chính trị, quốc phòng và an ninh châu Á, và từng là Biên tập viên về khu vực châu Á Thái Bình Dương tại Tuần báo Quốc phòng Jane cho đến năm LiLiên hệ theo địa chỉ Twitter email'"
      ]
     },
     "execution_count": 28,
     "metadata": {},
     "output_type": "execute_result"
    }
   ],
   "source": [
    "train.cleaned[146]\n"
   ]
  },
  {
   "cell_type": "code",
   "execution_count": 12,
   "metadata": {
    "ExecuteTime": {
     "end_time": "2021-01-10T15:05:17.559668Z",
     "start_time": "2021-01-10T15:05:17.529217Z"
    }
   },
   "outputs": [
    {
     "data": {
      "text/plain": [
       "en    217106\n",
       "fr        29\n",
       "es        23\n",
       "it         9\n",
       "de         7\n",
       "id         4\n",
       "nl         4\n",
       "tl         4\n",
       "ru         3\n",
       "pt         1\n",
       "ro         1\n",
       "vi         1\n",
       "bg         1\n",
       "ca         1\n",
       "da         1\n",
       "hu         1\n",
       "af         1\n",
       "Name: lang, dtype: int64"
      ]
     },
     "execution_count": 12,
     "metadata": {},
     "output_type": "execute_result"
    }
   ],
   "source": [
    "train.lang.value_counts()"
   ]
  },
  {
   "cell_type": "code",
   "execution_count": 13,
   "metadata": {
    "ExecuteTime": {
     "end_time": "2021-01-10T15:06:11.000223Z",
     "start_time": "2021-01-10T15:05:17.593416Z"
    }
   },
   "outputs": [
    {
     "name": "stderr",
     "output_type": "stream",
     "text": [
      "100%|██████████| 54300/54300 [00:52<00:00, 1028.92it/s]\n"
     ]
    },
    {
     "data": {
      "text/html": [
       "<div>\n",
       "<style scoped>\n",
       "    .dataframe tbody tr th:only-of-type {\n",
       "        vertical-align: middle;\n",
       "    }\n",
       "\n",
       "    .dataframe tbody tr th {\n",
       "        vertical-align: top;\n",
       "    }\n",
       "\n",
       "    .dataframe thead th {\n",
       "        text-align: right;\n",
       "    }\n",
       "</style>\n",
       "<table border=\"1\" class=\"dataframe\">\n",
       "  <thead>\n",
       "    <tr style=\"text-align: right;\">\n",
       "      <th></th>\n",
       "      <th>description</th>\n",
       "      <th>gender</th>\n",
       "      <th>cleaned</th>\n",
       "      <th>lang</th>\n",
       "    </tr>\n",
       "    <tr>\n",
       "      <th>Id</th>\n",
       "      <th></th>\n",
       "      <th></th>\n",
       "      <th></th>\n",
       "      <th></th>\n",
       "    </tr>\n",
       "  </thead>\n",
       "  <tbody>\n",
       "    <tr>\n",
       "      <th>0</th>\n",
       "      <td>She currently works on CNN’s newest primetime...</td>\n",
       "      <td>F</td>\n",
       "      <td>She currently works on CNN’s newest primetime ...</td>\n",
       "      <td>en</td>\n",
       "    </tr>\n",
       "    <tr>\n",
       "      <th>1</th>\n",
       "      <td>Lavalette’s photographs have been shown widel...</td>\n",
       "      <td>M</td>\n",
       "      <td>Lavalette’s photographs have been shown widely...</td>\n",
       "      <td>en</td>\n",
       "    </tr>\n",
       "    <tr>\n",
       "      <th>2</th>\n",
       "      <td>Along with his academic and professional deve...</td>\n",
       "      <td>M</td>\n",
       "      <td>Along with his academic and professional devel...</td>\n",
       "      <td>en</td>\n",
       "    </tr>\n",
       "    <tr>\n",
       "      <th>3</th>\n",
       "      <td>She obtained her Ph.D. in Islamic Studies at ...</td>\n",
       "      <td>F</td>\n",
       "      <td>She obtained her Ph.D. in Islamic Studies at D...</td>\n",
       "      <td>en</td>\n",
       "    </tr>\n",
       "    <tr>\n",
       "      <th>4</th>\n",
       "      <td>She studies issues of women and Islam and has...</td>\n",
       "      <td>F</td>\n",
       "      <td>She studies issues of women and Islam and has ...</td>\n",
       "      <td>en</td>\n",
       "    </tr>\n",
       "    <tr>\n",
       "      <th>...</th>\n",
       "      <td>...</td>\n",
       "      <td>...</td>\n",
       "      <td>...</td>\n",
       "      <td>...</td>\n",
       "    </tr>\n",
       "    <tr>\n",
       "      <th>54295</th>\n",
       "      <td>Prior to that, she worked as a Research Staff...</td>\n",
       "      <td>F</td>\n",
       "      <td>Prior to that, she worked as a Research Staff ...</td>\n",
       "      <td>en</td>\n",
       "    </tr>\n",
       "    <tr>\n",
       "      <th>54296</th>\n",
       "      <td>The group’s antics began when they switched t...</td>\n",
       "      <td>M</td>\n",
       "      <td>The group’s antics began when they switched th...</td>\n",
       "      <td>en</td>\n",
       "    </tr>\n",
       "    <tr>\n",
       "      <th>54297</th>\n",
       "      <td>Formerly, she was the Coordinator for Music E...</td>\n",
       "      <td>F</td>\n",
       "      <td>Formerly, she was the Coordinator for Music Ed...</td>\n",
       "      <td>en</td>\n",
       "    </tr>\n",
       "    <tr>\n",
       "      <th>54298</th>\n",
       "      <td>She started her law practice at Morris Mannin...</td>\n",
       "      <td>F</td>\n",
       "      <td>She started her law practice at Morris Manning...</td>\n",
       "      <td>en</td>\n",
       "    </tr>\n",
       "    <tr>\n",
       "      <th>54299</th>\n",
       "      <td>Since 1995, he works as a programme maker and...</td>\n",
       "      <td>M</td>\n",
       "      <td>Since he works as a programme maker and artist...</td>\n",
       "      <td>en</td>\n",
       "    </tr>\n",
       "  </tbody>\n",
       "</table>\n",
       "<p>54300 rows × 4 columns</p>\n",
       "</div>"
      ],
      "text/plain": [
       "                                             description gender  \\\n",
       "Id                                                                \n",
       "0       She currently works on CNN’s newest primetime...      F   \n",
       "1       Lavalette’s photographs have been shown widel...      M   \n",
       "2       Along with his academic and professional deve...      M   \n",
       "3       She obtained her Ph.D. in Islamic Studies at ...      F   \n",
       "4       She studies issues of women and Islam and has...      F   \n",
       "...                                                  ...    ...   \n",
       "54295   Prior to that, she worked as a Research Staff...      F   \n",
       "54296   The group’s antics began when they switched t...      M   \n",
       "54297   Formerly, she was the Coordinator for Music E...      F   \n",
       "54298   She started her law practice at Morris Mannin...      F   \n",
       "54299   Since 1995, he works as a programme maker and...      M   \n",
       "\n",
       "                                                 cleaned lang  \n",
       "Id                                                             \n",
       "0      She currently works on CNN’s newest primetime ...   en  \n",
       "1      Lavalette’s photographs have been shown widely...   en  \n",
       "2      Along with his academic and professional devel...   en  \n",
       "3      She obtained her Ph.D. in Islamic Studies at D...   en  \n",
       "4      She studies issues of women and Islam and has ...   en  \n",
       "...                                                  ...  ...  \n",
       "54295  Prior to that, she worked as a Research Staff ...   en  \n",
       "54296  The group’s antics began when they switched th...   en  \n",
       "54297  Formerly, she was the Coordinator for Music Ed...   en  \n",
       "54298  She started her law practice at Morris Manning...   en  \n",
       "54299  Since he works as a programme maker and artist...   en  \n",
       "\n",
       "[54300 rows x 4 columns]"
      ]
     },
     "execution_count": 13,
     "metadata": {},
     "output_type": "execute_result"
    }
   ],
   "source": [
    "with concurrent.futures.ProcessPoolExecutor(num_processes) as pool:\n",
    "    test['lang'] = list(tqdm(pool.map(detect_lang, test.cleaned, chunksize=num_processes*2), total=test.shape[0]))\n",
    "test"
   ]
  },
  {
   "cell_type": "code",
   "execution_count": 14,
   "metadata": {
    "ExecuteTime": {
     "end_time": "2021-01-10T15:06:11.047255Z",
     "start_time": "2021-01-10T15:06:11.039629Z"
    }
   },
   "outputs": [
    {
     "data": {
      "text/plain": [
       "en    54278\n",
       "fr        7\n",
       "es        5\n",
       "it        4\n",
       "nl        1\n",
       "pt        1\n",
       "id        1\n",
       "ru        1\n",
       "de        1\n",
       "tl        1\n",
       "Name: lang, dtype: int64"
      ]
     },
     "execution_count": 14,
     "metadata": {},
     "output_type": "execute_result"
    }
   ],
   "source": [
    "test.lang.value_counts()"
   ]
  },
  {
   "cell_type": "markdown",
   "metadata": {},
   "source": [
    "# Levenshtein distance"
   ]
  },
  {
   "cell_type": "code",
   "execution_count": 16,
   "metadata": {
    "ExecuteTime": {
     "end_time": "2021-01-10T15:10:05.615186Z",
     "start_time": "2021-01-10T15:10:05.270064Z"
    }
   },
   "outputs": [
    {
     "data": {
      "text/plain": [
       "3.0"
      ]
     },
     "execution_count": 16,
     "metadata": {},
     "output_type": "execute_result"
    }
   ],
   "source": [
    "from numba import jit \n",
    "\n",
    "@jit()\n",
    "def levenshtein(seq1, seq2):\n",
    "    size_x = len(seq1) + 1\n",
    "    size_y = len(seq2) + 1\n",
    "    matrix = np.zeros ((size_x, size_y))\n",
    "    for x in range(size_x):\n",
    "        matrix [x, 0] = x\n",
    "    for y in range(size_y):\n",
    "        matrix [0, y] = y\n",
    "\n",
    "    for x in range(1, size_x):\n",
    "        for y in range(1, size_y):\n",
    "            if seq1[x-1] == seq2[y-1]:\n",
    "                matrix [x,y] = min(\n",
    "                    matrix[x-1, y] + 1,\n",
    "                    matrix[x-1, y-1],\n",
    "                    matrix[x, y-1] + 1\n",
    "                )\n",
    "            else:\n",
    "                matrix [x,y] = min(\n",
    "                    matrix[x-1,y] + 1,\n",
    "                    matrix[x-1,y-1] + 1,\n",
    "                    matrix[x,y-1] + 1\n",
    "                )\n",
    "    return (matrix[size_x - 1, size_y - 1])\n",
    "n=12\n",
    "levenshtein(test.cleaned[n],test.description[n])"
   ]
  },
  {
   "cell_type": "code",
   "execution_count": 18,
   "metadata": {
    "ExecuteTime": {
     "end_time": "2021-01-10T15:29:37.368056Z",
     "start_time": "2021-01-10T15:10:23.411321Z"
    }
   },
   "outputs": [
    {
     "name": "stderr",
     "output_type": "stream",
     "text": [
      "100%|██████████| 217197/217197 [19:11<00:00, 188.60it/s]\n"
     ]
    },
    {
     "data": {
      "text/html": [
       "<div>\n",
       "<style scoped>\n",
       "    .dataframe tbody tr th:only-of-type {\n",
       "        vertical-align: middle;\n",
       "    }\n",
       "\n",
       "    .dataframe tbody tr th {\n",
       "        vertical-align: top;\n",
       "    }\n",
       "\n",
       "    .dataframe thead th {\n",
       "        text-align: right;\n",
       "    }\n",
       "</style>\n",
       "<table border=\"1\" class=\"dataframe\">\n",
       "  <thead>\n",
       "    <tr style=\"text-align: right;\">\n",
       "      <th></th>\n",
       "      <th>description</th>\n",
       "      <th>gender</th>\n",
       "      <th>category</th>\n",
       "      <th>job</th>\n",
       "      <th>cleaned</th>\n",
       "      <th>lang</th>\n",
       "      <th>distance</th>\n",
       "    </tr>\n",
       "    <tr>\n",
       "      <th>Id</th>\n",
       "      <th></th>\n",
       "      <th></th>\n",
       "      <th></th>\n",
       "      <th></th>\n",
       "      <th></th>\n",
       "      <th></th>\n",
       "      <th></th>\n",
       "    </tr>\n",
       "  </thead>\n",
       "  <tbody>\n",
       "    <tr>\n",
       "      <th>0</th>\n",
       "      <td>She is also a Ronald D. Asmus Policy Entrepre...</td>\n",
       "      <td>F</td>\n",
       "      <td>19</td>\n",
       "      <td>professor</td>\n",
       "      <td>She is also a Ronald D. Asmus Policy Entrepren...</td>\n",
       "      <td>en</td>\n",
       "      <td>7.0</td>\n",
       "    </tr>\n",
       "    <tr>\n",
       "      <th>1</th>\n",
       "      <td>He is a member of the AICPA and WICPA. Brent ...</td>\n",
       "      <td>M</td>\n",
       "      <td>9</td>\n",
       "      <td>accountant</td>\n",
       "      <td>He is a member of the AICPA and WICPA. Brent g...</td>\n",
       "      <td>en</td>\n",
       "      <td>1.0</td>\n",
       "    </tr>\n",
       "    <tr>\n",
       "      <th>2</th>\n",
       "      <td>Dr. Aster has held teaching and research posi...</td>\n",
       "      <td>M</td>\n",
       "      <td>19</td>\n",
       "      <td>professor</td>\n",
       "      <td>Dr. Aster has held teaching and research posit...</td>\n",
       "      <td>en</td>\n",
       "      <td>1.0</td>\n",
       "    </tr>\n",
       "    <tr>\n",
       "      <th>3</th>\n",
       "      <td>He runs a boutique design studio attending cl...</td>\n",
       "      <td>M</td>\n",
       "      <td>24</td>\n",
       "      <td>architect</td>\n",
       "      <td>He runs a boutique design studio attending cli...</td>\n",
       "      <td>en</td>\n",
       "      <td>3.0</td>\n",
       "    </tr>\n",
       "    <tr>\n",
       "      <th>4</th>\n",
       "      <td>He focuses on cloud security, identity and ac...</td>\n",
       "      <td>M</td>\n",
       "      <td>24</td>\n",
       "      <td>architect</td>\n",
       "      <td>He focuses on cloud security, identity and acc...</td>\n",
       "      <td>en</td>\n",
       "      <td>1.0</td>\n",
       "    </tr>\n",
       "    <tr>\n",
       "      <th>...</th>\n",
       "      <td>...</td>\n",
       "      <td>...</td>\n",
       "      <td>...</td>\n",
       "      <td>...</td>\n",
       "      <td>...</td>\n",
       "      <td>...</td>\n",
       "      <td>...</td>\n",
       "    </tr>\n",
       "    <tr>\n",
       "      <th>217192</th>\n",
       "      <td>A member of the UWA Cultural Collections Boar...</td>\n",
       "      <td>M</td>\n",
       "      <td>19</td>\n",
       "      <td>professor</td>\n",
       "      <td>A member of the UWA Cultural Collections Board...</td>\n",
       "      <td>en</td>\n",
       "      <td>3.0</td>\n",
       "    </tr>\n",
       "    <tr>\n",
       "      <th>217193</th>\n",
       "      <td>Kelly has worked globally leading teams of co...</td>\n",
       "      <td>F</td>\n",
       "      <td>22</td>\n",
       "      <td>psychologist</td>\n",
       "      <td>Kelly has worked globally leading teams of con...</td>\n",
       "      <td>en</td>\n",
       "      <td>4.0</td>\n",
       "    </tr>\n",
       "    <tr>\n",
       "      <th>217194</th>\n",
       "      <td>He's the lead author of a recent study that f...</td>\n",
       "      <td>M</td>\n",
       "      <td>19</td>\n",
       "      <td>professor</td>\n",
       "      <td>He's the lead author of a recent study that fo...</td>\n",
       "      <td>en</td>\n",
       "      <td>1.0</td>\n",
       "    </tr>\n",
       "    <tr>\n",
       "      <th>217195</th>\n",
       "      <td>She specializes in the theoretical and pedago...</td>\n",
       "      <td>F</td>\n",
       "      <td>19</td>\n",
       "      <td>professor</td>\n",
       "      <td>She specializes in the theoretical and pedagog...</td>\n",
       "      <td>en</td>\n",
       "      <td>2.0</td>\n",
       "    </tr>\n",
       "    <tr>\n",
       "      <th>217196</th>\n",
       "      <td>Since she was 10 years old she has become a m...</td>\n",
       "      <td>F</td>\n",
       "      <td>1</td>\n",
       "      <td>model</td>\n",
       "      <td>Since she was years old she has become a model...</td>\n",
       "      <td>en</td>\n",
       "      <td>17.0</td>\n",
       "    </tr>\n",
       "  </tbody>\n",
       "</table>\n",
       "<p>217197 rows × 7 columns</p>\n",
       "</div>"
      ],
      "text/plain": [
       "                                              description gender  category  \\\n",
       "Id                                                                           \n",
       "0        She is also a Ronald D. Asmus Policy Entrepre...      F        19   \n",
       "1        He is a member of the AICPA and WICPA. Brent ...      M         9   \n",
       "2        Dr. Aster has held teaching and research posi...      M        19   \n",
       "3        He runs a boutique design studio attending cl...      M        24   \n",
       "4        He focuses on cloud security, identity and ac...      M        24   \n",
       "...                                                   ...    ...       ...   \n",
       "217192   A member of the UWA Cultural Collections Boar...      M        19   \n",
       "217193   Kelly has worked globally leading teams of co...      F        22   \n",
       "217194   He's the lead author of a recent study that f...      M        19   \n",
       "217195   She specializes in the theoretical and pedago...      F        19   \n",
       "217196   Since she was 10 years old she has become a m...      F         1   \n",
       "\n",
       "                 job                                            cleaned lang  \\\n",
       "Id                                                                             \n",
       "0          professor  She is also a Ronald D. Asmus Policy Entrepren...   en   \n",
       "1         accountant  He is a member of the AICPA and WICPA. Brent g...   en   \n",
       "2          professor  Dr. Aster has held teaching and research posit...   en   \n",
       "3          architect  He runs a boutique design studio attending cli...   en   \n",
       "4          architect  He focuses on cloud security, identity and acc...   en   \n",
       "...              ...                                                ...  ...   \n",
       "217192     professor  A member of the UWA Cultural Collections Board...   en   \n",
       "217193  psychologist  Kelly has worked globally leading teams of con...   en   \n",
       "217194     professor  He's the lead author of a recent study that fo...   en   \n",
       "217195     professor  She specializes in the theoretical and pedagog...   en   \n",
       "217196         model  Since she was years old she has become a model...   en   \n",
       "\n",
       "        distance  \n",
       "Id                \n",
       "0            7.0  \n",
       "1            1.0  \n",
       "2            1.0  \n",
       "3            3.0  \n",
       "4            1.0  \n",
       "...          ...  \n",
       "217192       3.0  \n",
       "217193       4.0  \n",
       "217194       1.0  \n",
       "217195       2.0  \n",
       "217196      17.0  \n",
       "\n",
       "[217197 rows x 7 columns]"
      ]
     },
     "execution_count": 18,
     "metadata": {},
     "output_type": "execute_result"
    }
   ],
   "source": [
    "with concurrent.futures.ProcessPoolExecutor(num_processes) as pool:\n",
    "    train['distance'] = list(tqdm(pool.map(levenshtein, train.cleaned,train.description, chunksize=num_processes*2), total=len(train.cleaned)))\n",
    "train"
   ]
  },
  {
   "cell_type": "code",
   "execution_count": 19,
   "metadata": {
    "ExecuteTime": {
     "end_time": "2021-01-10T15:41:30.707610Z",
     "start_time": "2021-01-10T15:41:30.691473Z"
    }
   },
   "outputs": [
    {
     "data": {
      "text/plain": [
       "count    217197.000000\n",
       "mean         14.682468\n",
       "std          22.949859\n",
       "min           1.000000\n",
       "25%           1.000000\n",
       "50%           7.000000\n",
       "75%          20.000000\n",
       "max         757.000000\n",
       "Name: distance, dtype: float64"
      ]
     },
     "execution_count": 19,
     "metadata": {},
     "output_type": "execute_result"
    }
   ],
   "source": [
    "train.distance.describe()"
   ]
  },
  {
   "cell_type": "code",
   "execution_count": 20,
   "metadata": {
    "ExecuteTime": {
     "end_time": "2021-01-10T15:41:32.529833Z",
     "start_time": "2021-01-10T15:41:32.469090Z"
    }
   },
   "outputs": [
    {
     "data": {
      "text/html": [
       "<div>\n",
       "<style scoped>\n",
       "    .dataframe tbody tr th:only-of-type {\n",
       "        vertical-align: middle;\n",
       "    }\n",
       "\n",
       "    .dataframe tbody tr th {\n",
       "        vertical-align: top;\n",
       "    }\n",
       "\n",
       "    .dataframe thead th {\n",
       "        text-align: right;\n",
       "    }\n",
       "</style>\n",
       "<table border=\"1\" class=\"dataframe\">\n",
       "  <thead>\n",
       "    <tr style=\"text-align: right;\">\n",
       "      <th></th>\n",
       "      <th>description</th>\n",
       "      <th>gender</th>\n",
       "      <th>category</th>\n",
       "      <th>job</th>\n",
       "      <th>cleaned</th>\n",
       "      <th>lang</th>\n",
       "      <th>distance</th>\n",
       "    </tr>\n",
       "    <tr>\n",
       "      <th>Id</th>\n",
       "      <th></th>\n",
       "      <th></th>\n",
       "      <th></th>\n",
       "      <th></th>\n",
       "      <th></th>\n",
       "      <th></th>\n",
       "      <th></th>\n",
       "    </tr>\n",
       "  </thead>\n",
       "  <tbody>\n",
       "    <tr>\n",
       "      <th>514</th>\n",
       "      <td>She recorded their dying epiphanies in a blog...</td>\n",
       "      <td>F</td>\n",
       "      <td>14</td>\n",
       "      <td>nurse</td>\n",
       "      <td>She recorded their dying epiphanies in a blog ...</td>\n",
       "      <td>en</td>\n",
       "      <td>323.0</td>\n",
       "    </tr>\n",
       "    <tr>\n",
       "      <th>908</th>\n",
       "      <td>He is director of a new pre-service program i...</td>\n",
       "      <td>M</td>\n",
       "      <td>19</td>\n",
       "      <td>professor</td>\n",
       "      <td>He is director of a new preservice program in ...</td>\n",
       "      <td>en</td>\n",
       "      <td>367.0</td>\n",
       "    </tr>\n",
       "    <tr>\n",
       "      <th>1471</th>\n",
       "      <td>He is the founder and creator of Eating Free,...</td>\n",
       "      <td>M</td>\n",
       "      <td>27</td>\n",
       "      <td>dietitian</td>\n",
       "      <td>He is the founder and creator of Eating Free, ...</td>\n",
       "      <td>en</td>\n",
       "      <td>271.0</td>\n",
       "    </tr>\n",
       "    <tr>\n",
       "      <th>1511</th>\n",
       "      <td>He publishes on crisis management, institutio...</td>\n",
       "      <td>M</td>\n",
       "      <td>19</td>\n",
       "      <td>professor</td>\n",
       "      <td>He publishes on crisis management, institution...</td>\n",
       "      <td>en</td>\n",
       "      <td>246.0</td>\n",
       "    </tr>\n",
       "    <tr>\n",
       "      <th>2547</th>\n",
       "      <td>Dr. Sunyaev has (co)-authored several interna...</td>\n",
       "      <td>M</td>\n",
       "      <td>19</td>\n",
       "      <td>professor</td>\n",
       "      <td>Dr. Sunyaev has authored several international...</td>\n",
       "      <td>en</td>\n",
       "      <td>226.0</td>\n",
       "    </tr>\n",
       "    <tr>\n",
       "      <th>...</th>\n",
       "      <td>...</td>\n",
       "      <td>...</td>\n",
       "      <td>...</td>\n",
       "      <td>...</td>\n",
       "      <td>...</td>\n",
       "      <td>...</td>\n",
       "      <td>...</td>\n",
       "    </tr>\n",
       "    <tr>\n",
       "      <th>212919</th>\n",
       "      <td>She joined the firm in 2014. Her primary area...</td>\n",
       "      <td>F</td>\n",
       "      <td>26</td>\n",
       "      <td>attorney</td>\n",
       "      <td>She joined the firm in Her primary areas of pr...</td>\n",
       "      <td>en</td>\n",
       "      <td>355.0</td>\n",
       "    </tr>\n",
       "    <tr>\n",
       "      <th>213800</th>\n",
       "      <td>Her main research topic is the study of Yeast...</td>\n",
       "      <td>F</td>\n",
       "      <td>19</td>\n",
       "      <td>professor</td>\n",
       "      <td>Her main research topic is the study of Yeast ...</td>\n",
       "      <td>en</td>\n",
       "      <td>242.0</td>\n",
       "    </tr>\n",
       "    <tr>\n",
       "      <th>215073</th>\n",
       "      <td>He completed his undergraduate (BA in Molecul...</td>\n",
       "      <td>M</td>\n",
       "      <td>19</td>\n",
       "      <td>professor</td>\n",
       "      <td>He completed his undergraduate and graduate de...</td>\n",
       "      <td>en</td>\n",
       "      <td>232.0</td>\n",
       "    </tr>\n",
       "    <tr>\n",
       "      <th>215982</th>\n",
       "      <td>Professor England was awarded the BMA Vera Do...</td>\n",
       "      <td>M</td>\n",
       "      <td>19</td>\n",
       "      <td>professor</td>\n",
       "      <td>Professor England was awarded the BMA Vera Dow...</td>\n",
       "      <td>en</td>\n",
       "      <td>202.0</td>\n",
       "    </tr>\n",
       "    <tr>\n",
       "      <th>216310</th>\n",
       "      <td>Rebecca is also a Gallup-Certified Strengths ...</td>\n",
       "      <td>F</td>\n",
       "      <td>19</td>\n",
       "      <td>professor</td>\n",
       "      <td>Rebecca is also a GallupCertified Strengths Co...</td>\n",
       "      <td>en</td>\n",
       "      <td>213.0</td>\n",
       "    </tr>\n",
       "  </tbody>\n",
       "</table>\n",
       "<p>288 rows × 7 columns</p>\n",
       "</div>"
      ],
      "text/plain": [
       "                                              description gender  category  \\\n",
       "Id                                                                           \n",
       "514      She recorded their dying epiphanies in a blog...      F        14   \n",
       "908      He is director of a new pre-service program i...      M        19   \n",
       "1471     He is the founder and creator of Eating Free,...      M        27   \n",
       "1511     He publishes on crisis management, institutio...      M        19   \n",
       "2547     Dr. Sunyaev has (co)-authored several interna...      M        19   \n",
       "...                                                   ...    ...       ...   \n",
       "212919   She joined the firm in 2014. Her primary area...      F        26   \n",
       "213800   Her main research topic is the study of Yeast...      F        19   \n",
       "215073   He completed his undergraduate (BA in Molecul...      M        19   \n",
       "215982   Professor England was awarded the BMA Vera Do...      M        19   \n",
       "216310   Rebecca is also a Gallup-Certified Strengths ...      F        19   \n",
       "\n",
       "              job                                            cleaned lang  \\\n",
       "Id                                                                          \n",
       "514         nurse  She recorded their dying epiphanies in a blog ...   en   \n",
       "908     professor  He is director of a new preservice program in ...   en   \n",
       "1471    dietitian  He is the founder and creator of Eating Free, ...   en   \n",
       "1511    professor  He publishes on crisis management, institution...   en   \n",
       "2547    professor  Dr. Sunyaev has authored several international...   en   \n",
       "...           ...                                                ...  ...   \n",
       "212919   attorney  She joined the firm in Her primary areas of pr...   en   \n",
       "213800  professor  Her main research topic is the study of Yeast ...   en   \n",
       "215073  professor  He completed his undergraduate and graduate de...   en   \n",
       "215982  professor  Professor England was awarded the BMA Vera Dow...   en   \n",
       "216310  professor  Rebecca is also a GallupCertified Strengths Co...   en   \n",
       "\n",
       "        distance  \n",
       "Id                \n",
       "514        323.0  \n",
       "908        367.0  \n",
       "1471       271.0  \n",
       "1511       246.0  \n",
       "2547       226.0  \n",
       "...          ...  \n",
       "212919     355.0  \n",
       "213800     242.0  \n",
       "215073     232.0  \n",
       "215982     202.0  \n",
       "216310     213.0  \n",
       "\n",
       "[288 rows x 7 columns]"
      ]
     },
     "execution_count": 20,
     "metadata": {},
     "output_type": "execute_result"
    }
   ],
   "source": [
    "train[train.distance>200]\n"
   ]
  },
  {
   "cell_type": "code",
   "execution_count": 22,
   "metadata": {
    "ExecuteTime": {
     "end_time": "2021-01-10T15:41:57.758402Z",
     "start_time": "2021-01-10T15:41:57.754340Z"
    }
   },
   "outputs": [
    {
     "data": {
      "text/plain": [
       "' He is director of a new pre-service program in French second language teaching, with a special focus on teaching French immersion (see www.upei.ca/education), and also in the graduate program in leadership and learning. Before joining the faculty of UPEI, Miles was an Assistant Professor in the Modern Language Centre at OISE-UT and he worked in core and immersion French programs in three Canadian Provinces. His research interests include French as a second language (core and immersion), teacher development, teacher belief systems, project-based and experiential learning, as well as educational technology. Workshops/Presentations offered: 1. Engager, motiver et responsabiliser vos élèves dans une pédagogie du projet: Mettre l’enseignement de la grammaire en perspective'"
      ]
     },
     "execution_count": 22,
     "metadata": {},
     "output_type": "execute_result"
    }
   ],
   "source": [
    "train.description[908]"
   ]
  },
  {
   "cell_type": "code",
   "execution_count": 91,
   "metadata": {
    "ExecuteTime": {
     "end_time": "2021-01-09T18:36:50.977311Z",
     "start_time": "2021-01-09T18:36:50.972206Z"
    }
   },
   "outputs": [
    {
     "data": {
      "text/plain": [
       "\"She recorded their dying epiphanies in a blog called Inspiration and Chai', blogTag:'', istop:false, recomBlogHome:false, currentRecomBlog:false, attachmentsFileIds:, vote:, groupInfo:, friendstatus:'none', followstatus:'unFollow', pubSucc:'', visitorProvince:'', visitorCity:'', visitorNewUser:false, postAddInfo:, mcon:'', remindgoodnightblog:false, isBlackVisitor:false, isShowYodaoAd:false, hostIntro:'自覺動了腦筋,終於解決得一道非常困\\\\r\\\\n\\\\r\\\\n難的數學題,那份成功感跟喜悅真的很大\\\\r\\\\n', loftersingle:' '\""
      ]
     },
     "execution_count": 91,
     "metadata": {},
     "output_type": "execute_result"
    }
   ],
   "source": [
    "train.cleaned[514]"
   ]
  },
  {
   "cell_type": "code",
   "execution_count": 92,
   "metadata": {
    "ExecuteTime": {
     "end_time": "2021-01-09T18:42:36.368866Z",
     "start_time": "2021-01-09T18:37:27.884771Z"
    }
   },
   "outputs": [
    {
     "name": "stderr",
     "output_type": "stream",
     "text": [
      "100%|██████████| 54300/54300 [05:07<00:00, 176.39it/s]\n"
     ]
    },
    {
     "data": {
      "text/html": [
       "<div>\n",
       "<style scoped>\n",
       "    .dataframe tbody tr th:only-of-type {\n",
       "        vertical-align: middle;\n",
       "    }\n",
       "\n",
       "    .dataframe tbody tr th {\n",
       "        vertical-align: top;\n",
       "    }\n",
       "\n",
       "    .dataframe thead th {\n",
       "        text-align: right;\n",
       "    }\n",
       "</style>\n",
       "<table border=\"1\" class=\"dataframe\">\n",
       "  <thead>\n",
       "    <tr style=\"text-align: right;\">\n",
       "      <th></th>\n",
       "      <th>description</th>\n",
       "      <th>gender</th>\n",
       "      <th>cleaned</th>\n",
       "      <th>distance</th>\n",
       "    </tr>\n",
       "    <tr>\n",
       "      <th>Id</th>\n",
       "      <th></th>\n",
       "      <th></th>\n",
       "      <th></th>\n",
       "      <th></th>\n",
       "    </tr>\n",
       "  </thead>\n",
       "  <tbody>\n",
       "    <tr>\n",
       "      <th>0</th>\n",
       "      <td>She currently works on CNN’s newest primetime...</td>\n",
       "      <td>F</td>\n",
       "      <td>She currently works on CNN’s newest primetime ...</td>\n",
       "      <td>3.0</td>\n",
       "    </tr>\n",
       "    <tr>\n",
       "      <th>1</th>\n",
       "      <td>Lavalette’s photographs have been shown widel...</td>\n",
       "      <td>M</td>\n",
       "      <td>Lavalette’s photographs have been shown widely...</td>\n",
       "      <td>1.0</td>\n",
       "    </tr>\n",
       "    <tr>\n",
       "      <th>2</th>\n",
       "      <td>Along with his academic and professional deve...</td>\n",
       "      <td>M</td>\n",
       "      <td>Along with his academic and professional devel...</td>\n",
       "      <td>1.0</td>\n",
       "    </tr>\n",
       "    <tr>\n",
       "      <th>3</th>\n",
       "      <td>She obtained her Ph.D. in Islamic Studies at ...</td>\n",
       "      <td>F</td>\n",
       "      <td>She obtained her Ph.D. in Islamic Studies at D...</td>\n",
       "      <td>3.0</td>\n",
       "    </tr>\n",
       "    <tr>\n",
       "      <th>4</th>\n",
       "      <td>She studies issues of women and Islam and has...</td>\n",
       "      <td>F</td>\n",
       "      <td>She studies issues of women and Islam and has ...</td>\n",
       "      <td>32.0</td>\n",
       "    </tr>\n",
       "    <tr>\n",
       "      <th>...</th>\n",
       "      <td>...</td>\n",
       "      <td>...</td>\n",
       "      <td>...</td>\n",
       "      <td>...</td>\n",
       "    </tr>\n",
       "    <tr>\n",
       "      <th>54295</th>\n",
       "      <td>Prior to that, she worked as a Research Staff...</td>\n",
       "      <td>F</td>\n",
       "      <td>Prior to that, she worked as a Research Staff ...</td>\n",
       "      <td>45.0</td>\n",
       "    </tr>\n",
       "    <tr>\n",
       "      <th>54296</th>\n",
       "      <td>The group’s antics began when they switched t...</td>\n",
       "      <td>M</td>\n",
       "      <td>The group’s antics began when they switched th...</td>\n",
       "      <td>208.0</td>\n",
       "    </tr>\n",
       "    <tr>\n",
       "      <th>54297</th>\n",
       "      <td>Formerly, she was the Coordinator for Music E...</td>\n",
       "      <td>F</td>\n",
       "      <td>Formerly, she was the Coordinator for Music Ed...</td>\n",
       "      <td>2.0</td>\n",
       "    </tr>\n",
       "    <tr>\n",
       "      <th>54298</th>\n",
       "      <td>She started her law practice at Morris Mannin...</td>\n",
       "      <td>F</td>\n",
       "      <td>She started her law practice at Morris Manning...</td>\n",
       "      <td>7.0</td>\n",
       "    </tr>\n",
       "    <tr>\n",
       "      <th>54299</th>\n",
       "      <td>Since 1995, he works as a programme maker and...</td>\n",
       "      <td>M</td>\n",
       "      <td>Since he works as a programme maker and artist...</td>\n",
       "      <td>13.0</td>\n",
       "    </tr>\n",
       "  </tbody>\n",
       "</table>\n",
       "<p>54300 rows × 4 columns</p>\n",
       "</div>"
      ],
      "text/plain": [
       "                                             description gender  \\\n",
       "Id                                                                \n",
       "0       She currently works on CNN’s newest primetime...      F   \n",
       "1       Lavalette’s photographs have been shown widel...      M   \n",
       "2       Along with his academic and professional deve...      M   \n",
       "3       She obtained her Ph.D. in Islamic Studies at ...      F   \n",
       "4       She studies issues of women and Islam and has...      F   \n",
       "...                                                  ...    ...   \n",
       "54295   Prior to that, she worked as a Research Staff...      F   \n",
       "54296   The group’s antics began when they switched t...      M   \n",
       "54297   Formerly, she was the Coordinator for Music E...      F   \n",
       "54298   She started her law practice at Morris Mannin...      F   \n",
       "54299   Since 1995, he works as a programme maker and...      M   \n",
       "\n",
       "                                                 cleaned  distance  \n",
       "Id                                                                  \n",
       "0      She currently works on CNN’s newest primetime ...       3.0  \n",
       "1      Lavalette’s photographs have been shown widely...       1.0  \n",
       "2      Along with his academic and professional devel...       1.0  \n",
       "3      She obtained her Ph.D. in Islamic Studies at D...       3.0  \n",
       "4      She studies issues of women and Islam and has ...      32.0  \n",
       "...                                                  ...       ...  \n",
       "54295  Prior to that, she worked as a Research Staff ...      45.0  \n",
       "54296  The group’s antics began when they switched th...     208.0  \n",
       "54297  Formerly, she was the Coordinator for Music Ed...       2.0  \n",
       "54298  She started her law practice at Morris Manning...       7.0  \n",
       "54299  Since he works as a programme maker and artist...      13.0  \n",
       "\n",
       "[54300 rows x 4 columns]"
      ]
     },
     "execution_count": 92,
     "metadata": {},
     "output_type": "execute_result"
    }
   ],
   "source": [
    "with concurrent.futures.ProcessPoolExecutor(num_processes) as pool:\n",
    "    test['distance'] = list(tqdm(pool.map(levenshtein, test.cleaned,test.description, chunksize=num_processes*2), total=len(test.cleaned)))\n",
    "test"
   ]
  },
  {
   "cell_type": "code",
   "execution_count": 94,
   "metadata": {
    "ExecuteTime": {
     "end_time": "2021-01-09T18:47:16.065293Z",
     "start_time": "2021-01-09T18:47:15.960798Z"
    }
   },
   "outputs": [
    {
     "name": "stderr",
     "output_type": "stream",
     "text": [
      "/home/prembamrung/anaconda3/envs/defi_ia/lib/python3.7/site-packages/seaborn/_decorators.py:43: FutureWarning: Pass the following variable as a keyword arg: x. From version 0.12, the only valid positional argument will be `data`, and passing other arguments without an explicit keyword will result in an error or misinterpretation.\n",
      "  FutureWarning\n"
     ]
    },
    {
     "data": {
      "text/plain": [
       "<AxesSubplot:xlabel='distance'>"
      ]
     },
     "execution_count": 94,
     "metadata": {},
     "output_type": "execute_result"
    },
    {
     "data": {
      "image/png": "[encoded data removed]",
      "text/plain": [
       "<Figure size 1224x720 with 1 Axes>"
      ]
     },
     "metadata": {
      "needs_background": "light"
     },
     "output_type": "display_data"
    }
   ],
   "source": [
    "import seaborn as sns\n",
    "sns.boxplot(test.distance)"
   ]
  },
  {
   "cell_type": "code",
   "execution_count": 95,
   "metadata": {
    "ExecuteTime": {
     "end_time": "2021-01-09T18:47:56.019159Z",
     "start_time": "2021-01-09T18:47:56.011264Z"
    }
   },
   "outputs": [
    {
     "data": {
      "text/plain": [
       "count    54300.000000\n",
       "mean        14.587643\n",
       "std         22.720780\n",
       "min          1.000000\n",
       "25%          1.000000\n",
       "50%          7.000000\n",
       "75%         19.000000\n",
       "max        493.000000\n",
       "Name: distance, dtype: float64"
      ]
     },
     "execution_count": 95,
     "metadata": {},
     "output_type": "execute_result"
    }
   ],
   "source": [
    "test.distance.describe()"
   ]
  },
  {
   "cell_type": "code",
   "execution_count": 96,
   "metadata": {
    "ExecuteTime": {
     "end_time": "2021-01-09T18:48:09.222305Z",
     "start_time": "2021-01-09T18:48:09.207508Z"
    }
   },
   "outputs": [
    {
     "data": {
      "text/plain": [
       "count    217197.000000\n",
       "mean         14.682468\n",
       "std          22.949859\n",
       "min           1.000000\n",
       "25%           1.000000\n",
       "50%           7.000000\n",
       "75%          20.000000\n",
       "max         757.000000\n",
       "Name: distance, dtype: float64"
      ]
     },
     "execution_count": 96,
     "metadata": {},
     "output_type": "execute_result"
    }
   ],
   "source": [
    "train.distance.describe()"
   ]
  },
  {
   "cell_type": "code",
   "execution_count": null,
   "metadata": {},
   "outputs": [],
   "source": []
  },
  {
   "cell_type": "markdown",
   "metadata": {},
   "source": [
    "# Text complexity"
   ]
  },
  {
   "cell_type": "code",
   "execution_count": 23,
   "metadata": {
    "ExecuteTime": {
     "end_time": "2021-01-10T15:42:21.937764Z",
     "start_time": "2021-01-10T15:42:21.929970Z"
    }
   },
   "outputs": [],
   "source": [
    "from textstat import flesch_reading_ease"
   ]
  },
  {
   "cell_type": "code",
   "execution_count": 24,
   "metadata": {
    "ExecuteTime": {
     "end_time": "2021-01-10T15:42:45.270345Z",
     "start_time": "2021-01-10T15:42:23.009276Z"
    }
   },
   "outputs": [
    {
     "name": "stderr",
     "output_type": "stream",
     "text": [
      "100%|██████████| 217197/217197 [00:21<00:00, 10159.57it/s]\n"
     ]
    },
    {
     "data": {
      "text/html": [
       "<div>\n",
       "<style scoped>\n",
       "    .dataframe tbody tr th:only-of-type {\n",
       "        vertical-align: middle;\n",
       "    }\n",
       "\n",
       "    .dataframe tbody tr th {\n",
       "        vertical-align: top;\n",
       "    }\n",
       "\n",
       "    .dataframe thead th {\n",
       "        text-align: right;\n",
       "    }\n",
       "</style>\n",
       "<table border=\"1\" class=\"dataframe\">\n",
       "  <thead>\n",
       "    <tr style=\"text-align: right;\">\n",
       "      <th></th>\n",
       "      <th>description</th>\n",
       "      <th>gender</th>\n",
       "      <th>category</th>\n",
       "      <th>job</th>\n",
       "      <th>cleaned</th>\n",
       "      <th>lang</th>\n",
       "      <th>distance</th>\n",
       "      <th>complexity</th>\n",
       "    </tr>\n",
       "    <tr>\n",
       "      <th>Id</th>\n",
       "      <th></th>\n",
       "      <th></th>\n",
       "      <th></th>\n",
       "      <th></th>\n",
       "      <th></th>\n",
       "      <th></th>\n",
       "      <th></th>\n",
       "      <th></th>\n",
       "    </tr>\n",
       "  </thead>\n",
       "  <tbody>\n",
       "    <tr>\n",
       "      <th>0</th>\n",
       "      <td>She is also a Ronald D. Asmus Policy Entrepre...</td>\n",
       "      <td>F</td>\n",
       "      <td>19</td>\n",
       "      <td>professor</td>\n",
       "      <td>She is also a Ronald D. Asmus Policy Entrepren...</td>\n",
       "      <td>en</td>\n",
       "      <td>7.0</td>\n",
       "      <td>38.32</td>\n",
       "    </tr>\n",
       "    <tr>\n",
       "      <th>1</th>\n",
       "      <td>He is a member of the AICPA and WICPA. Brent ...</td>\n",
       "      <td>M</td>\n",
       "      <td>9</td>\n",
       "      <td>accountant</td>\n",
       "      <td>He is a member of the AICPA and WICPA. Brent g...</td>\n",
       "      <td>en</td>\n",
       "      <td>1.0</td>\n",
       "      <td>65.42</td>\n",
       "    </tr>\n",
       "    <tr>\n",
       "      <th>2</th>\n",
       "      <td>Dr. Aster has held teaching and research posi...</td>\n",
       "      <td>M</td>\n",
       "      <td>19</td>\n",
       "      <td>professor</td>\n",
       "      <td>Dr. Aster has held teaching and research posit...</td>\n",
       "      <td>en</td>\n",
       "      <td>1.0</td>\n",
       "      <td>34.76</td>\n",
       "    </tr>\n",
       "    <tr>\n",
       "      <th>3</th>\n",
       "      <td>He runs a boutique design studio attending cl...</td>\n",
       "      <td>M</td>\n",
       "      <td>24</td>\n",
       "      <td>architect</td>\n",
       "      <td>He runs a boutique design studio attending cli...</td>\n",
       "      <td>en</td>\n",
       "      <td>3.0</td>\n",
       "      <td>33.44</td>\n",
       "    </tr>\n",
       "    <tr>\n",
       "      <th>4</th>\n",
       "      <td>He focuses on cloud security, identity and ac...</td>\n",
       "      <td>M</td>\n",
       "      <td>24</td>\n",
       "      <td>architect</td>\n",
       "      <td>He focuses on cloud security, identity and acc...</td>\n",
       "      <td>en</td>\n",
       "      <td>1.0</td>\n",
       "      <td>17.50</td>\n",
       "    </tr>\n",
       "    <tr>\n",
       "      <th>...</th>\n",
       "      <td>...</td>\n",
       "      <td>...</td>\n",
       "      <td>...</td>\n",
       "      <td>...</td>\n",
       "      <td>...</td>\n",
       "      <td>...</td>\n",
       "      <td>...</td>\n",
       "      <td>...</td>\n",
       "    </tr>\n",
       "    <tr>\n",
       "      <th>217192</th>\n",
       "      <td>A member of the UWA Cultural Collections Boar...</td>\n",
       "      <td>M</td>\n",
       "      <td>19</td>\n",
       "      <td>professor</td>\n",
       "      <td>A member of the UWA Cultural Collections Board...</td>\n",
       "      <td>en</td>\n",
       "      <td>3.0</td>\n",
       "      <td>46.10</td>\n",
       "    </tr>\n",
       "    <tr>\n",
       "      <th>217193</th>\n",
       "      <td>Kelly has worked globally leading teams of co...</td>\n",
       "      <td>F</td>\n",
       "      <td>22</td>\n",
       "      <td>psychologist</td>\n",
       "      <td>Kelly has worked globally leading teams of con...</td>\n",
       "      <td>en</td>\n",
       "      <td>4.0</td>\n",
       "      <td>38.32</td>\n",
       "    </tr>\n",
       "    <tr>\n",
       "      <th>217194</th>\n",
       "      <td>He's the lead author of a recent study that f...</td>\n",
       "      <td>M</td>\n",
       "      <td>19</td>\n",
       "      <td>professor</td>\n",
       "      <td>He's the lead author of a recent study that fo...</td>\n",
       "      <td>en</td>\n",
       "      <td>1.0</td>\n",
       "      <td>54.56</td>\n",
       "    </tr>\n",
       "    <tr>\n",
       "      <th>217195</th>\n",
       "      <td>She specializes in the theoretical and pedago...</td>\n",
       "      <td>F</td>\n",
       "      <td>19</td>\n",
       "      <td>professor</td>\n",
       "      <td>She specializes in the theoretical and pedagog...</td>\n",
       "      <td>en</td>\n",
       "      <td>2.0</td>\n",
       "      <td>18.39</td>\n",
       "    </tr>\n",
       "    <tr>\n",
       "      <th>217196</th>\n",
       "      <td>Since she was 10 years old she has become a m...</td>\n",
       "      <td>F</td>\n",
       "      <td>1</td>\n",
       "      <td>model</td>\n",
       "      <td>Since she was years old she has become a model...</td>\n",
       "      <td>en</td>\n",
       "      <td>17.0</td>\n",
       "      <td>73.68</td>\n",
       "    </tr>\n",
       "  </tbody>\n",
       "</table>\n",
       "<p>217197 rows × 8 columns</p>\n",
       "</div>"
      ],
      "text/plain": [
       "                                              description gender  category  \\\n",
       "Id                                                                           \n",
       "0        She is also a Ronald D. Asmus Policy Entrepre...      F        19   \n",
       "1        He is a member of the AICPA and WICPA. Brent ...      M         9   \n",
       "2        Dr. Aster has held teaching and research posi...      M        19   \n",
       "3        He runs a boutique design studio attending cl...      M        24   \n",
       "4        He focuses on cloud security, identity and ac...      M        24   \n",
       "...                                                   ...    ...       ...   \n",
       "217192   A member of the UWA Cultural Collections Boar...      M        19   \n",
       "217193   Kelly has worked globally leading teams of co...      F        22   \n",
       "217194   He's the lead author of a recent study that f...      M        19   \n",
       "217195   She specializes in the theoretical and pedago...      F        19   \n",
       "217196   Since she was 10 years old she has become a m...      F         1   \n",
       "\n",
       "                 job                                            cleaned lang  \\\n",
       "Id                                                                             \n",
       "0          professor  She is also a Ronald D. Asmus Policy Entrepren...   en   \n",
       "1         accountant  He is a member of the AICPA and WICPA. Brent g...   en   \n",
       "2          professor  Dr. Aster has held teaching and research posit...   en   \n",
       "3          architect  He runs a boutique design studio attending cli...   en   \n",
       "4          architect  He focuses on cloud security, identity and acc...   en   \n",
       "...              ...                                                ...  ...   \n",
       "217192     professor  A member of the UWA Cultural Collections Board...   en   \n",
       "217193  psychologist  Kelly has worked globally leading teams of con...   en   \n",
       "217194     professor  He's the lead author of a recent study that fo...   en   \n",
       "217195     professor  She specializes in the theoretical and pedagog...   en   \n",
       "217196         model  Since she was years old she has become a model...   en   \n",
       "\n",
       "        distance  complexity  \n",
       "Id                            \n",
       "0            7.0       38.32  \n",
       "1            1.0       65.42  \n",
       "2            1.0       34.76  \n",
       "3            3.0       33.44  \n",
       "4            1.0       17.50  \n",
       "...          ...         ...  \n",
       "217192       3.0       46.10  \n",
       "217193       4.0       38.32  \n",
       "217194       1.0       54.56  \n",
       "217195       2.0       18.39  \n",
       "217196      17.0       73.68  \n",
       "\n",
       "[217197 rows x 8 columns]"
      ]
     },
     "execution_count": 24,
     "metadata": {},
     "output_type": "execute_result"
    }
   ],
   "source": [
    "with concurrent.futures.ProcessPoolExecutor(num_processes) as pool:\n",
    "    train[\"complexity\"] = list(tqdm(pool.map(flesch_reading_ease, train.cleaned, chunksize=num_processes*2), total=train.shape[0]))\n",
    "train"
   ]
  },
  {
   "cell_type": "code",
   "execution_count": 25,
   "metadata": {
    "ExecuteTime": {
     "end_time": "2021-01-10T15:44:59.634017Z",
     "start_time": "2021-01-10T15:44:59.621286Z"
    }
   },
   "outputs": [
    {
     "data": {
      "text/plain": [
       "count    217197.000000\n",
       "mean         38.650868\n",
       "std          21.219742\n",
       "min        -125.470000\n",
       "25%          24.780000\n",
       "50%          38.820000\n",
       "75%          53.210000\n",
       "max         110.060000\n",
       "Name: complexity, dtype: float64"
      ]
     },
     "execution_count": 25,
     "metadata": {},
     "output_type": "execute_result"
    }
   ],
   "source": [
    "train.complexity.describe()"
   ]
  },
  {
   "cell_type": "code",
   "execution_count": 26,
   "metadata": {
    "ExecuteTime": {
     "end_time": "2021-01-10T15:45:01.413714Z",
     "start_time": "2021-01-10T15:45:01.105103Z"
    }
   },
   "outputs": [
    {
     "name": "stdout",
     "output_type": "stream",
     "text": [
      "7677  sample with complexity under 0\n",
      "1351  sample with complexity under -20\n",
      "119  sample with complexity under -50\n",
      "10  sample with complexity under -80\n"
     ]
    },
    {
     "data": {
      "text/plain": [
       "<AxesSubplot:>"
      ]
     },
     "execution_count": 26,
     "metadata": {},
     "output_type": "execute_result"
    },
    {
     "data": {
      "image/png": "[encoded data removed]",
      "text/plain": [
       "<Figure size 1224x720 with 1 Axes>"
      ]
     },
     "metadata": {
      "needs_background": "light"
     },
     "output_type": "display_data"
    }
   ],
   "source": [
    "print(len(train[train.complexity<0]),\" sample with complexity under 0\")\n",
    "print(len(train[train.complexity<-20]),\" sample with complexity under -20\")\n",
    "print(len(train[train.complexity<-50]),\" sample with complexity under -50\")\n",
    "print(len(train[train.complexity<-80]),\" sample with complexity under -80\")\n",
    "      \n",
    "      \n",
    "      \n",
    "train.complexity.hist(bins=100)"
   ]
  },
  {
   "cell_type": "code",
   "execution_count": 27,
   "metadata": {
    "ExecuteTime": {
     "end_time": "2021-01-10T15:45:03.539688Z",
     "start_time": "2021-01-10T15:45:03.533364Z"
    }
   },
   "outputs": [
    {
     "data": {
      "text/plain": [
       "'She has written numerous scholarly articles on topics concerning AfricanAmericans and Christianity, evangelicalism, churches and politics. Contact , website'"
      ]
     },
     "execution_count": 27,
     "metadata": {},
     "output_type": "execute_result"
    }
   ],
   "source": [
    "train.cleaned[train.complexity<0][11]"
   ]
  },
  {
   "cell_type": "code",
   "execution_count": 28,
   "metadata": {
    "ExecuteTime": {
     "end_time": "2021-01-10T15:45:26.081014Z",
     "start_time": "2021-01-10T15:45:19.288542Z"
    }
   },
   "outputs": [
    {
     "name": "stderr",
     "output_type": "stream",
     "text": [
      "100%|██████████| 54300/54300 [00:06<00:00, 8550.02it/s] \n"
     ]
    },
    {
     "data": {
      "text/html": [
       "<div>\n",
       "<style scoped>\n",
       "    .dataframe tbody tr th:only-of-type {\n",
       "        vertical-align: middle;\n",
       "    }\n",
       "\n",
       "    .dataframe tbody tr th {\n",
       "        vertical-align: top;\n",
       "    }\n",
       "\n",
       "    .dataframe thead th {\n",
       "        text-align: right;\n",
       "    }\n",
       "</style>\n",
       "<table border=\"1\" class=\"dataframe\">\n",
       "  <thead>\n",
       "    <tr style=\"text-align: right;\">\n",
       "      <th></th>\n",
       "      <th>description</th>\n",
       "      <th>gender</th>\n",
       "      <th>cleaned</th>\n",
       "      <th>lang</th>\n",
       "      <th>complexity</th>\n",
       "    </tr>\n",
       "    <tr>\n",
       "      <th>Id</th>\n",
       "      <th></th>\n",
       "      <th></th>\n",
       "      <th></th>\n",
       "      <th></th>\n",
       "      <th></th>\n",
       "    </tr>\n",
       "  </thead>\n",
       "  <tbody>\n",
       "    <tr>\n",
       "      <th>0</th>\n",
       "      <td>She currently works on CNN’s newest primetime...</td>\n",
       "      <td>F</td>\n",
       "      <td>She currently works on CNN’s newest primetime ...</td>\n",
       "      <td>en</td>\n",
       "      <td>43.43</td>\n",
       "    </tr>\n",
       "    <tr>\n",
       "      <th>1</th>\n",
       "      <td>Lavalette’s photographs have been shown widel...</td>\n",
       "      <td>M</td>\n",
       "      <td>Lavalette’s photographs have been shown widely...</td>\n",
       "      <td>en</td>\n",
       "      <td>45.09</td>\n",
       "    </tr>\n",
       "    <tr>\n",
       "      <th>2</th>\n",
       "      <td>Along with his academic and professional deve...</td>\n",
       "      <td>M</td>\n",
       "      <td>Along with his academic and professional devel...</td>\n",
       "      <td>en</td>\n",
       "      <td>49.15</td>\n",
       "    </tr>\n",
       "    <tr>\n",
       "      <th>3</th>\n",
       "      <td>She obtained her Ph.D. in Islamic Studies at ...</td>\n",
       "      <td>F</td>\n",
       "      <td>She obtained her Ph.D. in Islamic Studies at D...</td>\n",
       "      <td>en</td>\n",
       "      <td>39.37</td>\n",
       "    </tr>\n",
       "    <tr>\n",
       "      <th>4</th>\n",
       "      <td>She studies issues of women and Islam and has...</td>\n",
       "      <td>F</td>\n",
       "      <td>She studies issues of women and Islam and has ...</td>\n",
       "      <td>en</td>\n",
       "      <td>32.57</td>\n",
       "    </tr>\n",
       "    <tr>\n",
       "      <th>...</th>\n",
       "      <td>...</td>\n",
       "      <td>...</td>\n",
       "      <td>...</td>\n",
       "      <td>...</td>\n",
       "      <td>...</td>\n",
       "    </tr>\n",
       "    <tr>\n",
       "      <th>54295</th>\n",
       "      <td>Prior to that, she worked as a Research Staff...</td>\n",
       "      <td>F</td>\n",
       "      <td>Prior to that, she worked as a Research Staff ...</td>\n",
       "      <td>en</td>\n",
       "      <td>52.90</td>\n",
       "    </tr>\n",
       "    <tr>\n",
       "      <th>54296</th>\n",
       "      <td>The group’s antics began when they switched t...</td>\n",
       "      <td>M</td>\n",
       "      <td>The group’s antics began when they switched th...</td>\n",
       "      <td>en</td>\n",
       "      <td>45.09</td>\n",
       "    </tr>\n",
       "    <tr>\n",
       "      <th>54297</th>\n",
       "      <td>Formerly, she was the Coordinator for Music E...</td>\n",
       "      <td>F</td>\n",
       "      <td>Formerly, she was the Coordinator for Music Ed...</td>\n",
       "      <td>en</td>\n",
       "      <td>21.02</td>\n",
       "    </tr>\n",
       "    <tr>\n",
       "      <th>54298</th>\n",
       "      <td>She started her law practice at Morris Mannin...</td>\n",
       "      <td>F</td>\n",
       "      <td>She started her law practice at Morris Manning...</td>\n",
       "      <td>en</td>\n",
       "      <td>62.68</td>\n",
       "    </tr>\n",
       "    <tr>\n",
       "      <th>54299</th>\n",
       "      <td>Since 1995, he works as a programme maker and...</td>\n",
       "      <td>M</td>\n",
       "      <td>Since he works as a programme maker and artist...</td>\n",
       "      <td>en</td>\n",
       "      <td>51.48</td>\n",
       "    </tr>\n",
       "  </tbody>\n",
       "</table>\n",
       "<p>54300 rows × 5 columns</p>\n",
       "</div>"
      ],
      "text/plain": [
       "                                             description gender  \\\n",
       "Id                                                                \n",
       "0       She currently works on CNN’s newest primetime...      F   \n",
       "1       Lavalette’s photographs have been shown widel...      M   \n",
       "2       Along with his academic and professional deve...      M   \n",
       "3       She obtained her Ph.D. in Islamic Studies at ...      F   \n",
       "4       She studies issues of women and Islam and has...      F   \n",
       "...                                                  ...    ...   \n",
       "54295   Prior to that, she worked as a Research Staff...      F   \n",
       "54296   The group’s antics began when they switched t...      M   \n",
       "54297   Formerly, she was the Coordinator for Music E...      F   \n",
       "54298   She started her law practice at Morris Mannin...      F   \n",
       "54299   Since 1995, he works as a programme maker and...      M   \n",
       "\n",
       "                                                 cleaned lang  complexity  \n",
       "Id                                                                         \n",
       "0      She currently works on CNN’s newest primetime ...   en       43.43  \n",
       "1      Lavalette’s photographs have been shown widely...   en       45.09  \n",
       "2      Along with his academic and professional devel...   en       49.15  \n",
       "3      She obtained her Ph.D. in Islamic Studies at D...   en       39.37  \n",
       "4      She studies issues of women and Islam and has ...   en       32.57  \n",
       "...                                                  ...  ...         ...  \n",
       "54295  Prior to that, she worked as a Research Staff ...   en       52.90  \n",
       "54296  The group’s antics began when they switched th...   en       45.09  \n",
       "54297  Formerly, she was the Coordinator for Music Ed...   en       21.02  \n",
       "54298  She started her law practice at Morris Manning...   en       62.68  \n",
       "54299  Since he works as a programme maker and artist...   en       51.48  \n",
       "\n",
       "[54300 rows x 5 columns]"
      ]
     },
     "execution_count": 28,
     "metadata": {},
     "output_type": "execute_result"
    }
   ],
   "source": [
    "with concurrent.futures.ProcessPoolExecutor(num_processes) as pool:\n",
    "    test[\"complexity\"] = list(tqdm(pool.map(flesch_reading_ease, test.cleaned, chunksize=num_processes*2), total=test.shape[0]))\n",
    "test"
   ]
  },
  {
   "cell_type": "code",
   "execution_count": 101,
   "metadata": {
    "ExecuteTime": {
     "end_time": "2021-01-09T18:50:05.780498Z",
     "start_time": "2021-01-09T18:50:05.769729Z"
    }
   },
   "outputs": [
    {
     "data": {
      "text/plain": [
       "count    54300.000000\n",
       "mean        38.566837\n",
       "std         21.266470\n",
       "min       -106.530000\n",
       "25%         24.610000\n",
       "50%         38.690000\n",
       "75%         53.210000\n",
       "max        103.320000\n",
       "Name: complexity, dtype: float64"
      ]
     },
     "execution_count": 101,
     "metadata": {},
     "output_type": "execute_result"
    }
   ],
   "source": [
    "test.complexity.describe()"
   ]
  },
  {
   "cell_type": "code",
   "execution_count": 207,
   "metadata": {
    "ExecuteTime": {
     "end_time": "2021-01-09T21:33:41.932222Z",
     "start_time": "2021-01-09T21:33:41.707553Z"
    }
   },
   "outputs": [
    {
     "name": "stdout",
     "output_type": "stream",
     "text": [
      "3.62  sample with complexity under 0\n",
      "341  sample with complexity under -20\n",
      "40  sample with complexity under -50\n",
      "4  sample with complexity under -80\n"
     ]
    },
    {
     "data": {
      "text/plain": [
       "<AxesSubplot:>"
      ]
     },
     "execution_count": 207,
     "metadata": {},
     "output_type": "execute_result"
    },
    {
     "data": {
      "image/png": "[encoded data removed]",
      "text/plain": [
       "<Figure size 1224x720 with 1 Axes>"
      ]
     },
     "metadata": {
      "needs_background": "light"
     },
     "output_type": "display_data"
    }
   ],
   "source": [
    "print(round((len(test[test.complexity<0])/len(test)*100),2),\" sample with complexity under 0\")\n",
    "print(len(test[test.complexity<-20]),\" sample with complexity under -20\")\n",
    "print(len(test[test.complexity<-50]),\" sample with complexity under -50\")\n",
    "print(len(test[test.complexity<-80]),\" sample with complexity under -80\")\n",
    "      \n",
    "      \n",
    "      \n",
    "test.complexity.hist(bins=100)"
   ]
  },
  {
   "cell_type": "code",
   "execution_count": 29,
   "metadata": {
    "ExecuteTime": {
     "end_time": "2021-01-10T15:46:10.927980Z",
     "start_time": "2021-01-10T15:46:10.908280Z"
    }
   },
   "outputs": [
    {
     "data": {
      "text/html": [
       "<div>\n",
       "<style scoped>\n",
       "    .dataframe tbody tr th:only-of-type {\n",
       "        vertical-align: middle;\n",
       "    }\n",
       "\n",
       "    .dataframe tbody tr th {\n",
       "        vertical-align: top;\n",
       "    }\n",
       "\n",
       "    .dataframe thead th {\n",
       "        text-align: right;\n",
       "    }\n",
       "</style>\n",
       "<table border=\"1\" class=\"dataframe\">\n",
       "  <thead>\n",
       "    <tr style=\"text-align: right;\">\n",
       "      <th></th>\n",
       "      <th>description</th>\n",
       "      <th>gender</th>\n",
       "      <th>cleaned</th>\n",
       "      <th>lang</th>\n",
       "      <th>complexity</th>\n",
       "    </tr>\n",
       "    <tr>\n",
       "      <th>Id</th>\n",
       "      <th></th>\n",
       "      <th></th>\n",
       "      <th></th>\n",
       "      <th></th>\n",
       "      <th></th>\n",
       "    </tr>\n",
       "  </thead>\n",
       "  <tbody>\n",
       "    <tr>\n",
       "      <th>0</th>\n",
       "      <td>She currently works on CNN’s newest primetime...</td>\n",
       "      <td>F</td>\n",
       "      <td>She currently works on CNN’s newest primetime ...</td>\n",
       "      <td>en</td>\n",
       "      <td>43.43</td>\n",
       "    </tr>\n",
       "    <tr>\n",
       "      <th>1</th>\n",
       "      <td>Lavalette’s photographs have been shown widel...</td>\n",
       "      <td>M</td>\n",
       "      <td>Lavalette’s photographs have been shown widely...</td>\n",
       "      <td>en</td>\n",
       "      <td>45.09</td>\n",
       "    </tr>\n",
       "    <tr>\n",
       "      <th>2</th>\n",
       "      <td>Along with his academic and professional deve...</td>\n",
       "      <td>M</td>\n",
       "      <td>Along with his academic and professional devel...</td>\n",
       "      <td>en</td>\n",
       "      <td>49.15</td>\n",
       "    </tr>\n",
       "    <tr>\n",
       "      <th>3</th>\n",
       "      <td>She obtained her Ph.D. in Islamic Studies at ...</td>\n",
       "      <td>F</td>\n",
       "      <td>She obtained her Ph.D. in Islamic Studies at D...</td>\n",
       "      <td>en</td>\n",
       "      <td>39.37</td>\n",
       "    </tr>\n",
       "    <tr>\n",
       "      <th>4</th>\n",
       "      <td>She studies issues of women and Islam and has...</td>\n",
       "      <td>F</td>\n",
       "      <td>She studies issues of women and Islam and has ...</td>\n",
       "      <td>en</td>\n",
       "      <td>32.57</td>\n",
       "    </tr>\n",
       "    <tr>\n",
       "      <th>...</th>\n",
       "      <td>...</td>\n",
       "      <td>...</td>\n",
       "      <td>...</td>\n",
       "      <td>...</td>\n",
       "      <td>...</td>\n",
       "    </tr>\n",
       "    <tr>\n",
       "      <th>54295</th>\n",
       "      <td>Prior to that, she worked as a Research Staff...</td>\n",
       "      <td>F</td>\n",
       "      <td>Prior to that, she worked as a Research Staff ...</td>\n",
       "      <td>en</td>\n",
       "      <td>52.90</td>\n",
       "    </tr>\n",
       "    <tr>\n",
       "      <th>54296</th>\n",
       "      <td>The group’s antics began when they switched t...</td>\n",
       "      <td>M</td>\n",
       "      <td>The group’s antics began when they switched th...</td>\n",
       "      <td>en</td>\n",
       "      <td>45.09</td>\n",
       "    </tr>\n",
       "    <tr>\n",
       "      <th>54297</th>\n",
       "      <td>Formerly, she was the Coordinator for Music E...</td>\n",
       "      <td>F</td>\n",
       "      <td>Formerly, she was the Coordinator for Music Ed...</td>\n",
       "      <td>en</td>\n",
       "      <td>21.02</td>\n",
       "    </tr>\n",
       "    <tr>\n",
       "      <th>54298</th>\n",
       "      <td>She started her law practice at Morris Mannin...</td>\n",
       "      <td>F</td>\n",
       "      <td>She started her law practice at Morris Manning...</td>\n",
       "      <td>en</td>\n",
       "      <td>62.68</td>\n",
       "    </tr>\n",
       "    <tr>\n",
       "      <th>54299</th>\n",
       "      <td>Since 1995, he works as a programme maker and...</td>\n",
       "      <td>M</td>\n",
       "      <td>Since he works as a programme maker and artist...</td>\n",
       "      <td>en</td>\n",
       "      <td>51.48</td>\n",
       "    </tr>\n",
       "  </tbody>\n",
       "</table>\n",
       "<p>54300 rows × 5 columns</p>\n",
       "</div>"
      ],
      "text/plain": [
       "                                             description gender  \\\n",
       "Id                                                                \n",
       "0       She currently works on CNN’s newest primetime...      F   \n",
       "1       Lavalette’s photographs have been shown widel...      M   \n",
       "2       Along with his academic and professional deve...      M   \n",
       "3       She obtained her Ph.D. in Islamic Studies at ...      F   \n",
       "4       She studies issues of women and Islam and has...      F   \n",
       "...                                                  ...    ...   \n",
       "54295   Prior to that, she worked as a Research Staff...      F   \n",
       "54296   The group’s antics began when they switched t...      M   \n",
       "54297   Formerly, she was the Coordinator for Music E...      F   \n",
       "54298   She started her law practice at Morris Mannin...      F   \n",
       "54299   Since 1995, he works as a programme maker and...      M   \n",
       "\n",
       "                                                 cleaned lang  complexity  \n",
       "Id                                                                         \n",
       "0      She currently works on CNN’s newest primetime ...   en       43.43  \n",
       "1      Lavalette’s photographs have been shown widely...   en       45.09  \n",
       "2      Along with his academic and professional devel...   en       49.15  \n",
       "3      She obtained her Ph.D. in Islamic Studies at D...   en       39.37  \n",
       "4      She studies issues of women and Islam and has ...   en       32.57  \n",
       "...                                                  ...  ...         ...  \n",
       "54295  Prior to that, she worked as a Research Staff ...   en       52.90  \n",
       "54296  The group’s antics began when they switched th...   en       45.09  \n",
       "54297  Formerly, she was the Coordinator for Music Ed...   en       21.02  \n",
       "54298  She started her law practice at Morris Manning...   en       62.68  \n",
       "54299  Since he works as a programme maker and artist...   en       51.48  \n",
       "\n",
       "[54300 rows x 5 columns]"
      ]
     },
     "execution_count": 29,
     "metadata": {},
     "output_type": "execute_result"
    }
   ],
   "source": [
    "test"
   ]
  },
  {
   "cell_type": "code",
   "execution_count": 32,
   "metadata": {
    "ExecuteTime": {
     "end_time": "2021-01-10T15:46:34.541818Z",
     "start_time": "2021-01-10T15:46:34.528388Z"
    }
   },
   "outputs": [
    {
     "data": {
      "text/html": [
       "<div>\n",
       "<style scoped>\n",
       "    .dataframe tbody tr th:only-of-type {\n",
       "        vertical-align: middle;\n",
       "    }\n",
       "\n",
       "    .dataframe tbody tr th {\n",
       "        vertical-align: top;\n",
       "    }\n",
       "\n",
       "    .dataframe thead th {\n",
       "        text-align: right;\n",
       "    }\n",
       "</style>\n",
       "<table border=\"1\" class=\"dataframe\">\n",
       "  <thead>\n",
       "    <tr style=\"text-align: right;\">\n",
       "      <th></th>\n",
       "      <th>Id</th>\n",
       "      <th>Category</th>\n",
       "    </tr>\n",
       "  </thead>\n",
       "  <tbody>\n",
       "    <tr>\n",
       "      <th>0</th>\n",
       "      <td>0</td>\n",
       "      <td>0</td>\n",
       "    </tr>\n",
       "    <tr>\n",
       "      <th>1</th>\n",
       "      <td>1</td>\n",
       "      <td>0</td>\n",
       "    </tr>\n",
       "    <tr>\n",
       "      <th>2</th>\n",
       "      <td>2</td>\n",
       "      <td>0</td>\n",
       "    </tr>\n",
       "    <tr>\n",
       "      <th>3</th>\n",
       "      <td>3</td>\n",
       "      <td>0</td>\n",
       "    </tr>\n",
       "    <tr>\n",
       "      <th>4</th>\n",
       "      <td>4</td>\n",
       "      <td>0</td>\n",
       "    </tr>\n",
       "    <tr>\n",
       "      <th>...</th>\n",
       "      <td>...</td>\n",
       "      <td>...</td>\n",
       "    </tr>\n",
       "    <tr>\n",
       "      <th>54295</th>\n",
       "      <td>54295</td>\n",
       "      <td>0</td>\n",
       "    </tr>\n",
       "    <tr>\n",
       "      <th>54296</th>\n",
       "      <td>54296</td>\n",
       "      <td>0</td>\n",
       "    </tr>\n",
       "    <tr>\n",
       "      <th>54297</th>\n",
       "      <td>54297</td>\n",
       "      <td>0</td>\n",
       "    </tr>\n",
       "    <tr>\n",
       "      <th>54298</th>\n",
       "      <td>54298</td>\n",
       "      <td>0</td>\n",
       "    </tr>\n",
       "    <tr>\n",
       "      <th>54299</th>\n",
       "      <td>54299</td>\n",
       "      <td>0</td>\n",
       "    </tr>\n",
       "  </tbody>\n",
       "</table>\n",
       "<p>54300 rows × 2 columns</p>\n",
       "</div>"
      ],
      "text/plain": [
       "          Id  Category\n",
       "0          0         0\n",
       "1          1         0\n",
       "2          2         0\n",
       "3          3         0\n",
       "4          4         0\n",
       "...      ...       ...\n",
       "54295  54295         0\n",
       "54296  54296         0\n",
       "54297  54297         0\n",
       "54298  54298         0\n",
       "54299  54299         0\n",
       "\n",
       "[54300 rows x 2 columns]"
      ]
     },
     "execution_count": 32,
     "metadata": {},
     "output_type": "execute_result"
    }
   ],
   "source": [
    "submission=pd.read_csv(\"template_submissions.csv\")\n",
    "submission\n"
   ]
  },
  {
   "cell_type": "code",
   "execution_count": 62,
   "metadata": {
    "ExecuteTime": {
     "end_time": "2021-01-10T16:22:49.798053Z",
     "start_time": "2021-01-10T16:22:49.377217Z"
    }
   },
   "outputs": [
    {
     "data": {
      "text/html": [
       "<div>\n",
       "<style scoped>\n",
       "    .dataframe tbody tr th:only-of-type {\n",
       "        vertical-align: middle;\n",
       "    }\n",
       "\n",
       "    .dataframe tbody tr th {\n",
       "        vertical-align: top;\n",
       "    }\n",
       "\n",
       "    .dataframe thead th {\n",
       "        text-align: right;\n",
       "    }\n",
       "</style>\n",
       "<table border=\"1\" class=\"dataframe\">\n",
       "  <thead>\n",
       "    <tr style=\"text-align: right;\">\n",
       "      <th></th>\n",
       "      <th>description</th>\n",
       "      <th>gender</th>\n",
       "      <th>cleaned</th>\n",
       "      <th>lang</th>\n",
       "      <th>complexity</th>\n",
       "    </tr>\n",
       "  </thead>\n",
       "  <tbody>\n",
       "    <tr>\n",
       "      <th>0</th>\n",
       "      <td>She currently works on CNN’s newest primetime...</td>\n",
       "      <td>F</td>\n",
       "      <td>She currently works on CNN’s newest primetime ...</td>\n",
       "      <td>en</td>\n",
       "      <td>43.43</td>\n",
       "    </tr>\n",
       "    <tr>\n",
       "      <th>1</th>\n",
       "      <td>Lavalette’s photographs have been shown widel...</td>\n",
       "      <td>M</td>\n",
       "      <td>Lavalette’s photographs have been shown widely...</td>\n",
       "      <td>en</td>\n",
       "      <td>45.09</td>\n",
       "    </tr>\n",
       "    <tr>\n",
       "      <th>2</th>\n",
       "      <td>Along with his academic and professional deve...</td>\n",
       "      <td>M</td>\n",
       "      <td>Along with his academic and professional devel...</td>\n",
       "      <td>en</td>\n",
       "      <td>49.15</td>\n",
       "    </tr>\n",
       "    <tr>\n",
       "      <th>3</th>\n",
       "      <td>She obtained her Ph.D. in Islamic Studies at ...</td>\n",
       "      <td>F</td>\n",
       "      <td>She obtained her Ph.D. in Islamic Studies at D...</td>\n",
       "      <td>en</td>\n",
       "      <td>39.37</td>\n",
       "    </tr>\n",
       "    <tr>\n",
       "      <th>4</th>\n",
       "      <td>She studies issues of women and Islam and has...</td>\n",
       "      <td>F</td>\n",
       "      <td>She studies issues of women and Islam and has ...</td>\n",
       "      <td>en</td>\n",
       "      <td>32.57</td>\n",
       "    </tr>\n",
       "    <tr>\n",
       "      <th>...</th>\n",
       "      <td>...</td>\n",
       "      <td>...</td>\n",
       "      <td>...</td>\n",
       "      <td>...</td>\n",
       "      <td>...</td>\n",
       "    </tr>\n",
       "    <tr>\n",
       "      <th>54296</th>\n",
       "      <td>Prior to that, she worked as a Research Staff...</td>\n",
       "      <td>F</td>\n",
       "      <td>Prior to that, she worked as a Research Staff ...</td>\n",
       "      <td>en</td>\n",
       "      <td>52.90</td>\n",
       "    </tr>\n",
       "    <tr>\n",
       "      <th>54297</th>\n",
       "      <td>The group’s antics began when they switched t...</td>\n",
       "      <td>M</td>\n",
       "      <td>The group’s antics began when they switched th...</td>\n",
       "      <td>en</td>\n",
       "      <td>45.09</td>\n",
       "    </tr>\n",
       "    <tr>\n",
       "      <th>54298</th>\n",
       "      <td>Formerly, she was the Coordinator for Music E...</td>\n",
       "      <td>F</td>\n",
       "      <td>Formerly, she was the Coordinator for Music Ed...</td>\n",
       "      <td>en</td>\n",
       "      <td>21.02</td>\n",
       "    </tr>\n",
       "    <tr>\n",
       "      <th>54299</th>\n",
       "      <td>She started her law practice at Morris Mannin...</td>\n",
       "      <td>F</td>\n",
       "      <td>She started her law practice at Morris Manning...</td>\n",
       "      <td>en</td>\n",
       "      <td>62.68</td>\n",
       "    </tr>\n",
       "    <tr>\n",
       "      <th>54300</th>\n",
       "      <td>Since 1995, he works as a programme maker and...</td>\n",
       "      <td>M</td>\n",
       "      <td>Since he works as a programme maker and artist...</td>\n",
       "      <td>en</td>\n",
       "      <td>51.48</td>\n",
       "    </tr>\n",
       "  </tbody>\n",
       "</table>\n",
       "<p>54301 rows × 5 columns</p>\n",
       "</div>"
      ],
      "text/plain": [
       "                                             description gender  \\\n",
       "0       She currently works on CNN’s newest primetime...      F   \n",
       "1       Lavalette’s photographs have been shown widel...      M   \n",
       "2       Along with his academic and professional deve...      M   \n",
       "3       She obtained her Ph.D. in Islamic Studies at ...      F   \n",
       "4       She studies issues of women and Islam and has...      F   \n",
       "...                                                  ...    ...   \n",
       "54296   Prior to that, she worked as a Research Staff...      F   \n",
       "54297   The group’s antics began when they switched t...      M   \n",
       "54298   Formerly, she was the Coordinator for Music E...      F   \n",
       "54299   She started her law practice at Morris Mannin...      F   \n",
       "54300   Since 1995, he works as a programme maker and...      M   \n",
       "\n",
       "                                                 cleaned lang  complexity  \n",
       "0      She currently works on CNN’s newest primetime ...   en       43.43  \n",
       "1      Lavalette’s photographs have been shown widely...   en       45.09  \n",
       "2      Along with his academic and professional devel...   en       49.15  \n",
       "3      She obtained her Ph.D. in Islamic Studies at D...   en       39.37  \n",
       "4      She studies issues of women and Islam and has ...   en       32.57  \n",
       "...                                                  ...  ...         ...  \n",
       "54296  Prior to that, she worked as a Research Staff ...   en       52.90  \n",
       "54297  The group’s antics began when they switched th...   en       45.09  \n",
       "54298  Formerly, she was the Coordinator for Music Ed...   en       21.02  \n",
       "54299  She started her law practice at Morris Manning...   en       62.68  \n",
       "54300  Since he works as a programme maker and artist...   en       51.48  \n",
       "\n",
       "[54301 rows x 5 columns]"
      ]
     },
     "execution_count": 62,
     "metadata": {},
     "output_type": "execute_result"
    }
   ],
   "source": [
    "toto=pd.read_csv(\"test.csv\")\n",
    "toto"
   ]
  },
  {
   "cell_type": "code",
   "execution_count": 63,
   "metadata": {
    "ExecuteTime": {
     "end_time": "2021-01-10T16:22:50.578494Z",
     "start_time": "2021-01-10T16:22:50.557380Z"
    }
   },
   "outputs": [
    {
     "data": {
      "text/html": [
       "<div>\n",
       "<style scoped>\n",
       "    .dataframe tbody tr th:only-of-type {\n",
       "        vertical-align: middle;\n",
       "    }\n",
       "\n",
       "    .dataframe tbody tr th {\n",
       "        vertical-align: top;\n",
       "    }\n",
       "\n",
       "    .dataframe thead th {\n",
       "        text-align: right;\n",
       "    }\n",
       "</style>\n",
       "<table border=\"1\" class=\"dataframe\">\n",
       "  <thead>\n",
       "    <tr style=\"text-align: right;\">\n",
       "      <th></th>\n",
       "      <th>description</th>\n",
       "      <th>gender</th>\n",
       "      <th>cleaned</th>\n",
       "      <th>lang</th>\n",
       "      <th>complexity</th>\n",
       "    </tr>\n",
       "    <tr>\n",
       "      <th>Id</th>\n",
       "      <th></th>\n",
       "      <th></th>\n",
       "      <th></th>\n",
       "      <th></th>\n",
       "      <th></th>\n",
       "    </tr>\n",
       "  </thead>\n",
       "  <tbody>\n",
       "  </tbody>\n",
       "</table>\n",
       "</div>"
      ],
      "text/plain": [
       "Empty DataFrame\n",
       "Columns: [description, gender, cleaned, lang, complexity]\n",
       "Index: []"
      ]
     },
     "execution_count": 63,
     "metadata": {},
     "output_type": "execute_result"
    }
   ],
   "source": [
    "test[test.isna().any(axis=1)]"
   ]
  },
  {
   "cell_type": "code",
   "execution_count": 64,
   "metadata": {
    "ExecuteTime": {
     "end_time": "2021-01-10T16:22:51.238766Z",
     "start_time": "2021-01-10T16:22:51.208552Z"
    }
   },
   "outputs": [
    {
     "data": {
      "text/html": [
       "<div>\n",
       "<style scoped>\n",
       "    .dataframe tbody tr th:only-of-type {\n",
       "        vertical-align: middle;\n",
       "    }\n",
       "\n",
       "    .dataframe tbody tr th {\n",
       "        vertical-align: top;\n",
       "    }\n",
       "\n",
       "    .dataframe thead th {\n",
       "        text-align: right;\n",
       "    }\n",
       "</style>\n",
       "<table border=\"1\" class=\"dataframe\">\n",
       "  <thead>\n",
       "    <tr style=\"text-align: right;\">\n",
       "      <th></th>\n",
       "      <th>description</th>\n",
       "      <th>gender</th>\n",
       "      <th>cleaned</th>\n",
       "      <th>lang</th>\n",
       "      <th>complexity</th>\n",
       "    </tr>\n",
       "  </thead>\n",
       "  <tbody>\n",
       "    <tr>\n",
       "      <th>10341</th>\n",
       "      <td>She has already put up more than three years...</td>\n",
       "      <td>NaN</td>\n",
       "      <td>NaN</td>\n",
       "      <td>NaN</td>\n",
       "      <td>NaN</td>\n",
       "    </tr>\n",
       "    <tr>\n",
       "      <th>10342</th>\n",
       "      <td>NaN</td>\n",
       "      <td>F</td>\n",
       "      <td>She has already put up more than three years i...</td>\n",
       "      <td>en</td>\n",
       "      <td>57.95</td>\n",
       "    </tr>\n",
       "  </tbody>\n",
       "</table>\n",
       "</div>"
      ],
      "text/plain": [
       "                                             description gender  \\\n",
       "10341    She has already put up more than three years...    NaN   \n",
       "10342                                                NaN      F   \n",
       "\n",
       "                                                 cleaned lang  complexity  \n",
       "10341                                                NaN  NaN         NaN  \n",
       "10342  She has already put up more than three years i...   en       57.95  "
      ]
     },
     "execution_count": 64,
     "metadata": {},
     "output_type": "execute_result"
    }
   ],
   "source": [
    "toto[toto.isna().any(axis=1)]"
   ]
  },
  {
   "cell_type": "code",
   "execution_count": 60,
   "metadata": {
    "ExecuteTime": {
     "end_time": "2021-01-10T16:08:12.435834Z",
     "start_time": "2021-01-10T16:08:12.422926Z"
    }
   },
   "outputs": [
    {
     "name": "stderr",
     "output_type": "stream",
     "text": [
      "/home/prembamrung/anaconda3/envs/defi_ia/lib/python3.7/site-packages/ipykernel_launcher.py:1: SettingWithCopyWarning: \n",
      "A value is trying to be set on a copy of a slice from a DataFrame\n",
      "\n",
      "See the caveats in the documentation: https://pandas.pydata.org/pandas-docs/stable/user_guide/indexing.html#returning-a-view-versus-a-copy\n",
      "  \"\"\"Entry point for launching an IPython kernel.\n"
     ]
    }
   ],
   "source": [
    "toto.description[10342]=toto.description[10341]"
   ]
  },
  {
   "cell_type": "code",
   "execution_count": 54,
   "metadata": {
    "ExecuteTime": {
     "end_time": "2021-01-10T15:53:25.558336Z",
     "start_time": "2021-01-10T15:53:25.553046Z"
    }
   },
   "outputs": [
    {
     "data": {
      "text/plain": [
       "True"
      ]
     },
     "execution_count": 54,
     "metadata": {},
     "output_type": "execute_result"
    }
   ],
   "source": [
    "len(test)==len(submission)"
   ]
  },
  {
   "cell_type": "markdown",
   "metadata": {},
   "source": [
    "# First N Phrases"
   ]
  },
  {
   "cell_type": "code",
   "execution_count": 30,
   "metadata": {
    "ExecuteTime": {
     "end_time": "2021-01-10T21:06:45.789956Z",
     "start_time": "2021-01-10T21:06:45.787201Z"
    }
   },
   "outputs": [],
   "source": [
    "def split_phrase(x):\n",
    "    return x.split(\".\")[0]+x.split(\".\")[1] if len(x.split(\".\")[0])<20 else x.split(\".\")[0]"
   ]
  },
  {
   "cell_type": "code",
   "execution_count": 42,
   "metadata": {
    "ExecuteTime": {
     "end_time": "2021-01-10T21:11:51.370754Z",
     "start_time": "2021-01-10T21:11:47.747459Z"
    }
   },
   "outputs": [
    {
     "name": "stderr",
     "output_type": "stream",
     "text": [
      "100%|██████████| 217197/217197 [00:02<00:00, 78662.83it/s]\n"
     ]
    },
    {
     "data": {
      "text/html": [
       "<div>\n",
       "<style scoped>\n",
       "    .dataframe tbody tr th:only-of-type {\n",
       "        vertical-align: middle;\n",
       "    }\n",
       "\n",
       "    .dataframe tbody tr th {\n",
       "        vertical-align: top;\n",
       "    }\n",
       "\n",
       "    .dataframe thead th {\n",
       "        text-align: right;\n",
       "    }\n",
       "</style>\n",
       "<table border=\"1\" class=\"dataframe\">\n",
       "  <thead>\n",
       "    <tr style=\"text-align: right;\">\n",
       "      <th></th>\n",
       "      <th>description</th>\n",
       "      <th>gender</th>\n",
       "      <th>category</th>\n",
       "      <th>job</th>\n",
       "      <th>cleaned</th>\n",
       "      <th>lang</th>\n",
       "      <th>distance</th>\n",
       "      <th>complexity</th>\n",
       "      <th>first</th>\n",
       "    </tr>\n",
       "    <tr>\n",
       "      <th>Id</th>\n",
       "      <th></th>\n",
       "      <th></th>\n",
       "      <th></th>\n",
       "      <th></th>\n",
       "      <th></th>\n",
       "      <th></th>\n",
       "      <th></th>\n",
       "      <th></th>\n",
       "      <th></th>\n",
       "    </tr>\n",
       "  </thead>\n",
       "  <tbody>\n",
       "    <tr>\n",
       "      <th>0</th>\n",
       "      <td>She is also a Ronald D. Asmus Policy Entrepre...</td>\n",
       "      <td>F</td>\n",
       "      <td>19</td>\n",
       "      <td>professor</td>\n",
       "      <td>She is also a Ronald D. Asmus Policy Entrepren...</td>\n",
       "      <td>en</td>\n",
       "      <td>7.0</td>\n",
       "      <td>38.32</td>\n",
       "      <td>She is also a Ronald D</td>\n",
       "    </tr>\n",
       "    <tr>\n",
       "      <th>1</th>\n",
       "      <td>He is a member of the AICPA and WICPA. Brent ...</td>\n",
       "      <td>M</td>\n",
       "      <td>9</td>\n",
       "      <td>accountant</td>\n",
       "      <td>He is a member of the AICPA and WICPA. Brent g...</td>\n",
       "      <td>en</td>\n",
       "      <td>1.0</td>\n",
       "      <td>65.42</td>\n",
       "      <td>He is a member of the AICPA and WICPA</td>\n",
       "    </tr>\n",
       "    <tr>\n",
       "      <th>2</th>\n",
       "      <td>Dr. Aster has held teaching and research posi...</td>\n",
       "      <td>M</td>\n",
       "      <td>19</td>\n",
       "      <td>professor</td>\n",
       "      <td>Dr. Aster has held teaching and research posit...</td>\n",
       "      <td>en</td>\n",
       "      <td>1.0</td>\n",
       "      <td>34.76</td>\n",
       "      <td>Dr Aster has held teaching and research positi...</td>\n",
       "    </tr>\n",
       "    <tr>\n",
       "      <th>3</th>\n",
       "      <td>He runs a boutique design studio attending cl...</td>\n",
       "      <td>M</td>\n",
       "      <td>24</td>\n",
       "      <td>architect</td>\n",
       "      <td>He runs a boutique design studio attending cli...</td>\n",
       "      <td>en</td>\n",
       "      <td>3.0</td>\n",
       "      <td>33.44</td>\n",
       "      <td>He runs a boutique design studio attending cli...</td>\n",
       "    </tr>\n",
       "    <tr>\n",
       "      <th>4</th>\n",
       "      <td>He focuses on cloud security, identity and ac...</td>\n",
       "      <td>M</td>\n",
       "      <td>24</td>\n",
       "      <td>architect</td>\n",
       "      <td>He focuses on cloud security, identity and acc...</td>\n",
       "      <td>en</td>\n",
       "      <td>1.0</td>\n",
       "      <td>17.50</td>\n",
       "      <td>He focuses on cloud security, identity and acc...</td>\n",
       "    </tr>\n",
       "    <tr>\n",
       "      <th>...</th>\n",
       "      <td>...</td>\n",
       "      <td>...</td>\n",
       "      <td>...</td>\n",
       "      <td>...</td>\n",
       "      <td>...</td>\n",
       "      <td>...</td>\n",
       "      <td>...</td>\n",
       "      <td>...</td>\n",
       "      <td>...</td>\n",
       "    </tr>\n",
       "    <tr>\n",
       "      <th>217192</th>\n",
       "      <td>A member of the UWA Cultural Collections Boar...</td>\n",
       "      <td>M</td>\n",
       "      <td>19</td>\n",
       "      <td>professor</td>\n",
       "      <td>A member of the UWA Cultural Collections Board...</td>\n",
       "      <td>en</td>\n",
       "      <td>3.0</td>\n",
       "      <td>46.10</td>\n",
       "      <td>A member of the UWA Cultural Collections Board...</td>\n",
       "    </tr>\n",
       "    <tr>\n",
       "      <th>217193</th>\n",
       "      <td>Kelly has worked globally leading teams of co...</td>\n",
       "      <td>F</td>\n",
       "      <td>22</td>\n",
       "      <td>psychologist</td>\n",
       "      <td>Kelly has worked globally leading teams of con...</td>\n",
       "      <td>en</td>\n",
       "      <td>4.0</td>\n",
       "      <td>38.32</td>\n",
       "      <td>Kelly has worked globally leading teams of con...</td>\n",
       "    </tr>\n",
       "    <tr>\n",
       "      <th>217194</th>\n",
       "      <td>He's the lead author of a recent study that f...</td>\n",
       "      <td>M</td>\n",
       "      <td>19</td>\n",
       "      <td>professor</td>\n",
       "      <td>He's the lead author of a recent study that fo...</td>\n",
       "      <td>en</td>\n",
       "      <td>1.0</td>\n",
       "      <td>54.56</td>\n",
       "      <td>He's the lead author of a recent study that fo...</td>\n",
       "    </tr>\n",
       "    <tr>\n",
       "      <th>217195</th>\n",
       "      <td>She specializes in the theoretical and pedago...</td>\n",
       "      <td>F</td>\n",
       "      <td>19</td>\n",
       "      <td>professor</td>\n",
       "      <td>She specializes in the theoretical and pedagog...</td>\n",
       "      <td>en</td>\n",
       "      <td>2.0</td>\n",
       "      <td>18.39</td>\n",
       "      <td>She specializes in the theoretical and pedagog...</td>\n",
       "    </tr>\n",
       "    <tr>\n",
       "      <th>217196</th>\n",
       "      <td>Since she was 10 years old she has become a m...</td>\n",
       "      <td>F</td>\n",
       "      <td>1</td>\n",
       "      <td>model</td>\n",
       "      <td>Since she was years old she has become a model...</td>\n",
       "      <td>en</td>\n",
       "      <td>17.0</td>\n",
       "      <td>73.68</td>\n",
       "      <td>Since she was years old she has become a model</td>\n",
       "    </tr>\n",
       "  </tbody>\n",
       "</table>\n",
       "<p>217197 rows × 9 columns</p>\n",
       "</div>"
      ],
      "text/plain": [
       "                                              description gender  category  \\\n",
       "Id                                                                           \n",
       "0        She is also a Ronald D. Asmus Policy Entrepre...      F        19   \n",
       "1        He is a member of the AICPA and WICPA. Brent ...      M         9   \n",
       "2        Dr. Aster has held teaching and research posi...      M        19   \n",
       "3        He runs a boutique design studio attending cl...      M        24   \n",
       "4        He focuses on cloud security, identity and ac...      M        24   \n",
       "...                                                   ...    ...       ...   \n",
       "217192   A member of the UWA Cultural Collections Boar...      M        19   \n",
       "217193   Kelly has worked globally leading teams of co...      F        22   \n",
       "217194   He's the lead author of a recent study that f...      M        19   \n",
       "217195   She specializes in the theoretical and pedago...      F        19   \n",
       "217196   Since she was 10 years old she has become a m...      F         1   \n",
       "\n",
       "                 job                                            cleaned lang  \\\n",
       "Id                                                                             \n",
       "0          professor  She is also a Ronald D. Asmus Policy Entrepren...   en   \n",
       "1         accountant  He is a member of the AICPA and WICPA. Brent g...   en   \n",
       "2          professor  Dr. Aster has held teaching and research posit...   en   \n",
       "3          architect  He runs a boutique design studio attending cli...   en   \n",
       "4          architect  He focuses on cloud security, identity and acc...   en   \n",
       "...              ...                                                ...  ...   \n",
       "217192     professor  A member of the UWA Cultural Collections Board...   en   \n",
       "217193  psychologist  Kelly has worked globally leading teams of con...   en   \n",
       "217194     professor  He's the lead author of a recent study that fo...   en   \n",
       "217195     professor  She specializes in the theoretical and pedagog...   en   \n",
       "217196         model  Since she was years old she has become a model...   en   \n",
       "\n",
       "        distance  complexity  \\\n",
       "Id                             \n",
       "0            7.0       38.32   \n",
       "1            1.0       65.42   \n",
       "2            1.0       34.76   \n",
       "3            3.0       33.44   \n",
       "4            1.0       17.50   \n",
       "...          ...         ...   \n",
       "217192       3.0       46.10   \n",
       "217193       4.0       38.32   \n",
       "217194       1.0       54.56   \n",
       "217195       2.0       18.39   \n",
       "217196      17.0       73.68   \n",
       "\n",
       "                                                    first  \n",
       "Id                                                         \n",
       "0                                  She is also a Ronald D  \n",
       "1                   He is a member of the AICPA and WICPA  \n",
       "2       Dr Aster has held teaching and research positi...  \n",
       "3       He runs a boutique design studio attending cli...  \n",
       "4       He focuses on cloud security, identity and acc...  \n",
       "...                                                   ...  \n",
       "217192  A member of the UWA Cultural Collections Board...  \n",
       "217193  Kelly has worked globally leading teams of con...  \n",
       "217194  He's the lead author of a recent study that fo...  \n",
       "217195  She specializes in the theoretical and pedagog...  \n",
       "217196     Since she was years old she has become a model  \n",
       "\n",
       "[217197 rows x 9 columns]"
      ]
     },
     "execution_count": 42,
     "metadata": {},
     "output_type": "execute_result"
    }
   ],
   "source": [
    "with concurrent.futures.ProcessPoolExecutor(num_processes) as pool:\n",
    "    train['first'] = list(tqdm(pool.map(split_phrase, train.cleaned, chunksize=num_processes*2), total=train.shape[0]))\n",
    "train"
   ]
  },
  {
   "cell_type": "code",
   "execution_count": 43,
   "metadata": {
    "ExecuteTime": {
     "end_time": "2021-01-10T21:12:08.247697Z",
     "start_time": "2021-01-10T21:12:07.315967Z"
    }
   },
   "outputs": [
    {
     "name": "stderr",
     "output_type": "stream",
     "text": [
      "100%|██████████| 54300/54300 [00:00<00:00, 82954.36it/s]\n"
     ]
    },
    {
     "data": {
      "text/html": [
       "<div>\n",
       "<style scoped>\n",
       "    .dataframe tbody tr th:only-of-type {\n",
       "        vertical-align: middle;\n",
       "    }\n",
       "\n",
       "    .dataframe tbody tr th {\n",
       "        vertical-align: top;\n",
       "    }\n",
       "\n",
       "    .dataframe thead th {\n",
       "        text-align: right;\n",
       "    }\n",
       "</style>\n",
       "<table border=\"1\" class=\"dataframe\">\n",
       "  <thead>\n",
       "    <tr style=\"text-align: right;\">\n",
       "      <th></th>\n",
       "      <th>description</th>\n",
       "      <th>gender</th>\n",
       "      <th>cleaned</th>\n",
       "      <th>lang</th>\n",
       "      <th>complexity</th>\n",
       "      <th>first</th>\n",
       "    </tr>\n",
       "    <tr>\n",
       "      <th>Id</th>\n",
       "      <th></th>\n",
       "      <th></th>\n",
       "      <th></th>\n",
       "      <th></th>\n",
       "      <th></th>\n",
       "      <th></th>\n",
       "    </tr>\n",
       "  </thead>\n",
       "  <tbody>\n",
       "    <tr>\n",
       "      <th>0</th>\n",
       "      <td>She currently works on CNN’s newest primetime...</td>\n",
       "      <td>F</td>\n",
       "      <td>She currently works on CNN’s newest primetime ...</td>\n",
       "      <td>en</td>\n",
       "      <td>43.43</td>\n",
       "      <td>She currently works on CNN’s newest primetime ...</td>\n",
       "    </tr>\n",
       "    <tr>\n",
       "      <th>1</th>\n",
       "      <td>Lavalette’s photographs have been shown widel...</td>\n",
       "      <td>M</td>\n",
       "      <td>Lavalette’s photographs have been shown widely...</td>\n",
       "      <td>en</td>\n",
       "      <td>45.09</td>\n",
       "      <td>Lavalette’s photographs have been shown widely...</td>\n",
       "    </tr>\n",
       "    <tr>\n",
       "      <th>2</th>\n",
       "      <td>Along with his academic and professional deve...</td>\n",
       "      <td>M</td>\n",
       "      <td>Along with his academic and professional devel...</td>\n",
       "      <td>en</td>\n",
       "      <td>49.15</td>\n",
       "      <td>Along with his academic and professional devel...</td>\n",
       "    </tr>\n",
       "    <tr>\n",
       "      <th>3</th>\n",
       "      <td>She obtained her Ph.D. in Islamic Studies at ...</td>\n",
       "      <td>F</td>\n",
       "      <td>She obtained her Ph.D. in Islamic Studies at D...</td>\n",
       "      <td>en</td>\n",
       "      <td>39.37</td>\n",
       "      <td>She obtained her PhD</td>\n",
       "    </tr>\n",
       "    <tr>\n",
       "      <th>4</th>\n",
       "      <td>She studies issues of women and Islam and has...</td>\n",
       "      <td>F</td>\n",
       "      <td>She studies issues of women and Islam and has ...</td>\n",
       "      <td>en</td>\n",
       "      <td>32.57</td>\n",
       "      <td>She studies issues of women and Islam and has ...</td>\n",
       "    </tr>\n",
       "    <tr>\n",
       "      <th>...</th>\n",
       "      <td>...</td>\n",
       "      <td>...</td>\n",
       "      <td>...</td>\n",
       "      <td>...</td>\n",
       "      <td>...</td>\n",
       "      <td>...</td>\n",
       "    </tr>\n",
       "    <tr>\n",
       "      <th>54295</th>\n",
       "      <td>Prior to that, she worked as a Research Staff...</td>\n",
       "      <td>F</td>\n",
       "      <td>Prior to that, she worked as a Research Staff ...</td>\n",
       "      <td>en</td>\n",
       "      <td>52.90</td>\n",
       "      <td>Prior to that, she worked as a Research Staff ...</td>\n",
       "    </tr>\n",
       "    <tr>\n",
       "      <th>54296</th>\n",
       "      <td>The group’s antics began when they switched t...</td>\n",
       "      <td>M</td>\n",
       "      <td>The group’s antics began when they switched th...</td>\n",
       "      <td>en</td>\n",
       "      <td>45.09</td>\n",
       "      <td>The group’s antics began when they switched th...</td>\n",
       "    </tr>\n",
       "    <tr>\n",
       "      <th>54297</th>\n",
       "      <td>Formerly, she was the Coordinator for Music E...</td>\n",
       "      <td>F</td>\n",
       "      <td>Formerly, she was the Coordinator for Music Ed...</td>\n",
       "      <td>en</td>\n",
       "      <td>21.02</td>\n",
       "      <td>Formerly, she was the Coordinator for Music Ed...</td>\n",
       "    </tr>\n",
       "    <tr>\n",
       "      <th>54298</th>\n",
       "      <td>She started her law practice at Morris Mannin...</td>\n",
       "      <td>F</td>\n",
       "      <td>She started her law practice at Morris Manning...</td>\n",
       "      <td>en</td>\n",
       "      <td>62.68</td>\n",
       "      <td>She started her law practice at Morris Manning...</td>\n",
       "    </tr>\n",
       "    <tr>\n",
       "      <th>54299</th>\n",
       "      <td>Since 1995, he works as a programme maker and...</td>\n",
       "      <td>M</td>\n",
       "      <td>Since he works as a programme maker and artist...</td>\n",
       "      <td>en</td>\n",
       "      <td>51.48</td>\n",
       "      <td>Since he works as a programme maker and artist...</td>\n",
       "    </tr>\n",
       "  </tbody>\n",
       "</table>\n",
       "<p>54300 rows × 6 columns</p>\n",
       "</div>"
      ],
      "text/plain": [
       "                                             description gender  \\\n",
       "Id                                                                \n",
       "0       She currently works on CNN’s newest primetime...      F   \n",
       "1       Lavalette’s photographs have been shown widel...      M   \n",
       "2       Along with his academic and professional deve...      M   \n",
       "3       She obtained her Ph.D. in Islamic Studies at ...      F   \n",
       "4       She studies issues of women and Islam and has...      F   \n",
       "...                                                  ...    ...   \n",
       "54295   Prior to that, she worked as a Research Staff...      F   \n",
       "54296   The group’s antics began when they switched t...      M   \n",
       "54297   Formerly, she was the Coordinator for Music E...      F   \n",
       "54298   She started her law practice at Morris Mannin...      F   \n",
       "54299   Since 1995, he works as a programme maker and...      M   \n",
       "\n",
       "                                                 cleaned lang  complexity  \\\n",
       "Id                                                                          \n",
       "0      She currently works on CNN’s newest primetime ...   en       43.43   \n",
       "1      Lavalette’s photographs have been shown widely...   en       45.09   \n",
       "2      Along with his academic and professional devel...   en       49.15   \n",
       "3      She obtained her Ph.D. in Islamic Studies at D...   en       39.37   \n",
       "4      She studies issues of women and Islam and has ...   en       32.57   \n",
       "...                                                  ...  ...         ...   \n",
       "54295  Prior to that, she worked as a Research Staff ...   en       52.90   \n",
       "54296  The group’s antics began when they switched th...   en       45.09   \n",
       "54297  Formerly, she was the Coordinator for Music Ed...   en       21.02   \n",
       "54298  She started her law practice at Morris Manning...   en       62.68   \n",
       "54299  Since he works as a programme maker and artist...   en       51.48   \n",
       "\n",
       "                                                   first  \n",
       "Id                                                        \n",
       "0      She currently works on CNN’s newest primetime ...  \n",
       "1      Lavalette’s photographs have been shown widely...  \n",
       "2      Along with his academic and professional devel...  \n",
       "3                                   She obtained her PhD  \n",
       "4      She studies issues of women and Islam and has ...  \n",
       "...                                                  ...  \n",
       "54295  Prior to that, she worked as a Research Staff ...  \n",
       "54296  The group’s antics began when they switched th...  \n",
       "54297  Formerly, she was the Coordinator for Music Ed...  \n",
       "54298  She started her law practice at Morris Manning...  \n",
       "54299  Since he works as a programme maker and artist...  \n",
       "\n",
       "[54300 rows x 6 columns]"
      ]
     },
     "execution_count": 43,
     "metadata": {},
     "output_type": "execute_result"
    }
   ],
   "source": [
    "with concurrent.futures.ProcessPoolExecutor(num_processes) as pool:\n",
    "    test['first'] = list(tqdm(pool.map(split_phrase, test.cleaned, chunksize=num_processes*2), total=test.shape[0]))\n",
    "test"
   ]
  },
  {
   "cell_type": "code",
   "execution_count": 39,
   "metadata": {
    "ExecuteTime": {
     "end_time": "2021-01-10T21:10:24.693600Z",
     "start_time": "2021-01-10T21:10:24.119908Z"
    }
   },
   "outputs": [
    {
     "data": {
      "text/html": [
       "<div>\n",
       "<style scoped>\n",
       "    .dataframe tbody tr th:only-of-type {\n",
       "        vertical-align: middle;\n",
       "    }\n",
       "\n",
       "    .dataframe tbody tr th {\n",
       "        vertical-align: top;\n",
       "    }\n",
       "\n",
       "    .dataframe thead th {\n",
       "        text-align: right;\n",
       "    }\n",
       "</style>\n",
       "<table border=\"1\" class=\"dataframe\">\n",
       "  <thead>\n",
       "    <tr style=\"text-align: right;\">\n",
       "      <th></th>\n",
       "      <th>description</th>\n",
       "      <th>gender</th>\n",
       "      <th>category</th>\n",
       "      <th>job</th>\n",
       "      <th>cleaned</th>\n",
       "      <th>lang</th>\n",
       "      <th>distance</th>\n",
       "      <th>complexity</th>\n",
       "    </tr>\n",
       "    <tr>\n",
       "      <th>Id</th>\n",
       "      <th></th>\n",
       "      <th></th>\n",
       "      <th></th>\n",
       "      <th></th>\n",
       "      <th></th>\n",
       "      <th></th>\n",
       "      <th></th>\n",
       "      <th></th>\n",
       "    </tr>\n",
       "  </thead>\n",
       "  <tbody>\n",
       "    <tr>\n",
       "      <th>178</th>\n",
       "      <td>He has worked for the Financial Gazette, Zimb...</td>\n",
       "      <td>M</td>\n",
       "      <td>6</td>\n",
       "      <td>journalist</td>\n",
       "      <td>He has worked for the Financial Gazette, Zimba...</td>\n",
       "      <td>en</td>\n",
       "      <td>12.0</td>\n",
       "      <td>32.22</td>\n",
       "    </tr>\n",
       "    <tr>\n",
       "      <th>602</th>\n",
       "      <td>A native of Zimbabwe, Dr. Gavaza holds a Bach...</td>\n",
       "      <td>M</td>\n",
       "      <td>19</td>\n",
       "      <td>professor</td>\n",
       "      <td>A native of Zimbabwe, Dr. Gavaza holds a Bache...</td>\n",
       "      <td>en</td>\n",
       "      <td>103.0</td>\n",
       "      <td>38.62</td>\n",
       "    </tr>\n",
       "    <tr>\n",
       "      <th>2822</th>\n",
       "      <td>She is a San Diego native and returned to cov...</td>\n",
       "      <td>F</td>\n",
       "      <td>6</td>\n",
       "      <td>journalist</td>\n",
       "      <td>She is a San Diego native and returned to cove...</td>\n",
       "      <td>en</td>\n",
       "      <td>7.0</td>\n",
       "      <td>41.09</td>\n",
       "    </tr>\n",
       "    <tr>\n",
       "      <th>4264</th>\n",
       "      <td>He received his BA from Oberlin and MFA from ...</td>\n",
       "      <td>M</td>\n",
       "      <td>19</td>\n",
       "      <td>professor</td>\n",
       "      <td>He received his BA from Oberlin and MFA from B...</td>\n",
       "      <td>en</td>\n",
       "      <td>1.0</td>\n",
       "      <td>59.30</td>\n",
       "    </tr>\n",
       "    <tr>\n",
       "      <th>4871</th>\n",
       "      <td>Euphrat has a print journalism degree from No...</td>\n",
       "      <td>F</td>\n",
       "      <td>6</td>\n",
       "      <td>journalist</td>\n",
       "      <td>Euphrat has a print journalism degree from Nor...</td>\n",
       "      <td>en</td>\n",
       "      <td>8.0</td>\n",
       "      <td>41.90</td>\n",
       "    </tr>\n",
       "    <tr>\n",
       "      <th>...</th>\n",
       "      <td>...</td>\n",
       "      <td>...</td>\n",
       "      <td>...</td>\n",
       "      <td>...</td>\n",
       "      <td>...</td>\n",
       "      <td>...</td>\n",
       "      <td>...</td>\n",
       "      <td>...</td>\n",
       "    </tr>\n",
       "    <tr>\n",
       "      <th>207469</th>\n",
       "      <td>Julio’s interest in human evolution and tropi...</td>\n",
       "      <td>M</td>\n",
       "      <td>19</td>\n",
       "      <td>professor</td>\n",
       "      <td>Julio’s interest in human evolution and tropic...</td>\n",
       "      <td>en</td>\n",
       "      <td>1.0</td>\n",
       "      <td>47.79</td>\n",
       "    </tr>\n",
       "    <tr>\n",
       "      <th>208468</th>\n",
       "      <td>She has traveled to Timbavati, South Africa, ...</td>\n",
       "      <td>F</td>\n",
       "      <td>22</td>\n",
       "      <td>psychologist</td>\n",
       "      <td>She has traveled to Timbavati, South Africa, a...</td>\n",
       "      <td>en</td>\n",
       "      <td>4.0</td>\n",
       "      <td>47.28</td>\n",
       "    </tr>\n",
       "    <tr>\n",
       "      <th>211992</th>\n",
       "      <td>His work is focusing on scaling up of ART ser...</td>\n",
       "      <td>M</td>\n",
       "      <td>11</td>\n",
       "      <td>physician</td>\n",
       "      <td>His work is focusing on scaling up of ART serv...</td>\n",
       "      <td>en</td>\n",
       "      <td>3.0</td>\n",
       "      <td>26.64</td>\n",
       "    </tr>\n",
       "    <tr>\n",
       "      <th>212991</th>\n",
       "      <td>He received his Ph.D. in anthropology from th...</td>\n",
       "      <td>M</td>\n",
       "      <td>19</td>\n",
       "      <td>professor</td>\n",
       "      <td>He received his Ph.D. in anthropology from the...</td>\n",
       "      <td>en</td>\n",
       "      <td>9.0</td>\n",
       "      <td>30.40</td>\n",
       "    </tr>\n",
       "    <tr>\n",
       "      <th>217158</th>\n",
       "      <td>He holds a DPhil in History from the Universi...</td>\n",
       "      <td>M</td>\n",
       "      <td>19</td>\n",
       "      <td>professor</td>\n",
       "      <td>He holds a DPhil in History from the Universit...</td>\n",
       "      <td>en</td>\n",
       "      <td>2.0</td>\n",
       "      <td>33.92</td>\n",
       "    </tr>\n",
       "  </tbody>\n",
       "</table>\n",
       "<p>122 rows × 8 columns</p>\n",
       "</div>"
      ],
      "text/plain": [
       "                                              description gender  category  \\\n",
       "Id                                                                           \n",
       "178      He has worked for the Financial Gazette, Zimb...      M         6   \n",
       "602      A native of Zimbabwe, Dr. Gavaza holds a Bach...      M        19   \n",
       "2822     She is a San Diego native and returned to cov...      F         6   \n",
       "4264     He received his BA from Oberlin and MFA from ...      M        19   \n",
       "4871     Euphrat has a print journalism degree from No...      F         6   \n",
       "...                                                   ...    ...       ...   \n",
       "207469   Julio’s interest in human evolution and tropi...      M        19   \n",
       "208468   She has traveled to Timbavati, South Africa, ...      F        22   \n",
       "211992   His work is focusing on scaling up of ART ser...      M        11   \n",
       "212991   He received his Ph.D. in anthropology from th...      M        19   \n",
       "217158   He holds a DPhil in History from the Universi...      M        19   \n",
       "\n",
       "                 job                                            cleaned lang  \\\n",
       "Id                                                                             \n",
       "178       journalist  He has worked for the Financial Gazette, Zimba...   en   \n",
       "602        professor  A native of Zimbabwe, Dr. Gavaza holds a Bache...   en   \n",
       "2822      journalist  She is a San Diego native and returned to cove...   en   \n",
       "4264       professor  He received his BA from Oberlin and MFA from B...   en   \n",
       "4871      journalist  Euphrat has a print journalism degree from Nor...   en   \n",
       "...              ...                                                ...  ...   \n",
       "207469     professor  Julio’s interest in human evolution and tropic...   en   \n",
       "208468  psychologist  She has traveled to Timbavati, South Africa, a...   en   \n",
       "211992     physician  His work is focusing on scaling up of ART serv...   en   \n",
       "212991     professor  He received his Ph.D. in anthropology from the...   en   \n",
       "217158     professor  He holds a DPhil in History from the Universit...   en   \n",
       "\n",
       "        distance  complexity  \n",
       "Id                            \n",
       "178         12.0       32.22  \n",
       "602        103.0       38.62  \n",
       "2822         7.0       41.09  \n",
       "4264         1.0       59.30  \n",
       "4871         8.0       41.90  \n",
       "...          ...         ...  \n",
       "207469       1.0       47.79  \n",
       "208468       4.0       47.28  \n",
       "211992       3.0       26.64  \n",
       "212991       9.0       30.40  \n",
       "217158       2.0       33.92  \n",
       "\n",
       "[122 rows x 8 columns]"
      ]
     },
     "execution_count": 39,
     "metadata": {},
     "output_type": "execute_result"
    }
   ],
   "source": [
    "ut.df_find(train,\"Zimbabwe\")"
   ]
  },
  {
   "cell_type": "code",
   "execution_count": 41,
   "metadata": {
    "ExecuteTime": {
     "end_time": "2021-01-10T21:10:56.120342Z",
     "start_time": "2021-01-10T21:10:56.116826Z"
    }
   },
   "outputs": [
    {
     "data": {
      "text/plain": [
       "\"He has worked for the Financial Gazette, Zimbabwe's oldest business independent weekly\""
      ]
     },
     "execution_count": 41,
     "metadata": {},
     "output_type": "execute_result"
    }
   ],
   "source": [
    "toto[178]"
   ]
  },
  {
   "cell_type": "code",
   "execution_count": 50,
   "metadata": {
    "ExecuteTime": {
     "end_time": "2021-01-10T21:23:33.210429Z",
     "start_time": "2021-01-10T21:23:33.206153Z"
    }
   },
   "outputs": [
    {
     "data": {
      "text/plain": [
       "Id\n",
       "0        She currently works on CNN’s newest primetime ...\n",
       "1        Lavalette’s photographs have been shown widely...\n",
       "2        Along with his academic and professional devel...\n",
       "3                                     She obtained her PhD\n",
       "4        She studies issues of women and Islam and has ...\n",
       "                               ...                        \n",
       "54295    Prior to that, she worked as a Research Staff ...\n",
       "54296    The group’s antics began when they switched th...\n",
       "54297    Formerly, she was the Coordinator for Music Ed...\n",
       "54298    She started her law practice at Morris Manning...\n",
       "54299    Since he works as a programme maker and artist...\n",
       "Name: first, Length: 54300, dtype: object"
      ]
     },
     "execution_count": 50,
     "metadata": {},
     "output_type": "execute_result"
    }
   ],
   "source": [
    "test[\"first\"]"
   ]
  },
  {
   "cell_type": "code",
   "execution_count": 24,
   "metadata": {
    "ExecuteTime": {
     "end_time": "2021-01-04T16:32:47.391257Z",
     "start_time": "2021-01-04T16:32:36.559445Z"
    }
   },
   "outputs": [
    {
     "name": "stderr",
     "output_type": "stream",
     "text": [
      "100%|██████████| 217197/217197 [00:09<00:00, 22965.98it/s]\n"
     ]
    },
    {
     "data": {
      "text/plain": [
       "[90.77,\n",
       " 79.26,\n",
       " 4.82,\n",
       " 64.71,\n",
       " -14.48,\n",
       " 39.67,\n",
       " 57.61,\n",
       " 28.5,\n",
       " 56.59,\n",
       " 41.36,\n",
       " 44.07,\n",
       " -12.45,\n",
       " 48.47,\n",
       " 23.09,\n",
       " 18.01,\n",
       " 92.12,\n",
       " 29.18,\n",
       " 31.89,\n",
       " 10.91,\n",
       " 72.16,\n",
       " 75.88,\n",
       " -5.01,\n",
       " 31.89,\n",
       " 9.56,\n",
       " 66.41,\n",
       " 30.87,\n",
       " 42.72,\n",
       " 29.86,\n",
       " 56.25,\n",
       " 37.3,\n",
       " 49.82,\n",
       " 60.31,\n",
       " 46.44,\n",
       " 48.47,\n",
       " 34.6,\n",
       " -12.79,\n",
       " 62.68,\n",
       " 30.87,\n",
       " 80.28,\n",
       " 61.33,\n",
       " 95.17,\n",
       " 60.31,\n",
       " 81.29,\n",
       " 43.06,\n",
       " 9.89,\n",
       " 13.95,\n",
       " 43.73,\n",
       " 31.21,\n",
       " 58.28,\n",
       " 6.85,\n",
       " 14.29,\n",
       " 60.65,\n",
       " 32.22,\n",
       " 6.51,\n",
       " 68.1,\n",
       " 84.68,\n",
       " 71.14,\n",
       " 55.58,\n",
       " 44.07,\n",
       " 17.0,\n",
       " 7.86,\n",
       " 20.39,\n",
       " 37.3,\n",
       " 42.38,\n",
       " 41.03,\n",
       " 18.02,\n",
       " -6.36,\n",
       " 22.42,\n",
       " 36.28,\n",
       " -5.68,\n",
       " -18.88,\n",
       " 67.08,\n",
       " 42.04,\n",
       " 54.56,\n",
       " -24.3,\n",
       " 61.33,\n",
       " 9.89,\n",
       " 62.34,\n",
       " 31.21,\n",
       " 63.02,\n",
       " 13.28,\n",
       " 28.84,\n",
       " 90.77,\n",
       " 13.62,\n",
       " 64.04,\n",
       " 15.31,\n",
       " 10.56,\n",
       " 23.77,\n",
       " 92.8,\n",
       " 62.68,\n",
       " 66.74,\n",
       " 42.04,\n",
       " 50.16,\n",
       " 53.21,\n",
       " 75.88,\n",
       " -4.33,\n",
       " 15.65,\n",
       " 39.67,\n",
       " 52.53,\n",
       " 42.38,\n",
       " 29.18,\n",
       " 30.53,\n",
       " 43.73,\n",
       " 28.17,\n",
       " 17.68,\n",
       " 60.65,\n",
       " 22.75,\n",
       " 46.44,\n",
       " 42.38,\n",
       " 79.6,\n",
       " 40.35,\n",
       " 59.3,\n",
       " 38.66,\n",
       " 21.06,\n",
       " 13.28,\n",
       " -2.97,\n",
       " 12.94,\n",
       " 36.63,\n",
       " 10.23,\n",
       " 20.72,\n",
       " 3.13,\n",
       " 43.73,\n",
       " 33.24,\n",
       " 48.13,\n",
       " -35.46,\n",
       " 92.8,\n",
       " 58.28,\n",
       " 31.89,\n",
       " -2.64,\n",
       " 24.78,\n",
       " 31.21,\n",
       " 31.89,\n",
       " -3.31,\n",
       " 55.91,\n",
       " 16.66,\n",
       " 52.19,\n",
       " 9.89,\n",
       " 14.97,\n",
       " 75.88,\n",
       " 89.08,\n",
       " 35.61,\n",
       " 84.0,\n",
       " 48.47,\n",
       " 30.54,\n",
       " 59.3,\n",
       " 6.5,\n",
       " 20.38,\n",
       " 45.09,\n",
       " 68.77,\n",
       " 75.88,\n",
       " 8.88,\n",
       " 57.27,\n",
       " 41.7,\n",
       " 56.25,\n",
       " 33.58,\n",
       " 46.78,\n",
       " 52.19,\n",
       " 11.92,\n",
       " 66.07,\n",
       " 24.45,\n",
       " 55.91,\n",
       " 79.94,\n",
       " 42.38,\n",
       " 43.39,\n",
       " 19.03,\n",
       " 68.77,\n",
       " 52.19,\n",
       " 66.4,\n",
       " -5.01,\n",
       " 22.08,\n",
       " 41.36,\n",
       " 15.98,\n",
       " 40.69,\n",
       " 7.52,\n",
       " 31.89,\n",
       " 24.44,\n",
       " 58.28,\n",
       " 55.91,\n",
       " 33.92,\n",
       " 73.85,\n",
       " 80.96,\n",
       " 53.55,\n",
       " -10.08,\n",
       " 37.3,\n",
       " 47.12,\n",
       " 28.17,\n",
       " 59.64,\n",
       " 17.68,\n",
       " 44.07,\n",
       " 15.65,\n",
       " 95.17,\n",
       " 68.77,\n",
       " 26.81,\n",
       " 4.47,\n",
       " 9.89,\n",
       " 38.66,\n",
       " 23.09,\n",
       " 43.39,\n",
       " 28.84,\n",
       " 39.67,\n",
       " 45.09,\n",
       " 33.24,\n",
       " 36.28,\n",
       " 55.24,\n",
       " 42.38,\n",
       " 76.22,\n",
       " 77.57,\n",
       " 33.92,\n",
       " 22.75,\n",
       " 80.28,\n",
       " 30.2,\n",
       " 91.45,\n",
       " 30.87,\n",
       " 46.44,\n",
       " 65.73,\n",
       " 68.77,\n",
       " 9.22,\n",
       " 53.55,\n",
       " 51.85,\n",
       " 64.71,\n",
       " 59.3,\n",
       " -29.03,\n",
       " 39.0,\n",
       " 53.55,\n",
       " 43.06,\n",
       " 6.51,\n",
       " 65.73,\n",
       " 19.71,\n",
       " 2.44,\n",
       " 41.36,\n",
       " 15.65,\n",
       " 47.79,\n",
       " 35.27,\n",
       " 6.51,\n",
       " 8.54,\n",
       " 29.18,\n",
       " 24.78,\n",
       " 14.29,\n",
       " -8.05,\n",
       " 26.81,\n",
       " 68.77,\n",
       " 84.0,\n",
       " 6.84,\n",
       " 91.45,\n",
       " 78.59,\n",
       " 35.27,\n",
       " 64.71,\n",
       " 28.84,\n",
       " 53.55,\n",
       " 64.71,\n",
       " -24.29,\n",
       " 10.56,\n",
       " 60.99,\n",
       " 59.98,\n",
       " 55.24,\n",
       " 22.08,\n",
       " 32.91,\n",
       " 0.08,\n",
       " 19.37,\n",
       " 48.13,\n",
       " 23.43,\n",
       " 43.06,\n",
       " 40.69,\n",
       " 35.27,\n",
       " 18.01,\n",
       " -34.45,\n",
       " 45.76,\n",
       " 71.82,\n",
       " 20.38,\n",
       " 58.62,\n",
       " 70.13,\n",
       " 66.07,\n",
       " 48.13,\n",
       " 34.94,\n",
       " 57.61,\n",
       " 73.85,\n",
       " 6.5,\n",
       " 3.8,\n",
       " 19.37,\n",
       " 98.55,\n",
       " -3.99,\n",
       " 75.54,\n",
       " 14.29,\n",
       " -3.99,\n",
       " 3.13,\n",
       " 40.69,\n",
       " 34.26,\n",
       " 38.99,\n",
       " 64.71,\n",
       " 5.83,\n",
       " 66.41,\n",
       " 6.84,\n",
       " 40.01,\n",
       " 39.33,\n",
       " 55.58,\n",
       " 63.02,\n",
       " 26.81,\n",
       " 39.67,\n",
       " 81.63,\n",
       " 18.36,\n",
       " 44.41,\n",
       " 45.42,\n",
       " 36.97,\n",
       " 3.12,\n",
       " 40.35,\n",
       " 18.35,\n",
       " 45.42,\n",
       " 42.72,\n",
       " 18.35,\n",
       " 51.85,\n",
       " 36.28,\n",
       " 37.98,\n",
       " 50.16,\n",
       " 67.42,\n",
       " -12.45,\n",
       " 66.4,\n",
       " 13.28,\n",
       " 30.2,\n",
       " 32.57,\n",
       " 28.51,\n",
       " 55.24,\n",
       " 89.75,\n",
       " 75.88,\n",
       " 90.77,\n",
       " 59.64,\n",
       " 68.1,\n",
       " 3.46,\n",
       " 58.96,\n",
       " 27.83,\n",
       " 80.62,\n",
       " 75.54,\n",
       " 33.58,\n",
       " 30.2,\n",
       " 55.24,\n",
       " 54.22,\n",
       " -26.33,\n",
       " 24.78,\n",
       " 67.08,\n",
       " 8.88,\n",
       " 75.88,\n",
       " 44.41,\n",
       " 37.98,\n",
       " 50.84,\n",
       " 42.38,\n",
       " 100.24,\n",
       " 64.71,\n",
       " 26.14,\n",
       " 67.08,\n",
       " 55.24,\n",
       " 48.47,\n",
       " 10.56,\n",
       " 39.67,\n",
       " 75.88,\n",
       " 50.84,\n",
       " 75.88,\n",
       " 35.61,\n",
       " 79.26,\n",
       " 75.88,\n",
       " 32.57,\n",
       " 83.32,\n",
       " 27.49,\n",
       " 48.47,\n",
       " 6.51,\n",
       " 41.36,\n",
       " 57.27,\n",
       " 83.32,\n",
       " 21.74,\n",
       " 78.59,\n",
       " 8.2,\n",
       " 50.5,\n",
       " 71.14,\n",
       " 46.1,\n",
       " 26.47,\n",
       " 29.18,\n",
       " 54.56,\n",
       " 27.83,\n",
       " 57.61,\n",
       " 11.92,\n",
       " 28.84,\n",
       " -38.17,\n",
       " -301.79,\n",
       " 15.64,\n",
       " 78.25,\n",
       " 4.47,\n",
       " 81.63,\n",
       " 43.39,\n",
       " 53.55,\n",
       " 38.32,\n",
       " 64.71,\n",
       " 65.73,\n",
       " 31.55,\n",
       " 60.65,\n",
       " 30.54,\n",
       " 8.2,\n",
       " 57.95,\n",
       " 19.71,\n",
       " 24.11,\n",
       " 53.55,\n",
       " 66.74,\n",
       " 59.3,\n",
       " 66.74,\n",
       " 21.74,\n",
       " 59.3,\n",
       " 9.22,\n",
       " 26.14,\n",
       " 24.78,\n",
       " 31.89,\n",
       " 44.75,\n",
       " 68.77,\n",
       " 8.88,\n",
       " 50.16,\n",
       " 29.18,\n",
       " 10.91,\n",
       " 41.7,\n",
       " 44.41,\n",
       " -18.21,\n",
       " 42.38,\n",
       " 32.56,\n",
       " -0.95,\n",
       " 60.99,\n",
       " 41.36,\n",
       " 27.83,\n",
       " 37.3,\n",
       " 44.41,\n",
       " 40.01,\n",
       " 48.81,\n",
       " 23.43,\n",
       " 15.99,\n",
       " 51.85,\n",
       " 44.75,\n",
       " 69.11,\n",
       " 17.34,\n",
       " 36.63,\n",
       " -20.91,\n",
       " 53.21,\n",
       " 66.4,\n",
       " 81.63,\n",
       " 38.66,\n",
       " 48.81,\n",
       " 92.8,\n",
       " 29.52,\n",
       " 37.98,\n",
       " 39.67,\n",
       " 17.34,\n",
       " 28.84,\n",
       " 33.24,\n",
       " 62.34,\n",
       " 37.64,\n",
       " 44.07,\n",
       " -0.61,\n",
       " -18.88,\n",
       " 3.13,\n",
       " 63.36,\n",
       " 73.85,\n",
       " 29.86,\n",
       " 57.27,\n",
       " 33.58,\n",
       " 28.17,\n",
       " 17.68,\n",
       " 37.98,\n",
       " 50.16,\n",
       " 19.37,\n",
       " 35.95,\n",
       " 15.65,\n",
       " -20.91,\n",
       " 35.61,\n",
       " -29.03,\n",
       " 3.8,\n",
       " 39.67,\n",
       " 68.77,\n",
       " 3.46,\n",
       " 20.72,\n",
       " -15.16,\n",
       " 63.36,\n",
       " 48.47,\n",
       " -19.22,\n",
       " 11.25,\n",
       " 26.14,\n",
       " 52.87,\n",
       " 81.63,\n",
       " 41.03,\n",
       " 43.73,\n",
       " -18.88,\n",
       " 13.28,\n",
       " -8.05,\n",
       " 46.44,\n",
       " 4.14,\n",
       " 63.7,\n",
       " 25.8,\n",
       " 100.24,\n",
       " 83.32,\n",
       " 45.76,\n",
       " -5.34,\n",
       " 58.28,\n",
       " 31.21,\n",
       " 6.5,\n",
       " 29.86,\n",
       " 46.1,\n",
       " 24.11,\n",
       " 24.78,\n",
       " 13.62,\n",
       " 18.01,\n",
       " 65.39,\n",
       " 55.92,\n",
       " 23.09,\n",
       " -9.07,\n",
       " 42.38,\n",
       " 28.51,\n",
       " 48.13,\n",
       " 17.68,\n",
       " -3.99,\n",
       " -31.74,\n",
       " 33.58,\n",
       " 26.81,\n",
       " -86.22,\n",
       " 10.23,\n",
       " 18.02,\n",
       " 37.3,\n",
       " 0.76,\n",
       " 18.35,\n",
       " 66.07,\n",
       " 31.89,\n",
       " 33.92,\n",
       " 10.56,\n",
       " 0.08,\n",
       " 73.85,\n",
       " 22.41,\n",
       " 32.9,\n",
       " -59.15,\n",
       " 58.28,\n",
       " 53.21,\n",
       " 30.54,\n",
       " 33.24,\n",
       " 12.26,\n",
       " 40.35,\n",
       " 71.82,\n",
       " 18.69,\n",
       " 24.11,\n",
       " 48.81,\n",
       " 55.24,\n",
       " 14.29,\n",
       " 76.22,\n",
       " 20.39,\n",
       " 4.48,\n",
       " 71.14,\n",
       " 51.18,\n",
       " 23.43,\n",
       " -30.39,\n",
       " 42.04,\n",
       " 35.27,\n",
       " 48.47,\n",
       " 32.22,\n",
       " 37.3,\n",
       " 64.71,\n",
       " 45.43,\n",
       " 44.75,\n",
       " 92.8,\n",
       " 92.8,\n",
       " 75.88,\n",
       " 22.07,\n",
       " 19.37,\n",
       " 33.24,\n",
       " 35.27,\n",
       " 24.78,\n",
       " 78.25,\n",
       " 59.3,\n",
       " 32.22,\n",
       " 14.29,\n",
       " 32.22,\n",
       " 24.78,\n",
       " -12.11,\n",
       " 44.41,\n",
       " 37.98,\n",
       " -12.79,\n",
       " 36.29,\n",
       " 83.32,\n",
       " 42.72,\n",
       " 57.61,\n",
       " 88.74,\n",
       " 26.14,\n",
       " 71.14,\n",
       " 10.56,\n",
       " 51.18,\n",
       " -85.54,\n",
       " 42.38,\n",
       " 47.79,\n",
       " 67.08,\n",
       " 33.92,\n",
       " 79.26,\n",
       " 30.2,\n",
       " 41.7,\n",
       " -1.96,\n",
       " 43.39,\n",
       " 37.31,\n",
       " 2.44,\n",
       " 46.78,\n",
       " 40.69,\n",
       " -13.46,\n",
       " 7.19,\n",
       " 23.77,\n",
       " 36.96,\n",
       " 45.76,\n",
       " 49.48,\n",
       " 51.18,\n",
       " 23.77,\n",
       " 66.74,\n",
       " 37.3,\n",
       " 50.5,\n",
       " -35.13,\n",
       " 33.24,\n",
       " 59.64,\n",
       " 20.72,\n",
       " 28.17,\n",
       " 60.31,\n",
       " -7.38,\n",
       " 7.52,\n",
       " 56.76,\n",
       " 35.27,\n",
       " 51.52,\n",
       " 21.74,\n",
       " 86.71,\n",
       " 44.07,\n",
       " 21.4,\n",
       " 26.14,\n",
       " 75.88,\n",
       " 71.48,\n",
       " 7.19,\n",
       " 26.81,\n",
       " 3.8,\n",
       " 30.2,\n",
       " 33.58,\n",
       " 35.95,\n",
       " 72.16,\n",
       " 8.53,\n",
       " -10.76,\n",
       " 47.46,\n",
       " 87.72,\n",
       " 53.88,\n",
       " 63.7,\n",
       " 31.22,\n",
       " 64.71,\n",
       " 16.32,\n",
       " 36.97,\n",
       " 35.95,\n",
       " 26.81,\n",
       " 50.5,\n",
       " 59.98,\n",
       " 23.77,\n",
       " 24.11,\n",
       " 13.28,\n",
       " 31.21,\n",
       " 14.29,\n",
       " 45.43,\n",
       " 47.8,\n",
       " 14.29,\n",
       " 16.32,\n",
       " 34.26,\n",
       " 26.14,\n",
       " 53.88,\n",
       " 46.1,\n",
       " 72.16,\n",
       " 35.61,\n",
       " 59.3,\n",
       " 64.71,\n",
       " 59.64,\n",
       " 75.88,\n",
       " 64.38,\n",
       " 25.46,\n",
       " 21.74,\n",
       " 52.87,\n",
       " 22.08,\n",
       " 53.21,\n",
       " -1.63,\n",
       " 18.02,\n",
       " 41.36,\n",
       " 14.29,\n",
       " 18.69,\n",
       " 76.22,\n",
       " 14.97,\n",
       " 66.07,\n",
       " 31.55,\n",
       " 27.49,\n",
       " 69.79,\n",
       " 30.54,\n",
       " 53.21,\n",
       " 71.14,\n",
       " 15.64,\n",
       " 57.27,\n",
       " 31.89,\n",
       " 14.64,\n",
       " 64.37,\n",
       " -4.33,\n",
       " 43.06,\n",
       " 29.86,\n",
       " 51.85,\n",
       " 48.13,\n",
       " 52.19,\n",
       " 3.46,\n",
       " 25.46,\n",
       " 14.29,\n",
       " -24.64,\n",
       " -51.03,\n",
       " 20.05,\n",
       " 69.11,\n",
       " 35.61,\n",
       " 62.34,\n",
       " 60.65,\n",
       " 25.8,\n",
       " 3.8,\n",
       " 45.09,\n",
       " 47.79,\n",
       " 57.27,\n",
       " 63.36,\n",
       " 3.47,\n",
       " 2.44,\n",
       " 75.88,\n",
       " 30.53,\n",
       " -2.98,\n",
       " 39.67,\n",
       " 24.79,\n",
       " 48.13,\n",
       " 29.86,\n",
       " 90.77,\n",
       " 31.21,\n",
       " 75.88,\n",
       " 50.84,\n",
       " 35.95,\n",
       " 2.79,\n",
       " 40.35,\n",
       " -12.11,\n",
       " 66.4,\n",
       " 36.97,\n",
       " 28.85,\n",
       " 17.34,\n",
       " 43.73,\n",
       " 21.06,\n",
       " 39.67,\n",
       " 43.73,\n",
       " 37.3,\n",
       " 35.61,\n",
       " 66.74,\n",
       " 80.28,\n",
       " 80.28,\n",
       " 34.93,\n",
       " 12.26,\n",
       " -12.79,\n",
       " 0.42,\n",
       " 15.31,\n",
       " 40.35,\n",
       " 63.36,\n",
       " 25.8,\n",
       " 16.32,\n",
       " -4.33,\n",
       " 47.79,\n",
       " 92.8,\n",
       " 34.26,\n",
       " 30.87,\n",
       " 13.62,\n",
       " 63.36,\n",
       " 77.91,\n",
       " 36.28,\n",
       " 71.82,\n",
       " 47.12,\n",
       " 45.76,\n",
       " 53.21,\n",
       " 59.3,\n",
       " 27.83,\n",
       " 63.02,\n",
       " 64.71,\n",
       " 39.67,\n",
       " 65.05,\n",
       " 41.7,\n",
       " 52.53,\n",
       " 38.66,\n",
       " 51.85,\n",
       " 16.66,\n",
       " 44.75,\n",
       " 25.12,\n",
       " 41.03,\n",
       " 71.14,\n",
       " 29.18,\n",
       " 29.52,\n",
       " 89.75,\n",
       " 77.23,\n",
       " 29.18,\n",
       " 51.18,\n",
       " -29.37,\n",
       " 74.19,\n",
       " 23.77,\n",
       " 18.01,\n",
       " 61.67,\n",
       " 60.99,\n",
       " 3.46,\n",
       " 33.24,\n",
       " -17.87,\n",
       " 99.23,\n",
       " 75.88,\n",
       " 69.11,\n",
       " 67.42,\n",
       " 74.19,\n",
       " 26.81,\n",
       " 9.9,\n",
       " -5.34,\n",
       " 92.8,\n",
       " 22.41,\n",
       " 13.62,\n",
       " 35.27,\n",
       " 81.29,\n",
       " 34.26,\n",
       " 36.63,\n",
       " 36.28,\n",
       " 50.16,\n",
       " 84.68,\n",
       " 18.69,\n",
       " 43.73,\n",
       " 12.6,\n",
       " 41.7,\n",
       " 43.4,\n",
       " 70.47,\n",
       " 86.71,\n",
       " 42.72,\n",
       " 11.25,\n",
       " 29.86,\n",
       " 22.42,\n",
       " 57.27,\n",
       " 30.88,\n",
       " 25.12,\n",
       " 50.16,\n",
       " 27.49,\n",
       " 9.22,\n",
       " 53.21,\n",
       " 38.66,\n",
       " 50.84,\n",
       " 33.24,\n",
       " -17.87,\n",
       " 49.82,\n",
       " -2.3,\n",
       " 54.56,\n",
       " -5.68,\n",
       " 44.75,\n",
       " 77.91,\n",
       " 7.53,\n",
       " 7.52,\n",
       " -24.63,\n",
       " 70.13,\n",
       " 14.29,\n",
       " 30.2,\n",
       " 20.04,\n",
       " 9.9,\n",
       " -11.44,\n",
       " -16.51,\n",
       " 48.47,\n",
       " 56.59,\n",
       " 31.89,\n",
       " 56.25,\n",
       " 35.61,\n",
       " 2.11,\n",
       " 68.77,\n",
       " 30.2,\n",
       " 46.1,\n",
       " 47.12,\n",
       " 8.53,\n",
       " 1.09,\n",
       " 29.18,\n",
       " -18.88,\n",
       " -25.99,\n",
       " 14.29,\n",
       " 25.8,\n",
       " 83.66,\n",
       " 29.18,\n",
       " 1.09,\n",
       " -19.56,\n",
       " 42.72,\n",
       " 29.18,\n",
       " 19.71,\n",
       " 38.99,\n",
       " 13.95,\n",
       " 69.11,\n",
       " 36.29,\n",
       " 56.25,\n",
       " 42.38,\n",
       " 39.67,\n",
       " 33.58,\n",
       " -1.28,\n",
       " -5.0,\n",
       " 11.92,\n",
       " 40.69,\n",
       " 41.7,\n",
       " 66.4,\n",
       " 58.96,\n",
       " 11.59,\n",
       " 30.88,\n",
       " 92.12,\n",
       " 27.49,\n",
       " 52.19,\n",
       " 37.99,\n",
       " 62.68,\n",
       " 34.93,\n",
       " -13.8,\n",
       " -3.99,\n",
       " 51.85,\n",
       " 62.34,\n",
       " 38.66,\n",
       " 21.06,\n",
       " 22.08,\n",
       " 56.59,\n",
       " 38.99,\n",
       " 55.24,\n",
       " 48.13,\n",
       " 67.76,\n",
       " 75.88,\n",
       " 5.49,\n",
       " 20.38,\n",
       " 41.36,\n",
       " 77.57,\n",
       " 77.57,\n",
       " 66.74,\n",
       " -43.25,\n",
       " -13.47,\n",
       " 11.25,\n",
       " -3.99,\n",
       " 81.63,\n",
       " 31.55,\n",
       " 6.17,\n",
       " 29.86,\n",
       " 45.42,\n",
       " 18.02,\n",
       " 35.27,\n",
       " -20.57,\n",
       " 37.98,\n",
       " 61.33,\n",
       " 62.68,\n",
       " 71.82,\n",
       " -17.53,\n",
       " 71.14,\n",
       " 33.92,\n",
       " 79.26,\n",
       " 0.42,\n",
       " 59.97,\n",
       " 66.74,\n",
       " 44.75,\n",
       " 0.08,\n",
       " 100.24,\n",
       " 0.42,\n",
       " 36.63,\n",
       " 92.8,\n",
       " 15.65,\n",
       " 12.26,\n",
       " -46.97,\n",
       " 44.75,\n",
       " 32.57,\n",
       " 30.87,\n",
       " 52.87,\n",
       " 16.32,\n",
       " -2.98,\n",
       " 14.63,\n",
       " 29.86,\n",
       " -3.99,\n",
       " 84.68,\n",
       " 10.23,\n",
       " 48.81,\n",
       " 36.96,\n",
       " 41.03,\n",
       " 62.68,\n",
       " 31.89,\n",
       " 9.22,\n",
       " 0.08,\n",
       " 39.33,\n",
       " 83.32,\n",
       " 49.15,\n",
       " 55.58,\n",
       " 13.62,\n",
       " -12.79,\n",
       " 59.64,\n",
       " 39.67,\n",
       " 75.88,\n",
       " 39.34,\n",
       " 41.03,\n",
       " 71.14,\n",
       " 22.08,\n",
       " 24.78,\n",
       " -11.1,\n",
       " 95.17,\n",
       " 61.67,\n",
       " 35.95,\n",
       " 32.22,\n",
       " 39.67,\n",
       " 14.29,\n",
       " 37.64,\n",
       " 59.64,\n",
       " 81.29,\n",
       " 15.31,\n",
       " -9.07,\n",
       " 28.84,\n",
       " 44.75,\n",
       " 33.58,\n",
       " 9.22,\n",
       " 36.28,\n",
       " 72.5,\n",
       " 9.22,\n",
       " ...]"
      ]
     },
     "execution_count": 24,
     "metadata": {},
     "output_type": "execute_result"
    }
   ],
   "source": [
    "with concurrent.futures.ProcessPoolExecutor(num_processes) as pool:\n",
    "    toto_complex= list(tqdm(pool.map(flesch_reading_ease, toto, chunksize=num_processes*2), total=len(toto)))\n",
    "toto_complex"
   ]
  },
  {
   "cell_type": "code",
   "execution_count": 36,
   "metadata": {
    "ExecuteTime": {
     "end_time": "2021-01-10T21:09:00.545141Z",
     "start_time": "2021-01-10T21:09:00.542161Z"
    }
   },
   "outputs": [
    {
     "data": {
      "text/plain": [
       "\"She recorded their dying epiphanies in a blog called Inspiration and Chai', blogTag:'', istop:false, recomBlogHome:false, currentRecomBlog:false, attachmentsFileIds:, vote:, groupInfo:, friendstatus:'none', followstatus:'unFollow', pubSucc:'', visitorProvi\""
      ]
     },
     "execution_count": 36,
     "metadata": {},
     "output_type": "execute_result"
    }
   ],
   "source": [
    "toto[514][:256]"
   ]
  },
  {
   "cell_type": "code",
   "execution_count": 25,
   "metadata": {
    "ExecuteTime": {
     "end_time": "2021-01-04T16:32:52.049655Z",
     "start_time": "2021-01-04T16:32:51.936604Z"
    }
   },
   "outputs": [
    {
     "data": {
      "text/html": [
       "<div>\n",
       "<style scoped>\n",
       "    .dataframe tbody tr th:only-of-type {\n",
       "        vertical-align: middle;\n",
       "    }\n",
       "\n",
       "    .dataframe tbody tr th {\n",
       "        vertical-align: top;\n",
       "    }\n",
       "\n",
       "    .dataframe thead th {\n",
       "        text-align: right;\n",
       "    }\n",
       "</style>\n",
       "<table border=\"1\" class=\"dataframe\">\n",
       "  <thead>\n",
       "    <tr style=\"text-align: right;\">\n",
       "      <th></th>\n",
       "      <th>phrase</th>\n",
       "      <th>complexity</th>\n",
       "    </tr>\n",
       "  </thead>\n",
       "  <tbody>\n",
       "    <tr>\n",
       "      <th>0</th>\n",
       "      <td>She is also a Ronald D</td>\n",
       "      <td>90.77</td>\n",
       "    </tr>\n",
       "    <tr>\n",
       "      <th>1</th>\n",
       "      <td>He is a member of the AICPA and WICPA</td>\n",
       "      <td>79.26</td>\n",
       "    </tr>\n",
       "    <tr>\n",
       "      <th>2</th>\n",
       "      <td>Dr Aster has held teaching and research posit...</td>\n",
       "      <td>4.82</td>\n",
       "    </tr>\n",
       "    <tr>\n",
       "      <th>3</th>\n",
       "      <td>He runs a boutique design studio attending cl...</td>\n",
       "      <td>64.71</td>\n",
       "    </tr>\n",
       "    <tr>\n",
       "      <th>4</th>\n",
       "      <td>He focuses on cloud security, identity and ac...</td>\n",
       "      <td>-14.48</td>\n",
       "    </tr>\n",
       "    <tr>\n",
       "      <th>...</th>\n",
       "      <td>...</td>\n",
       "      <td>...</td>\n",
       "    </tr>\n",
       "    <tr>\n",
       "      <th>217192</th>\n",
       "      <td>A member of the UWA Cultural Collections Boar...</td>\n",
       "      <td>54.56</td>\n",
       "    </tr>\n",
       "    <tr>\n",
       "      <th>217193</th>\n",
       "      <td>Kelly has worked globally leading teams of co...</td>\n",
       "      <td>59.30</td>\n",
       "    </tr>\n",
       "    <tr>\n",
       "      <th>217194</th>\n",
       "      <td>He's the lead author of a recent study that f...</td>\n",
       "      <td>46.10</td>\n",
       "    </tr>\n",
       "    <tr>\n",
       "      <th>217195</th>\n",
       "      <td>She specializes in the theoretical and pedago...</td>\n",
       "      <td>-3.65</td>\n",
       "    </tr>\n",
       "    <tr>\n",
       "      <th>217196</th>\n",
       "      <td>Since she was 10 years old she has become a m...</td>\n",
       "      <td>85.69</td>\n",
       "    </tr>\n",
       "  </tbody>\n",
       "</table>\n",
       "<p>217197 rows × 2 columns</p>\n",
       "</div>"
      ],
      "text/plain": [
       "                                                   phrase  complexity\n",
       "0                                  She is also a Ronald D       90.77\n",
       "1                   He is a member of the AICPA and WICPA       79.26\n",
       "2        Dr Aster has held teaching and research posit...        4.82\n",
       "3        He runs a boutique design studio attending cl...       64.71\n",
       "4        He focuses on cloud security, identity and ac...      -14.48\n",
       "...                                                   ...         ...\n",
       "217192   A member of the UWA Cultural Collections Boar...       54.56\n",
       "217193   Kelly has worked globally leading teams of co...       59.30\n",
       "217194   He's the lead author of a recent study that f...       46.10\n",
       "217195   She specializes in the theoretical and pedago...       -3.65\n",
       "217196   Since she was 10 years old she has become a m...       85.69\n",
       "\n",
       "[217197 rows x 2 columns]"
      ]
     },
     "execution_count": 25,
     "metadata": {},
     "output_type": "execute_result"
    }
   ],
   "source": [
    "df=pd.DataFrame()\n",
    "df['phrase']=toto\n",
    "df[\"complexity\"]=toto_complex\n",
    "df"
   ]
  },
  {
   "cell_type": "code",
   "execution_count": 26,
   "metadata": {
    "ExecuteTime": {
     "end_time": "2021-01-04T16:32:54.291618Z",
     "start_time": "2021-01-04T16:32:53.967786Z"
    }
   },
   "outputs": [
    {
     "data": {
      "text/plain": [
       "<matplotlib.axes._subplots.AxesSubplot at 0x7f12c8e1c850>"
      ]
     },
     "execution_count": 26,
     "metadata": {},
     "output_type": "execute_result"
    },
    {
     "data": {
      "image/png": "[encoded data removed]",
      "text/plain": [
       "<Figure size 1224x720 with 1 Axes>"
      ]
     },
     "metadata": {
      "needs_background": "light"
     },
     "output_type": "display_data"
    }
   ],
   "source": [
    "df.complexity.hist(bins=100)"
   ]
  },
  {
   "cell_type": "code",
   "execution_count": 40,
   "metadata": {
    "ExecuteTime": {
     "end_time": "2021-01-04T16:54:35.006970Z",
     "start_time": "2021-01-04T16:54:34.979132Z"
    }
   },
   "outputs": [
    {
     "data": {
      "text/html": [
       "<div>\n",
       "<style scoped>\n",
       "    .dataframe tbody tr th:only-of-type {\n",
       "        vertical-align: middle;\n",
       "    }\n",
       "\n",
       "    .dataframe tbody tr th {\n",
       "        vertical-align: top;\n",
       "    }\n",
       "\n",
       "    .dataframe thead th {\n",
       "        text-align: right;\n",
       "    }\n",
       "</style>\n",
       "<table border=\"1\" class=\"dataframe\">\n",
       "  <thead>\n",
       "    <tr style=\"text-align: right;\">\n",
       "      <th></th>\n",
       "      <th>phrase</th>\n",
       "      <th>complexity</th>\n",
       "    </tr>\n",
       "  </thead>\n",
       "  <tbody>\n",
       "    <tr>\n",
       "      <th>61</th>\n",
       "      <td>Galloway won the 2012 Writer’s Guild of Ameri...</td>\n",
       "      <td>20.39</td>\n",
       "    </tr>\n",
       "    <tr>\n",
       "      <th>119</th>\n",
       "      <td>He writes and presents frequently on the camp...</td>\n",
       "      <td>20.72</td>\n",
       "    </tr>\n",
       "    <tr>\n",
       "      <th>146</th>\n",
       "      <td>He covers Asian politics, defence and securit...</td>\n",
       "      <td>20.38</td>\n",
       "    </tr>\n",
       "    <tr>\n",
       "      <th>164</th>\n",
       "      <td>He has extensive experience trying personal i...</td>\n",
       "      <td>19.03</td>\n",
       "    </tr>\n",
       "    <tr>\n",
       "      <th>227</th>\n",
       "      <td>Petersburg, FL, whose practice focuses on fam...</td>\n",
       "      <td>19.71</td>\n",
       "    </tr>\n",
       "    <tr>\n",
       "      <th>...</th>\n",
       "      <td>...</td>\n",
       "      <td>...</td>\n",
       "    </tr>\n",
       "    <tr>\n",
       "      <th>216871</th>\n",
       "      <td>She is a freelance writer, Bible study and de...</td>\n",
       "      <td>19.37</td>\n",
       "    </tr>\n",
       "    <tr>\n",
       "      <th>216936</th>\n",
       "      <td>Dr Ishemo has held posts as Senior Regional P...</td>\n",
       "      <td>20.72</td>\n",
       "    </tr>\n",
       "    <tr>\n",
       "      <th>217007</th>\n",
       "      <td>He currently practices at Buffalo Orthopaedic...</td>\n",
       "      <td>19.37</td>\n",
       "    </tr>\n",
       "    <tr>\n",
       "      <th>217032</th>\n",
       "      <td>He has been in private practice for 25 years,...</td>\n",
       "      <td>20.38</td>\n",
       "    </tr>\n",
       "    <tr>\n",
       "      <th>217154</th>\n",
       "      <td>He Obtained his Bachelor of Mechanical Engine...</td>\n",
       "      <td>20.04</td>\n",
       "    </tr>\n",
       "  </tbody>\n",
       "</table>\n",
       "<p>3724 rows × 2 columns</p>\n",
       "</div>"
      ],
      "text/plain": [
       "                                                   phrase  complexity\n",
       "61       Galloway won the 2012 Writer’s Guild of Ameri...       20.39\n",
       "119      He writes and presents frequently on the camp...       20.72\n",
       "146      He covers Asian politics, defence and securit...       20.38\n",
       "164      He has extensive experience trying personal i...       19.03\n",
       "227      Petersburg, FL, whose practice focuses on fam...       19.71\n",
       "...                                                   ...         ...\n",
       "216871   She is a freelance writer, Bible study and de...       19.37\n",
       "216936   Dr Ishemo has held posts as Senior Regional P...       20.72\n",
       "217007   He currently practices at Buffalo Orthopaedic...       19.37\n",
       "217032   He has been in private practice for 25 years,...       20.38\n",
       "217154   He Obtained his Bachelor of Mechanical Engine...       20.04\n",
       "\n",
       "[3724 rows x 2 columns]"
      ]
     },
     "execution_count": 40,
     "metadata": {},
     "output_type": "execute_result"
    }
   ],
   "source": [
    "df[(df.complexity<21) & (df.complexity>19)]"
   ]
  },
  {
   "cell_type": "code",
   "execution_count": 43,
   "metadata": {
    "ExecuteTime": {
     "end_time": "2021-01-04T16:55:33.624395Z",
     "start_time": "2021-01-04T16:55:33.617483Z"
    }
   },
   "outputs": [
    {
     "data": {
      "text/plain": [
       "' Galloway won the 2012 Writer’s Guild of America’s Best Documentary Screenplay award for her film BETTER THIS WORLD (POV, 2011, encore 2012) which investigates the story of boyhood friends charged with domestic terrorism & their lengthy relationship with a “revolutionary” mentor & FBI informant'"
      ]
     },
     "execution_count": 43,
     "metadata": {},
     "output_type": "execute_result"
    }
   ],
   "source": [
    "(df.phrase[61])"
   ]
  },
  {
   "cell_type": "markdown",
   "metadata": {},
   "source": [
    "# Named Entity Recognition"
   ]
  },
  {
   "cell_type": "code",
   "execution_count": 57,
   "metadata": {
    "ExecuteTime": {
     "end_time": "2021-01-10T22:05:54.569331Z",
     "start_time": "2021-01-10T22:05:54.051636Z"
    }
   },
   "outputs": [],
   "source": [
    "import en_core_web_sm\n",
    "nlp = en_core_web_sm.load()\n"
   ]
  },
  {
   "cell_type": "code",
   "execution_count": 62,
   "metadata": {
    "ExecuteTime": {
     "end_time": "2021-01-10T22:07:09.312338Z",
     "start_time": "2021-01-10T22:07:09.293366Z"
    }
   },
   "outputs": [
    {
     "data": {
      "text/plain": [
       "[('Aster', 'PERSON'),\n",
       " ('Ben Gurion University', 'ORG'),\n",
       " ('Haifa University', 'ORG'),\n",
       " ('Hebrew University', 'ORG'),\n",
       " ('Bar Ilan University', 'ORG'),\n",
       " ('the University of Pennsylvania', 'ORG'),\n",
       " ('Jewish', 'NORP'),\n",
       " ('United Stated', 'GPE'),\n",
       " ('Israel', 'GPE')]"
      ]
     },
     "execution_count": 62,
     "metadata": {},
     "output_type": "execute_result"
    }
   ],
   "source": [
    "doc=nlp(train.cleaned[2])\n",
    "\n",
    "[(x.text,x.label_) for x in doc.ents]"
   ]
  },
  {
   "cell_type": "code",
   "execution_count": 63,
   "metadata": {
    "ExecuteTime": {
     "end_time": "2021-01-10T22:07:13.857156Z",
     "start_time": "2021-01-10T22:07:13.853909Z"
    }
   },
   "outputs": [
    {
     "data": {
      "text/html": [
       "<span class=\"tex2jax_ignore\"><div class=\"entities\" style=\"line-height: 2.5; direction: ltr\">Dr. \n",
       "<mark class=\"entity\" style=\"background: #aa9cfc; padding: 0.45em 0.6em; margin: 0 0.25em; line-height: 1; border-radius: 0.35em;\">\n",
       "    Aster\n",
       "    <span style=\"font-size: 0.8em; font-weight: bold; line-height: 1; border-radius: 0.35em; text-transform: uppercase; vertical-align: middle; margin-left: 0.5rem\">PERSON</span>\n",
       "</mark>\n",
       " has held teaching and research positions at \n",
       "<mark class=\"entity\" style=\"background: #7aecec; padding: 0.45em 0.6em; margin: 0 0.25em; line-height: 1; border-radius: 0.35em;\">\n",
       "    Ben Gurion University\n",
       "    <span style=\"font-size: 0.8em; font-weight: bold; line-height: 1; border-radius: 0.35em; text-transform: uppercase; vertical-align: middle; margin-left: 0.5rem\">ORG</span>\n",
       "</mark>\n",
       ", \n",
       "<mark class=\"entity\" style=\"background: #7aecec; padding: 0.45em 0.6em; margin: 0 0.25em; line-height: 1; border-radius: 0.35em;\">\n",
       "    Haifa University\n",
       "    <span style=\"font-size: 0.8em; font-weight: bold; line-height: 1; border-radius: 0.35em; text-transform: uppercase; vertical-align: middle; margin-left: 0.5rem\">ORG</span>\n",
       "</mark>\n",
       ", \n",
       "<mark class=\"entity\" style=\"background: #7aecec; padding: 0.45em 0.6em; margin: 0 0.25em; line-height: 1; border-radius: 0.35em;\">\n",
       "    Hebrew University\n",
       "    <span style=\"font-size: 0.8em; font-weight: bold; line-height: 1; border-radius: 0.35em; text-transform: uppercase; vertical-align: middle; margin-left: 0.5rem\">ORG</span>\n",
       "</mark>\n",
       ", \n",
       "<mark class=\"entity\" style=\"background: #7aecec; padding: 0.45em 0.6em; margin: 0 0.25em; line-height: 1; border-radius: 0.35em;\">\n",
       "    Bar Ilan University\n",
       "    <span style=\"font-size: 0.8em; font-weight: bold; line-height: 1; border-radius: 0.35em; text-transform: uppercase; vertical-align: middle; margin-left: 0.5rem\">ORG</span>\n",
       "</mark>\n",
       " and \n",
       "<mark class=\"entity\" style=\"background: #7aecec; padding: 0.45em 0.6em; margin: 0 0.25em; line-height: 1; border-radius: 0.35em;\">\n",
       "    the University of Pennsylvania\n",
       "    <span style=\"font-size: 0.8em; font-weight: bold; line-height: 1; border-radius: 0.35em; text-transform: uppercase; vertical-align: middle; margin-left: 0.5rem\">ORG</span>\n",
       "</mark>\n",
       ". He has also taught \n",
       "<mark class=\"entity\" style=\"background: #c887fb; padding: 0.45em 0.6em; margin: 0 0.25em; line-height: 1; border-radius: 0.35em;\">\n",
       "    Jewish\n",
       "    <span style=\"font-size: 0.8em; font-weight: bold; line-height: 1; border-radius: 0.35em; text-transform: uppercase; vertical-align: middle; margin-left: 0.5rem\">NORP</span>\n",
       "</mark>\n",
       " studies at high schools in the \n",
       "<mark class=\"entity\" style=\"background: #feca74; padding: 0.45em 0.6em; margin: 0 0.25em; line-height: 1; border-radius: 0.35em;\">\n",
       "    United Stated\n",
       "    <span style=\"font-size: 0.8em; font-weight: bold; line-height: 1; border-radius: 0.35em; text-transform: uppercase; vertical-align: middle; margin-left: 0.5rem\">GPE</span>\n",
       "</mark>\n",
       " and \n",
       "<mark class=\"entity\" style=\"background: #feca74; padding: 0.45em 0.6em; margin: 0 0.25em; line-height: 1; border-radius: 0.35em;\">\n",
       "    Israel\n",
       "    <span style=\"font-size: 0.8em; font-weight: bold; line-height: 1; border-radius: 0.35em; text-transform: uppercase; vertical-align: middle; margin-left: 0.5rem\">GPE</span>\n",
       "</mark>\n",
       ".</div></span>"
      ],
      "text/plain": [
       "<IPython.core.display.HTML object>"
      ]
     },
     "metadata": {},
     "output_type": "display_data"
    }
   ],
   "source": [
    "from spacy import displacy\n",
    "\n",
    "displacy.render(doc, style='ent')"
   ]
  },
  {
   "cell_type": "code",
   "execution_count": 64,
   "metadata": {
    "ExecuteTime": {
     "end_time": "2021-01-10T22:19:36.163847Z",
     "start_time": "2021-01-10T22:09:55.187856Z"
    }
   },
   "outputs": [
    {
     "name": "stderr",
     "output_type": "stream",
     "text": [
      "100%|██████████| 217197/217197 [09:38<00:00, 375.39it/s]\n"
     ]
    }
   ],
   "source": [
    "def _get_ner(text):\n",
    "    doc=nlp(text)\n",
    "    return [X.label_ for X in doc.ents]\n",
    "\n",
    "with concurrent.futures.ProcessPoolExecutor(num_processes) as pool:\n",
    "    ent = list(tqdm(pool.map(_get_ner, train.cleaned, chunksize=num_processes*2), total=train.shape[0]))\n"
   ]
  },
  {
   "cell_type": "code",
   "execution_count": 65,
   "metadata": {
    "ExecuteTime": {
     "end_time": "2021-01-10T22:29:10.164346Z",
     "start_time": "2021-01-10T22:29:09.798645Z"
    }
   },
   "outputs": [
    {
     "data": {
      "text/plain": [
       "<AxesSubplot:>"
      ]
     },
     "execution_count": 65,
     "metadata": {},
     "output_type": "execute_result"
    },
    {
     "data": {
      "image/png": "[encoded data removed]",
      "text/plain": [
       "<Figure size 1224x720 with 1 Axes>"
      ]
     },
     "metadata": {
      "needs_background": "light"
     },
     "output_type": "display_data"
    }
   ],
   "source": [
    "from collections import  Counter\n",
    "\n",
    "ent=[x for sub in ent for x in sub]\n",
    "counter=Counter(ent)\n",
    "count=counter.most_common()\n",
    "\n",
    "x,y=map(list,zip(*count))\n",
    "sns.barplot(x=y,y=x)"
   ]
  },
  {
   "cell_type": "code",
   "execution_count": 85,
   "metadata": {
    "ExecuteTime": {
     "end_time": "2021-01-10T22:54:21.210056Z",
     "start_time": "2021-01-10T22:54:21.190496Z"
    }
   },
   "outputs": [
    {
     "name": "stdout",
     "output_type": "stream",
     "text": [
      "66784\n"
     ]
    },
    {
     "data": {
      "text/html": [
       "<span class=\"tex2jax_ignore\"><div class=\"entities\" style=\"line-height: 2.5; direction: ltr\">\n",
       "<mark class=\"entity\" style=\"background: #7aecec; padding: 0.45em 0.6em; margin: 0 0.25em; line-height: 1; border-radius: 0.35em;\">\n",
       "    Peter’s College\n",
       "    <span style=\"font-size: 0.8em; font-weight: bold; line-height: 1; border-radius: 0.35em; text-transform: uppercase; vertical-align: middle; margin-left: 0.5rem\">ORG</span>\n",
       "</mark>\n",
       ", \n",
       "<mark class=\"entity\" style=\"background: #feca74; padding: 0.45em 0.6em; margin: 0 0.25em; line-height: 1; border-radius: 0.35em;\">\n",
       "    Wexford\n",
       "    <span style=\"font-size: 0.8em; font-weight: bold; line-height: 1; border-radius: 0.35em; text-transform: uppercase; vertical-align: middle; margin-left: 0.5rem\">GPE</span>\n",
       "</mark>\n",
       ". Having completed his undergraduate degree in History and \n",
       "<mark class=\"entity\" style=\"background: #aa9cfc; padding: 0.45em 0.6em; margin: 0 0.25em; line-height: 1; border-radius: 0.35em;\">\n",
       "    Geography\n",
       "    <span style=\"font-size: 0.8em; font-weight: bold; line-height: 1; border-radius: 0.35em; text-transform: uppercase; vertical-align: middle; margin-left: 0.5rem\">PERSON</span>\n",
       "</mark>\n",
       " in \n",
       "<mark class=\"entity\" style=\"background: #7aecec; padding: 0.45em 0.6em; margin: 0 0.25em; line-height: 1; border-radius: 0.35em;\">\n",
       "    Trinity College Dublin\n",
       "    <span style=\"font-size: 0.8em; font-weight: bold; line-height: 1; border-radius: 0.35em; text-transform: uppercase; vertical-align: middle; margin-left: 0.5rem\">ORG</span>\n",
       "</mark>\n",
       ", \n",
       "<mark class=\"entity\" style=\"background: #aa9cfc; padding: 0.45em 0.6em; margin: 0 0.25em; line-height: 1; border-radius: 0.35em;\">\n",
       "    Cormac\n",
       "    <span style=\"font-size: 0.8em; font-weight: bold; line-height: 1; border-radius: 0.35em; text-transform: uppercase; vertical-align: middle; margin-left: 0.5rem\">PERSON</span>\n",
       "</mark>\n",
       " undertook his \n",
       "<mark class=\"entity\" style=\"background: #f0d0ff; padding: 0.45em 0.6em; margin: 0 0.25em; line-height: 1; border-radius: 0.35em;\">\n",
       "    Postgraduate in Education\n",
       "    <span style=\"font-size: 0.8em; font-weight: bold; line-height: 1; border-radius: 0.35em; text-transform: uppercase; vertical-align: middle; margin-left: 0.5rem\">WORK_OF_ART</span>\n",
       "</mark>\n",
       " at \n",
       "<mark class=\"entity\" style=\"background: #7aecec; padding: 0.45em 0.6em; margin: 0 0.25em; line-height: 1; border-radius: 0.35em;\">\n",
       "    NUI Galway\n",
       "    <span style=\"font-size: 0.8em; font-weight: bold; line-height: 1; border-radius: 0.35em; text-transform: uppercase; vertical-align: middle; margin-left: 0.5rem\">ORG</span>\n",
       "</mark>\n",
       ". Outside the classroom, \n",
       "<mark class=\"entity\" style=\"background: #aa9cfc; padding: 0.45em 0.6em; margin: 0 0.25em; line-height: 1; border-radius: 0.35em;\">\n",
       "    Cormac\n",
       "    <span style=\"font-size: 0.8em; font-weight: bold; line-height: 1; border-radius: 0.35em; text-transform: uppercase; vertical-align: middle; margin-left: 0.5rem\">PERSON</span>\n",
       "</mark>\n",
       " is a \n",
       "<mark class=\"entity\" style=\"background: #7aecec; padding: 0.45em 0.6em; margin: 0 0.25em; line-height: 1; border-radius: 0.35em;\">\n",
       "    Junior Rugby\n",
       "    <span style=\"font-size: 0.8em; font-weight: bold; line-height: 1; border-radius: 0.35em; text-transform: uppercase; vertical-align: middle; margin-left: 0.5rem\">ORG</span>\n",
       "</mark>\n",
       " coach …</div></span>"
      ],
      "text/plain": [
       "<IPython.core.display.HTML object>"
      ]
     },
     "metadata": {},
     "output_type": "display_data"
    },
    {
     "data": {
      "text/plain": [
       "'ORG, Wexford. Having completed his undergraduate degree in History and PERSON in ORG, PERSON undertook his Postgraduate in Education at ORG. Outside the classroom, PERSON is a ORG coach …'"
      ]
     },
     "execution_count": 85,
     "metadata": {},
     "output_type": "execute_result"
    }
   ],
   "source": [
    "n=np.random.randint(0,len(train))\n",
    "print(n)\n",
    "input_text=train.cleaned[n]\n",
    "doc=nlp(input_text)\n",
    "displacy.render(doc, style='ent')\n",
    "\n",
    "text_label=[(x.text,x.label_) for x in doc.ents]\n",
    "for text, label in text_label:\n",
    "    if label in [\"ORG\",\"PERSON\"]:\n",
    "        input_text = input_text.replace(text, label) \n",
    "    \n",
    "input_text"
   ]
  },
  {
   "cell_type": "code",
   "execution_count": 81,
   "metadata": {
    "ExecuteTime": {
     "end_time": "2021-01-10T22:52:23.554474Z",
     "start_time": "2021-01-10T22:52:15.031739Z"
    }
   },
   "outputs": [],
   "source": [
    "from transformers import RobertaTokenizer\n",
    "tokenizer = RobertaTokenizer.from_pretrained(\"roberta-base\")"
   ]
  },
  {
   "cell_type": "code",
   "execution_count": 88,
   "metadata": {
    "ExecuteTime": {
     "end_time": "2021-01-10T22:55:52.246721Z",
     "start_time": "2021-01-10T22:55:52.242097Z"
    }
   },
   "outputs": [
    {
     "data": {
      "text/plain": [
       "['Peter',\n",
       " 'âĢ',\n",
       " 'Ļ',\n",
       " 's',\n",
       " 'ĠCollege',\n",
       " ',',\n",
       " 'ĠWe',\n",
       " 'x',\n",
       " 'ford',\n",
       " '.',\n",
       " 'ĠHaving',\n",
       " 'Ġcompleted',\n",
       " 'Ġhis',\n",
       " 'Ġundergraduate',\n",
       " 'Ġdegree',\n",
       " 'Ġin',\n",
       " 'ĠHistory',\n",
       " 'Ġand',\n",
       " 'ĠGe',\n",
       " 'ography',\n",
       " 'Ġin',\n",
       " 'ĠTrinity',\n",
       " 'ĠCollege',\n",
       " 'ĠDublin',\n",
       " ',',\n",
       " 'ĠCorm',\n",
       " 'ac',\n",
       " 'Ġundertook',\n",
       " 'Ġhis',\n",
       " 'ĠPost',\n",
       " 'graduate',\n",
       " 'Ġin',\n",
       " 'ĠEducation',\n",
       " 'Ġat',\n",
       " 'ĠN',\n",
       " 'UI',\n",
       " 'ĠGal',\n",
       " 'way',\n",
       " '.',\n",
       " 'ĠOutside',\n",
       " 'Ġthe',\n",
       " 'Ġclassroom',\n",
       " ',',\n",
       " 'ĠCorm',\n",
       " 'ac',\n",
       " 'Ġis',\n",
       " 'Ġa',\n",
       " 'ĠJunior',\n",
       " 'ĠRugby',\n",
       " 'Ġcoach',\n",
       " 'ĠâĢ¦']"
      ]
     },
     "execution_count": 88,
     "metadata": {},
     "output_type": "execute_result"
    }
   ],
   "source": [
    "tokenizer.tokenize(train.cleaned[n])"
   ]
  },
  {
   "cell_type": "markdown",
   "metadata": {},
   "source": [
    "# RAndom Forest"
   ]
  },
  {
   "cell_type": "code",
   "execution_count": 8,
   "metadata": {
    "ExecuteTime": {
     "end_time": "2021-01-11T15:11:16.429310Z",
     "start_time": "2021-01-11T15:11:16.119925Z"
    }
   },
   "outputs": [],
   "source": [
    "train[\"classic\"] = [x.lower() for x in train.cleaned]\n",
    "test[\"classic\"] = [x.lower() for x in test.cleaned]"
   ]
  },
  {
   "cell_type": "code",
   "execution_count": 17,
   "metadata": {
    "ExecuteTime": {
     "end_time": "2021-01-11T15:15:36.745017Z",
     "start_time": "2021-01-11T15:15:36.741765Z"
    }
   },
   "outputs": [
    {
     "name": "stderr",
     "output_type": "stream",
     "text": [
      "[nltk_data] Downloading package stopwords to\n",
      "[nltk_data]     /home/prembamrung/nltk_data...\n",
      "[nltk_data]   Package stopwords is already up-to-date!\n"
     ]
    }
   ],
   "source": [
    "import nltk\n",
    "from nltk.corpus import stopwords\n",
    "nltk.download('stopwords')\n",
    "stop=set(stopwords.words('english'))\n",
    "from nltk.tokenize import word_tokenize"
   ]
  },
  {
   "cell_type": "code",
   "execution_count": 11,
   "metadata": {
    "ExecuteTime": {
     "end_time": "2021-01-11T15:13:08.914613Z",
     "start_time": "2021-01-11T15:13:08.911519Z"
    }
   },
   "outputs": [
    {
     "data": {
      "text/plain": [
       "'she is also a ronald d. asmus policy entrepreneur fellow with the german marshall fund and is a visiting fellow at the centre for international studies at the university of oxford. this commentary first appeared at sada, an online journal published by the carnegie endowment for international peace.'"
      ]
     },
     "execution_count": 11,
     "metadata": {},
     "output_type": "execute_result"
    }
   ],
   "source": [
    "train.classic[0]"
   ]
  },
  {
   "cell_type": "code",
   "execution_count": 19,
   "metadata": {
    "ExecuteTime": {
     "end_time": "2021-01-11T15:15:54.863099Z",
     "start_time": "2021-01-11T15:15:53.549319Z"
    }
   },
   "outputs": [
    {
     "name": "stderr",
     "output_type": "stream",
     "text": [
      "[nltk_data] Downloading package punkt to\n",
      "[nltk_data]     /home/prembamrung/nltk_data...\n",
      "[nltk_data]   Unzipping tokenizers/punkt.zip.\n"
     ]
    },
    {
     "data": {
      "text/plain": [
       "True"
      ]
     },
     "execution_count": 19,
     "metadata": {},
     "output_type": "execute_result"
    }
   ],
   "source": [
    "nltk.download('punkt')"
   ]
  },
  {
   "cell_type": "code",
   "execution_count": 20,
   "metadata": {
    "ExecuteTime": {
     "end_time": "2021-01-11T15:15:56.465901Z",
     "start_time": "2021-01-11T15:15:56.456896Z"
    }
   },
   "outputs": [],
   "source": [
    "text_tokens = word_tokenize(train.classic[0])"
   ]
  },
  {
   "cell_type": "code",
   "execution_count": 22,
   "metadata": {
    "ExecuteTime": {
     "end_time": "2021-01-11T15:16:16.241495Z",
     "start_time": "2021-01-11T15:16:16.097775Z"
    }
   },
   "outputs": [
    {
     "data": {
      "text/plain": [
       "['ronald',\n",
       " 'd.',\n",
       " 'asmus',\n",
       " 'policy',\n",
       " 'entrepreneur',\n",
       " 'fellow',\n",
       " 'german',\n",
       " 'marshall',\n",
       " 'fund',\n",
       " 'visiting',\n",
       " 'fellow',\n",
       " 'centre',\n",
       " 'international',\n",
       " 'studies',\n",
       " 'university',\n",
       " 'oxford',\n",
       " '.',\n",
       " 'commentary',\n",
       " 'first',\n",
       " 'appeared',\n",
       " 'sada',\n",
       " ',',\n",
       " 'online',\n",
       " 'journal',\n",
       " 'published',\n",
       " 'carnegie',\n",
       " 'endowment',\n",
       " 'international',\n",
       " 'peace',\n",
       " '.']"
      ]
     },
     "execution_count": 22,
     "metadata": {},
     "output_type": "execute_result"
    }
   ],
   "source": [
    "[word for word in text_tokens if not word in stopwords.words()]\n"
   ]
  },
  {
   "cell_type": "code",
   "execution_count": 23,
   "metadata": {
    "ExecuteTime": {
     "end_time": "2021-01-11T15:18:17.515862Z",
     "start_time": "2021-01-11T15:17:57.955516Z"
    }
   },
   "outputs": [
    {
     "name": "stdout",
     "output_type": "stream",
     "text": [
      "NB features: 220863\n"
     ]
    },
    {
     "data": {
      "text/plain": [
       "<217197x220863 sparse matrix of type '<class 'numpy.float64'>'\n",
       "\twith 9390664 stored elements in Compressed Sparse Row format>"
      ]
     },
     "execution_count": 23,
     "metadata": {},
     "output_type": "execute_result"
    }
   ],
   "source": [
    "from sklearn.feature_extraction.text import TfidfVectorizer\n",
    "\n",
    "transformer = TfidfVectorizer().fit(train.cleaned.values)\n",
    "print(\"NB features: %d\" %(len(transformer.vocabulary_)))\n",
    "X_train = transformer.transform(train.cleaned.values)\n",
    "X_test = transformer.transform(test.cleaned.values)\n",
    "X_train"
   ]
  },
  {
   "cell_type": "code",
   "execution_count": 28,
   "metadata": {
    "ExecuteTime": {
     "end_time": "2021-01-11T15:33:21.119785Z",
     "start_time": "2021-01-11T15:21:13.037441Z"
    },
    "scrolled": true
   },
   "outputs": [
    {
     "ename": "KeyboardInterrupt",
     "evalue": "",
     "output_type": "error",
     "traceback": [
      "\u001b[0;31m---------------------------------------------------------------------------\u001b[0m",
      "\u001b[0;31mKeyboardInterrupt\u001b[0m                         Traceback (most recent call last)",
      "\u001b[0;32m<ipython-input-28-005f90c896da>\u001b[0m in \u001b[0;36m<module>\u001b[0;34m\u001b[0m\n\u001b[1;32m      2\u001b[0m \u001b[0mY_train\u001b[0m\u001b[0;34m=\u001b[0m\u001b[0mtrain\u001b[0m\u001b[0;34m.\u001b[0m\u001b[0mcategory\u001b[0m\u001b[0;34m.\u001b[0m\u001b[0mvalues\u001b[0m\u001b[0;34m\u001b[0m\u001b[0;34m\u001b[0m\u001b[0m\n\u001b[1;32m      3\u001b[0m \u001b[0mrf\u001b[0m\u001b[0;34m=\u001b[0m\u001b[0mRandomForestClassifier\u001b[0m\u001b[0;34m(\u001b[0m\u001b[0mn_jobs\u001b[0m\u001b[0;34m=\u001b[0m\u001b[0;34m-\u001b[0m\u001b[0;36m1\u001b[0m\u001b[0;34m)\u001b[0m\u001b[0;34m\u001b[0m\u001b[0;34m\u001b[0m\u001b[0m\n\u001b[0;32m----> 4\u001b[0;31m \u001b[0mrf\u001b[0m\u001b[0;34m.\u001b[0m\u001b[0mfit\u001b[0m\u001b[0;34m(\u001b[0m\u001b[0mX_train\u001b[0m\u001b[0;34m,\u001b[0m\u001b[0mY_train\u001b[0m\u001b[0;34m)\u001b[0m\u001b[0;34m\u001b[0m\u001b[0;34m\u001b[0m\u001b[0m\n\u001b[0m",
      "\u001b[0;32m~/anaconda3/envs/defi_ia/lib/python3.7/site-packages/sklearn/ensemble/_forest.py\u001b[0m in \u001b[0;36mfit\u001b[0;34m(self, X, y, sample_weight)\u001b[0m\n\u001b[1;32m    391\u001b[0m                     \u001b[0mverbose\u001b[0m\u001b[0;34m=\u001b[0m\u001b[0mself\u001b[0m\u001b[0;34m.\u001b[0m\u001b[0mverbose\u001b[0m\u001b[0;34m,\u001b[0m \u001b[0mclass_weight\u001b[0m\u001b[0;34m=\u001b[0m\u001b[0mself\u001b[0m\u001b[0;34m.\u001b[0m\u001b[0mclass_weight\u001b[0m\u001b[0;34m,\u001b[0m\u001b[0;34m\u001b[0m\u001b[0;34m\u001b[0m\u001b[0m\n\u001b[1;32m    392\u001b[0m                     n_samples_bootstrap=n_samples_bootstrap)\n\u001b[0;32m--> 393\u001b[0;31m                 for i, t in enumerate(trees))\n\u001b[0m\u001b[1;32m    394\u001b[0m \u001b[0;34m\u001b[0m\u001b[0m\n\u001b[1;32m    395\u001b[0m             \u001b[0;31m# Collect newly grown trees\u001b[0m\u001b[0;34m\u001b[0m\u001b[0;34m\u001b[0m\u001b[0;34m\u001b[0m\u001b[0m\n",
      "\u001b[0;32m~/anaconda3/envs/defi_ia/lib/python3.7/site-packages/joblib/parallel.py\u001b[0m in \u001b[0;36m__call__\u001b[0;34m(self, iterable)\u001b[0m\n\u001b[1;32m   1052\u001b[0m \u001b[0;34m\u001b[0m\u001b[0m\n\u001b[1;32m   1053\u001b[0m             \u001b[0;32mwith\u001b[0m \u001b[0mself\u001b[0m\u001b[0;34m.\u001b[0m\u001b[0m_backend\u001b[0m\u001b[0;34m.\u001b[0m\u001b[0mretrieval_context\u001b[0m\u001b[0;34m(\u001b[0m\u001b[0;34m)\u001b[0m\u001b[0;34m:\u001b[0m\u001b[0;34m\u001b[0m\u001b[0;34m\u001b[0m\u001b[0m\n\u001b[0;32m-> 1054\u001b[0;31m                 \u001b[0mself\u001b[0m\u001b[0;34m.\u001b[0m\u001b[0mretrieve\u001b[0m\u001b[0;34m(\u001b[0m\u001b[0;34m)\u001b[0m\u001b[0;34m\u001b[0m\u001b[0;34m\u001b[0m\u001b[0m\n\u001b[0m\u001b[1;32m   1055\u001b[0m             \u001b[0;31m# Make sure that we get a last message telling us we are done\u001b[0m\u001b[0;34m\u001b[0m\u001b[0;34m\u001b[0m\u001b[0;34m\u001b[0m\u001b[0m\n\u001b[1;32m   1056\u001b[0m             \u001b[0melapsed_time\u001b[0m \u001b[0;34m=\u001b[0m \u001b[0mtime\u001b[0m\u001b[0;34m.\u001b[0m\u001b[0mtime\u001b[0m\u001b[0;34m(\u001b[0m\u001b[0;34m)\u001b[0m \u001b[0;34m-\u001b[0m \u001b[0mself\u001b[0m\u001b[0;34m.\u001b[0m\u001b[0m_start_time\u001b[0m\u001b[0;34m\u001b[0m\u001b[0;34m\u001b[0m\u001b[0m\n",
      "\u001b[0;32m~/anaconda3/envs/defi_ia/lib/python3.7/site-packages/joblib/parallel.py\u001b[0m in \u001b[0;36mretrieve\u001b[0;34m(self)\u001b[0m\n\u001b[1;32m    931\u001b[0m             \u001b[0;32mtry\u001b[0m\u001b[0;34m:\u001b[0m\u001b[0;34m\u001b[0m\u001b[0;34m\u001b[0m\u001b[0m\n\u001b[1;32m    932\u001b[0m                 \u001b[0;32mif\u001b[0m \u001b[0mgetattr\u001b[0m\u001b[0;34m(\u001b[0m\u001b[0mself\u001b[0m\u001b[0;34m.\u001b[0m\u001b[0m_backend\u001b[0m\u001b[0;34m,\u001b[0m \u001b[0;34m'supports_timeout'\u001b[0m\u001b[0;34m,\u001b[0m \u001b[0;32mFalse\u001b[0m\u001b[0;34m)\u001b[0m\u001b[0;34m:\u001b[0m\u001b[0;34m\u001b[0m\u001b[0;34m\u001b[0m\u001b[0m\n\u001b[0;32m--> 933\u001b[0;31m                     \u001b[0mself\u001b[0m\u001b[0;34m.\u001b[0m\u001b[0m_output\u001b[0m\u001b[0;34m.\u001b[0m\u001b[0mextend\u001b[0m\u001b[0;34m(\u001b[0m\u001b[0mjob\u001b[0m\u001b[0;34m.\u001b[0m\u001b[0mget\u001b[0m\u001b[0;34m(\u001b[0m\u001b[0mtimeout\u001b[0m\u001b[0;34m=\u001b[0m\u001b[0mself\u001b[0m\u001b[0;34m.\u001b[0m\u001b[0mtimeout\u001b[0m\u001b[0;34m)\u001b[0m\u001b[0;34m)\u001b[0m\u001b[0;34m\u001b[0m\u001b[0;34m\u001b[0m\u001b[0m\n\u001b[0m\u001b[1;32m    934\u001b[0m                 \u001b[0;32melse\u001b[0m\u001b[0;34m:\u001b[0m\u001b[0;34m\u001b[0m\u001b[0;34m\u001b[0m\u001b[0m\n\u001b[1;32m    935\u001b[0m                     \u001b[0mself\u001b[0m\u001b[0;34m.\u001b[0m\u001b[0m_output\u001b[0m\u001b[0;34m.\u001b[0m\u001b[0mextend\u001b[0m\u001b[0;34m(\u001b[0m\u001b[0mjob\u001b[0m\u001b[0;34m.\u001b[0m\u001b[0mget\u001b[0m\u001b[0;34m(\u001b[0m\u001b[0;34m)\u001b[0m\u001b[0;34m)\u001b[0m\u001b[0;34m\u001b[0m\u001b[0;34m\u001b[0m\u001b[0m\n",
      "\u001b[0;32m~/anaconda3/envs/defi_ia/lib/python3.7/multiprocessing/pool.py\u001b[0m in \u001b[0;36mget\u001b[0;34m(self, timeout)\u001b[0m\n\u001b[1;32m    649\u001b[0m \u001b[0;34m\u001b[0m\u001b[0m\n\u001b[1;32m    650\u001b[0m     \u001b[0;32mdef\u001b[0m \u001b[0mget\u001b[0m\u001b[0;34m(\u001b[0m\u001b[0mself\u001b[0m\u001b[0;34m,\u001b[0m \u001b[0mtimeout\u001b[0m\u001b[0;34m=\u001b[0m\u001b[0;32mNone\u001b[0m\u001b[0;34m)\u001b[0m\u001b[0;34m:\u001b[0m\u001b[0;34m\u001b[0m\u001b[0;34m\u001b[0m\u001b[0m\n\u001b[0;32m--> 651\u001b[0;31m         \u001b[0mself\u001b[0m\u001b[0;34m.\u001b[0m\u001b[0mwait\u001b[0m\u001b[0;34m(\u001b[0m\u001b[0mtimeout\u001b[0m\u001b[0;34m)\u001b[0m\u001b[0;34m\u001b[0m\u001b[0;34m\u001b[0m\u001b[0m\n\u001b[0m\u001b[1;32m    652\u001b[0m         \u001b[0;32mif\u001b[0m \u001b[0;32mnot\u001b[0m \u001b[0mself\u001b[0m\u001b[0;34m.\u001b[0m\u001b[0mready\u001b[0m\u001b[0;34m(\u001b[0m\u001b[0;34m)\u001b[0m\u001b[0;34m:\u001b[0m\u001b[0;34m\u001b[0m\u001b[0;34m\u001b[0m\u001b[0m\n\u001b[1;32m    653\u001b[0m             \u001b[0;32mraise\u001b[0m \u001b[0mTimeoutError\u001b[0m\u001b[0;34m\u001b[0m\u001b[0;34m\u001b[0m\u001b[0m\n",
      "\u001b[0;32m~/anaconda3/envs/defi_ia/lib/python3.7/multiprocessing/pool.py\u001b[0m in \u001b[0;36mwait\u001b[0;34m(self, timeout)\u001b[0m\n\u001b[1;32m    646\u001b[0m \u001b[0;34m\u001b[0m\u001b[0m\n\u001b[1;32m    647\u001b[0m     \u001b[0;32mdef\u001b[0m \u001b[0mwait\u001b[0m\u001b[0;34m(\u001b[0m\u001b[0mself\u001b[0m\u001b[0;34m,\u001b[0m \u001b[0mtimeout\u001b[0m\u001b[0;34m=\u001b[0m\u001b[0;32mNone\u001b[0m\u001b[0;34m)\u001b[0m\u001b[0;34m:\u001b[0m\u001b[0;34m\u001b[0m\u001b[0;34m\u001b[0m\u001b[0m\n\u001b[0;32m--> 648\u001b[0;31m         \u001b[0mself\u001b[0m\u001b[0;34m.\u001b[0m\u001b[0m_event\u001b[0m\u001b[0;34m.\u001b[0m\u001b[0mwait\u001b[0m\u001b[0;34m(\u001b[0m\u001b[0mtimeout\u001b[0m\u001b[0;34m)\u001b[0m\u001b[0;34m\u001b[0m\u001b[0;34m\u001b[0m\u001b[0m\n\u001b[0m\u001b[1;32m    649\u001b[0m \u001b[0;34m\u001b[0m\u001b[0m\n\u001b[1;32m    650\u001b[0m     \u001b[0;32mdef\u001b[0m \u001b[0mget\u001b[0m\u001b[0;34m(\u001b[0m\u001b[0mself\u001b[0m\u001b[0;34m,\u001b[0m \u001b[0mtimeout\u001b[0m\u001b[0;34m=\u001b[0m\u001b[0;32mNone\u001b[0m\u001b[0;34m)\u001b[0m\u001b[0;34m:\u001b[0m\u001b[0;34m\u001b[0m\u001b[0;34m\u001b[0m\u001b[0m\n",
      "\u001b[0;32m~/anaconda3/envs/defi_ia/lib/python3.7/threading.py\u001b[0m in \u001b[0;36mwait\u001b[0;34m(self, timeout)\u001b[0m\n\u001b[1;32m    550\u001b[0m             \u001b[0msignaled\u001b[0m \u001b[0;34m=\u001b[0m \u001b[0mself\u001b[0m\u001b[0;34m.\u001b[0m\u001b[0m_flag\u001b[0m\u001b[0;34m\u001b[0m\u001b[0;34m\u001b[0m\u001b[0m\n\u001b[1;32m    551\u001b[0m             \u001b[0;32mif\u001b[0m \u001b[0;32mnot\u001b[0m \u001b[0msignaled\u001b[0m\u001b[0;34m:\u001b[0m\u001b[0;34m\u001b[0m\u001b[0;34m\u001b[0m\u001b[0m\n\u001b[0;32m--> 552\u001b[0;31m                 \u001b[0msignaled\u001b[0m \u001b[0;34m=\u001b[0m \u001b[0mself\u001b[0m\u001b[0;34m.\u001b[0m\u001b[0m_cond\u001b[0m\u001b[0;34m.\u001b[0m\u001b[0mwait\u001b[0m\u001b[0;34m(\u001b[0m\u001b[0mtimeout\u001b[0m\u001b[0;34m)\u001b[0m\u001b[0;34m\u001b[0m\u001b[0;34m\u001b[0m\u001b[0m\n\u001b[0m\u001b[1;32m    553\u001b[0m             \u001b[0;32mreturn\u001b[0m \u001b[0msignaled\u001b[0m\u001b[0;34m\u001b[0m\u001b[0;34m\u001b[0m\u001b[0m\n\u001b[1;32m    554\u001b[0m \u001b[0;34m\u001b[0m\u001b[0m\n",
      "\u001b[0;32m~/anaconda3/envs/defi_ia/lib/python3.7/threading.py\u001b[0m in \u001b[0;36mwait\u001b[0;34m(self, timeout)\u001b[0m\n\u001b[1;32m    294\u001b[0m         \u001b[0;32mtry\u001b[0m\u001b[0;34m:\u001b[0m    \u001b[0;31m# restore state no matter what (e.g., KeyboardInterrupt)\u001b[0m\u001b[0;34m\u001b[0m\u001b[0;34m\u001b[0m\u001b[0m\n\u001b[1;32m    295\u001b[0m             \u001b[0;32mif\u001b[0m \u001b[0mtimeout\u001b[0m \u001b[0;32mis\u001b[0m \u001b[0;32mNone\u001b[0m\u001b[0;34m:\u001b[0m\u001b[0;34m\u001b[0m\u001b[0;34m\u001b[0m\u001b[0m\n\u001b[0;32m--> 296\u001b[0;31m                 \u001b[0mwaiter\u001b[0m\u001b[0;34m.\u001b[0m\u001b[0macquire\u001b[0m\u001b[0;34m(\u001b[0m\u001b[0;34m)\u001b[0m\u001b[0;34m\u001b[0m\u001b[0;34m\u001b[0m\u001b[0m\n\u001b[0m\u001b[1;32m    297\u001b[0m                 \u001b[0mgotit\u001b[0m \u001b[0;34m=\u001b[0m \u001b[0;32mTrue\u001b[0m\u001b[0;34m\u001b[0m\u001b[0;34m\u001b[0m\u001b[0m\n\u001b[1;32m    298\u001b[0m             \u001b[0;32melse\u001b[0m\u001b[0;34m:\u001b[0m\u001b[0;34m\u001b[0m\u001b[0;34m\u001b[0m\u001b[0m\n",
      "\u001b[0;31mKeyboardInterrupt\u001b[0m: "
     ]
    }
   ],
   "source": [
    "from sklearn.ensemble import RandomForestClassifier\n",
    "Y_train=train.category.values\n",
    "rf=RandomForestClassifier(n_jobs=-1)\n",
    "rf.fit(X_train,Y_train)"
   ]
  },
  {
   "cell_type": "code",
   "execution_count": null,
   "metadata": {},
   "outputs": [],
   "source": [
    "predictions = rf.predict(X_test)\n",
    "predictions"
   ]
  },
  {
   "cell_type": "code",
   "execution_count": null,
   "metadata": {},
   "outputs": [],
   "source": [
    "from sklearn.metrics import f1_score,accuracy_score,classification_report,confusion_matrix\n",
    "\n",
    "def confusion_mat(y_test, pred, title=\"Confusion Matrix\",labels=None,normalize=False):\n",
    "    \"\"\"\n",
    "    Plot the confusion matrix given y_test and pred.\n",
    "    y_test and pred must be arrays of pd.Series\n",
    "    \"\"\"\n",
    "    if not labels :\n",
    "        labels = [\"A\", \"B\", \"C\", \"D\", \"E\", \"F\", \"G\"]\n",
    "    plt.figure(figsize=(12, 10))\n",
    "    confusion=confusion_matrix(y_test, pred)\n",
    "    if normalize:\n",
    "      confusion=np.round(confusion/confusion.sum(axis=1),2)\n",
    "    sns.heatmap(confusion,\n",
    "                xticklabels=labels,\n",
    "                yticklabels=labels,\n",
    "                annot=True)\n",
    "\n",
    "    plt.xlabel(\"Predicted Labels\")\n",
    "    plt.ylabel(\"True Labels\")\n",
    "    plt.yticks(rotation=\"horizontal\")\n",
    "    plt.tight_layout()\n",
    "    plt.title(title)\n",
    "    plt.show()\n",
    "    return\n",
    "\n",
    "f1_score(X_train,predictions,average=\"weighted\")"
   ]
  },
  {
   "cell_type": "code",
   "execution_count": null,
   "metadata": {},
   "outputs": [],
   "source": [
    "confusion_mat(eval_df.labels.values,predictions,labels=[i for i in range(0,28)],normalize=True)"
   ]
  },
  {
   "cell_type": "markdown",
   "metadata": {
    "ExecuteTime": {
     "end_time": "2021-01-11T15:34:21.710009Z",
     "start_time": "2021-01-11T15:34:21.708176Z"
    }
   },
   "source": [
    "# Ensemble"
   ]
  },
  {
   "cell_type": "markdown",
   "metadata": {},
   "source": [
    "## Voting"
   ]
  },
  {
   "cell_type": "code",
   "execution_count": 11,
   "metadata": {
    "ExecuteTime": {
     "end_time": "2021-01-11T22:09:30.139959Z",
     "start_time": "2021-01-11T22:09:30.120845Z"
    }
   },
   "outputs": [
    {
     "data": {
      "text/html": [
       "<div>\n",
       "<style scoped>\n",
       "    .dataframe tbody tr th:only-of-type {\n",
       "        vertical-align: middle;\n",
       "    }\n",
       "\n",
       "    .dataframe tbody tr th {\n",
       "        vertical-align: top;\n",
       "    }\n",
       "\n",
       "    .dataframe thead th {\n",
       "        text-align: right;\n",
       "    }\n",
       "</style>\n",
       "<table border=\"1\" class=\"dataframe\">\n",
       "  <thead>\n",
       "    <tr style=\"text-align: right;\">\n",
       "      <th></th>\n",
       "      <th>Id</th>\n",
       "      <th>Category</th>\n",
       "      <th>bert</th>\n",
       "      <th>xlnet</th>\n",
       "      <th>roberta</th>\n",
       "    </tr>\n",
       "  </thead>\n",
       "  <tbody>\n",
       "    <tr>\n",
       "      <th>0</th>\n",
       "      <td>0</td>\n",
       "      <td>0</td>\n",
       "      <td>6</td>\n",
       "      <td>6</td>\n",
       "      <td>6</td>\n",
       "    </tr>\n",
       "    <tr>\n",
       "      <th>1</th>\n",
       "      <td>1</td>\n",
       "      <td>0</td>\n",
       "      <td>20</td>\n",
       "      <td>20</td>\n",
       "      <td>20</td>\n",
       "    </tr>\n",
       "    <tr>\n",
       "      <th>2</th>\n",
       "      <td>2</td>\n",
       "      <td>0</td>\n",
       "      <td>19</td>\n",
       "      <td>19</td>\n",
       "      <td>22</td>\n",
       "    </tr>\n",
       "    <tr>\n",
       "      <th>3</th>\n",
       "      <td>3</td>\n",
       "      <td>0</td>\n",
       "      <td>19</td>\n",
       "      <td>19</td>\n",
       "      <td>19</td>\n",
       "    </tr>\n",
       "    <tr>\n",
       "      <th>4</th>\n",
       "      <td>4</td>\n",
       "      <td>0</td>\n",
       "      <td>19</td>\n",
       "      <td>19</td>\n",
       "      <td>19</td>\n",
       "    </tr>\n",
       "    <tr>\n",
       "      <th>...</th>\n",
       "      <td>...</td>\n",
       "      <td>...</td>\n",
       "      <td>...</td>\n",
       "      <td>...</td>\n",
       "      <td>...</td>\n",
       "    </tr>\n",
       "    <tr>\n",
       "      <th>54295</th>\n",
       "      <td>54295</td>\n",
       "      <td>0</td>\n",
       "      <td>19</td>\n",
       "      <td>19</td>\n",
       "      <td>19</td>\n",
       "    </tr>\n",
       "    <tr>\n",
       "      <th>54296</th>\n",
       "      <td>54296</td>\n",
       "      <td>0</td>\n",
       "      <td>6</td>\n",
       "      <td>6</td>\n",
       "      <td>6</td>\n",
       "    </tr>\n",
       "    <tr>\n",
       "      <th>54297</th>\n",
       "      <td>54297</td>\n",
       "      <td>0</td>\n",
       "      <td>19</td>\n",
       "      <td>19</td>\n",
       "      <td>19</td>\n",
       "    </tr>\n",
       "    <tr>\n",
       "      <th>54298</th>\n",
       "      <td>54298</td>\n",
       "      <td>0</td>\n",
       "      <td>26</td>\n",
       "      <td>26</td>\n",
       "      <td>26</td>\n",
       "    </tr>\n",
       "    <tr>\n",
       "      <th>54299</th>\n",
       "      <td>54299</td>\n",
       "      <td>0</td>\n",
       "      <td>15</td>\n",
       "      <td>15</td>\n",
       "      <td>15</td>\n",
       "    </tr>\n",
       "  </tbody>\n",
       "</table>\n",
       "<p>54300 rows × 5 columns</p>\n",
       "</div>"
      ],
      "text/plain": [
       "          Id  Category  bert  xlnet  roberta\n",
       "0          0         0     6      6        6\n",
       "1          1         0    20     20       20\n",
       "2          2         0    19     19       22\n",
       "3          3         0    19     19       19\n",
       "4          4         0    19     19       19\n",
       "...      ...       ...   ...    ...      ...\n",
       "54295  54295         0    19     19       19\n",
       "54296  54296         0     6      6        6\n",
       "54297  54297         0    19     19       19\n",
       "54298  54298         0    26     26       26\n",
       "54299  54299         0    15     15       15\n",
       "\n",
       "[54300 rows x 5 columns]"
      ]
     },
     "execution_count": 11,
     "metadata": {},
     "output_type": "execute_result"
    }
   ],
   "source": [
    "sub=pd.read_csv(\"voting256.csv\")\n",
    "sub"
   ]
  },
  {
   "cell_type": "code",
   "execution_count": 12,
   "metadata": {
    "ExecuteTime": {
     "end_time": "2021-01-11T22:09:52.307380Z",
     "start_time": "2021-01-11T22:09:33.421481Z"
    }
   },
   "outputs": [
    {
     "data": {
      "text/html": [
       "<div>\n",
       "<style scoped>\n",
       "    .dataframe tbody tr th:only-of-type {\n",
       "        vertical-align: middle;\n",
       "    }\n",
       "\n",
       "    .dataframe tbody tr th {\n",
       "        vertical-align: top;\n",
       "    }\n",
       "\n",
       "    .dataframe thead th {\n",
       "        text-align: right;\n",
       "    }\n",
       "</style>\n",
       "<table border=\"1\" class=\"dataframe\">\n",
       "  <thead>\n",
       "    <tr style=\"text-align: right;\">\n",
       "      <th></th>\n",
       "      <th>0</th>\n",
       "      <th>1</th>\n",
       "      <th>2</th>\n",
       "    </tr>\n",
       "  </thead>\n",
       "  <tbody>\n",
       "    <tr>\n",
       "      <th>0</th>\n",
       "      <td>6.0</td>\n",
       "      <td>NaN</td>\n",
       "      <td>NaN</td>\n",
       "    </tr>\n",
       "    <tr>\n",
       "      <th>1</th>\n",
       "      <td>20.0</td>\n",
       "      <td>NaN</td>\n",
       "      <td>NaN</td>\n",
       "    </tr>\n",
       "    <tr>\n",
       "      <th>2</th>\n",
       "      <td>19.0</td>\n",
       "      <td>NaN</td>\n",
       "      <td>NaN</td>\n",
       "    </tr>\n",
       "    <tr>\n",
       "      <th>3</th>\n",
       "      <td>19.0</td>\n",
       "      <td>NaN</td>\n",
       "      <td>NaN</td>\n",
       "    </tr>\n",
       "    <tr>\n",
       "      <th>4</th>\n",
       "      <td>19.0</td>\n",
       "      <td>NaN</td>\n",
       "      <td>NaN</td>\n",
       "    </tr>\n",
       "    <tr>\n",
       "      <th>...</th>\n",
       "      <td>...</td>\n",
       "      <td>...</td>\n",
       "      <td>...</td>\n",
       "    </tr>\n",
       "    <tr>\n",
       "      <th>54295</th>\n",
       "      <td>19.0</td>\n",
       "      <td>NaN</td>\n",
       "      <td>NaN</td>\n",
       "    </tr>\n",
       "    <tr>\n",
       "      <th>54296</th>\n",
       "      <td>6.0</td>\n",
       "      <td>NaN</td>\n",
       "      <td>NaN</td>\n",
       "    </tr>\n",
       "    <tr>\n",
       "      <th>54297</th>\n",
       "      <td>19.0</td>\n",
       "      <td>NaN</td>\n",
       "      <td>NaN</td>\n",
       "    </tr>\n",
       "    <tr>\n",
       "      <th>54298</th>\n",
       "      <td>26.0</td>\n",
       "      <td>NaN</td>\n",
       "      <td>NaN</td>\n",
       "    </tr>\n",
       "    <tr>\n",
       "      <th>54299</th>\n",
       "      <td>15.0</td>\n",
       "      <td>NaN</td>\n",
       "      <td>NaN</td>\n",
       "    </tr>\n",
       "  </tbody>\n",
       "</table>\n",
       "<p>54300 rows × 3 columns</p>\n",
       "</div>"
      ],
      "text/plain": [
       "          0   1   2\n",
       "0       6.0 NaN NaN\n",
       "1      20.0 NaN NaN\n",
       "2      19.0 NaN NaN\n",
       "3      19.0 NaN NaN\n",
       "4      19.0 NaN NaN\n",
       "...     ...  ..  ..\n",
       "54295  19.0 NaN NaN\n",
       "54296   6.0 NaN NaN\n",
       "54297  19.0 NaN NaN\n",
       "54298  26.0 NaN NaN\n",
       "54299  15.0 NaN NaN\n",
       "\n",
       "[54300 rows x 3 columns]"
      ]
     },
     "execution_count": 12,
     "metadata": {},
     "output_type": "execute_result"
    }
   ],
   "source": [
    "toto=sub[[\"bert\",\"xlnet\",\"roberta\"]]\n",
    "voting=toto.mode(axis=1)\n",
    "voting"
   ]
  },
  {
   "cell_type": "code",
   "execution_count": 13,
   "metadata": {
    "ExecuteTime": {
     "end_time": "2021-01-11T22:09:56.822790Z",
     "start_time": "2021-01-11T22:09:56.810384Z"
    }
   },
   "outputs": [
    {
     "data": {
      "text/html": [
       "<div>\n",
       "<style scoped>\n",
       "    .dataframe tbody tr th:only-of-type {\n",
       "        vertical-align: middle;\n",
       "    }\n",
       "\n",
       "    .dataframe tbody tr th {\n",
       "        vertical-align: top;\n",
       "    }\n",
       "\n",
       "    .dataframe thead th {\n",
       "        text-align: right;\n",
       "    }\n",
       "</style>\n",
       "<table border=\"1\" class=\"dataframe\">\n",
       "  <thead>\n",
       "    <tr style=\"text-align: right;\">\n",
       "      <th></th>\n",
       "      <th>0</th>\n",
       "      <th>1</th>\n",
       "      <th>2</th>\n",
       "    </tr>\n",
       "  </thead>\n",
       "  <tbody>\n",
       "    <tr>\n",
       "      <th>60</th>\n",
       "      <td>5.0</td>\n",
       "      <td>7.0</td>\n",
       "      <td>20.0</td>\n",
       "    </tr>\n",
       "    <tr>\n",
       "      <th>203</th>\n",
       "      <td>1.0</td>\n",
       "      <td>6.0</td>\n",
       "      <td>12.0</td>\n",
       "    </tr>\n",
       "    <tr>\n",
       "      <th>218</th>\n",
       "      <td>12.0</td>\n",
       "      <td>21.0</td>\n",
       "      <td>25.0</td>\n",
       "    </tr>\n",
       "    <tr>\n",
       "      <th>245</th>\n",
       "      <td>19.0</td>\n",
       "      <td>20.0</td>\n",
       "      <td>26.0</td>\n",
       "    </tr>\n",
       "    <tr>\n",
       "      <th>253</th>\n",
       "      <td>14.0</td>\n",
       "      <td>23.0</td>\n",
       "      <td>26.0</td>\n",
       "    </tr>\n",
       "    <tr>\n",
       "      <th>...</th>\n",
       "      <td>...</td>\n",
       "      <td>...</td>\n",
       "      <td>...</td>\n",
       "    </tr>\n",
       "    <tr>\n",
       "      <th>53610</th>\n",
       "      <td>18.0</td>\n",
       "      <td>20.0</td>\n",
       "      <td>24.0</td>\n",
       "    </tr>\n",
       "    <tr>\n",
       "      <th>53702</th>\n",
       "      <td>9.0</td>\n",
       "      <td>19.0</td>\n",
       "      <td>26.0</td>\n",
       "    </tr>\n",
       "    <tr>\n",
       "      <th>54031</th>\n",
       "      <td>3.0</td>\n",
       "      <td>9.0</td>\n",
       "      <td>15.0</td>\n",
       "    </tr>\n",
       "    <tr>\n",
       "      <th>54032</th>\n",
       "      <td>3.0</td>\n",
       "      <td>6.0</td>\n",
       "      <td>14.0</td>\n",
       "    </tr>\n",
       "    <tr>\n",
       "      <th>54202</th>\n",
       "      <td>5.0</td>\n",
       "      <td>15.0</td>\n",
       "      <td>20.0</td>\n",
       "    </tr>\n",
       "  </tbody>\n",
       "</table>\n",
       "<p>566 rows × 3 columns</p>\n",
       "</div>"
      ],
      "text/plain": [
       "          0     1     2\n",
       "60      5.0   7.0  20.0\n",
       "203     1.0   6.0  12.0\n",
       "218    12.0  21.0  25.0\n",
       "245    19.0  20.0  26.0\n",
       "253    14.0  23.0  26.0\n",
       "...     ...   ...   ...\n",
       "53610  18.0  20.0  24.0\n",
       "53702   9.0  19.0  26.0\n",
       "54031   3.0   9.0  15.0\n",
       "54032   3.0   6.0  14.0\n",
       "54202   5.0  15.0  20.0\n",
       "\n",
       "[566 rows x 3 columns]"
      ]
     },
     "execution_count": 13,
     "metadata": {},
     "output_type": "execute_result"
    }
   ],
   "source": [
    "voting[voting[1].notnull()]"
   ]
  },
  {
   "cell_type": "code",
   "execution_count": 14,
   "metadata": {
    "ExecuteTime": {
     "end_time": "2021-01-11T22:10:06.634467Z",
     "start_time": "2021-01-11T22:10:06.630739Z"
    }
   },
   "outputs": [
    {
     "data": {
      "text/plain": [
       "Id          104\n",
       "Category      0\n",
       "bert         26\n",
       "xlnet         3\n",
       "roberta       3\n",
       "Name: 104, dtype: int64"
      ]
     },
     "execution_count": 14,
     "metadata": {},
     "output_type": "execute_result"
    }
   ],
   "source": [
    "sub.iloc[104,:]"
   ]
  },
  {
   "cell_type": "code",
   "execution_count": 15,
   "metadata": {
    "ExecuteTime": {
     "end_time": "2021-01-11T22:10:07.143160Z",
     "start_time": "2021-01-11T22:10:07.138319Z"
    }
   },
   "outputs": [
    {
     "data": {
      "text/plain": [
       "0    3.0\n",
       "1    NaN\n",
       "2    NaN\n",
       "Name: 104, dtype: float64"
      ]
     },
     "execution_count": 15,
     "metadata": {},
     "output_type": "execute_result"
    }
   ],
   "source": [
    "voting.iloc[104,:]"
   ]
  },
  {
   "cell_type": "code",
   "execution_count": 16,
   "metadata": {
    "ExecuteTime": {
     "end_time": "2021-01-11T22:10:08.415373Z",
     "start_time": "2021-01-11T22:10:08.411323Z"
    }
   },
   "outputs": [
    {
     "data": {
      "text/plain": [
       "Int64Index([   60,   203,   218,   245,   253,   357,   372,   551,   564,\n",
       "              750,\n",
       "            ...\n",
       "            53059, 53102, 53406, 53511, 53579, 53610, 53702, 54031, 54032,\n",
       "            54202],\n",
       "           dtype='int64', length=566)"
      ]
     },
     "execution_count": 16,
     "metadata": {},
     "output_type": "execute_result"
    }
   ],
   "source": [
    "not_nan_index=voting[voting[1].notnull()].index\n",
    "not_nan_index"
   ]
  },
  {
   "cell_type": "code",
   "execution_count": 17,
   "metadata": {
    "ExecuteTime": {
     "end_time": "2021-01-11T22:10:18.785058Z",
     "start_time": "2021-01-11T22:10:18.780615Z"
    }
   },
   "outputs": [
    {
     "data": {
      "text/plain": [
       "60        5\n",
       "203       1\n",
       "218      21\n",
       "245      19\n",
       "253      23\n",
       "         ..\n",
       "53610    20\n",
       "53702    26\n",
       "54031     3\n",
       "54032     3\n",
       "54202    20\n",
       "Name: roberta, Length: 566, dtype: int64"
      ]
     },
     "execution_count": 17,
     "metadata": {},
     "output_type": "execute_result"
    }
   ],
   "source": [
    "sub.roberta[not_nan_index]"
   ]
  },
  {
   "cell_type": "code",
   "execution_count": 18,
   "metadata": {
    "ExecuteTime": {
     "end_time": "2021-01-11T22:10:20.236130Z",
     "start_time": "2021-01-11T22:10:20.231802Z"
    }
   },
   "outputs": [
    {
     "data": {
      "text/plain": [
       "60        5.0\n",
       "203       1.0\n",
       "218      12.0\n",
       "245      19.0\n",
       "253      14.0\n",
       "         ... \n",
       "53610    18.0\n",
       "53702     9.0\n",
       "54031     3.0\n",
       "54032     3.0\n",
       "54202     5.0\n",
       "Name: 0, Length: 566, dtype: float64"
      ]
     },
     "execution_count": 18,
     "metadata": {},
     "output_type": "execute_result"
    }
   ],
   "source": [
    "voting[0][not_nan_index]"
   ]
  },
  {
   "cell_type": "code",
   "execution_count": 19,
   "metadata": {
    "ExecuteTime": {
     "end_time": "2021-01-11T22:10:23.453731Z",
     "start_time": "2021-01-11T22:10:23.450561Z"
    }
   },
   "outputs": [],
   "source": [
    "voting[0][not_nan_index]=sub.roberta[not_nan_index]"
   ]
  },
  {
   "cell_type": "code",
   "execution_count": 20,
   "metadata": {
    "ExecuteTime": {
     "end_time": "2021-01-11T22:10:26.493960Z",
     "start_time": "2021-01-11T22:10:26.487108Z"
    }
   },
   "outputs": [
    {
     "data": {
      "text/plain": [
       "0    11.0\n",
       "1    11.0\n",
       "2    14.0\n",
       "Name: 22507, dtype: float64"
      ]
     },
     "metadata": {},
     "output_type": "display_data"
    },
    {
     "name": "stdout",
     "output_type": "stream",
     "text": [
      " \n"
     ]
    },
    {
     "data": {
      "text/plain": [
       "Id          22507\n",
       "Category        0\n",
       "bert           14\n",
       "xlnet           8\n",
       "roberta        11\n",
       "Name: 22507, dtype: int64"
      ]
     },
     "metadata": {},
     "output_type": "display_data"
    }
   ],
   "source": [
    "n=np.random.randint(0,len(not_nan_index))\n",
    "display(voting.iloc[not_nan_index[n],:])\n",
    "print(\" \")\n",
    "display(sub.iloc[not_nan_index[n],:])"
   ]
  },
  {
   "cell_type": "code",
   "execution_count": 21,
   "metadata": {
    "ExecuteTime": {
     "end_time": "2021-01-11T22:10:29.624407Z",
     "start_time": "2021-01-11T22:10:29.614063Z"
    }
   },
   "outputs": [
    {
     "data": {
      "text/html": [
       "<div>\n",
       "<style scoped>\n",
       "    .dataframe tbody tr th:only-of-type {\n",
       "        vertical-align: middle;\n",
       "    }\n",
       "\n",
       "    .dataframe tbody tr th {\n",
       "        vertical-align: top;\n",
       "    }\n",
       "\n",
       "    .dataframe thead th {\n",
       "        text-align: right;\n",
       "    }\n",
       "</style>\n",
       "<table border=\"1\" class=\"dataframe\">\n",
       "  <thead>\n",
       "    <tr style=\"text-align: right;\">\n",
       "      <th></th>\n",
       "      <th>Id</th>\n",
       "      <th>Category</th>\n",
       "      <th>bert</th>\n",
       "      <th>xlnet</th>\n",
       "      <th>roberta</th>\n",
       "    </tr>\n",
       "  </thead>\n",
       "  <tbody>\n",
       "    <tr>\n",
       "      <th>0</th>\n",
       "      <td>0</td>\n",
       "      <td>6.0</td>\n",
       "      <td>6</td>\n",
       "      <td>6</td>\n",
       "      <td>6</td>\n",
       "    </tr>\n",
       "    <tr>\n",
       "      <th>1</th>\n",
       "      <td>1</td>\n",
       "      <td>20.0</td>\n",
       "      <td>20</td>\n",
       "      <td>20</td>\n",
       "      <td>20</td>\n",
       "    </tr>\n",
       "    <tr>\n",
       "      <th>2</th>\n",
       "      <td>2</td>\n",
       "      <td>19.0</td>\n",
       "      <td>19</td>\n",
       "      <td>19</td>\n",
       "      <td>22</td>\n",
       "    </tr>\n",
       "    <tr>\n",
       "      <th>3</th>\n",
       "      <td>3</td>\n",
       "      <td>19.0</td>\n",
       "      <td>19</td>\n",
       "      <td>19</td>\n",
       "      <td>19</td>\n",
       "    </tr>\n",
       "    <tr>\n",
       "      <th>4</th>\n",
       "      <td>4</td>\n",
       "      <td>19.0</td>\n",
       "      <td>19</td>\n",
       "      <td>19</td>\n",
       "      <td>19</td>\n",
       "    </tr>\n",
       "    <tr>\n",
       "      <th>...</th>\n",
       "      <td>...</td>\n",
       "      <td>...</td>\n",
       "      <td>...</td>\n",
       "      <td>...</td>\n",
       "      <td>...</td>\n",
       "    </tr>\n",
       "    <tr>\n",
       "      <th>54295</th>\n",
       "      <td>54295</td>\n",
       "      <td>19.0</td>\n",
       "      <td>19</td>\n",
       "      <td>19</td>\n",
       "      <td>19</td>\n",
       "    </tr>\n",
       "    <tr>\n",
       "      <th>54296</th>\n",
       "      <td>54296</td>\n",
       "      <td>6.0</td>\n",
       "      <td>6</td>\n",
       "      <td>6</td>\n",
       "      <td>6</td>\n",
       "    </tr>\n",
       "    <tr>\n",
       "      <th>54297</th>\n",
       "      <td>54297</td>\n",
       "      <td>19.0</td>\n",
       "      <td>19</td>\n",
       "      <td>19</td>\n",
       "      <td>19</td>\n",
       "    </tr>\n",
       "    <tr>\n",
       "      <th>54298</th>\n",
       "      <td>54298</td>\n",
       "      <td>26.0</td>\n",
       "      <td>26</td>\n",
       "      <td>26</td>\n",
       "      <td>26</td>\n",
       "    </tr>\n",
       "    <tr>\n",
       "      <th>54299</th>\n",
       "      <td>54299</td>\n",
       "      <td>15.0</td>\n",
       "      <td>15</td>\n",
       "      <td>15</td>\n",
       "      <td>15</td>\n",
       "    </tr>\n",
       "  </tbody>\n",
       "</table>\n",
       "<p>54300 rows × 5 columns</p>\n",
       "</div>"
      ],
      "text/plain": [
       "          Id  Category  bert  xlnet  roberta\n",
       "0          0       6.0     6      6        6\n",
       "1          1      20.0    20     20       20\n",
       "2          2      19.0    19     19       22\n",
       "3          3      19.0    19     19       19\n",
       "4          4      19.0    19     19       19\n",
       "...      ...       ...   ...    ...      ...\n",
       "54295  54295      19.0    19     19       19\n",
       "54296  54296       6.0     6      6        6\n",
       "54297  54297      19.0    19     19       19\n",
       "54298  54298      26.0    26     26       26\n",
       "54299  54299      15.0    15     15       15\n",
       "\n",
       "[54300 rows x 5 columns]"
      ]
     },
     "execution_count": 21,
     "metadata": {},
     "output_type": "execute_result"
    }
   ],
   "source": [
    "sub.Category=voting[0]\n",
    "sub"
   ]
  },
  {
   "cell_type": "code",
   "execution_count": 22,
   "metadata": {
    "ExecuteTime": {
     "end_time": "2021-01-11T22:10:33.486937Z",
     "start_time": "2021-01-11T22:10:33.479067Z"
    }
   },
   "outputs": [
    {
     "data": {
      "text/html": [
       "<div>\n",
       "<style scoped>\n",
       "    .dataframe tbody tr th:only-of-type {\n",
       "        vertical-align: middle;\n",
       "    }\n",
       "\n",
       "    .dataframe tbody tr th {\n",
       "        vertical-align: top;\n",
       "    }\n",
       "\n",
       "    .dataframe thead th {\n",
       "        text-align: right;\n",
       "    }\n",
       "</style>\n",
       "<table border=\"1\" class=\"dataframe\">\n",
       "  <thead>\n",
       "    <tr style=\"text-align: right;\">\n",
       "      <th></th>\n",
       "      <th>Id</th>\n",
       "      <th>Category</th>\n",
       "    </tr>\n",
       "  </thead>\n",
       "  <tbody>\n",
       "    <tr>\n",
       "      <th>0</th>\n",
       "      <td>0</td>\n",
       "      <td>6</td>\n",
       "    </tr>\n",
       "    <tr>\n",
       "      <th>1</th>\n",
       "      <td>1</td>\n",
       "      <td>20</td>\n",
       "    </tr>\n",
       "    <tr>\n",
       "      <th>2</th>\n",
       "      <td>2</td>\n",
       "      <td>19</td>\n",
       "    </tr>\n",
       "    <tr>\n",
       "      <th>3</th>\n",
       "      <td>3</td>\n",
       "      <td>19</td>\n",
       "    </tr>\n",
       "    <tr>\n",
       "      <th>4</th>\n",
       "      <td>4</td>\n",
       "      <td>19</td>\n",
       "    </tr>\n",
       "    <tr>\n",
       "      <th>...</th>\n",
       "      <td>...</td>\n",
       "      <td>...</td>\n",
       "    </tr>\n",
       "    <tr>\n",
       "      <th>54295</th>\n",
       "      <td>54295</td>\n",
       "      <td>19</td>\n",
       "    </tr>\n",
       "    <tr>\n",
       "      <th>54296</th>\n",
       "      <td>54296</td>\n",
       "      <td>6</td>\n",
       "    </tr>\n",
       "    <tr>\n",
       "      <th>54297</th>\n",
       "      <td>54297</td>\n",
       "      <td>19</td>\n",
       "    </tr>\n",
       "    <tr>\n",
       "      <th>54298</th>\n",
       "      <td>54298</td>\n",
       "      <td>26</td>\n",
       "    </tr>\n",
       "    <tr>\n",
       "      <th>54299</th>\n",
       "      <td>54299</td>\n",
       "      <td>15</td>\n",
       "    </tr>\n",
       "  </tbody>\n",
       "</table>\n",
       "<p>54300 rows × 2 columns</p>\n",
       "</div>"
      ],
      "text/plain": [
       "          Id  Category\n",
       "0          0         6\n",
       "1          1        20\n",
       "2          2        19\n",
       "3          3        19\n",
       "4          4        19\n",
       "...      ...       ...\n",
       "54295  54295        19\n",
       "54296  54296         6\n",
       "54297  54297        19\n",
       "54298  54298        26\n",
       "54299  54299        15\n",
       "\n",
       "[54300 rows x 2 columns]"
      ]
     },
     "execution_count": 22,
     "metadata": {},
     "output_type": "execute_result"
    }
   ],
   "source": [
    "sub.Category=sub.Category.astype(int)\n",
    "submissions=sub[[\"Id\",\"Category\"]]\n",
    "submissions"
   ]
  },
  {
   "cell_type": "code",
   "execution_count": 23,
   "metadata": {
    "ExecuteTime": {
     "end_time": "2021-01-11T22:10:38.860389Z",
     "start_time": "2021-01-11T22:10:38.798947Z"
    }
   },
   "outputs": [],
   "source": [
    "submissions.to_csv('submissions.csv', index=False)"
   ]
  },
  {
   "cell_type": "code",
   "execution_count": 24,
   "metadata": {
    "ExecuteTime": {
     "end_time": "2021-01-11T22:10:39.539302Z",
     "start_time": "2021-01-11T22:10:39.526535Z"
    }
   },
   "outputs": [
    {
     "data": {
      "text/plain": [
       "0        True\n",
       "1        True\n",
       "2        True\n",
       "3        True\n",
       "4        True\n",
       "         ... \n",
       "54295    True\n",
       "54296    True\n",
       "54297    True\n",
       "54298    True\n",
       "54299    True\n",
       "Name: Category, Length: 54300, dtype: bool"
      ]
     },
     "execution_count": 24,
     "metadata": {},
     "output_type": "execute_result"
    }
   ],
   "source": [
    "pd.read_csv(\"submissions.csv\").Category==sub.Category"
   ]
  },
  {
   "cell_type": "code",
   "execution_count": 72,
   "metadata": {
    "ExecuteTime": {
     "end_time": "2021-01-11T16:04:30.103636Z",
     "start_time": "2021-01-11T16:04:30.091269Z"
    }
   },
   "outputs": [
    {
     "data": {
      "text/html": [
       "<div>\n",
       "<style scoped>\n",
       "    .dataframe tbody tr th:only-of-type {\n",
       "        vertical-align: middle;\n",
       "    }\n",
       "\n",
       "    .dataframe tbody tr th {\n",
       "        vertical-align: top;\n",
       "    }\n",
       "\n",
       "    .dataframe thead th {\n",
       "        text-align: right;\n",
       "    }\n",
       "</style>\n",
       "<table border=\"1\" class=\"dataframe\">\n",
       "  <thead>\n",
       "    <tr style=\"text-align: right;\">\n",
       "      <th></th>\n",
       "      <th>bert</th>\n",
       "      <th>xlnet</th>\n",
       "      <th>roberta</th>\n",
       "    </tr>\n",
       "  </thead>\n",
       "  <tbody>\n",
       "    <tr>\n",
       "      <th>13</th>\n",
       "      <td>19</td>\n",
       "      <td>19</td>\n",
       "      <td>11</td>\n",
       "    </tr>\n",
       "    <tr>\n",
       "      <th>24</th>\n",
       "      <td>26</td>\n",
       "      <td>6</td>\n",
       "      <td>26</td>\n",
       "    </tr>\n",
       "    <tr>\n",
       "      <th>27</th>\n",
       "      <td>6</td>\n",
       "      <td>19</td>\n",
       "      <td>6</td>\n",
       "    </tr>\n",
       "    <tr>\n",
       "      <th>38</th>\n",
       "      <td>22</td>\n",
       "      <td>19</td>\n",
       "      <td>19</td>\n",
       "    </tr>\n",
       "    <tr>\n",
       "      <th>39</th>\n",
       "      <td>14</td>\n",
       "      <td>19</td>\n",
       "      <td>19</td>\n",
       "    </tr>\n",
       "    <tr>\n",
       "      <th>...</th>\n",
       "      <td>...</td>\n",
       "      <td>...</td>\n",
       "      <td>...</td>\n",
       "    </tr>\n",
       "    <tr>\n",
       "      <th>54252</th>\n",
       "      <td>6</td>\n",
       "      <td>18</td>\n",
       "      <td>20</td>\n",
       "    </tr>\n",
       "    <tr>\n",
       "      <th>54260</th>\n",
       "      <td>6</td>\n",
       "      <td>19</td>\n",
       "      <td>19</td>\n",
       "    </tr>\n",
       "    <tr>\n",
       "      <th>54266</th>\n",
       "      <td>18</td>\n",
       "      <td>6</td>\n",
       "      <td>5</td>\n",
       "    </tr>\n",
       "    <tr>\n",
       "      <th>54278</th>\n",
       "      <td>22</td>\n",
       "      <td>19</td>\n",
       "      <td>19</td>\n",
       "    </tr>\n",
       "    <tr>\n",
       "      <th>54296</th>\n",
       "      <td>12</td>\n",
       "      <td>19</td>\n",
       "      <td>6</td>\n",
       "    </tr>\n",
       "  </tbody>\n",
       "</table>\n",
       "<p>6215 rows × 3 columns</p>\n",
       "</div>"
      ],
      "text/plain": [
       "       bert  xlnet  roberta\n",
       "13       19     19       11\n",
       "24       26      6       26\n",
       "27        6     19        6\n",
       "38       22     19       19\n",
       "39       14     19       19\n",
       "...     ...    ...      ...\n",
       "54252     6     18       20\n",
       "54260     6     19       19\n",
       "54266    18      6        5\n",
       "54278    22     19       19\n",
       "54296    12     19        6\n",
       "\n",
       "[6215 rows x 3 columns]"
      ]
     },
     "execution_count": 72,
     "metadata": {},
     "output_type": "execute_result"
    }
   ],
   "source": [
    "toto[(toto.roberta!=toto.xlnet) | (toto.roberta!=toto.bert)| (toto.xlnet!=toto.bert)]"
   ]
  },
  {
   "cell_type": "markdown",
   "metadata": {},
   "source": [
    "## Ensemble + model"
   ]
  },
  {
   "cell_type": "code",
   "execution_count": 16,
   "metadata": {
    "ExecuteTime": {
     "end_time": "2021-01-20T19:08:22.802708Z",
     "start_time": "2021-01-20T19:08:22.303494Z"
    }
   },
   "outputs": [],
   "source": [
    "import pickle \n",
    "test=pickle.load(open(\"test.pkl\",\"rb\"))\n",
    "train=pickle.load(open(\"train.pkl\",\"rb\"))"
   ]
  },
  {
   "cell_type": "code",
   "execution_count": 18,
   "metadata": {
    "ExecuteTime": {
     "end_time": "2021-01-20T19:34:37.396703Z",
     "start_time": "2021-01-20T19:34:37.384044Z"
    },
    "scrolled": true
   },
   "outputs": [
    {
     "data": {
      "text/html": [
       "<div>\n",
       "<style scoped>\n",
       "    .dataframe tbody tr th:only-of-type {\n",
       "        vertical-align: middle;\n",
       "    }\n",
       "\n",
       "    .dataframe tbody tr th {\n",
       "        vertical-align: top;\n",
       "    }\n",
       "\n",
       "    .dataframe thead th {\n",
       "        text-align: right;\n",
       "    }\n",
       "</style>\n",
       "<table border=\"1\" class=\"dataframe\">\n",
       "  <thead>\n",
       "    <tr style=\"text-align: right;\">\n",
       "      <th></th>\n",
       "      <th>description</th>\n",
       "      <th>gender</th>\n",
       "      <th>category</th>\n",
       "      <th>job</th>\n",
       "      <th>cleaned</th>\n",
       "      <th>lang</th>\n",
       "      <th>distance</th>\n",
       "      <th>complexity</th>\n",
       "      <th>first</th>\n",
       "      <th>roberta</th>\n",
       "      <th>roberta256</th>\n",
       "      <th>bert</th>\n",
       "      <th>bert256</th>\n",
       "      <th>xlnet</th>\n",
       "      <th>xlnet256</th>\n",
       "    </tr>\n",
       "    <tr>\n",
       "      <th>Id</th>\n",
       "      <th></th>\n",
       "      <th></th>\n",
       "      <th></th>\n",
       "      <th></th>\n",
       "      <th></th>\n",
       "      <th></th>\n",
       "      <th></th>\n",
       "      <th></th>\n",
       "      <th></th>\n",
       "      <th></th>\n",
       "      <th></th>\n",
       "      <th></th>\n",
       "      <th></th>\n",
       "      <th></th>\n",
       "      <th></th>\n",
       "    </tr>\n",
       "  </thead>\n",
       "  <tbody>\n",
       "    <tr>\n",
       "      <th>0</th>\n",
       "      <td>She is also a Ronald D. Asmus Policy Entrepre...</td>\n",
       "      <td>F</td>\n",
       "      <td>19</td>\n",
       "      <td>professor</td>\n",
       "      <td>She is also a Ronald D. Asmus Policy Entrepren...</td>\n",
       "      <td>en</td>\n",
       "      <td>7.0</td>\n",
       "      <td>38.32</td>\n",
       "      <td>She is also a Ronald D</td>\n",
       "      <td>19</td>\n",
       "      <td>19</td>\n",
       "      <td>19</td>\n",
       "      <td>19</td>\n",
       "      <td>19</td>\n",
       "      <td>19</td>\n",
       "    </tr>\n",
       "    <tr>\n",
       "      <th>1</th>\n",
       "      <td>He is a member of the AICPA and WICPA. Brent ...</td>\n",
       "      <td>M</td>\n",
       "      <td>9</td>\n",
       "      <td>accountant</td>\n",
       "      <td>He is a member of the AICPA and WICPA. Brent g...</td>\n",
       "      <td>en</td>\n",
       "      <td>1.0</td>\n",
       "      <td>65.42</td>\n",
       "      <td>He is a member of the AICPA and WICPA</td>\n",
       "      <td>9</td>\n",
       "      <td>9</td>\n",
       "      <td>9</td>\n",
       "      <td>9</td>\n",
       "      <td>9</td>\n",
       "      <td>9</td>\n",
       "    </tr>\n",
       "    <tr>\n",
       "      <th>2</th>\n",
       "      <td>Dr. Aster has held teaching and research posi...</td>\n",
       "      <td>M</td>\n",
       "      <td>19</td>\n",
       "      <td>professor</td>\n",
       "      <td>Dr. Aster has held teaching and research posit...</td>\n",
       "      <td>en</td>\n",
       "      <td>1.0</td>\n",
       "      <td>34.76</td>\n",
       "      <td>Dr Aster has held teaching and research positi...</td>\n",
       "      <td>19</td>\n",
       "      <td>19</td>\n",
       "      <td>19</td>\n",
       "      <td>19</td>\n",
       "      <td>19</td>\n",
       "      <td>19</td>\n",
       "    </tr>\n",
       "    <tr>\n",
       "      <th>3</th>\n",
       "      <td>He runs a boutique design studio attending cl...</td>\n",
       "      <td>M</td>\n",
       "      <td>24</td>\n",
       "      <td>architect</td>\n",
       "      <td>He runs a boutique design studio attending cli...</td>\n",
       "      <td>en</td>\n",
       "      <td>3.0</td>\n",
       "      <td>33.44</td>\n",
       "      <td>He runs a boutique design studio attending cli...</td>\n",
       "      <td>24</td>\n",
       "      <td>24</td>\n",
       "      <td>24</td>\n",
       "      <td>24</td>\n",
       "      <td>24</td>\n",
       "      <td>24</td>\n",
       "    </tr>\n",
       "    <tr>\n",
       "      <th>4</th>\n",
       "      <td>He focuses on cloud security, identity and ac...</td>\n",
       "      <td>M</td>\n",
       "      <td>24</td>\n",
       "      <td>architect</td>\n",
       "      <td>He focuses on cloud security, identity and acc...</td>\n",
       "      <td>en</td>\n",
       "      <td>1.0</td>\n",
       "      <td>17.50</td>\n",
       "      <td>He focuses on cloud security, identity and acc...</td>\n",
       "      <td>24</td>\n",
       "      <td>24</td>\n",
       "      <td>24</td>\n",
       "      <td>24</td>\n",
       "      <td>24</td>\n",
       "      <td>24</td>\n",
       "    </tr>\n",
       "  </tbody>\n",
       "</table>\n",
       "</div>"
      ],
      "text/plain": [
       "                                          description gender  category  \\\n",
       "Id                                                                       \n",
       "0    She is also a Ronald D. Asmus Policy Entrepre...      F        19   \n",
       "1    He is a member of the AICPA and WICPA. Brent ...      M         9   \n",
       "2    Dr. Aster has held teaching and research posi...      M        19   \n",
       "3    He runs a boutique design studio attending cl...      M        24   \n",
       "4    He focuses on cloud security, identity and ac...      M        24   \n",
       "\n",
       "           job                                            cleaned lang  \\\n",
       "Id                                                                       \n",
       "0    professor  She is also a Ronald D. Asmus Policy Entrepren...   en   \n",
       "1   accountant  He is a member of the AICPA and WICPA. Brent g...   en   \n",
       "2    professor  Dr. Aster has held teaching and research posit...   en   \n",
       "3    architect  He runs a boutique design studio attending cli...   en   \n",
       "4    architect  He focuses on cloud security, identity and acc...   en   \n",
       "\n",
       "    distance  complexity                                              first  \\\n",
       "Id                                                                            \n",
       "0        7.0       38.32                             She is also a Ronald D   \n",
       "1        1.0       65.42              He is a member of the AICPA and WICPA   \n",
       "2        1.0       34.76  Dr Aster has held teaching and research positi...   \n",
       "3        3.0       33.44  He runs a boutique design studio attending cli...   \n",
       "4        1.0       17.50  He focuses on cloud security, identity and acc...   \n",
       "\n",
       "    roberta  roberta256  bert  bert256  xlnet  xlnet256  \n",
       "Id                                                       \n",
       "0        19          19    19       19     19        19  \n",
       "1         9           9     9        9      9         9  \n",
       "2        19          19    19       19     19        19  \n",
       "3        24          24    24       24     24        24  \n",
       "4        24          24    24       24     24        24  "
      ]
     },
     "execution_count": 18,
     "metadata": {},
     "output_type": "execute_result"
    }
   ],
   "source": [
    "train.head()"
   ]
  },
  {
   "cell_type": "code",
   "execution_count": null,
   "metadata": {},
   "outputs": [],
   "source": []
  },
  {
   "cell_type": "code",
   "execution_count": 25,
   "metadata": {
    "ExecuteTime": {
     "end_time": "2021-01-20T19:36:15.407253Z",
     "start_time": "2021-01-20T19:36:15.398113Z"
    }
   },
   "outputs": [],
   "source": [
    "x,y=train.iloc[:,-6:].values,train.category.values"
   ]
  },
  {
   "cell_type": "code",
   "execution_count": 26,
   "metadata": {
    "ExecuteTime": {
     "end_time": "2021-01-20T19:37:06.677901Z",
     "start_time": "2021-01-20T19:37:06.633376Z"
    }
   },
   "outputs": [],
   "source": [
    "from sklearn.model_selection import train_test_split\n",
    "X_train, X_test, y_train, y_test = train_test_split(x, y, test_size=0.33, random_state=42)"
   ]
  },
  {
   "cell_type": "code",
   "execution_count": 27,
   "metadata": {
    "ExecuteTime": {
     "end_time": "2021-01-20T19:37:10.836980Z",
     "start_time": "2021-01-20T19:37:10.833160Z"
    }
   },
   "outputs": [
    {
     "data": {
      "text/plain": [
       "array([[19, 19, 19, 19, 19, 19],\n",
       "       [14, 14, 14, 14, 14, 14],\n",
       "       [ 9,  9,  9, 24,  9,  9],\n",
       "       ...,\n",
       "       [19, 19, 19, 19, 19, 19],\n",
       "       [ 0,  0,  0,  0,  0,  0],\n",
       "       [ 3,  3,  3,  3,  3,  3]])"
      ]
     },
     "execution_count": 27,
     "metadata": {},
     "output_type": "execute_result"
    }
   ],
   "source": []
  },
  {
   "cell_type": "code",
   "execution_count": null,
   "metadata": {},
   "outputs": [],
   "source": []
  },
  {
   "cell_type": "code",
   "execution_count": 59,
   "metadata": {
    "ExecuteTime": {
     "end_time": "2021-01-20T20:13:13.459803Z",
     "start_time": "2021-01-20T20:10:06.519993Z"
    },
    "scrolled": true
   },
   "outputs": [
    {
     "name": "stdout",
     "output_type": "stream",
     "text": [
      "Epoch 1/2000\n",
      "840/849 [============================>.] - ETA: 0s - loss: 1.7351 - accuracy: 0.5379\n",
      "Epoch 00001: val_accuracy improved from -inf to 0.68044, saving model to best_model.h5\n",
      "849/849 [==============================] - 2s 2ms/step - loss: 1.7304 - accuracy: 0.5390 - val_loss: 1.2213 - val_accuracy: 0.6804\n",
      "Epoch 2/2000\n",
      "836/849 [============================>.] - ETA: 0s - loss: 1.1301 - accuracy: 0.6964\n",
      "Epoch 00002: val_accuracy improved from 0.68044 to 0.70990, saving model to best_model.h5\n",
      "849/849 [==============================] - 2s 2ms/step - loss: 1.1297 - accuracy: 0.6967 - val_loss: 1.0192 - val_accuracy: 0.7099\n",
      "Epoch 3/2000\n",
      "819/849 [===========================>..] - ETA: 0s - loss: 0.9861 - accuracy: 0.7434\n",
      "Epoch 00003: val_accuracy improved from 0.70990 to 0.72934, saving model to best_model.h5\n",
      "849/849 [==============================] - 2s 2ms/step - loss: 0.9823 - accuracy: 0.7444 - val_loss: 0.8952 - val_accuracy: 0.7293\n",
      "Epoch 4/2000\n",
      "827/849 [============================>.] - ETA: 0s - loss: 0.8566 - accuracy: 0.7947\n",
      "Epoch 00004: val_accuracy improved from 0.72934 to 0.75456, saving model to best_model.h5\n",
      "849/849 [==============================] - 2s 2ms/step - loss: 0.8554 - accuracy: 0.7954 - val_loss: 0.9235 - val_accuracy: 0.7546\n",
      "Epoch 5/2000\n",
      "841/849 [============================>.] - ETA: 0s - loss: 0.7952 - accuracy: 0.8204\n",
      "Epoch 00005: val_accuracy improved from 0.75456 to 0.85081, saving model to best_model.h5\n",
      "849/849 [==============================] - 2s 2ms/step - loss: 0.7943 - accuracy: 0.8207 - val_loss: 0.6879 - val_accuracy: 0.8508\n",
      "Epoch 6/2000\n",
      "842/849 [============================>.] - ETA: 0s - loss: 0.7589 - accuracy: 0.8309\n",
      "Epoch 00006: val_accuracy improved from 0.85081 to 0.85115, saving model to best_model.h5\n",
      "849/849 [==============================] - 2s 2ms/step - loss: 0.7582 - accuracy: 0.8312 - val_loss: 0.6549 - val_accuracy: 0.8511\n",
      "Epoch 7/2000\n",
      "839/849 [============================>.] - ETA: 0s - loss: 0.7150 - accuracy: 0.8415\n",
      "Epoch 00007: val_accuracy improved from 0.85115 to 0.85341, saving model to best_model.h5\n",
      "849/849 [==============================] - 2s 2ms/step - loss: 0.7145 - accuracy: 0.8416 - val_loss: 0.6364 - val_accuracy: 0.8534\n",
      "Epoch 8/2000\n",
      "832/849 [============================>.] - ETA: 0s - loss: 0.6818 - accuracy: 0.8490\n",
      "Epoch 00008: val_accuracy improved from 0.85341 to 0.86186, saving model to best_model.h5\n",
      "849/849 [==============================] - 2s 2ms/step - loss: 0.6811 - accuracy: 0.8493 - val_loss: 0.6068 - val_accuracy: 0.8619\n",
      "Epoch 9/2000\n",
      "821/849 [============================>.] - ETA: 0s - loss: 0.7092 - accuracy: 0.8434\n",
      "Epoch 00009: val_accuracy improved from 0.86186 to 0.86717, saving model to best_model.h5\n",
      "849/849 [==============================] - 2s 2ms/step - loss: 0.7068 - accuracy: 0.8442 - val_loss: 0.6272 - val_accuracy: 0.8672\n",
      "Epoch 10/2000\n",
      "849/849 [==============================] - ETA: 0s - loss: 0.6182 - accuracy: 0.8693\n",
      "Epoch 00010: val_accuracy did not improve from 0.86717\n",
      "849/849 [==============================] - 2s 2ms/step - loss: 0.6182 - accuracy: 0.8693 - val_loss: 0.6046 - val_accuracy: 0.8533\n",
      "Epoch 11/2000\n",
      "833/849 [============================>.] - ETA: 0s - loss: 0.6342 - accuracy: 0.8626\n",
      "Epoch 00011: val_accuracy improved from 0.86717 to 0.88158, saving model to best_model.h5\n",
      "849/849 [==============================] - 2s 2ms/step - loss: 0.6330 - accuracy: 0.8628 - val_loss: 0.5740 - val_accuracy: 0.8816\n",
      "Epoch 12/2000\n",
      "820/849 [===========================>..] - ETA: 0s - loss: 0.6644 - accuracy: 0.8537\n",
      "Epoch 00012: val_accuracy improved from 0.88158 to 0.88786, saving model to best_model.h5\n",
      "849/849 [==============================] - 2s 2ms/step - loss: 0.6612 - accuracy: 0.8547 - val_loss: 0.5595 - val_accuracy: 0.8879\n",
      "Epoch 13/2000\n",
      "819/849 [===========================>..] - ETA: 0s - loss: 0.6038 - accuracy: 0.8717\n",
      "Epoch 00013: val_accuracy did not improve from 0.88786\n",
      "849/849 [==============================] - 2s 2ms/step - loss: 0.6044 - accuracy: 0.8715 - val_loss: 0.5841 - val_accuracy: 0.8688\n",
      "Epoch 14/2000\n",
      "824/849 [============================>.] - ETA: 0s - loss: 0.6432 - accuracy: 0.8576\n",
      "Epoch 00014: val_accuracy did not improve from 0.88786\n",
      "849/849 [==============================] - 2s 2ms/step - loss: 0.6508 - accuracy: 0.8547 - val_loss: 0.9027 - val_accuracy: 0.7607\n",
      "Epoch 15/2000\n",
      "833/849 [============================>.] - ETA: 0s - loss: 0.5684 - accuracy: 0.8808\n",
      "Epoch 00015: val_accuracy did not improve from 0.88786\n",
      "849/849 [==============================] - 2s 2ms/step - loss: 0.5695 - accuracy: 0.8804 - val_loss: 4.1564 - val_accuracy: 0.2256\n",
      "Epoch 16/2000\n",
      "849/849 [==============================] - ETA: 0s - loss: 0.6649 - accuracy: 0.8559\n",
      "Epoch 00016: val_accuracy did not improve from 0.88786\n",
      "849/849 [==============================] - 2s 2ms/step - loss: 0.6649 - accuracy: 0.8559 - val_loss: 0.5513 - val_accuracy: 0.8799\n",
      "Epoch 17/2000\n",
      "830/849 [============================>.] - ETA: 0s - loss: 0.6077 - accuracy: 0.8705\n",
      "Epoch 00017: val_accuracy improved from 0.88786 to 0.88978, saving model to best_model.h5\n",
      "849/849 [==============================] - 2s 2ms/step - loss: 0.6066 - accuracy: 0.8709 - val_loss: 0.5328 - val_accuracy: 0.8898\n",
      "Epoch 18/2000\n",
      "820/849 [===========================>..] - ETA: 0s - loss: 0.6086 - accuracy: 0.8664\n",
      "Epoch 00018: val_accuracy improved from 0.88978 to 0.89160, saving model to best_model.h5\n",
      "849/849 [==============================] - 2s 2ms/step - loss: 0.6072 - accuracy: 0.8673 - val_loss: 0.5349 - val_accuracy: 0.8916\n",
      "Epoch 19/2000\n",
      "849/849 [==============================] - ETA: 0s - loss: 0.5739 - accuracy: 0.8816\n",
      "Epoch 00019: val_accuracy did not improve from 0.89160\n",
      "849/849 [==============================] - 2s 2ms/step - loss: 0.5739 - accuracy: 0.8816 - val_loss: 0.5489 - val_accuracy: 0.8786\n",
      "Epoch 20/2000\n",
      "830/849 [============================>.] - ETA: 0s - loss: 0.5677 - accuracy: 0.8794\n",
      "Epoch 00020: val_accuracy improved from 0.89160 to 0.89335, saving model to best_model.h5\n",
      "849/849 [==============================] - 2s 2ms/step - loss: 0.5673 - accuracy: 0.8796 - val_loss: 0.5167 - val_accuracy: 0.8934\n",
      "Epoch 21/2000\n",
      "822/849 [============================>.] - ETA: 0s - loss: 0.5875 - accuracy: 0.8766\n",
      "Epoch 00021: val_accuracy did not improve from 0.89335\n",
      "849/849 [==============================] - 2s 2ms/step - loss: 0.5852 - accuracy: 0.8769 - val_loss: 0.5534 - val_accuracy: 0.8842\n",
      "Epoch 22/2000\n",
      "822/849 [============================>.] - ETA: 0s - loss: 0.5949 - accuracy: 0.8721\n",
      "Epoch 00022: val_accuracy improved from 0.89335 to 0.89557, saving model to best_model.h5\n",
      "849/849 [==============================] - 2s 2ms/step - loss: 0.5919 - accuracy: 0.8729 - val_loss: 0.5098 - val_accuracy: 0.8956\n",
      "Epoch 23/2000\n",
      "832/849 [============================>.] - ETA: 0s - loss: 0.6863 - accuracy: 0.8469\n",
      "Epoch 00023: val_accuracy did not improve from 0.89557\n",
      "849/849 [==============================] - 2s 2ms/step - loss: 0.6838 - accuracy: 0.8476 - val_loss: 0.5463 - val_accuracy: 0.8780\n",
      "Epoch 24/2000\n",
      "828/849 [============================>.] - ETA: 0s - loss: 0.5467 - accuracy: 0.8865\n",
      "Epoch 00024: val_accuracy improved from 0.89557 to 0.89602, saving model to best_model.h5\n",
      "849/849 [==============================] - 2s 2ms/step - loss: 0.5454 - accuracy: 0.8868 - val_loss: 0.5039 - val_accuracy: 0.8960\n",
      "Epoch 25/2000\n",
      "831/849 [============================>.] - ETA: 0s - loss: 0.5520 - accuracy: 0.8834\n",
      "Epoch 00025: val_accuracy did not improve from 0.89602\n",
      "849/849 [==============================] - 2s 2ms/step - loss: 0.5515 - accuracy: 0.8836 - val_loss: 0.5117 - val_accuracy: 0.8957\n",
      "Epoch 26/2000\n",
      "844/849 [============================>.] - ETA: 0s - loss: 0.5339 - accuracy: 0.8862\n",
      "Epoch 00026: val_accuracy did not improve from 0.89602\n",
      "849/849 [==============================] - 2s 2ms/step - loss: 0.5338 - accuracy: 0.8862 - val_loss: 0.5100 - val_accuracy: 0.8960\n",
      "Epoch 27/2000\n",
      "842/849 [============================>.] - ETA: 0s - loss: 0.5897 - accuracy: 0.8755\n",
      "Epoch 00027: val_accuracy did not improve from 0.89602\n",
      "849/849 [==============================] - 2s 2ms/step - loss: 0.5892 - accuracy: 0.8756 - val_loss: 0.5142 - val_accuracy: 0.8956\n"
     ]
    },
    {
     "name": "stdout",
     "output_type": "stream",
     "text": [
      "Epoch 28/2000\n",
      "820/849 [===========================>..] - ETA: 0s - loss: 0.5332 - accuracy: 0.8881\n",
      "Epoch 00028: val_accuracy did not improve from 0.89602\n",
      "849/849 [==============================] - 2s 2ms/step - loss: 0.5506 - accuracy: 0.8827 - val_loss: 0.6777 - val_accuracy: 0.8720\n",
      "Epoch 29/2000\n",
      "844/849 [============================>.] - ETA: 0s - loss: 0.5200 - accuracy: 0.8906\n",
      "Epoch 00029: val_accuracy improved from 0.89602 to 0.89755, saving model to best_model.h5\n",
      "849/849 [==============================] - 2s 2ms/step - loss: 0.5196 - accuracy: 0.8907 - val_loss: 0.4951 - val_accuracy: 0.8976\n",
      "Epoch 30/2000\n",
      "840/849 [============================>.] - ETA: 0s - loss: 0.5550 - accuracy: 0.8829\n",
      "Epoch 00030: val_accuracy did not improve from 0.89755\n",
      "849/849 [==============================] - 2s 2ms/step - loss: 0.5544 - accuracy: 0.8831 - val_loss: 0.4985 - val_accuracy: 0.8965\n",
      "Epoch 31/2000\n",
      "823/849 [============================>.] - ETA: 0s - loss: 0.5453 - accuracy: 0.8813\n",
      "Epoch 00031: val_accuracy did not improve from 0.89755\n",
      "849/849 [==============================] - 2s 2ms/step - loss: 0.5440 - accuracy: 0.8818 - val_loss: 0.4961 - val_accuracy: 0.8961\n",
      "Epoch 32/2000\n",
      "837/849 [============================>.] - ETA: 0s - loss: 0.6043 - accuracy: 0.8699\n",
      "Epoch 00032: val_accuracy improved from 0.89755 to 0.89768, saving model to best_model.h5\n",
      "849/849 [==============================] - 2s 2ms/step - loss: 0.6025 - accuracy: 0.8703 - val_loss: 0.4927 - val_accuracy: 0.8977\n",
      "Epoch 33/2000\n",
      "827/849 [============================>.] - ETA: 0s - loss: 0.4918 - accuracy: 0.8976\n",
      "Epoch 00033: val_accuracy did not improve from 0.89768\n",
      "849/849 [==============================] - 2s 2ms/step - loss: 0.4915 - accuracy: 0.8977 - val_loss: 0.4908 - val_accuracy: 0.8961\n",
      "Epoch 34/2000\n",
      "827/849 [============================>.] - ETA: 0s - loss: 0.5896 - accuracy: 0.8714\n",
      "Epoch 00034: val_accuracy improved from 0.89768 to 0.89871, saving model to best_model.h5\n",
      "849/849 [==============================] - 2s 2ms/step - loss: 0.5870 - accuracy: 0.8721 - val_loss: 0.4885 - val_accuracy: 0.8987\n",
      "Epoch 35/2000\n",
      "825/849 [============================>.] - ETA: 0s - loss: 0.5348 - accuracy: 0.8852\n",
      "Epoch 00035: val_accuracy did not improve from 0.89871\n",
      "849/849 [==============================] - 2s 2ms/step - loss: 0.5328 - accuracy: 0.8856 - val_loss: 0.4909 - val_accuracy: 0.8965\n",
      "Epoch 36/2000\n",
      "833/849 [============================>.] - ETA: 0s - loss: 0.5095 - accuracy: 0.8919\n",
      "Epoch 00036: val_accuracy did not improve from 0.89871\n",
      "849/849 [==============================] - 2s 2ms/step - loss: 0.5096 - accuracy: 0.8919 - val_loss: 0.4839 - val_accuracy: 0.8986\n",
      "Epoch 37/2000\n",
      "828/849 [============================>.] - ETA: 0s - loss: 0.5509 - accuracy: 0.8821\n",
      "Epoch 00037: val_accuracy did not improve from 0.89871\n",
      "849/849 [==============================] - 2s 2ms/step - loss: 0.5490 - accuracy: 0.8825 - val_loss: 0.4827 - val_accuracy: 0.8981\n",
      "Epoch 38/2000\n",
      "835/849 [============================>.] - ETA: 0s - loss: 0.5053 - accuracy: 0.8921\n",
      "Epoch 00038: val_accuracy improved from 0.89871 to 0.89934, saving model to best_model.h5\n",
      "849/849 [==============================] - 2s 2ms/step - loss: 0.5051 - accuracy: 0.8922 - val_loss: 0.4764 - val_accuracy: 0.8993\n",
      "Epoch 39/2000\n",
      "828/849 [============================>.] - ETA: 0s - loss: 0.5423 - accuracy: 0.8809\n",
      "Epoch 00039: val_accuracy did not improve from 0.89934\n",
      "849/849 [==============================] - 2s 2ms/step - loss: 0.5441 - accuracy: 0.8803 - val_loss: 0.5489 - val_accuracy: 0.8629\n",
      "Epoch 40/2000\n",
      "819/849 [===========================>..] - ETA: 0s - loss: 0.5480 - accuracy: 0.8799\n",
      "Epoch 00040: val_accuracy did not improve from 0.89934\n",
      "849/849 [==============================] - 2s 2ms/step - loss: 0.5504 - accuracy: 0.8795 - val_loss: 0.5416 - val_accuracy: 0.8902\n",
      "Epoch 41/2000\n",
      "848/849 [============================>.] - ETA: 0s - loss: 0.5183 - accuracy: 0.8882\n",
      "Epoch 00041: val_accuracy did not improve from 0.89934\n",
      "849/849 [==============================] - 2s 2ms/step - loss: 0.5184 - accuracy: 0.8881 - val_loss: 0.9320 - val_accuracy: 0.7456\n",
      "Epoch 42/2000\n",
      "825/849 [============================>.] - ETA: 0s - loss: 0.5347 - accuracy: 0.8837\n",
      "Epoch 00042: val_accuracy improved from 0.89934 to 0.89979, saving model to best_model.h5\n",
      "849/849 [==============================] - 1s 2ms/step - loss: 0.5334 - accuracy: 0.8840 - val_loss: 0.4736 - val_accuracy: 0.8998\n",
      "Epoch 43/2000\n",
      "831/849 [============================>.] - ETA: 0s - loss: 0.5067 - accuracy: 0.8905\n",
      "Epoch 00043: val_accuracy did not improve from 0.89979\n",
      "849/849 [==============================] - 2s 2ms/step - loss: 0.5071 - accuracy: 0.8905 - val_loss: 0.4717 - val_accuracy: 0.8990\n",
      "Epoch 44/2000\n",
      "832/849 [============================>.] - ETA: 0s - loss: 0.4976 - accuracy: 0.8928\n",
      "Epoch 00044: val_accuracy did not improve from 0.89979\n",
      "849/849 [==============================] - 2s 2ms/step - loss: 0.4997 - accuracy: 0.8922 - val_loss: 0.4934 - val_accuracy: 0.8970\n",
      "Epoch 45/2000\n",
      "827/849 [============================>.] - ETA: 0s - loss: 0.5147 - accuracy: 0.8898\n",
      "Epoch 00045: val_accuracy improved from 0.89979 to 0.89994, saving model to best_model.h5\n",
      "849/849 [==============================] - 2s 2ms/step - loss: 0.5136 - accuracy: 0.8899 - val_loss: 0.4715 - val_accuracy: 0.8999\n",
      "Epoch 46/2000\n",
      "847/849 [============================>.] - ETA: 0s - loss: 0.5154 - accuracy: 0.8880\n",
      "Epoch 00046: val_accuracy did not improve from 0.89994\n",
      "849/849 [==============================] - 2s 2ms/step - loss: 0.5153 - accuracy: 0.8880 - val_loss: 0.4700 - val_accuracy: 0.8995\n",
      "Epoch 47/2000\n",
      "835/849 [============================>.] - ETA: 0s - loss: 0.4964 - accuracy: 0.8913\n",
      "Epoch 00047: val_accuracy improved from 0.89994 to 0.90110, saving model to best_model.h5\n",
      "849/849 [==============================] - 2s 2ms/step - loss: 0.4965 - accuracy: 0.8914 - val_loss: 0.4642 - val_accuracy: 0.9011\n",
      "Epoch 48/2000\n",
      "830/849 [============================>.] - ETA: 0s - loss: 0.5380 - accuracy: 0.8820\n",
      "Epoch 00048: val_accuracy did not improve from 0.90110\n",
      "849/849 [==============================] - 2s 2ms/step - loss: 0.5368 - accuracy: 0.8824 - val_loss: 0.4790 - val_accuracy: 0.8992\n",
      "Epoch 49/2000\n",
      "839/849 [============================>.] - ETA: 0s - loss: 0.5337 - accuracy: 0.8847\n",
      "Epoch 00049: val_accuracy did not improve from 0.90110\n",
      "849/849 [==============================] - 2s 2ms/step - loss: 0.5330 - accuracy: 0.8849 - val_loss: 0.4792 - val_accuracy: 0.8998\n",
      "Epoch 50/2000\n",
      "832/849 [============================>.] - ETA: 0s - loss: 0.4909 - accuracy: 0.8944\n",
      "Epoch 00050: val_accuracy did not improve from 0.90110\n",
      "849/849 [==============================] - 2s 2ms/step - loss: 0.4901 - accuracy: 0.8946 - val_loss: 0.4652 - val_accuracy: 0.9009\n",
      "Epoch 51/2000\n",
      "822/849 [============================>.] - ETA: 0s - loss: 0.5026 - accuracy: 0.8913\n",
      "Epoch 00051: val_accuracy did not improve from 0.90110\n",
      "849/849 [==============================] - 2s 2ms/step - loss: 0.5018 - accuracy: 0.8915 - val_loss: 0.4628 - val_accuracy: 0.9009\n",
      "Epoch 52/2000\n",
      "848/849 [============================>.] - ETA: 0s - loss: 0.5388 - accuracy: 0.8793\n",
      "Epoch 00052: val_accuracy did not improve from 0.90110\n",
      "849/849 [==============================] - 2s 2ms/step - loss: 0.5387 - accuracy: 0.8794 - val_loss: 0.6000 - val_accuracy: 0.8620\n",
      "Epoch 53/2000\n",
      "829/849 [============================>.] - ETA: 0s - loss: 0.4668 - accuracy: 0.9004\n",
      "Epoch 00053: val_accuracy improved from 0.90110 to 0.90168, saving model to best_model.h5\n",
      "849/849 [==============================] - 2s 2ms/step - loss: 0.4668 - accuracy: 0.9003 - val_loss: 0.4621 - val_accuracy: 0.9017\n",
      "Epoch 54/2000\n",
      "835/849 [============================>.] - ETA: 0s - loss: 0.5155 - accuracy: 0.8857\n",
      "Epoch 00054: val_accuracy did not improve from 0.90168\n",
      "849/849 [==============================] - 2s 2ms/step - loss: 0.5194 - accuracy: 0.8845 - val_loss: 0.5445 - val_accuracy: 0.8832\n",
      "Epoch 55/2000\n",
      "825/849 [============================>.] - ETA: 0s - loss: 0.5391 - accuracy: 0.8788\n",
      "Epoch 00055: val_accuracy did not improve from 0.90168\n",
      "849/849 [==============================] - 2s 2ms/step - loss: 0.5367 - accuracy: 0.8794 - val_loss: 0.4676 - val_accuracy: 0.9008\n"
     ]
    },
    {
     "name": "stdout",
     "output_type": "stream",
     "text": [
      "Epoch 56/2000\n",
      "843/849 [============================>.] - ETA: 0s - loss: 0.4833 - accuracy: 0.8945\n",
      "Epoch 00056: val_accuracy did not improve from 0.90168\n",
      "849/849 [==============================] - 2s 2ms/step - loss: 0.4831 - accuracy: 0.8946 - val_loss: 0.4685 - val_accuracy: 0.9009\n",
      "Epoch 57/2000\n",
      "847/849 [============================>.] - ETA: 0s - loss: 0.4789 - accuracy: 0.8971\n",
      "Epoch 00057: val_accuracy did not improve from 0.90168\n",
      "849/849 [==============================] - 2s 2ms/step - loss: 0.4788 - accuracy: 0.8971 - val_loss: 0.4578 - val_accuracy: 0.9017\n",
      "Epoch 58/2000\n",
      "847/849 [============================>.] - ETA: 0s - loss: 0.4791 - accuracy: 0.8961\n",
      "Epoch 00058: val_accuracy did not improve from 0.90168\n",
      "849/849 [==============================] - 2s 2ms/step - loss: 0.4792 - accuracy: 0.8961 - val_loss: 0.4538 - val_accuracy: 0.9011\n",
      "Epoch 59/2000\n",
      "847/849 [============================>.] - ETA: 0s - loss: 0.4991 - accuracy: 0.8900\n",
      "Epoch 00059: val_accuracy improved from 0.90168 to 0.90241, saving model to best_model.h5\n",
      "849/849 [==============================] - 2s 2ms/step - loss: 0.4991 - accuracy: 0.8900 - val_loss: 0.4528 - val_accuracy: 0.9024\n",
      "Epoch 60/2000\n",
      "830/849 [============================>.] - ETA: 0s - loss: 0.4840 - accuracy: 0.8949\n",
      "Epoch 00060: val_accuracy did not improve from 0.90241\n",
      "849/849 [==============================] - 2s 2ms/step - loss: 0.4837 - accuracy: 0.8950 - val_loss: 0.4557 - val_accuracy: 0.9004\n",
      "Epoch 61/2000\n",
      "844/849 [============================>.] - ETA: 0s - loss: 0.4979 - accuracy: 0.8925\n",
      "Epoch 00061: val_accuracy did not improve from 0.90241\n",
      "849/849 [==============================] - 2s 2ms/step - loss: 0.4980 - accuracy: 0.8925 - val_loss: 0.4680 - val_accuracy: 0.8999\n",
      "Epoch 62/2000\n",
      "832/849 [============================>.] - ETA: 0s - loss: 0.5075 - accuracy: 0.8886\n",
      "Epoch 00062: val_accuracy did not improve from 0.90241\n",
      "849/849 [==============================] - 2s 2ms/step - loss: 0.5062 - accuracy: 0.8890 - val_loss: 0.4573 - val_accuracy: 0.9022\n",
      "Epoch 63/2000\n",
      "828/849 [============================>.] - ETA: 0s - loss: 0.4664 - accuracy: 0.8986\n",
      "Epoch 00063: val_accuracy did not improve from 0.90241\n",
      "849/849 [==============================] - 2s 2ms/step - loss: 0.4662 - accuracy: 0.8987 - val_loss: 0.4546 - val_accuracy: 0.9020\n",
      "Epoch 64/2000\n",
      "849/849 [==============================] - ETA: 0s - loss: 0.4706 - accuracy: 0.8968\n",
      "Epoch 00064: val_accuracy improved from 0.90241 to 0.90316, saving model to best_model.h5\n",
      "849/849 [==============================] - 2s 2ms/step - loss: 0.4706 - accuracy: 0.8968 - val_loss: 0.4472 - val_accuracy: 0.9032\n",
      "Epoch 65/2000\n",
      "838/849 [============================>.] - ETA: 0s - loss: 0.4639 - accuracy: 0.8983\n",
      "Epoch 00065: val_accuracy did not improve from 0.90316\n",
      "849/849 [==============================] - 2s 2ms/step - loss: 0.4642 - accuracy: 0.8982 - val_loss: 0.4774 - val_accuracy: 0.8908\n",
      "Epoch 66/2000\n",
      "836/849 [============================>.] - ETA: 0s - loss: 0.4588 - accuracy: 0.9003\n",
      "Epoch 00066: val_accuracy did not improve from 0.90316\n",
      "849/849 [==============================] - 2s 2ms/step - loss: 0.4580 - accuracy: 0.9005 - val_loss: 0.4609 - val_accuracy: 0.9021\n",
      "Epoch 67/2000\n",
      "821/849 [============================>.] - ETA: 0s - loss: 0.5249 - accuracy: 0.8863\n",
      "Epoch 00067: val_accuracy did not improve from 0.90316\n",
      "849/849 [==============================] - 2s 2ms/step - loss: 0.5220 - accuracy: 0.8868 - val_loss: 0.4557 - val_accuracy: 0.9015\n",
      "Epoch 68/2000\n",
      "846/849 [============================>.] - ETA: 0s - loss: 0.4773 - accuracy: 0.8960\n",
      "Epoch 00068: val_accuracy did not improve from 0.90316\n",
      "849/849 [==============================] - 2s 2ms/step - loss: 0.4795 - accuracy: 0.8953 - val_loss: 1.0713 - val_accuracy: 0.7514\n",
      "Epoch 69/2000\n",
      "840/849 [============================>.] - ETA: 0s - loss: 0.4844 - accuracy: 0.8930\n",
      "Epoch 00069: val_accuracy did not improve from 0.90316\n",
      "849/849 [==============================] - 2s 2ms/step - loss: 0.4843 - accuracy: 0.8931 - val_loss: 0.4447 - val_accuracy: 0.9029\n",
      "Epoch 70/2000\n",
      "837/849 [============================>.] - ETA: 0s - loss: 0.4689 - accuracy: 0.8976\n",
      "Epoch 00070: val_accuracy improved from 0.90316 to 0.90421, saving model to best_model.h5\n",
      "849/849 [==============================] - 2s 2ms/step - loss: 0.4688 - accuracy: 0.8976 - val_loss: 0.4405 - val_accuracy: 0.9042\n",
      "Epoch 71/2000\n",
      "846/849 [============================>.] - ETA: 0s - loss: 0.4733 - accuracy: 0.8965\n",
      "Epoch 00071: val_accuracy did not improve from 0.90421\n",
      "849/849 [==============================] - 2s 2ms/step - loss: 0.4732 - accuracy: 0.8966 - val_loss: 0.4473 - val_accuracy: 0.9024\n",
      "Epoch 72/2000\n",
      "833/849 [============================>.] - ETA: 0s - loss: 0.4971 - accuracy: 0.8899\n",
      "Epoch 00072: val_accuracy did not improve from 0.90421\n",
      "849/849 [==============================] - 2s 2ms/step - loss: 0.4961 - accuracy: 0.8902 - val_loss: 0.4543 - val_accuracy: 0.9039\n",
      "Epoch 73/2000\n",
      "839/849 [============================>.] - ETA: 0s - loss: 0.4941 - accuracy: 0.8924\n",
      "Epoch 00073: val_accuracy did not improve from 0.90421\n",
      "849/849 [==============================] - 2s 2ms/step - loss: 0.4945 - accuracy: 0.8924 - val_loss: 0.4937 - val_accuracy: 0.8977\n",
      "Epoch 74/2000\n",
      "840/849 [============================>.] - ETA: 0s - loss: 0.5219 - accuracy: 0.8873\n",
      "Epoch 00074: val_accuracy did not improve from 0.90421\n",
      "849/849 [==============================] - 2s 2ms/step - loss: 0.5211 - accuracy: 0.8874 - val_loss: 0.4448 - val_accuracy: 0.9030\n",
      "Epoch 75/2000\n",
      "836/849 [============================>.] - ETA: 0s - loss: 0.5065 - accuracy: 0.8883\n",
      "Epoch 00075: val_accuracy did not improve from 0.90421\n",
      "849/849 [==============================] - 2s 2ms/step - loss: 0.5064 - accuracy: 0.8883 - val_loss: 0.4470 - val_accuracy: 0.9033\n",
      "Epoch 76/2000\n",
      "832/849 [============================>.] - ETA: 0s - loss: 0.4695 - accuracy: 0.8973\n",
      "Epoch 00076: val_accuracy did not improve from 0.90421\n",
      "849/849 [==============================] - 2s 2ms/step - loss: 0.4722 - accuracy: 0.8968 - val_loss: 0.5486 - val_accuracy: 0.8851\n",
      "Epoch 77/2000\n",
      "833/849 [============================>.] - ETA: 0s - loss: 0.4608 - accuracy: 0.9007\n",
      "Epoch 00077: val_accuracy did not improve from 0.90421\n",
      "849/849 [==============================] - 2s 2ms/step - loss: 0.4612 - accuracy: 0.9004 - val_loss: 0.4821 - val_accuracy: 0.8853\n",
      "Epoch 78/2000\n",
      "811/849 [===========================>..] - ETA: 0s - loss: 0.4637 - accuracy: 0.8986\n",
      "Epoch 00078: val_accuracy did not improve from 0.90421\n",
      "849/849 [==============================] - 1s 2ms/step - loss: 0.4641 - accuracy: 0.8986 - val_loss: 0.5477 - val_accuracy: 0.8648\n",
      "Epoch 79/2000\n",
      "818/849 [===========================>..] - ETA: 0s - loss: 0.4698 - accuracy: 0.8970\n",
      "Epoch 00079: val_accuracy improved from 0.90421 to 0.90479, saving model to best_model.h5\n",
      "849/849 [==============================] - 1s 2ms/step - loss: 0.4702 - accuracy: 0.8970 - val_loss: 0.4391 - val_accuracy: 0.9048\n",
      "Epoch 80/2000\n",
      "846/849 [============================>.] - ETA: 0s - loss: 0.4641 - accuracy: 0.8979\n",
      "Epoch 00080: val_accuracy improved from 0.90479 to 0.90486, saving model to best_model.h5\n",
      "849/849 [==============================] - 2s 2ms/step - loss: 0.4639 - accuracy: 0.8979 - val_loss: 0.4351 - val_accuracy: 0.9049\n",
      "Epoch 81/2000\n",
      "824/849 [============================>.] - ETA: 0s - loss: 0.9116 - accuracy: 0.7754\n",
      "Epoch 00081: val_accuracy did not improve from 0.90486\n",
      "849/849 [==============================] - 2s 2ms/step - loss: 0.9053 - accuracy: 0.7777 - val_loss: 0.6957 - val_accuracy: 0.8584\n",
      "Epoch 82/2000\n",
      "818/849 [===========================>..] - ETA: 0s - loss: 0.6493 - accuracy: 0.8623\n",
      "Epoch 00082: val_accuracy did not improve from 0.90486\n",
      "849/849 [==============================] - 2s 2ms/step - loss: 0.6483 - accuracy: 0.8623 - val_loss: 0.5979 - val_accuracy: 0.8643\n",
      "Epoch 83/2000\n",
      "849/849 [==============================] - ETA: 0s - loss: 0.5869 - accuracy: 0.8685\n",
      "Epoch 00083: val_accuracy did not improve from 0.90486\n",
      "849/849 [==============================] - 2s 2ms/step - loss: 0.5869 - accuracy: 0.8685 - val_loss: 0.5816 - val_accuracy: 0.8760\n",
      "Epoch 84/2000\n",
      "826/849 [============================>.] - ETA: 0s - loss: 0.5832 - accuracy: 0.8710\n",
      "Epoch 00084: val_accuracy did not improve from 0.90486\n",
      "849/849 [==============================] - 2s 2ms/step - loss: 0.5825 - accuracy: 0.8714 - val_loss: 0.5840 - val_accuracy: 0.8771\n",
      "Epoch 85/2000\n",
      "822/849 [============================>.] - ETA: 0s - loss: 0.5459 - accuracy: 0.8826\n",
      "Epoch 00085: val_accuracy did not improve from 0.90486\n",
      "849/849 [==============================] - 2s 2ms/step - loss: 0.5452 - accuracy: 0.8827 - val_loss: 0.5341 - val_accuracy: 0.8914\n",
      "Epoch 86/2000\n",
      "849/849 [==============================] - ETA: 0s - loss: 0.5525 - accuracy: 0.8804\n",
      "Epoch 00086: val_accuracy did not improve from 0.90486\n",
      "849/849 [==============================] - 2s 2ms/step - loss: 0.5525 - accuracy: 0.8804 - val_loss: 0.5245 - val_accuracy: 0.8826\n",
      "Epoch 87/2000\n",
      "823/849 [============================>.] - ETA: 0s - loss: 0.5390 - accuracy: 0.8852\n",
      "Epoch 00087: val_accuracy did not improve from 0.90486\n",
      "849/849 [==============================] - 2s 2ms/step - loss: 0.5386 - accuracy: 0.8854 - val_loss: 0.5237 - val_accuracy: 0.8937\n",
      "Epoch 88/2000\n",
      "835/849 [============================>.] - ETA: 0s - loss: 0.5148 - accuracy: 0.8914\n",
      "Epoch 00088: val_accuracy did not improve from 0.90486\n",
      "849/849 [==============================] - 2s 2ms/step - loss: 0.5145 - accuracy: 0.8915 - val_loss: 0.5035 - val_accuracy: 0.8971\n",
      "Epoch 89/2000\n",
      "849/849 [==============================] - ETA: 0s - loss: 0.5353 - accuracy: 0.8840\n",
      "Epoch 00089: val_accuracy did not improve from 0.90486\n",
      "849/849 [==============================] - 2s 2ms/step - loss: 0.5353 - accuracy: 0.8840 - val_loss: 0.5288 - val_accuracy: 0.8788\n",
      "Epoch 90/2000\n",
      "834/849 [============================>.] - ETA: 0s - loss: 0.5206 - accuracy: 0.8874\n",
      "Epoch 00090: val_accuracy did not improve from 0.90486\n",
      "849/849 [==============================] - 2s 2ms/step - loss: 0.5208 - accuracy: 0.8875 - val_loss: 0.4926 - val_accuracy: 0.8970\n",
      "Epoch 91/2000\n",
      "823/849 [============================>.] - ETA: 0s - loss: 0.4972 - accuracy: 0.8942\n",
      "Epoch 00091: val_accuracy did not improve from 0.90486\n",
      "849/849 [==============================] - 2s 2ms/step - loss: 0.4975 - accuracy: 0.8942 - val_loss: 0.4966 - val_accuracy: 0.8927\n",
      "Epoch 92/2000\n",
      "826/849 [============================>.] - ETA: 0s - loss: 0.5097 - accuracy: 0.8901\n",
      "Epoch 00092: val_accuracy did not improve from 0.90486\n",
      "849/849 [==============================] - 2s 2ms/step - loss: 0.5091 - accuracy: 0.8902 - val_loss: 0.4840 - val_accuracy: 0.8971\n",
      "Epoch 93/2000\n",
      "831/849 [============================>.] - ETA: 0s - loss: 0.5127 - accuracy: 0.8896\n",
      "Epoch 00093: val_accuracy did not improve from 0.90486\n",
      "849/849 [==============================] - 2s 2ms/step - loss: 0.5118 - accuracy: 0.8898 - val_loss: 0.4912 - val_accuracy: 0.8971\n",
      "Epoch 94/2000\n",
      "845/849 [============================>.] - ETA: 0s - loss: 0.4890 - accuracy: 0.8952\n",
      "Epoch 00094: val_accuracy did not improve from 0.90486\n",
      "849/849 [==============================] - 2s 2ms/step - loss: 0.4889 - accuracy: 0.8952 - val_loss: 0.4783 - val_accuracy: 0.8984\n",
      "Epoch 95/2000\n",
      "844/849 [============================>.] - ETA: 0s - loss: 0.5442 - accuracy: 0.8819\n",
      "Epoch 00095: val_accuracy did not improve from 0.90486\n",
      "849/849 [==============================] - 2s 2ms/step - loss: 0.5444 - accuracy: 0.8819 - val_loss: 0.9596 - val_accuracy: 0.7095\n",
      "Epoch 96/2000\n",
      "821/849 [============================>.] - ETA: 0s - loss: 0.5152 - accuracy: 0.8868\n",
      "Epoch 00096: val_accuracy did not improve from 0.90486\n",
      "849/849 [==============================] - 2s 2ms/step - loss: 0.5141 - accuracy: 0.8871 - val_loss: 0.4781 - val_accuracy: 0.8981\n",
      "Epoch 97/2000\n",
      "829/849 [============================>.] - ETA: 0s - loss: 0.4935 - accuracy: 0.8930\n",
      "Epoch 00097: val_accuracy did not improve from 0.90486\n",
      "849/849 [==============================] - 2s 2ms/step - loss: 0.4937 - accuracy: 0.8930 - val_loss: 0.4725 - val_accuracy: 0.8989\n",
      "Epoch 98/2000\n",
      "841/849 [============================>.] - ETA: 0s - loss: 0.4974 - accuracy: 0.8914\n",
      "Epoch 00098: val_accuracy did not improve from 0.90486\n",
      "849/849 [==============================] - 2s 2ms/step - loss: 0.4976 - accuracy: 0.8914 - val_loss: 0.4713 - val_accuracy: 0.9014\n",
      "Epoch 99/2000\n",
      "824/849 [============================>.] - ETA: 0s - loss: 0.4940 - accuracy: 0.8924\n",
      "Epoch 00099: val_accuracy did not improve from 0.90486\n",
      "849/849 [==============================] - 2s 2ms/step - loss: 0.4940 - accuracy: 0.8924 - val_loss: 0.4738 - val_accuracy: 0.8990\n",
      "Epoch 100/2000\n",
      "820/849 [===========================>..] - ETA: 0s - loss: 0.4680 - accuracy: 0.8999\n",
      "Epoch 00100: val_accuracy did not improve from 0.90486\n",
      "849/849 [==============================] - 2s 2ms/step - loss: 0.4681 - accuracy: 0.9000 - val_loss: 0.4726 - val_accuracy: 0.9014\n",
      "Epoch 101/2000\n",
      "842/849 [============================>.] - ETA: 0s - loss: 0.5316 - accuracy: 0.8824\n",
      "Epoch 00101: val_accuracy did not improve from 0.90486\n",
      "849/849 [==============================] - 2s 2ms/step - loss: 0.5314 - accuracy: 0.8825 - val_loss: 0.5210 - val_accuracy: 0.8800\n",
      "Epoch 102/2000\n",
      "829/849 [============================>.] - ETA: 0s - loss: 0.5045 - accuracy: 0.8897\n",
      "Epoch 00102: val_accuracy did not improve from 0.90486\n",
      "849/849 [==============================] - 2s 2ms/step - loss: 0.5040 - accuracy: 0.8900 - val_loss: 0.4795 - val_accuracy: 0.8987\n",
      "Epoch 103/2000\n",
      "827/849 [============================>.] - ETA: 0s - loss: 0.5040 - accuracy: 0.8905\n",
      "Epoch 00103: val_accuracy did not improve from 0.90486\n",
      "849/849 [==============================] - 2s 2ms/step - loss: 0.5033 - accuracy: 0.8907 - val_loss: 0.4849 - val_accuracy: 0.8892\n",
      "Epoch 104/2000\n",
      "839/849 [============================>.] - ETA: 0s - loss: 0.4969 - accuracy: 0.8926\n",
      "Epoch 00104: val_accuracy did not improve from 0.90486\n",
      "849/849 [==============================] - 2s 2ms/step - loss: 0.4973 - accuracy: 0.8925 - val_loss: 0.4709 - val_accuracy: 0.8997\n",
      "Epoch 105/2000\n",
      "844/849 [============================>.] - ETA: 0s - loss: 0.4654 - accuracy: 0.9019\n",
      "Epoch 00105: val_accuracy did not improve from 0.90486\n",
      "849/849 [==============================] - 2s 2ms/step - loss: 0.4654 - accuracy: 0.9019 - val_loss: 0.4547 - val_accuracy: 0.9036\n",
      "Epoch 106/2000\n",
      "820/849 [===========================>..] - ETA: 0s - loss: 0.4889 - accuracy: 0.8951\n",
      "Epoch 00106: val_accuracy did not improve from 0.90486\n",
      "849/849 [==============================] - 2s 2ms/step - loss: 0.4890 - accuracy: 0.8952 - val_loss: 0.5019 - val_accuracy: 0.8898\n",
      "Epoch 107/2000\n",
      "843/849 [============================>.] - ETA: 0s - loss: 0.4683 - accuracy: 0.9007\n",
      "Epoch 00107: val_accuracy did not improve from 0.90486\n",
      "849/849 [==============================] - 2s 2ms/step - loss: 0.4683 - accuracy: 0.9007 - val_loss: 0.4551 - val_accuracy: 0.9040\n",
      "Epoch 108/2000\n",
      "844/849 [============================>.] - ETA: 0s - loss: 0.4649 - accuracy: 0.8996\n",
      "Epoch 00108: val_accuracy did not improve from 0.90486\n",
      "849/849 [==============================] - 2s 2ms/step - loss: 0.4648 - accuracy: 0.8997 - val_loss: 0.4871 - val_accuracy: 0.8873\n",
      "Epoch 109/2000\n",
      "839/849 [============================>.] - ETA: 0s - loss: 0.4687 - accuracy: 0.8983\n",
      "Epoch 00109: val_accuracy did not improve from 0.90486\n",
      "849/849 [==============================] - 2s 2ms/step - loss: 0.4685 - accuracy: 0.8984 - val_loss: 0.4670 - val_accuracy: 0.9024\n",
      "Epoch 110/2000\n",
      "840/849 [============================>.] - ETA: 0s - loss: 0.5058 - accuracy: 0.8916\n",
      "Epoch 00110: val_accuracy did not improve from 0.90486\n",
      "849/849 [==============================] - 2s 2ms/step - loss: 0.5052 - accuracy: 0.8918 - val_loss: 0.5296 - val_accuracy: 0.8867\n",
      "Epoch 00110: early stopping\n"
     ]
    }
   ],
   "source": [
    "from tensorflow.keras.models import Sequential\n",
    "from tensorflow.keras.layers import Dense\n",
    "from tensorflow.keras.callbacks import EarlyStopping,ModelCheckpoint\n",
    "es = EarlyStopping(monitor='val_loss', mode='min', verbose=1, patience=30)\n",
    "mc = ModelCheckpoint('best_model.h5', monitor='val_accuracy', mode='max', verbose=1, save_best_only=True)\n",
    "# define the keras model\n",
    "model = Sequential()\n",
    "model.add(Dense(128, input_dim=6, activation='relu'))\n",
    "model.add(Dense(512, activation='relu'))\n",
    "model.add(Dense(128, activation='relu'))\n",
    "\n",
    "model.add(Dense(28, activation='softmax'))\n",
    "# compile the keras model\n",
    "model.compile(loss='SparseCategoricalCrossentropy',\n",
    "              optimizer='adam',\n",
    "              metrics=['accuracy'])\n",
    "history=model.fit(x, y, epochs=2000, batch_size=256, verbose=1,validation_data=(X_test, y_test),callbacks=[es,mc])\n"
   ]
  },
  {
   "cell_type": "code",
   "execution_count": 60,
   "metadata": {
    "ExecuteTime": {
     "end_time": "2021-01-20T20:25:00.417330Z",
     "start_time": "2021-01-20T20:25:00.297215Z"
    }
   },
   "outputs": [
    {
     "data": {
      "image/png": "[encoded data removed]",
      "text/plain": [
       "<Figure size 432x288 with 1 Axes>"
      ]
     },
     "metadata": {
      "needs_background": "light"
     },
     "output_type": "display_data"
    }
   ],
   "source": [
    "import matplotlib.pyplot as plt \n",
    "plt.plot(history.history['loss'], label='train')\n",
    "plt.plot(history.history['val_loss'], label='test')\n",
    "plt.legend()\n",
    "plt.title(\"Loss\")\n",
    "plt.show()"
   ]
  },
  {
   "cell_type": "code",
   "execution_count": 61,
   "metadata": {
    "ExecuteTime": {
     "end_time": "2021-01-20T20:25:02.697061Z",
     "start_time": "2021-01-20T20:25:02.572113Z"
    }
   },
   "outputs": [
    {
     "data": {
      "image/png": "[encoded data removed]",
      "text/plain": [
       "<Figure size 432x288 with 1 Axes>"
      ]
     },
     "metadata": {
      "needs_background": "light"
     },
     "output_type": "display_data"
    }
   ],
   "source": [
    "plt.plot(history.history['accuracy'], label='train')\n",
    "plt.plot(history.history['val_accuracy'], label='test')\n",
    "plt.legend()\n",
    "plt.title(\"Accuracy\")\n",
    "plt.show()"
   ]
  },
  {
   "cell_type": "code",
   "execution_count": 65,
   "metadata": {
    "ExecuteTime": {
     "end_time": "2021-01-20T20:26:57.271484Z",
     "start_time": "2021-01-20T20:26:56.370698Z"
    }
   },
   "outputs": [],
   "source": [
    "predictions = model.predict_classes(X_test)"
   ]
  },
  {
   "cell_type": "code",
   "execution_count": 41,
   "metadata": {
    "ExecuteTime": {
     "end_time": "2021-01-20T20:01:34.929530Z",
     "start_time": "2021-01-20T20:01:34.925132Z"
    }
   },
   "outputs": [],
   "source": [
    "from sklearn.metrics import f1_score, accuracy_score, classification_report, confusion_matrix\n",
    "\n",
    "\n",
    "def confusion_mat(y_test, pred, title=\"Confusion Matrix\", labels=None, normalize=False):\n",
    "    \"\"\"\n",
    "    Plot the confusion matrix given y_test and pred.\n",
    "    y_test and pred must be arrays of pd.Series\n",
    "    \"\"\"\n",
    "    if not labels:\n",
    "        labels = [\"A\", \"B\", \"C\", \"D\", \"E\", \"F\", \"G\"]\n",
    "    plt.figure(figsize=(12, 10))\n",
    "    confusion = confusion_matrix(y_test, pred)\n",
    "    if normalize:\n",
    "        confusion = np.round(confusion/confusion.sum(axis=1), 2)\n",
    "    sns.heatmap(confusion,\n",
    "                xticklabels=labels,\n",
    "                yticklabels=labels,\n",
    "                annot=True)\n",
    "\n",
    "    plt.xlabel(\"Predicted Labels\")\n",
    "    plt.ylabel(\"True Labels\")\n",
    "    plt.yticks(rotation=\"horizontal\")\n",
    "    plt.tight_layout()\n",
    "    plt.title(title)\n",
    "    plt.show()\n",
    "    return"
   ]
  },
  {
   "cell_type": "code",
   "execution_count": 66,
   "metadata": {
    "ExecuteTime": {
     "end_time": "2021-01-20T20:26:59.114081Z",
     "start_time": "2021-01-20T20:26:59.081780Z"
    }
   },
   "outputs": [
    {
     "name": "stdout",
     "output_type": "stream",
     "text": [
      "0.8791203677949767\n"
     ]
    },
    {
     "data": {
      "text/plain": [
       "0.8867403314917127"
      ]
     },
     "execution_count": 66,
     "metadata": {},
     "output_type": "execute_result"
    }
   ],
   "source": [
    "print(f1_score(y_test,predictions,average=\"weighted\"))\n",
    "accuracy_score(y_test,predictions)"
   ]
  },
  {
   "cell_type": "code",
   "execution_count": 64,
   "metadata": {
    "ExecuteTime": {
     "end_time": "2021-01-20T20:25:38.707190Z",
     "start_time": "2021-01-20T20:25:35.153696Z"
    }
   },
   "outputs": [
    {
     "data": {
      "image/png": "[encoded data removed]",
      "text/plain": [
       "<Figure size 864x720 with 2 Axes>"
      ]
     },
     "metadata": {
      "needs_background": "light"
     },
     "output_type": "display_data"
    }
   ],
   "source": [
    "import seaborn as sns \n",
    "(confusion_mat(y_test,predictions,labels=[i for i in range(0,28)],normalize=True))"
   ]
  },
  {
   "cell_type": "code",
   "execution_count": 67,
   "metadata": {
    "ExecuteTime": {
     "end_time": "2021-01-20T20:27:08.054533Z",
     "start_time": "2021-01-20T20:27:07.419994Z"
    }
   },
   "outputs": [],
   "source": [
    "\n",
    "predictions = model.predict_classes(test.iloc[:,-6:])"
   ]
  },
  {
   "cell_type": "code",
   "execution_count": 52,
   "metadata": {
    "ExecuteTime": {
     "end_time": "2021-01-20T20:04:52.100202Z",
     "start_time": "2021-01-20T20:04:52.096318Z"
    }
   },
   "outputs": [
    {
     "data": {
      "text/plain": [
       "array([ 6, 20, 19, ..., 19, 26, 15])"
      ]
     },
     "execution_count": 52,
     "metadata": {},
     "output_type": "execute_result"
    }
   ],
   "source": [
    "predictions"
   ]
  },
  {
   "cell_type": "code",
   "execution_count": 68,
   "metadata": {
    "ExecuteTime": {
     "end_time": "2021-01-20T20:27:10.427038Z",
     "start_time": "2021-01-20T20:27:10.415600Z"
    }
   },
   "outputs": [
    {
     "data": {
      "text/html": [
       "<div>\n",
       "<style scoped>\n",
       "    .dataframe tbody tr th:only-of-type {\n",
       "        vertical-align: middle;\n",
       "    }\n",
       "\n",
       "    .dataframe tbody tr th {\n",
       "        vertical-align: top;\n",
       "    }\n",
       "\n",
       "    .dataframe thead th {\n",
       "        text-align: right;\n",
       "    }\n",
       "</style>\n",
       "<table border=\"1\" class=\"dataframe\">\n",
       "  <thead>\n",
       "    <tr style=\"text-align: right;\">\n",
       "      <th></th>\n",
       "      <th>Id</th>\n",
       "      <th>Category</th>\n",
       "    </tr>\n",
       "  </thead>\n",
       "  <tbody>\n",
       "    <tr>\n",
       "      <th>0</th>\n",
       "      <td>0</td>\n",
       "      <td>0</td>\n",
       "    </tr>\n",
       "    <tr>\n",
       "      <th>1</th>\n",
       "      <td>1</td>\n",
       "      <td>0</td>\n",
       "    </tr>\n",
       "    <tr>\n",
       "      <th>2</th>\n",
       "      <td>2</td>\n",
       "      <td>0</td>\n",
       "    </tr>\n",
       "    <tr>\n",
       "      <th>3</th>\n",
       "      <td>3</td>\n",
       "      <td>0</td>\n",
       "    </tr>\n",
       "    <tr>\n",
       "      <th>4</th>\n",
       "      <td>4</td>\n",
       "      <td>0</td>\n",
       "    </tr>\n",
       "    <tr>\n",
       "      <th>...</th>\n",
       "      <td>...</td>\n",
       "      <td>...</td>\n",
       "    </tr>\n",
       "    <tr>\n",
       "      <th>54295</th>\n",
       "      <td>54295</td>\n",
       "      <td>0</td>\n",
       "    </tr>\n",
       "    <tr>\n",
       "      <th>54296</th>\n",
       "      <td>54296</td>\n",
       "      <td>0</td>\n",
       "    </tr>\n",
       "    <tr>\n",
       "      <th>54297</th>\n",
       "      <td>54297</td>\n",
       "      <td>0</td>\n",
       "    </tr>\n",
       "    <tr>\n",
       "      <th>54298</th>\n",
       "      <td>54298</td>\n",
       "      <td>0</td>\n",
       "    </tr>\n",
       "    <tr>\n",
       "      <th>54299</th>\n",
       "      <td>54299</td>\n",
       "      <td>0</td>\n",
       "    </tr>\n",
       "  </tbody>\n",
       "</table>\n",
       "<p>54300 rows × 2 columns</p>\n",
       "</div>"
      ],
      "text/plain": [
       "          Id  Category\n",
       "0          0         0\n",
       "1          1         0\n",
       "2          2         0\n",
       "3          3         0\n",
       "4          4         0\n",
       "...      ...       ...\n",
       "54295  54295         0\n",
       "54296  54296         0\n",
       "54297  54297         0\n",
       "54298  54298         0\n",
       "54299  54299         0\n",
       "\n",
       "[54300 rows x 2 columns]"
      ]
     },
     "execution_count": 68,
     "metadata": {},
     "output_type": "execute_result"
    }
   ],
   "source": [
    "import pandas as pd \n",
    "submissions=pd.read_csv(\"template_submissions.csv\")\n",
    "submissions"
   ]
  },
  {
   "cell_type": "code",
   "execution_count": 69,
   "metadata": {
    "ExecuteTime": {
     "end_time": "2021-01-20T20:27:15.232362Z",
     "start_time": "2021-01-20T20:27:15.181545Z"
    }
   },
   "outputs": [],
   "source": [
    "submissions.Category=predictions\n",
    "submissions.to_csv('submissions.csv',index=False)"
   ]
  },
  {
   "cell_type": "code",
   "execution_count": 70,
   "metadata": {
    "ExecuteTime": {
     "end_time": "2021-01-20T20:27:16.265243Z",
     "start_time": "2021-01-20T20:27:16.253668Z"
    }
   },
   "outputs": [
    {
     "data": {
      "text/html": [
       "<div>\n",
       "<style scoped>\n",
       "    .dataframe tbody tr th:only-of-type {\n",
       "        vertical-align: middle;\n",
       "    }\n",
       "\n",
       "    .dataframe tbody tr th {\n",
       "        vertical-align: top;\n",
       "    }\n",
       "\n",
       "    .dataframe thead th {\n",
       "        text-align: right;\n",
       "    }\n",
       "</style>\n",
       "<table border=\"1\" class=\"dataframe\">\n",
       "  <thead>\n",
       "    <tr style=\"text-align: right;\">\n",
       "      <th></th>\n",
       "      <th>Id</th>\n",
       "      <th>Category</th>\n",
       "    </tr>\n",
       "  </thead>\n",
       "  <tbody>\n",
       "    <tr>\n",
       "      <th>0</th>\n",
       "      <td>0</td>\n",
       "      <td>6</td>\n",
       "    </tr>\n",
       "    <tr>\n",
       "      <th>1</th>\n",
       "      <td>1</td>\n",
       "      <td>20</td>\n",
       "    </tr>\n",
       "    <tr>\n",
       "      <th>2</th>\n",
       "      <td>2</td>\n",
       "      <td>19</td>\n",
       "    </tr>\n",
       "    <tr>\n",
       "      <th>3</th>\n",
       "      <td>3</td>\n",
       "      <td>19</td>\n",
       "    </tr>\n",
       "    <tr>\n",
       "      <th>4</th>\n",
       "      <td>4</td>\n",
       "      <td>19</td>\n",
       "    </tr>\n",
       "    <tr>\n",
       "      <th>...</th>\n",
       "      <td>...</td>\n",
       "      <td>...</td>\n",
       "    </tr>\n",
       "    <tr>\n",
       "      <th>54295</th>\n",
       "      <td>54295</td>\n",
       "      <td>19</td>\n",
       "    </tr>\n",
       "    <tr>\n",
       "      <th>54296</th>\n",
       "      <td>54296</td>\n",
       "      <td>15</td>\n",
       "    </tr>\n",
       "    <tr>\n",
       "      <th>54297</th>\n",
       "      <td>54297</td>\n",
       "      <td>19</td>\n",
       "    </tr>\n",
       "    <tr>\n",
       "      <th>54298</th>\n",
       "      <td>54298</td>\n",
       "      <td>26</td>\n",
       "    </tr>\n",
       "    <tr>\n",
       "      <th>54299</th>\n",
       "      <td>54299</td>\n",
       "      <td>15</td>\n",
       "    </tr>\n",
       "  </tbody>\n",
       "</table>\n",
       "<p>54300 rows × 2 columns</p>\n",
       "</div>"
      ],
      "text/plain": [
       "          Id  Category\n",
       "0          0         6\n",
       "1          1        20\n",
       "2          2        19\n",
       "3          3        19\n",
       "4          4        19\n",
       "...      ...       ...\n",
       "54295  54295        19\n",
       "54296  54296        15\n",
       "54297  54297        19\n",
       "54298  54298        26\n",
       "54299  54299        15\n",
       "\n",
       "[54300 rows x 2 columns]"
      ]
     },
     "execution_count": 70,
     "metadata": {},
     "output_type": "execute_result"
    }
   ],
   "source": [
    "pd.read_csv(\"submissions.csv\")"
   ]
  },
  {
   "cell_type": "code",
   "execution_count": 71,
   "metadata": {
    "ExecuteTime": {
     "end_time": "2021-01-20T20:27:42.894148Z",
     "start_time": "2021-01-20T20:27:39.307838Z"
    }
   },
   "outputs": [
    {
     "name": "stdout",
     "output_type": "stream",
     "text": [
      "100%|█████████████████████████████████████████| 456k/456k [00:02<00:00, 230kB/s]\n",
      "Successfully submitted to Defi-IA 2021"
     ]
    }
   ],
   "source": [
    "!kaggle competitions submit -c defi-ia-insa-toulouse -f submissions.csv -m \"DNN + Transformers 110 epochs\""
   ]
  },
  {
   "cell_type": "code",
   "execution_count": null,
   "metadata": {},
   "outputs": [],
   "source": []
  },
  {
   "cell_type": "code",
   "execution_count": null,
   "metadata": {},
   "outputs": [],
   "source": []
  },
  {
   "cell_type": "markdown",
   "metadata": {},
   "source": [
    "# Export Data"
   ]
  },
  {
   "cell_type": "markdown",
   "metadata": {
    "heading_collapsed": true
   },
   "source": [
    "## CSV"
   ]
  },
  {
   "cell_type": "code",
   "execution_count": 56,
   "metadata": {
    "ExecuteTime": {
     "end_time": "2021-01-10T15:54:47.299304Z",
     "start_time": "2021-01-10T15:54:41.882453Z"
    },
    "hidden": true
   },
   "outputs": [
    {
     "data": {
      "text/html": [
       "<div>\n",
       "<style scoped>\n",
       "    .dataframe tbody tr th:only-of-type {\n",
       "        vertical-align: middle;\n",
       "    }\n",
       "\n",
       "    .dataframe tbody tr th {\n",
       "        vertical-align: top;\n",
       "    }\n",
       "\n",
       "    .dataframe thead th {\n",
       "        text-align: right;\n",
       "    }\n",
       "</style>\n",
       "<table border=\"1\" class=\"dataframe\">\n",
       "  <thead>\n",
       "    <tr style=\"text-align: right;\">\n",
       "      <th></th>\n",
       "      <th>description</th>\n",
       "      <th>gender</th>\n",
       "      <th>category</th>\n",
       "      <th>job</th>\n",
       "      <th>cleaned</th>\n",
       "      <th>lang</th>\n",
       "      <th>distance</th>\n",
       "      <th>complexity</th>\n",
       "    </tr>\n",
       "  </thead>\n",
       "  <tbody>\n",
       "    <tr>\n",
       "      <th>0</th>\n",
       "      <td>She is also a Ronald D. Asmus Policy Entrepre...</td>\n",
       "      <td>F</td>\n",
       "      <td>19.0</td>\n",
       "      <td>professor</td>\n",
       "      <td>She is also a Ronald D. Asmus Policy Entrepren...</td>\n",
       "      <td>en</td>\n",
       "      <td>7.0</td>\n",
       "      <td>38.32</td>\n",
       "    </tr>\n",
       "    <tr>\n",
       "      <th>1</th>\n",
       "      <td>He is a member of the AICPA and WICPA. Brent ...</td>\n",
       "      <td>M</td>\n",
       "      <td>9.0</td>\n",
       "      <td>accountant</td>\n",
       "      <td>He is a member of the AICPA and WICPA. Brent g...</td>\n",
       "      <td>en</td>\n",
       "      <td>1.0</td>\n",
       "      <td>65.42</td>\n",
       "    </tr>\n",
       "    <tr>\n",
       "      <th>2</th>\n",
       "      <td>Dr. Aster has held teaching and research posi...</td>\n",
       "      <td>M</td>\n",
       "      <td>19.0</td>\n",
       "      <td>professor</td>\n",
       "      <td>Dr. Aster has held teaching and research posit...</td>\n",
       "      <td>en</td>\n",
       "      <td>1.0</td>\n",
       "      <td>34.76</td>\n",
       "    </tr>\n",
       "    <tr>\n",
       "      <th>3</th>\n",
       "      <td>He runs a boutique design studio attending cl...</td>\n",
       "      <td>M</td>\n",
       "      <td>24.0</td>\n",
       "      <td>architect</td>\n",
       "      <td>He runs a boutique design studio attending cli...</td>\n",
       "      <td>en</td>\n",
       "      <td>3.0</td>\n",
       "      <td>33.44</td>\n",
       "    </tr>\n",
       "    <tr>\n",
       "      <th>4</th>\n",
       "      <td>He focuses on cloud security, identity and ac...</td>\n",
       "      <td>M</td>\n",
       "      <td>24.0</td>\n",
       "      <td>architect</td>\n",
       "      <td>He focuses on cloud security, identity and acc...</td>\n",
       "      <td>en</td>\n",
       "      <td>1.0</td>\n",
       "      <td>17.50</td>\n",
       "    </tr>\n",
       "    <tr>\n",
       "      <th>...</th>\n",
       "      <td>...</td>\n",
       "      <td>...</td>\n",
       "      <td>...</td>\n",
       "      <td>...</td>\n",
       "      <td>...</td>\n",
       "      <td>...</td>\n",
       "      <td>...</td>\n",
       "      <td>...</td>\n",
       "    </tr>\n",
       "    <tr>\n",
       "      <th>217196</th>\n",
       "      <td>A member of the UWA Cultural Collections Boar...</td>\n",
       "      <td>M</td>\n",
       "      <td>19.0</td>\n",
       "      <td>professor</td>\n",
       "      <td>A member of the UWA Cultural Collections Board...</td>\n",
       "      <td>en</td>\n",
       "      <td>3.0</td>\n",
       "      <td>46.10</td>\n",
       "    </tr>\n",
       "    <tr>\n",
       "      <th>217197</th>\n",
       "      <td>Kelly has worked globally leading teams of co...</td>\n",
       "      <td>F</td>\n",
       "      <td>22.0</td>\n",
       "      <td>psychologist</td>\n",
       "      <td>Kelly has worked globally leading teams of con...</td>\n",
       "      <td>en</td>\n",
       "      <td>4.0</td>\n",
       "      <td>38.32</td>\n",
       "    </tr>\n",
       "    <tr>\n",
       "      <th>217198</th>\n",
       "      <td>He's the lead author of a recent study that f...</td>\n",
       "      <td>M</td>\n",
       "      <td>19.0</td>\n",
       "      <td>professor</td>\n",
       "      <td>He's the lead author of a recent study that fo...</td>\n",
       "      <td>en</td>\n",
       "      <td>1.0</td>\n",
       "      <td>54.56</td>\n",
       "    </tr>\n",
       "    <tr>\n",
       "      <th>217199</th>\n",
       "      <td>She specializes in the theoretical and pedago...</td>\n",
       "      <td>F</td>\n",
       "      <td>19.0</td>\n",
       "      <td>professor</td>\n",
       "      <td>She specializes in the theoretical and pedagog...</td>\n",
       "      <td>en</td>\n",
       "      <td>2.0</td>\n",
       "      <td>18.39</td>\n",
       "    </tr>\n",
       "    <tr>\n",
       "      <th>217200</th>\n",
       "      <td>Since she was 10 years old she has become a m...</td>\n",
       "      <td>F</td>\n",
       "      <td>1.0</td>\n",
       "      <td>model</td>\n",
       "      <td>Since she was years old she has become a model...</td>\n",
       "      <td>en</td>\n",
       "      <td>17.0</td>\n",
       "      <td>73.68</td>\n",
       "    </tr>\n",
       "  </tbody>\n",
       "</table>\n",
       "<p>217201 rows × 8 columns</p>\n",
       "</div>"
      ],
      "text/plain": [
       "                                              description gender  category  \\\n",
       "0        She is also a Ronald D. Asmus Policy Entrepre...      F      19.0   \n",
       "1        He is a member of the AICPA and WICPA. Brent ...      M       9.0   \n",
       "2        Dr. Aster has held teaching and research posi...      M      19.0   \n",
       "3        He runs a boutique design studio attending cl...      M      24.0   \n",
       "4        He focuses on cloud security, identity and ac...      M      24.0   \n",
       "...                                                   ...    ...       ...   \n",
       "217196   A member of the UWA Cultural Collections Boar...      M      19.0   \n",
       "217197   Kelly has worked globally leading teams of co...      F      22.0   \n",
       "217198   He's the lead author of a recent study that f...      M      19.0   \n",
       "217199   She specializes in the theoretical and pedago...      F      19.0   \n",
       "217200   Since she was 10 years old she has become a m...      F       1.0   \n",
       "\n",
       "                 job                                            cleaned lang  \\\n",
       "0          professor  She is also a Ronald D. Asmus Policy Entrepren...   en   \n",
       "1         accountant  He is a member of the AICPA and WICPA. Brent g...   en   \n",
       "2          professor  Dr. Aster has held teaching and research posit...   en   \n",
       "3          architect  He runs a boutique design studio attending cli...   en   \n",
       "4          architect  He focuses on cloud security, identity and acc...   en   \n",
       "...              ...                                                ...  ...   \n",
       "217196     professor  A member of the UWA Cultural Collections Board...   en   \n",
       "217197  psychologist  Kelly has worked globally leading teams of con...   en   \n",
       "217198     professor  He's the lead author of a recent study that fo...   en   \n",
       "217199     professor  She specializes in the theoretical and pedagog...   en   \n",
       "217200         model  Since she was years old she has become a model...   en   \n",
       "\n",
       "        distance  complexity  \n",
       "0            7.0       38.32  \n",
       "1            1.0       65.42  \n",
       "2            1.0       34.76  \n",
       "3            3.0       33.44  \n",
       "4            1.0       17.50  \n",
       "...          ...         ...  \n",
       "217196       3.0       46.10  \n",
       "217197       4.0       38.32  \n",
       "217198       1.0       54.56  \n",
       "217199       2.0       18.39  \n",
       "217200      17.0       73.68  \n",
       "\n",
       "[217201 rows x 8 columns]"
      ]
     },
     "execution_count": 56,
     "metadata": {},
     "output_type": "execute_result"
    }
   ],
   "source": [
    "train.to_csv(\"train.csv\",index=False)\n",
    "pd.read_csv(\"train.csv\")"
   ]
  },
  {
   "cell_type": "code",
   "execution_count": 65,
   "metadata": {
    "ExecuteTime": {
     "end_time": "2021-01-10T16:23:04.139435Z",
     "start_time": "2021-01-10T16:23:04.136017Z"
    },
    "hidden": true
   },
   "outputs": [
    {
     "data": {
      "text/plain": [
       "True"
      ]
     },
     "execution_count": 65,
     "metadata": {},
     "output_type": "execute_result"
    }
   ],
   "source": [
    "len(test)==len(submission)"
   ]
  },
  {
   "cell_type": "code",
   "execution_count": 66,
   "metadata": {
    "ExecuteTime": {
     "end_time": "2021-01-10T16:23:29.536476Z",
     "start_time": "2021-01-10T16:23:29.522719Z"
    },
    "hidden": true
   },
   "outputs": [
    {
     "data": {
      "text/html": [
       "<div>\n",
       "<style scoped>\n",
       "    .dataframe tbody tr th:only-of-type {\n",
       "        vertical-align: middle;\n",
       "    }\n",
       "\n",
       "    .dataframe tbody tr th {\n",
       "        vertical-align: top;\n",
       "    }\n",
       "\n",
       "    .dataframe thead th {\n",
       "        text-align: right;\n",
       "    }\n",
       "</style>\n",
       "<table border=\"1\" class=\"dataframe\">\n",
       "  <thead>\n",
       "    <tr style=\"text-align: right;\">\n",
       "      <th></th>\n",
       "      <th>description</th>\n",
       "      <th>gender</th>\n",
       "      <th>cleaned</th>\n",
       "      <th>lang</th>\n",
       "      <th>complexity</th>\n",
       "    </tr>\n",
       "    <tr>\n",
       "      <th>Id</th>\n",
       "      <th></th>\n",
       "      <th></th>\n",
       "      <th></th>\n",
       "      <th></th>\n",
       "      <th></th>\n",
       "    </tr>\n",
       "  </thead>\n",
       "  <tbody>\n",
       "    <tr>\n",
       "      <th>0</th>\n",
       "      <td>She currently works on CNN’s newest primetime...</td>\n",
       "      <td>F</td>\n",
       "      <td>She currently works on CNN’s newest primetime ...</td>\n",
       "      <td>en</td>\n",
       "      <td>43.43</td>\n",
       "    </tr>\n",
       "    <tr>\n",
       "      <th>1</th>\n",
       "      <td>Lavalette’s photographs have been shown widel...</td>\n",
       "      <td>M</td>\n",
       "      <td>Lavalette’s photographs have been shown widely...</td>\n",
       "      <td>en</td>\n",
       "      <td>45.09</td>\n",
       "    </tr>\n",
       "    <tr>\n",
       "      <th>2</th>\n",
       "      <td>Along with his academic and professional deve...</td>\n",
       "      <td>M</td>\n",
       "      <td>Along with his academic and professional devel...</td>\n",
       "      <td>en</td>\n",
       "      <td>49.15</td>\n",
       "    </tr>\n",
       "    <tr>\n",
       "      <th>3</th>\n",
       "      <td>She obtained her Ph.D. in Islamic Studies at ...</td>\n",
       "      <td>F</td>\n",
       "      <td>She obtained her Ph.D. in Islamic Studies at D...</td>\n",
       "      <td>en</td>\n",
       "      <td>39.37</td>\n",
       "    </tr>\n",
       "    <tr>\n",
       "      <th>4</th>\n",
       "      <td>She studies issues of women and Islam and has...</td>\n",
       "      <td>F</td>\n",
       "      <td>She studies issues of women and Islam and has ...</td>\n",
       "      <td>en</td>\n",
       "      <td>32.57</td>\n",
       "    </tr>\n",
       "    <tr>\n",
       "      <th>...</th>\n",
       "      <td>...</td>\n",
       "      <td>...</td>\n",
       "      <td>...</td>\n",
       "      <td>...</td>\n",
       "      <td>...</td>\n",
       "    </tr>\n",
       "    <tr>\n",
       "      <th>54295</th>\n",
       "      <td>Prior to that, she worked as a Research Staff...</td>\n",
       "      <td>F</td>\n",
       "      <td>Prior to that, she worked as a Research Staff ...</td>\n",
       "      <td>en</td>\n",
       "      <td>52.90</td>\n",
       "    </tr>\n",
       "    <tr>\n",
       "      <th>54296</th>\n",
       "      <td>The group’s antics began when they switched t...</td>\n",
       "      <td>M</td>\n",
       "      <td>The group’s antics began when they switched th...</td>\n",
       "      <td>en</td>\n",
       "      <td>45.09</td>\n",
       "    </tr>\n",
       "    <tr>\n",
       "      <th>54297</th>\n",
       "      <td>Formerly, she was the Coordinator for Music E...</td>\n",
       "      <td>F</td>\n",
       "      <td>Formerly, she was the Coordinator for Music Ed...</td>\n",
       "      <td>en</td>\n",
       "      <td>21.02</td>\n",
       "    </tr>\n",
       "    <tr>\n",
       "      <th>54298</th>\n",
       "      <td>She started her law practice at Morris Mannin...</td>\n",
       "      <td>F</td>\n",
       "      <td>She started her law practice at Morris Manning...</td>\n",
       "      <td>en</td>\n",
       "      <td>62.68</td>\n",
       "    </tr>\n",
       "    <tr>\n",
       "      <th>54299</th>\n",
       "      <td>Since 1995, he works as a programme maker and...</td>\n",
       "      <td>M</td>\n",
       "      <td>Since he works as a programme maker and artist...</td>\n",
       "      <td>en</td>\n",
       "      <td>51.48</td>\n",
       "    </tr>\n",
       "  </tbody>\n",
       "</table>\n",
       "<p>54300 rows × 5 columns</p>\n",
       "</div>"
      ],
      "text/plain": [
       "                                             description gender  \\\n",
       "Id                                                                \n",
       "0       She currently works on CNN’s newest primetime...      F   \n",
       "1       Lavalette’s photographs have been shown widel...      M   \n",
       "2       Along with his academic and professional deve...      M   \n",
       "3       She obtained her Ph.D. in Islamic Studies at ...      F   \n",
       "4       She studies issues of women and Islam and has...      F   \n",
       "...                                                  ...    ...   \n",
       "54295   Prior to that, she worked as a Research Staff...      F   \n",
       "54296   The group’s antics began when they switched t...      M   \n",
       "54297   Formerly, she was the Coordinator for Music E...      F   \n",
       "54298   She started her law practice at Morris Mannin...      F   \n",
       "54299   Since 1995, he works as a programme maker and...      M   \n",
       "\n",
       "                                                 cleaned lang  complexity  \n",
       "Id                                                                         \n",
       "0      She currently works on CNN’s newest primetime ...   en       43.43  \n",
       "1      Lavalette’s photographs have been shown widely...   en       45.09  \n",
       "2      Along with his academic and professional devel...   en       49.15  \n",
       "3      She obtained her Ph.D. in Islamic Studies at D...   en       39.37  \n",
       "4      She studies issues of women and Islam and has ...   en       32.57  \n",
       "...                                                  ...  ...         ...  \n",
       "54295  Prior to that, she worked as a Research Staff ...   en       52.90  \n",
       "54296  The group’s antics began when they switched th...   en       45.09  \n",
       "54297  Formerly, she was the Coordinator for Music Ed...   en       21.02  \n",
       "54298  She started her law practice at Morris Manning...   en       62.68  \n",
       "54299  Since he works as a programme maker and artist...   en       51.48  \n",
       "\n",
       "[54300 rows x 5 columns]"
      ]
     },
     "execution_count": 66,
     "metadata": {},
     "output_type": "execute_result"
    }
   ],
   "source": [
    "test"
   ]
  },
  {
   "cell_type": "code",
   "execution_count": 68,
   "metadata": {
    "ExecuteTime": {
     "end_time": "2021-01-10T16:24:22.277452Z",
     "start_time": "2021-01-10T16:24:20.965530Z"
    },
    "hidden": true
   },
   "outputs": [
    {
     "data": {
      "text/html": [
       "<div>\n",
       "<style scoped>\n",
       "    .dataframe tbody tr th:only-of-type {\n",
       "        vertical-align: middle;\n",
       "    }\n",
       "\n",
       "    .dataframe tbody tr th {\n",
       "        vertical-align: top;\n",
       "    }\n",
       "\n",
       "    .dataframe thead th {\n",
       "        text-align: right;\n",
       "    }\n",
       "</style>\n",
       "<table border=\"1\" class=\"dataframe\">\n",
       "  <thead>\n",
       "    <tr style=\"text-align: right;\">\n",
       "      <th></th>\n",
       "      <th>description</th>\n",
       "      <th>gender</th>\n",
       "      <th>cleaned</th>\n",
       "      <th>lang</th>\n",
       "      <th>complexity</th>\n",
       "    </tr>\n",
       "  </thead>\n",
       "  <tbody>\n",
       "    <tr>\n",
       "      <th>0</th>\n",
       "      <td>She currently works on CNN’s newest primetime...</td>\n",
       "      <td>F</td>\n",
       "      <td>She currently works on CNN’s newest primetime ...</td>\n",
       "      <td>en</td>\n",
       "      <td>43.43</td>\n",
       "    </tr>\n",
       "    <tr>\n",
       "      <th>1</th>\n",
       "      <td>Lavalette’s photographs have been shown widel...</td>\n",
       "      <td>M</td>\n",
       "      <td>Lavalette’s photographs have been shown widely...</td>\n",
       "      <td>en</td>\n",
       "      <td>45.09</td>\n",
       "    </tr>\n",
       "    <tr>\n",
       "      <th>2</th>\n",
       "      <td>Along with his academic and professional deve...</td>\n",
       "      <td>M</td>\n",
       "      <td>Along with his academic and professional devel...</td>\n",
       "      <td>en</td>\n",
       "      <td>49.15</td>\n",
       "    </tr>\n",
       "    <tr>\n",
       "      <th>3</th>\n",
       "      <td>She obtained her Ph.D. in Islamic Studies at ...</td>\n",
       "      <td>F</td>\n",
       "      <td>She obtained her Ph.D. in Islamic Studies at D...</td>\n",
       "      <td>en</td>\n",
       "      <td>39.37</td>\n",
       "    </tr>\n",
       "    <tr>\n",
       "      <th>4</th>\n",
       "      <td>She studies issues of women and Islam and has...</td>\n",
       "      <td>F</td>\n",
       "      <td>She studies issues of women and Islam and has ...</td>\n",
       "      <td>en</td>\n",
       "      <td>32.57</td>\n",
       "    </tr>\n",
       "    <tr>\n",
       "      <th>...</th>\n",
       "      <td>...</td>\n",
       "      <td>...</td>\n",
       "      <td>...</td>\n",
       "      <td>...</td>\n",
       "      <td>...</td>\n",
       "    </tr>\n",
       "    <tr>\n",
       "      <th>54296</th>\n",
       "      <td>Prior to that, she worked as a Research Staff...</td>\n",
       "      <td>F</td>\n",
       "      <td>Prior to that, she worked as a Research Staff ...</td>\n",
       "      <td>en</td>\n",
       "      <td>52.90</td>\n",
       "    </tr>\n",
       "    <tr>\n",
       "      <th>54297</th>\n",
       "      <td>The group’s antics began when they switched t...</td>\n",
       "      <td>M</td>\n",
       "      <td>The group’s antics began when they switched th...</td>\n",
       "      <td>en</td>\n",
       "      <td>45.09</td>\n",
       "    </tr>\n",
       "    <tr>\n",
       "      <th>54298</th>\n",
       "      <td>Formerly, she was the Coordinator for Music E...</td>\n",
       "      <td>F</td>\n",
       "      <td>Formerly, she was the Coordinator for Music Ed...</td>\n",
       "      <td>en</td>\n",
       "      <td>21.02</td>\n",
       "    </tr>\n",
       "    <tr>\n",
       "      <th>54299</th>\n",
       "      <td>She started her law practice at Morris Mannin...</td>\n",
       "      <td>F</td>\n",
       "      <td>She started her law practice at Morris Manning...</td>\n",
       "      <td>en</td>\n",
       "      <td>62.68</td>\n",
       "    </tr>\n",
       "    <tr>\n",
       "      <th>54300</th>\n",
       "      <td>Since 1995, he works as a programme maker and...</td>\n",
       "      <td>M</td>\n",
       "      <td>Since he works as a programme maker and artist...</td>\n",
       "      <td>en</td>\n",
       "      <td>51.48</td>\n",
       "    </tr>\n",
       "  </tbody>\n",
       "</table>\n",
       "<p>54301 rows × 5 columns</p>\n",
       "</div>"
      ],
      "text/plain": [
       "                                             description gender  \\\n",
       "0       She currently works on CNN’s newest primetime...      F   \n",
       "1       Lavalette’s photographs have been shown widel...      M   \n",
       "2       Along with his academic and professional deve...      M   \n",
       "3       She obtained her Ph.D. in Islamic Studies at ...      F   \n",
       "4       She studies issues of women and Islam and has...      F   \n",
       "...                                                  ...    ...   \n",
       "54296   Prior to that, she worked as a Research Staff...      F   \n",
       "54297   The group’s antics began when they switched t...      M   \n",
       "54298   Formerly, she was the Coordinator for Music E...      F   \n",
       "54299   She started her law practice at Morris Mannin...      F   \n",
       "54300   Since 1995, he works as a programme maker and...      M   \n",
       "\n",
       "                                                 cleaned lang  complexity  \n",
       "0      She currently works on CNN’s newest primetime ...   en       43.43  \n",
       "1      Lavalette’s photographs have been shown widely...   en       45.09  \n",
       "2      Along with his academic and professional devel...   en       49.15  \n",
       "3      She obtained her Ph.D. in Islamic Studies at D...   en       39.37  \n",
       "4      She studies issues of women and Islam and has ...   en       32.57  \n",
       "...                                                  ...  ...         ...  \n",
       "54296  Prior to that, she worked as a Research Staff ...   en       52.90  \n",
       "54297  The group’s antics began when they switched th...   en       45.09  \n",
       "54298  Formerly, she was the Coordinator for Music Ed...   en       21.02  \n",
       "54299  She started her law practice at Morris Manning...   en       62.68  \n",
       "54300  Since he works as a programme maker and artist...   en       51.48  \n",
       "\n",
       "[54301 rows x 5 columns]"
      ]
     },
     "execution_count": 68,
     "metadata": {},
     "output_type": "execute_result"
    }
   ],
   "source": [
    "test.to_csv(\"test.csv\",index=False)\n",
    "pd.read_csv(\"test.csv\")"
   ]
  },
  {
   "cell_type": "code",
   "execution_count": 58,
   "metadata": {
    "ExecuteTime": {
     "end_time": "2021-01-10T15:55:48.265402Z",
     "start_time": "2021-01-10T15:55:40.642608Z"
    },
    "hidden": true
   },
   "outputs": [
    {
     "name": "stdout",
     "output_type": "stream",
     "text": [
      "updating: test.csv\n",
      "\tzip warning: Local Entry CRC does not match CD: test.csv\n",
      " (deflated 78%)\n",
      "updating: train.csv\n",
      "\tzip warning: Local Entry CRC does not match CD: train.csv\n",
      " (deflated 78%)\n"
     ]
    }
   ],
   "source": [
    "!zip data.zip test.csv train.csv"
   ]
  },
  {
   "cell_type": "code",
   "execution_count": null,
   "metadata": {
    "hidden": true
   },
   "outputs": [],
   "source": []
  },
  {
   "cell_type": "code",
   "execution_count": 69,
   "metadata": {
    "ExecuteTime": {
     "end_time": "2021-01-10T17:25:48.115645Z",
     "start_time": "2021-01-10T17:25:47.708860Z"
    },
    "hidden": true
   },
   "outputs": [
    {
     "data": {
      "text/html": [
       "<div>\n",
       "<style scoped>\n",
       "    .dataframe tbody tr th:only-of-type {\n",
       "        vertical-align: middle;\n",
       "    }\n",
       "\n",
       "    .dataframe tbody tr th {\n",
       "        vertical-align: top;\n",
       "    }\n",
       "\n",
       "    .dataframe thead th {\n",
       "        text-align: right;\n",
       "    }\n",
       "</style>\n",
       "<table border=\"1\" class=\"dataframe\">\n",
       "  <thead>\n",
       "    <tr style=\"text-align: right;\">\n",
       "      <th></th>\n",
       "      <th>description</th>\n",
       "      <th>gender</th>\n",
       "      <th>cleaned</th>\n",
       "      <th>lang</th>\n",
       "      <th>complexity</th>\n",
       "    </tr>\n",
       "  </thead>\n",
       "  <tbody>\n",
       "    <tr>\n",
       "      <th>0</th>\n",
       "      <td>She currently works on CNN’s newest primetime...</td>\n",
       "      <td>F</td>\n",
       "      <td>She currently works on CNN’s newest primetime ...</td>\n",
       "      <td>en</td>\n",
       "      <td>43.43</td>\n",
       "    </tr>\n",
       "    <tr>\n",
       "      <th>1</th>\n",
       "      <td>Lavalette’s photographs have been shown widel...</td>\n",
       "      <td>M</td>\n",
       "      <td>Lavalette’s photographs have been shown widely...</td>\n",
       "      <td>en</td>\n",
       "      <td>45.09</td>\n",
       "    </tr>\n",
       "    <tr>\n",
       "      <th>2</th>\n",
       "      <td>Along with his academic and professional deve...</td>\n",
       "      <td>M</td>\n",
       "      <td>Along with his academic and professional devel...</td>\n",
       "      <td>en</td>\n",
       "      <td>49.15</td>\n",
       "    </tr>\n",
       "    <tr>\n",
       "      <th>3</th>\n",
       "      <td>She obtained her Ph.D. in Islamic Studies at ...</td>\n",
       "      <td>F</td>\n",
       "      <td>She obtained her Ph.D. in Islamic Studies at D...</td>\n",
       "      <td>en</td>\n",
       "      <td>39.37</td>\n",
       "    </tr>\n",
       "    <tr>\n",
       "      <th>4</th>\n",
       "      <td>She studies issues of women and Islam and has...</td>\n",
       "      <td>F</td>\n",
       "      <td>She studies issues of women and Islam and has ...</td>\n",
       "      <td>en</td>\n",
       "      <td>32.57</td>\n",
       "    </tr>\n",
       "    <tr>\n",
       "      <th>...</th>\n",
       "      <td>...</td>\n",
       "      <td>...</td>\n",
       "      <td>...</td>\n",
       "      <td>...</td>\n",
       "      <td>...</td>\n",
       "    </tr>\n",
       "    <tr>\n",
       "      <th>54296</th>\n",
       "      <td>Prior to that, she worked as a Research Staff...</td>\n",
       "      <td>F</td>\n",
       "      <td>Prior to that, she worked as a Research Staff ...</td>\n",
       "      <td>en</td>\n",
       "      <td>52.90</td>\n",
       "    </tr>\n",
       "    <tr>\n",
       "      <th>54297</th>\n",
       "      <td>The group’s antics began when they switched t...</td>\n",
       "      <td>M</td>\n",
       "      <td>The group’s antics began when they switched th...</td>\n",
       "      <td>en</td>\n",
       "      <td>45.09</td>\n",
       "    </tr>\n",
       "    <tr>\n",
       "      <th>54298</th>\n",
       "      <td>Formerly, she was the Coordinator for Music E...</td>\n",
       "      <td>F</td>\n",
       "      <td>Formerly, she was the Coordinator for Music Ed...</td>\n",
       "      <td>en</td>\n",
       "      <td>21.02</td>\n",
       "    </tr>\n",
       "    <tr>\n",
       "      <th>54299</th>\n",
       "      <td>She started her law practice at Morris Mannin...</td>\n",
       "      <td>F</td>\n",
       "      <td>She started her law practice at Morris Manning...</td>\n",
       "      <td>en</td>\n",
       "      <td>62.68</td>\n",
       "    </tr>\n",
       "    <tr>\n",
       "      <th>54300</th>\n",
       "      <td>Since 1995, he works as a programme maker and...</td>\n",
       "      <td>M</td>\n",
       "      <td>Since he works as a programme maker and artist...</td>\n",
       "      <td>en</td>\n",
       "      <td>51.48</td>\n",
       "    </tr>\n",
       "  </tbody>\n",
       "</table>\n",
       "<p>54301 rows × 5 columns</p>\n",
       "</div>"
      ],
      "text/plain": [
       "                                             description gender  \\\n",
       "0       She currently works on CNN’s newest primetime...      F   \n",
       "1       Lavalette’s photographs have been shown widel...      M   \n",
       "2       Along with his academic and professional deve...      M   \n",
       "3       She obtained her Ph.D. in Islamic Studies at ...      F   \n",
       "4       She studies issues of women and Islam and has...      F   \n",
       "...                                                  ...    ...   \n",
       "54296   Prior to that, she worked as a Research Staff...      F   \n",
       "54297   The group’s antics began when they switched t...      M   \n",
       "54298   Formerly, she was the Coordinator for Music E...      F   \n",
       "54299   She started her law practice at Morris Mannin...      F   \n",
       "54300   Since 1995, he works as a programme maker and...      M   \n",
       "\n",
       "                                                 cleaned lang  complexity  \n",
       "0      She currently works on CNN’s newest primetime ...   en       43.43  \n",
       "1      Lavalette’s photographs have been shown widely...   en       45.09  \n",
       "2      Along with his academic and professional devel...   en       49.15  \n",
       "3      She obtained her Ph.D. in Islamic Studies at D...   en       39.37  \n",
       "4      She studies issues of women and Islam and has ...   en       32.57  \n",
       "...                                                  ...  ...         ...  \n",
       "54296  Prior to that, she worked as a Research Staff ...   en       52.90  \n",
       "54297  The group’s antics began when they switched th...   en       45.09  \n",
       "54298  Formerly, she was the Coordinator for Music Ed...   en       21.02  \n",
       "54299  She started her law practice at Morris Manning...   en       62.68  \n",
       "54300  Since he works as a programme maker and artist...   en       51.48  \n",
       "\n",
       "[54301 rows x 5 columns]"
      ]
     },
     "execution_count": 69,
     "metadata": {},
     "output_type": "execute_result"
    }
   ],
   "source": [
    "toto=pd.read_csv(\"test.csv\")\n",
    "toto"
   ]
  },
  {
   "cell_type": "code",
   "execution_count": 74,
   "metadata": {
    "ExecuteTime": {
     "end_time": "2021-01-10T17:29:37.792593Z",
     "start_time": "2021-01-10T17:29:37.757740Z"
    },
    "hidden": true
   },
   "outputs": [
    {
     "ename": "TypeError",
     "evalue": "object of type 'float' has no len()",
     "output_type": "error",
     "traceback": [
      "\u001b[0;31m---------------------------------------------------------------------------\u001b[0m",
      "\u001b[0;31mTypeError\u001b[0m                                 Traceback (most recent call last)",
      "\u001b[0;32m<ipython-input-74-5fee0edb667f>\u001b[0m in \u001b[0;36m<module>\u001b[0;34m\u001b[0m\n\u001b[0;32m----> 1\u001b[0;31m \u001b[0mtoto\u001b[0m\u001b[0;34m.\u001b[0m\u001b[0mcleaned\u001b[0m\u001b[0;34m.\u001b[0m\u001b[0mapply\u001b[0m\u001b[0;34m(\u001b[0m\u001b[0;32mlambda\u001b[0m \u001b[0mx\u001b[0m \u001b[0;34m:\u001b[0m \u001b[0mlen\u001b[0m\u001b[0;34m(\u001b[0m\u001b[0mx\u001b[0m\u001b[0;34m)\u001b[0m\u001b[0;34m)\u001b[0m\u001b[0;34m\u001b[0m\u001b[0;34m\u001b[0m\u001b[0m\n\u001b[0m",
      "\u001b[0;32m~/anaconda3/envs/defi_ia/lib/python3.7/site-packages/pandas/core/series.py\u001b[0m in \u001b[0;36mapply\u001b[0;34m(self, func, convert_dtype, args, **kwds)\u001b[0m\n\u001b[1;32m   4106\u001b[0m             \u001b[0;32melse\u001b[0m\u001b[0;34m:\u001b[0m\u001b[0;34m\u001b[0m\u001b[0;34m\u001b[0m\u001b[0m\n\u001b[1;32m   4107\u001b[0m                 \u001b[0mvalues\u001b[0m \u001b[0;34m=\u001b[0m \u001b[0mself\u001b[0m\u001b[0;34m.\u001b[0m\u001b[0mastype\u001b[0m\u001b[0;34m(\u001b[0m\u001b[0mobject\u001b[0m\u001b[0;34m)\u001b[0m\u001b[0;34m.\u001b[0m\u001b[0m_values\u001b[0m\u001b[0;34m\u001b[0m\u001b[0;34m\u001b[0m\u001b[0m\n\u001b[0;32m-> 4108\u001b[0;31m                 \u001b[0mmapped\u001b[0m \u001b[0;34m=\u001b[0m \u001b[0mlib\u001b[0m\u001b[0;34m.\u001b[0m\u001b[0mmap_infer\u001b[0m\u001b[0;34m(\u001b[0m\u001b[0mvalues\u001b[0m\u001b[0;34m,\u001b[0m \u001b[0mf\u001b[0m\u001b[0;34m,\u001b[0m \u001b[0mconvert\u001b[0m\u001b[0;34m=\u001b[0m\u001b[0mconvert_dtype\u001b[0m\u001b[0;34m)\u001b[0m\u001b[0;34m\u001b[0m\u001b[0;34m\u001b[0m\u001b[0m\n\u001b[0m\u001b[1;32m   4109\u001b[0m \u001b[0;34m\u001b[0m\u001b[0m\n\u001b[1;32m   4110\u001b[0m         \u001b[0;32mif\u001b[0m \u001b[0mlen\u001b[0m\u001b[0;34m(\u001b[0m\u001b[0mmapped\u001b[0m\u001b[0;34m)\u001b[0m \u001b[0;32mand\u001b[0m \u001b[0misinstance\u001b[0m\u001b[0;34m(\u001b[0m\u001b[0mmapped\u001b[0m\u001b[0;34m[\u001b[0m\u001b[0;36m0\u001b[0m\u001b[0;34m]\u001b[0m\u001b[0;34m,\u001b[0m \u001b[0mSeries\u001b[0m\u001b[0;34m)\u001b[0m\u001b[0;34m:\u001b[0m\u001b[0;34m\u001b[0m\u001b[0;34m\u001b[0m\u001b[0m\n",
      "\u001b[0;32mpandas/_libs/lib.pyx\u001b[0m in \u001b[0;36mpandas._libs.lib.map_infer\u001b[0;34m()\u001b[0m\n",
      "\u001b[0;32m<ipython-input-74-5fee0edb667f>\u001b[0m in \u001b[0;36m<lambda>\u001b[0;34m(x)\u001b[0m\n\u001b[0;32m----> 1\u001b[0;31m \u001b[0mtoto\u001b[0m\u001b[0;34m.\u001b[0m\u001b[0mcleaned\u001b[0m\u001b[0;34m.\u001b[0m\u001b[0mapply\u001b[0m\u001b[0;34m(\u001b[0m\u001b[0;32mlambda\u001b[0m \u001b[0mx\u001b[0m \u001b[0;34m:\u001b[0m \u001b[0mlen\u001b[0m\u001b[0;34m(\u001b[0m\u001b[0mx\u001b[0m\u001b[0;34m)\u001b[0m\u001b[0;34m)\u001b[0m\u001b[0;34m\u001b[0m\u001b[0;34m\u001b[0m\u001b[0m\n\u001b[0m",
      "\u001b[0;31mTypeError\u001b[0m: object of type 'float' has no len()"
     ]
    }
   ],
   "source": [
    "toto.cleaned.apply(lambda x : len(x))"
   ]
  },
  {
   "cell_type": "code",
   "execution_count": 75,
   "metadata": {
    "ExecuteTime": {
     "end_time": "2021-01-10T17:29:43.873999Z",
     "start_time": "2021-01-10T17:29:43.845600Z"
    },
    "hidden": true
   },
   "outputs": [
    {
     "data": {
      "text/plain": [
       "Id\n",
       "0        394\n",
       "1        321\n",
       "2        151\n",
       "3        439\n",
       "4        209\n",
       "        ... \n",
       "54295    432\n",
       "54296    493\n",
       "54297    494\n",
       "54298    212\n",
       "54299    351\n",
       "Name: cleaned, Length: 54300, dtype: int64"
      ]
     },
     "execution_count": 75,
     "metadata": {},
     "output_type": "execute_result"
    }
   ],
   "source": [
    "test.cleaned.apply(lambda x : len(x))"
   ]
  },
  {
   "cell_type": "markdown",
   "metadata": {},
   "source": [
    "## Pickle"
   ]
  },
  {
   "cell_type": "code",
   "execution_count": 1,
   "metadata": {
    "ExecuteTime": {
     "end_time": "2021-01-11T14:59:38.511944Z",
     "start_time": "2021-01-11T14:59:38.509895Z"
    }
   },
   "outputs": [],
   "source": [
    "import pickle "
   ]
  },
  {
   "cell_type": "code",
   "execution_count": 44,
   "metadata": {
    "ExecuteTime": {
     "end_time": "2021-01-10T21:12:30.595746Z",
     "start_time": "2021-01-10T21:12:28.933095Z"
    }
   },
   "outputs": [],
   "source": [
    "pickle.dump(test,open(\"test.pkl\",\"wb\"))\n",
    "pickle.dump(train,open(\"train.pkl\",\"wb\"))"
   ]
  },
  {
   "cell_type": "code",
   "execution_count": 79,
   "metadata": {
    "ExecuteTime": {
     "end_time": "2021-01-10T17:32:18.364824Z",
     "start_time": "2021-01-10T17:32:18.282302Z"
    }
   },
   "outputs": [],
   "source": [
    "carotte=pickle.load(open(\"test.pkl\",\"rb\"))"
   ]
  },
  {
   "cell_type": "code",
   "execution_count": 80,
   "metadata": {
    "ExecuteTime": {
     "end_time": "2021-01-10T17:32:20.554809Z",
     "start_time": "2021-01-10T17:32:20.543185Z"
    }
   },
   "outputs": [
    {
     "data": {
      "text/html": [
       "<div>\n",
       "<style scoped>\n",
       "    .dataframe tbody tr th:only-of-type {\n",
       "        vertical-align: middle;\n",
       "    }\n",
       "\n",
       "    .dataframe tbody tr th {\n",
       "        vertical-align: top;\n",
       "    }\n",
       "\n",
       "    .dataframe thead th {\n",
       "        text-align: right;\n",
       "    }\n",
       "</style>\n",
       "<table border=\"1\" class=\"dataframe\">\n",
       "  <thead>\n",
       "    <tr style=\"text-align: right;\">\n",
       "      <th></th>\n",
       "      <th>description</th>\n",
       "      <th>gender</th>\n",
       "      <th>cleaned</th>\n",
       "      <th>lang</th>\n",
       "      <th>complexity</th>\n",
       "    </tr>\n",
       "    <tr>\n",
       "      <th>Id</th>\n",
       "      <th></th>\n",
       "      <th></th>\n",
       "      <th></th>\n",
       "      <th></th>\n",
       "      <th></th>\n",
       "    </tr>\n",
       "  </thead>\n",
       "  <tbody>\n",
       "    <tr>\n",
       "      <th>0</th>\n",
       "      <td>She currently works on CNN’s newest primetime...</td>\n",
       "      <td>F</td>\n",
       "      <td>She currently works on CNN’s newest primetime ...</td>\n",
       "      <td>en</td>\n",
       "      <td>43.43</td>\n",
       "    </tr>\n",
       "    <tr>\n",
       "      <th>1</th>\n",
       "      <td>Lavalette’s photographs have been shown widel...</td>\n",
       "      <td>M</td>\n",
       "      <td>Lavalette’s photographs have been shown widely...</td>\n",
       "      <td>en</td>\n",
       "      <td>45.09</td>\n",
       "    </tr>\n",
       "    <tr>\n",
       "      <th>2</th>\n",
       "      <td>Along with his academic and professional deve...</td>\n",
       "      <td>M</td>\n",
       "      <td>Along with his academic and professional devel...</td>\n",
       "      <td>en</td>\n",
       "      <td>49.15</td>\n",
       "    </tr>\n",
       "    <tr>\n",
       "      <th>3</th>\n",
       "      <td>She obtained her Ph.D. in Islamic Studies at ...</td>\n",
       "      <td>F</td>\n",
       "      <td>She obtained her Ph.D. in Islamic Studies at D...</td>\n",
       "      <td>en</td>\n",
       "      <td>39.37</td>\n",
       "    </tr>\n",
       "    <tr>\n",
       "      <th>4</th>\n",
       "      <td>She studies issues of women and Islam and has...</td>\n",
       "      <td>F</td>\n",
       "      <td>She studies issues of women and Islam and has ...</td>\n",
       "      <td>en</td>\n",
       "      <td>32.57</td>\n",
       "    </tr>\n",
       "    <tr>\n",
       "      <th>...</th>\n",
       "      <td>...</td>\n",
       "      <td>...</td>\n",
       "      <td>...</td>\n",
       "      <td>...</td>\n",
       "      <td>...</td>\n",
       "    </tr>\n",
       "    <tr>\n",
       "      <th>54295</th>\n",
       "      <td>Prior to that, she worked as a Research Staff...</td>\n",
       "      <td>F</td>\n",
       "      <td>Prior to that, she worked as a Research Staff ...</td>\n",
       "      <td>en</td>\n",
       "      <td>52.90</td>\n",
       "    </tr>\n",
       "    <tr>\n",
       "      <th>54296</th>\n",
       "      <td>The group’s antics began when they switched t...</td>\n",
       "      <td>M</td>\n",
       "      <td>The group’s antics began when they switched th...</td>\n",
       "      <td>en</td>\n",
       "      <td>45.09</td>\n",
       "    </tr>\n",
       "    <tr>\n",
       "      <th>54297</th>\n",
       "      <td>Formerly, she was the Coordinator for Music E...</td>\n",
       "      <td>F</td>\n",
       "      <td>Formerly, she was the Coordinator for Music Ed...</td>\n",
       "      <td>en</td>\n",
       "      <td>21.02</td>\n",
       "    </tr>\n",
       "    <tr>\n",
       "      <th>54298</th>\n",
       "      <td>She started her law practice at Morris Mannin...</td>\n",
       "      <td>F</td>\n",
       "      <td>She started her law practice at Morris Manning...</td>\n",
       "      <td>en</td>\n",
       "      <td>62.68</td>\n",
       "    </tr>\n",
       "    <tr>\n",
       "      <th>54299</th>\n",
       "      <td>Since 1995, he works as a programme maker and...</td>\n",
       "      <td>M</td>\n",
       "      <td>Since he works as a programme maker and artist...</td>\n",
       "      <td>en</td>\n",
       "      <td>51.48</td>\n",
       "    </tr>\n",
       "  </tbody>\n",
       "</table>\n",
       "<p>54300 rows × 5 columns</p>\n",
       "</div>"
      ],
      "text/plain": [
       "                                             description gender  \\\n",
       "Id                                                                \n",
       "0       She currently works on CNN’s newest primetime...      F   \n",
       "1       Lavalette’s photographs have been shown widel...      M   \n",
       "2       Along with his academic and professional deve...      M   \n",
       "3       She obtained her Ph.D. in Islamic Studies at ...      F   \n",
       "4       She studies issues of women and Islam and has...      F   \n",
       "...                                                  ...    ...   \n",
       "54295   Prior to that, she worked as a Research Staff...      F   \n",
       "54296   The group’s antics began when they switched t...      M   \n",
       "54297   Formerly, she was the Coordinator for Music E...      F   \n",
       "54298   She started her law practice at Morris Mannin...      F   \n",
       "54299   Since 1995, he works as a programme maker and...      M   \n",
       "\n",
       "                                                 cleaned lang  complexity  \n",
       "Id                                                                         \n",
       "0      She currently works on CNN’s newest primetime ...   en       43.43  \n",
       "1      Lavalette’s photographs have been shown widely...   en       45.09  \n",
       "2      Along with his academic and professional devel...   en       49.15  \n",
       "3      She obtained her Ph.D. in Islamic Studies at D...   en       39.37  \n",
       "4      She studies issues of women and Islam and has ...   en       32.57  \n",
       "...                                                  ...  ...         ...  \n",
       "54295  Prior to that, she worked as a Research Staff ...   en       52.90  \n",
       "54296  The group’s antics began when they switched th...   en       45.09  \n",
       "54297  Formerly, she was the Coordinator for Music Ed...   en       21.02  \n",
       "54298  She started her law practice at Morris Manning...   en       62.68  \n",
       "54299  Since he works as a programme maker and artist...   en       51.48  \n",
       "\n",
       "[54300 rows x 5 columns]"
      ]
     },
     "execution_count": 80,
     "metadata": {},
     "output_type": "execute_result"
    }
   ],
   "source": [
    "carotte"
   ]
  },
  {
   "cell_type": "code",
   "execution_count": 45,
   "metadata": {
    "ExecuteTime": {
     "end_time": "2021-01-10T21:12:48.853638Z",
     "start_time": "2021-01-10T21:12:33.920452Z"
    }
   },
   "outputs": [
    {
     "name": "stdout",
     "output_type": "stream",
     "text": [
      "updating: test.pkl (deflated 63%)\n",
      "updating: train.pkl (deflated 64%)\n"
     ]
    }
   ],
   "source": [
    "!zip data.zip test.pkl train.pkl"
   ]
  },
  {
   "cell_type": "code",
   "execution_count": 2,
   "metadata": {
    "ExecuteTime": {
     "end_time": "2021-01-11T14:59:43.775425Z",
     "start_time": "2021-01-11T14:59:42.422488Z"
    }
   },
   "outputs": [],
   "source": [
    "test=pickle.load(open(\"test.pkl\",\"rb\"))\n",
    "train=pickle.load(open(\"train.pkl\",\"rb\"))"
   ]
  },
  {
   "cell_type": "code",
   "execution_count": 1,
   "metadata": {
    "ExecuteTime": {
     "end_time": "2021-01-20T15:55:56.250884Z",
     "start_time": "2021-01-20T15:55:54.906858Z"
    }
   },
   "outputs": [],
   "source": [
    "import pickle\n",
    "test=pickle.load(open(\"test.pkl\",\"rb\"))\n",
    "train=pickle.load(open(\"train.pkl\",\"rb\"))"
   ]
  },
  {
   "cell_type": "code",
   "execution_count": 3,
   "metadata": {
    "ExecuteTime": {
     "end_time": "2021-01-20T15:56:11.067567Z",
     "start_time": "2021-01-20T15:56:11.052069Z"
    }
   },
   "outputs": [
    {
     "data": {
      "text/html": [
       "<div>\n",
       "<style scoped>\n",
       "    .dataframe tbody tr th:only-of-type {\n",
       "        vertical-align: middle;\n",
       "    }\n",
       "\n",
       "    .dataframe tbody tr th {\n",
       "        vertical-align: top;\n",
       "    }\n",
       "\n",
       "    .dataframe thead th {\n",
       "        text-align: right;\n",
       "    }\n",
       "</style>\n",
       "<table border=\"1\" class=\"dataframe\">\n",
       "  <thead>\n",
       "    <tr style=\"text-align: right;\">\n",
       "      <th></th>\n",
       "      <th>description</th>\n",
       "      <th>gender</th>\n",
       "      <th>category</th>\n",
       "      <th>job</th>\n",
       "      <th>cleaned</th>\n",
       "      <th>lang</th>\n",
       "      <th>distance</th>\n",
       "      <th>complexity</th>\n",
       "      <th>first</th>\n",
       "    </tr>\n",
       "    <tr>\n",
       "      <th>Id</th>\n",
       "      <th></th>\n",
       "      <th></th>\n",
       "      <th></th>\n",
       "      <th></th>\n",
       "      <th></th>\n",
       "      <th></th>\n",
       "      <th></th>\n",
       "      <th></th>\n",
       "      <th></th>\n",
       "    </tr>\n",
       "  </thead>\n",
       "  <tbody>\n",
       "    <tr>\n",
       "      <th>0</th>\n",
       "      <td>She is also a Ronald D. Asmus Policy Entrepre...</td>\n",
       "      <td>F</td>\n",
       "      <td>19</td>\n",
       "      <td>professor</td>\n",
       "      <td>She is also a Ronald D. Asmus Policy Entrepren...</td>\n",
       "      <td>en</td>\n",
       "      <td>7.0</td>\n",
       "      <td>38.32</td>\n",
       "      <td>She is also a Ronald D</td>\n",
       "    </tr>\n",
       "    <tr>\n",
       "      <th>1</th>\n",
       "      <td>He is a member of the AICPA and WICPA. Brent ...</td>\n",
       "      <td>M</td>\n",
       "      <td>9</td>\n",
       "      <td>accountant</td>\n",
       "      <td>He is a member of the AICPA and WICPA. Brent g...</td>\n",
       "      <td>en</td>\n",
       "      <td>1.0</td>\n",
       "      <td>65.42</td>\n",
       "      <td>He is a member of the AICPA and WICPA</td>\n",
       "    </tr>\n",
       "    <tr>\n",
       "      <th>2</th>\n",
       "      <td>Dr. Aster has held teaching and research posi...</td>\n",
       "      <td>M</td>\n",
       "      <td>19</td>\n",
       "      <td>professor</td>\n",
       "      <td>Dr. Aster has held teaching and research posit...</td>\n",
       "      <td>en</td>\n",
       "      <td>1.0</td>\n",
       "      <td>34.76</td>\n",
       "      <td>Dr Aster has held teaching and research positi...</td>\n",
       "    </tr>\n",
       "    <tr>\n",
       "      <th>3</th>\n",
       "      <td>He runs a boutique design studio attending cl...</td>\n",
       "      <td>M</td>\n",
       "      <td>24</td>\n",
       "      <td>architect</td>\n",
       "      <td>He runs a boutique design studio attending cli...</td>\n",
       "      <td>en</td>\n",
       "      <td>3.0</td>\n",
       "      <td>33.44</td>\n",
       "      <td>He runs a boutique design studio attending cli...</td>\n",
       "    </tr>\n",
       "    <tr>\n",
       "      <th>4</th>\n",
       "      <td>He focuses on cloud security, identity and ac...</td>\n",
       "      <td>M</td>\n",
       "      <td>24</td>\n",
       "      <td>architect</td>\n",
       "      <td>He focuses on cloud security, identity and acc...</td>\n",
       "      <td>en</td>\n",
       "      <td>1.0</td>\n",
       "      <td>17.50</td>\n",
       "      <td>He focuses on cloud security, identity and acc...</td>\n",
       "    </tr>\n",
       "    <tr>\n",
       "      <th>...</th>\n",
       "      <td>...</td>\n",
       "      <td>...</td>\n",
       "      <td>...</td>\n",
       "      <td>...</td>\n",
       "      <td>...</td>\n",
       "      <td>...</td>\n",
       "      <td>...</td>\n",
       "      <td>...</td>\n",
       "      <td>...</td>\n",
       "    </tr>\n",
       "    <tr>\n",
       "      <th>217192</th>\n",
       "      <td>A member of the UWA Cultural Collections Boar...</td>\n",
       "      <td>M</td>\n",
       "      <td>19</td>\n",
       "      <td>professor</td>\n",
       "      <td>A member of the UWA Cultural Collections Board...</td>\n",
       "      <td>en</td>\n",
       "      <td>3.0</td>\n",
       "      <td>46.10</td>\n",
       "      <td>A member of the UWA Cultural Collections Board...</td>\n",
       "    </tr>\n",
       "    <tr>\n",
       "      <th>217193</th>\n",
       "      <td>Kelly has worked globally leading teams of co...</td>\n",
       "      <td>F</td>\n",
       "      <td>22</td>\n",
       "      <td>psychologist</td>\n",
       "      <td>Kelly has worked globally leading teams of con...</td>\n",
       "      <td>en</td>\n",
       "      <td>4.0</td>\n",
       "      <td>38.32</td>\n",
       "      <td>Kelly has worked globally leading teams of con...</td>\n",
       "    </tr>\n",
       "    <tr>\n",
       "      <th>217194</th>\n",
       "      <td>He's the lead author of a recent study that f...</td>\n",
       "      <td>M</td>\n",
       "      <td>19</td>\n",
       "      <td>professor</td>\n",
       "      <td>He's the lead author of a recent study that fo...</td>\n",
       "      <td>en</td>\n",
       "      <td>1.0</td>\n",
       "      <td>54.56</td>\n",
       "      <td>He's the lead author of a recent study that fo...</td>\n",
       "    </tr>\n",
       "    <tr>\n",
       "      <th>217195</th>\n",
       "      <td>She specializes in the theoretical and pedago...</td>\n",
       "      <td>F</td>\n",
       "      <td>19</td>\n",
       "      <td>professor</td>\n",
       "      <td>She specializes in the theoretical and pedagog...</td>\n",
       "      <td>en</td>\n",
       "      <td>2.0</td>\n",
       "      <td>18.39</td>\n",
       "      <td>She specializes in the theoretical and pedagog...</td>\n",
       "    </tr>\n",
       "    <tr>\n",
       "      <th>217196</th>\n",
       "      <td>Since she was 10 years old she has become a m...</td>\n",
       "      <td>F</td>\n",
       "      <td>1</td>\n",
       "      <td>model</td>\n",
       "      <td>Since she was years old she has become a model...</td>\n",
       "      <td>en</td>\n",
       "      <td>17.0</td>\n",
       "      <td>73.68</td>\n",
       "      <td>Since she was years old she has become a model</td>\n",
       "    </tr>\n",
       "  </tbody>\n",
       "</table>\n",
       "<p>217197 rows × 9 columns</p>\n",
       "</div>"
      ],
      "text/plain": [
       "                                              description gender  category  \\\n",
       "Id                                                                           \n",
       "0        She is also a Ronald D. Asmus Policy Entrepre...      F        19   \n",
       "1        He is a member of the AICPA and WICPA. Brent ...      M         9   \n",
       "2        Dr. Aster has held teaching and research posi...      M        19   \n",
       "3        He runs a boutique design studio attending cl...      M        24   \n",
       "4        He focuses on cloud security, identity and ac...      M        24   \n",
       "...                                                   ...    ...       ...   \n",
       "217192   A member of the UWA Cultural Collections Boar...      M        19   \n",
       "217193   Kelly has worked globally leading teams of co...      F        22   \n",
       "217194   He's the lead author of a recent study that f...      M        19   \n",
       "217195   She specializes in the theoretical and pedago...      F        19   \n",
       "217196   Since she was 10 years old she has become a m...      F         1   \n",
       "\n",
       "                 job                                            cleaned lang  \\\n",
       "Id                                                                             \n",
       "0          professor  She is also a Ronald D. Asmus Policy Entrepren...   en   \n",
       "1         accountant  He is a member of the AICPA and WICPA. Brent g...   en   \n",
       "2          professor  Dr. Aster has held teaching and research posit...   en   \n",
       "3          architect  He runs a boutique design studio attending cli...   en   \n",
       "4          architect  He focuses on cloud security, identity and acc...   en   \n",
       "...              ...                                                ...  ...   \n",
       "217192     professor  A member of the UWA Cultural Collections Board...   en   \n",
       "217193  psychologist  Kelly has worked globally leading teams of con...   en   \n",
       "217194     professor  He's the lead author of a recent study that fo...   en   \n",
       "217195     professor  She specializes in the theoretical and pedagog...   en   \n",
       "217196         model  Since she was years old she has become a model...   en   \n",
       "\n",
       "        distance  complexity  \\\n",
       "Id                             \n",
       "0            7.0       38.32   \n",
       "1            1.0       65.42   \n",
       "2            1.0       34.76   \n",
       "3            3.0       33.44   \n",
       "4            1.0       17.50   \n",
       "...          ...         ...   \n",
       "217192       3.0       46.10   \n",
       "217193       4.0       38.32   \n",
       "217194       1.0       54.56   \n",
       "217195       2.0       18.39   \n",
       "217196      17.0       73.68   \n",
       "\n",
       "                                                    first  \n",
       "Id                                                         \n",
       "0                                  She is also a Ronald D  \n",
       "1                   He is a member of the AICPA and WICPA  \n",
       "2       Dr Aster has held teaching and research positi...  \n",
       "3       He runs a boutique design studio attending cli...  \n",
       "4       He focuses on cloud security, identity and acc...  \n",
       "...                                                   ...  \n",
       "217192  A member of the UWA Cultural Collections Board...  \n",
       "217193  Kelly has worked globally leading teams of con...  \n",
       "217194  He's the lead author of a recent study that fo...  \n",
       "217195  She specializes in the theoretical and pedagog...  \n",
       "217196     Since she was years old she has become a model  \n",
       "\n",
       "[217197 rows x 9 columns]"
      ]
     },
     "execution_count": 3,
     "metadata": {},
     "output_type": "execute_result"
    }
   ],
   "source": [
    "train"
   ]
  },
  {
   "cell_type": "code",
   "execution_count": null,
   "metadata": {},
   "outputs": [],
   "source": []
  }
 ],
 "metadata": {
  "kernelspec": {
   "display_name": "Python 3",
   "language": "python",
   "name": "python3"
  },
  "language_info": {
   "codemirror_mode": {
    "name": "ipython",
    "version": 3
   },
   "file_extension": ".py",
   "mimetype": "text/x-python",
   "name": "python",
   "nbconvert_exporter": "python",
   "pygments_lexer": "ipython3",
   "version": "3.7.9"
  },
  "toc": {
   "base_numbering": 1,
   "nav_menu": {},
   "number_sections": true,
   "sideBar": true,
   "skip_h1_title": false,
   "title_cell": "Table of Contents",
   "title_sidebar": "Contents",
   "toc_cell": true,
   "toc_position": {
    "height": "calc(100% - 180px)",
    "left": "10px",
    "top": "150px",
    "width": "171px"
   },
   "toc_section_display": true,
   "toc_window_display": true
  },
  "varInspector": {
   "cols": {
    "lenName": 16,
    "lenType": 16,
    "lenVar": 40
   },
   "kernels_config": {
    "python": {
     "delete_cmd_postfix": "",
     "delete_cmd_prefix": "del ",
     "library": "var_list.py",
     "varRefreshCmd": "print(var_dic_list())"
    },
    "r": {
     "delete_cmd_postfix": ") ",
     "delete_cmd_prefix": "rm(",
     "library": "var_list.r",
     "varRefreshCmd": "cat(var_dic_list()) "
    }
   },
   "types_to_exclude": [
    "module",
    "function",
    "builtin_function_or_method",
    "instance",
    "_Feature"
   ],
   "window_display": false
  }
 },
 "nbformat": 4,
 "nbformat_minor": 4
}
